{
 "cells": [
  {
   "cell_type": "markdown",
   "metadata": {},
   "source": [
    "<img src=https://i.ibb.co/wJW61Y2/Used-cars.jpg width=\"700\" height=\"200\">\n",
    "\n",
    "## <p style=\"background-color:#FDFEFE; font-family:newtimeroman; color:#060108; font-size:200%; text-align:center; border-radius:10px 10px;\">The Capstone Project of Data Analytics Module</p>\n",
    "\n",
    "## <p style=\"background-color:#FDFEFE; font-family:newtimeroman; color:#060108; font-size:150%; text-align:center; border-radius:10px 10px;\">Car Price Prediction EDA</p>"
   ]
  },
  {
   "cell_type": "code",
   "execution_count": 194,
   "metadata": {},
   "outputs": [],
   "source": [
    "# data manipulation\n",
    "import pandas as pd\n",
    "import numpy as np\n",
    "\n",
    "# data viz\n",
    "import matplotlib.pyplot as plt\n",
    "from matplotlib import rcParams\n",
    "import seaborn as sns\n",
    "\n",
    "#File Read\n",
    "import json\n",
    "\n",
    "#Regex\n",
    "import re\n",
    "\n",
    "# apply some cool styling\n",
    "plt.style.use(\"ggplot\")\n",
    "from pylab import rcParams\n",
    "rcParams['figure.figsize'] = (12,  6)\n",
    "\n",
    "import warnings\n",
    "warnings.filterwarnings(\"ignore\")\n",
    "warnings.warn(\"this will not show\")\n",
    "\n",
    "sns.set_style(\"whitegrid\")\n",
    "pd.set_option('display.float_format', lambda x: '%.3f' % x)\n",
    "\n",
    "# Set it to None to display all columns in the dataframe\n",
    "pd.set_option('display.max_columns', None)\n",
    "\n",
    "# Set it None to display all rows in the dataframe\n",
    "#pd.set_option('display.max_rows', None)\n",
    "\n",
    "\n",
    "import plotly \n",
    "import plotly.express as px\n",
    "import plotly.graph_objs as go\n",
    "import plotly.offline as py\n",
    "from plotly.offline import iplot\n",
    "from plotly.subplots import make_subplots\n",
    "import plotly.figure_factory as ff"
   ]
  },
  {
   "cell_type": "markdown",
   "metadata": {},
   "source": [
    "## Missing Values"
   ]
  },
  {
   "cell_type": "code",
   "execution_count": 195,
   "metadata": {},
   "outputs": [],
   "source": [
    "df = pd.read_csv('scoutPART2-TypesandDuplicates.csv')"
   ]
  },
  {
   "cell_type": "code",
   "execution_count": 196,
   "metadata": {},
   "outputs": [
    {
     "data": {
      "text/html": [
       "<div>\n",
       "<style scoped>\n",
       "    .dataframe tbody tr th:only-of-type {\n",
       "        vertical-align: middle;\n",
       "    }\n",
       "\n",
       "    .dataframe tbody tr th {\n",
       "        vertical-align: top;\n",
       "    }\n",
       "\n",
       "    .dataframe thead th {\n",
       "        text-align: right;\n",
       "    }\n",
       "</style>\n",
       "<table border=\"1\" class=\"dataframe\">\n",
       "  <thead>\n",
       "    <tr style=\"text-align: right;\">\n",
       "      <th></th>\n",
       "      <th>make_model</th>\n",
       "      <th>body_type</th>\n",
       "      <th>price</th>\n",
       "      <th>vat</th>\n",
       "      <th>km</th>\n",
       "      <th>registration</th>\n",
       "      <th>prev_owner</th>\n",
       "      <th>hp</th>\n",
       "      <th>type</th>\n",
       "      <th>previous_owners</th>\n",
       "      <th>inspection_new</th>\n",
       "      <th>warranty</th>\n",
       "      <th>non_smoking_vehicle</th>\n",
       "      <th>offer_number</th>\n",
       "      <th>first_registration</th>\n",
       "      <th>body_color</th>\n",
       "      <th>paint_type</th>\n",
       "      <th>body_color_original</th>\n",
       "      <th>upholstery</th>\n",
       "      <th>body</th>\n",
       "      <th>nr_of_doors</th>\n",
       "      <th>nr_of_seats</th>\n",
       "      <th>gearing_type</th>\n",
       "      <th>displacement</th>\n",
       "      <th>cylinders</th>\n",
       "      <th>weight</th>\n",
       "      <th>drive_chain</th>\n",
       "      <th>fuel</th>\n",
       "      <th>consumption</th>\n",
       "      <th>co_2_emission</th>\n",
       "      <th>emission_class</th>\n",
       "      <th>comfort_&amp;_convenience</th>\n",
       "      <th>entertainment_&amp;_media</th>\n",
       "      <th>extras</th>\n",
       "      <th>safety_&amp;_security</th>\n",
       "      <th>description</th>\n",
       "      <th>emission_label</th>\n",
       "      <th>gears</th>\n",
       "      <th>country_version</th>\n",
       "      <th>last_service_date</th>\n",
       "      <th>availability</th>\n",
       "      <th>age</th>\n",
       "    </tr>\n",
       "  </thead>\n",
       "  <tbody>\n",
       "    <tr>\n",
       "      <th>0</th>\n",
       "      <td>Audi A1</td>\n",
       "      <td>Sedans</td>\n",
       "      <td>15770</td>\n",
       "      <td>VAT deductible</td>\n",
       "      <td>56013</td>\n",
       "      <td>1461 days</td>\n",
       "      <td>2.000</td>\n",
       "      <td>66.000</td>\n",
       "      <td>Used</td>\n",
       "      <td>2.000</td>\n",
       "      <td>True</td>\n",
       "      <td>NaN</td>\n",
       "      <td>NaN</td>\n",
       "      <td>LR-062483</td>\n",
       "      <td>2016.000</td>\n",
       "      <td>Black</td>\n",
       "      <td>Metallic</td>\n",
       "      <td>Mythosschwarz</td>\n",
       "      <td>Cloth, Black</td>\n",
       "      <td>Sedans</td>\n",
       "      <td>5.000</td>\n",
       "      <td>5.000</td>\n",
       "      <td>Automatic</td>\n",
       "      <td>1422.000</td>\n",
       "      <td>3.000</td>\n",
       "      <td>1220.000</td>\n",
       "      <td>front</td>\n",
       "      <td>Benzine</td>\n",
       "      <td>3.800</td>\n",
       "      <td>99</td>\n",
       "      <td>Euro 6</td>\n",
       "      <td>Air conditioning,Armrest,Automatic climate con...</td>\n",
       "      <td>Bluetooth,Hands-free equipment,On-board comput...</td>\n",
       "      <td>Alloy wheels,Catalytic Converter,Voice Control</td>\n",
       "      <td>ABS,Central door lock,Daytime running lights,D...</td>\n",
       "      <td>Sicherheit:, ,Deaktivierung für Beifahrer-Airb...</td>\n",
       "      <td>NaN</td>\n",
       "      <td>NaN</td>\n",
       "      <td>NaN</td>\n",
       "      <td>NaN</td>\n",
       "      <td>NaN</td>\n",
       "      <td>4.000</td>\n",
       "    </tr>\n",
       "    <tr>\n",
       "      <th>1</th>\n",
       "      <td>Audi A1</td>\n",
       "      <td>Sedans</td>\n",
       "      <td>14500</td>\n",
       "      <td>Price negotiable</td>\n",
       "      <td>80000</td>\n",
       "      <td>1036 days</td>\n",
       "      <td>NaN</td>\n",
       "      <td>141.000</td>\n",
       "      <td>Used</td>\n",
       "      <td>NaN</td>\n",
       "      <td>NaN</td>\n",
       "      <td>NaN</td>\n",
       "      <td>NaN</td>\n",
       "      <td>NaN</td>\n",
       "      <td>2017.000</td>\n",
       "      <td>Red</td>\n",
       "      <td>NaN</td>\n",
       "      <td>NaN</td>\n",
       "      <td>Cloth, Grey</td>\n",
       "      <td>Sedans</td>\n",
       "      <td>3.000</td>\n",
       "      <td>4.000</td>\n",
       "      <td>Automatic</td>\n",
       "      <td>1798.000</td>\n",
       "      <td>4.000</td>\n",
       "      <td>1255.000</td>\n",
       "      <td>front</td>\n",
       "      <td>Benzine</td>\n",
       "      <td>5.600</td>\n",
       "      <td>129</td>\n",
       "      <td>Euro 6</td>\n",
       "      <td>Air conditioning,Automatic climate control,Hil...</td>\n",
       "      <td>Bluetooth,Hands-free equipment,On-board comput...</td>\n",
       "      <td>Alloy wheels,Sport seats,Sport suspension,Voic...</td>\n",
       "      <td>ABS,Central door lock,Central door lock with r...</td>\n",
       "      <td>Langstreckenfahrzeug daher die hohe Kilometerl...</td>\n",
       "      <td>4.000</td>\n",
       "      <td>7.000</td>\n",
       "      <td>NaN</td>\n",
       "      <td>NaN</td>\n",
       "      <td>NaN</td>\n",
       "      <td>3.000</td>\n",
       "    </tr>\n",
       "    <tr>\n",
       "      <th>2</th>\n",
       "      <td>Audi A1</td>\n",
       "      <td>Sedans</td>\n",
       "      <td>14640</td>\n",
       "      <td>VAT deductible</td>\n",
       "      <td>83450</td>\n",
       "      <td>1430 days</td>\n",
       "      <td>1.000</td>\n",
       "      <td>85.000</td>\n",
       "      <td>Used</td>\n",
       "      <td>1.000</td>\n",
       "      <td>NaN</td>\n",
       "      <td>NaN</td>\n",
       "      <td>NaN</td>\n",
       "      <td>AM-95365</td>\n",
       "      <td>2016.000</td>\n",
       "      <td>Black</td>\n",
       "      <td>Metallic</td>\n",
       "      <td>mythosschwarz metallic</td>\n",
       "      <td>Cloth, Black</td>\n",
       "      <td>Sedans</td>\n",
       "      <td>4.000</td>\n",
       "      <td>4.000</td>\n",
       "      <td>Automatic</td>\n",
       "      <td>1598.000</td>\n",
       "      <td>NaN</td>\n",
       "      <td>NaN</td>\n",
       "      <td>front</td>\n",
       "      <td>Benzine</td>\n",
       "      <td>3.800</td>\n",
       "      <td>99</td>\n",
       "      <td>Euro 6</td>\n",
       "      <td>Air conditioning,Cruise control,Electrical sid...</td>\n",
       "      <td>MP3,On-board computer</td>\n",
       "      <td>Alloy wheels,Voice Control</td>\n",
       "      <td>ABS,Central door lock,Daytime running lights,D...</td>\n",
       "      <td>Fahrzeug-Nummer: AM-95365, ,Ehem. UPE 24.640 E...</td>\n",
       "      <td>4.000</td>\n",
       "      <td>NaN</td>\n",
       "      <td>NaN</td>\n",
       "      <td>NaN</td>\n",
       "      <td>NaN</td>\n",
       "      <td>4.000</td>\n",
       "    </tr>\n",
       "    <tr>\n",
       "      <th>3</th>\n",
       "      <td>Audi A1</td>\n",
       "      <td>Sedans</td>\n",
       "      <td>14500</td>\n",
       "      <td>NaN</td>\n",
       "      <td>73000</td>\n",
       "      <td>1248 days</td>\n",
       "      <td>1.000</td>\n",
       "      <td>66.000</td>\n",
       "      <td>Used</td>\n",
       "      <td>1.000</td>\n",
       "      <td>NaN</td>\n",
       "      <td>NaN</td>\n",
       "      <td>6</td>\n",
       "      <td>NaN</td>\n",
       "      <td>2016.000</td>\n",
       "      <td>Brown</td>\n",
       "      <td>Metallic</td>\n",
       "      <td>NaN</td>\n",
       "      <td>NaN</td>\n",
       "      <td>Sedans</td>\n",
       "      <td>3.000</td>\n",
       "      <td>4.000</td>\n",
       "      <td>Automatic</td>\n",
       "      <td>1422.000</td>\n",
       "      <td>3.000</td>\n",
       "      <td>1195.000</td>\n",
       "      <td>NaN</td>\n",
       "      <td>Benzine</td>\n",
       "      <td>3.800</td>\n",
       "      <td>99</td>\n",
       "      <td>Euro 6</td>\n",
       "      <td>Air suspension,Armrest,Auxiliary heating,Elect...</td>\n",
       "      <td>Bluetooth,CD player,Hands-free equipment,MP3,O...</td>\n",
       "      <td>Alloy wheels,Sport seats,Voice Control</td>\n",
       "      <td>ABS,Alarm system,Central door lock with remote...</td>\n",
       "      <td>Audi A1: ,- 1e eigenaar ,- Perfecte staat: sch...</td>\n",
       "      <td>NaN</td>\n",
       "      <td>6.000</td>\n",
       "      <td>NaN</td>\n",
       "      <td>NaN</td>\n",
       "      <td>NaN</td>\n",
       "      <td>4.000</td>\n",
       "    </tr>\n",
       "    <tr>\n",
       "      <th>4</th>\n",
       "      <td>Audi A1</td>\n",
       "      <td>Sedans</td>\n",
       "      <td>16790</td>\n",
       "      <td>NaN</td>\n",
       "      <td>16200</td>\n",
       "      <td>1340 days</td>\n",
       "      <td>1.000</td>\n",
       "      <td>66.000</td>\n",
       "      <td>Used</td>\n",
       "      <td>1.000</td>\n",
       "      <td>True</td>\n",
       "      <td>NaN</td>\n",
       "      <td>NaN</td>\n",
       "      <td>C1626</td>\n",
       "      <td>2016.000</td>\n",
       "      <td>Black</td>\n",
       "      <td>Metallic</td>\n",
       "      <td>Mythosschwarz Metallic</td>\n",
       "      <td>Cloth, Black</td>\n",
       "      <td>Sedans</td>\n",
       "      <td>5.000</td>\n",
       "      <td>5.000</td>\n",
       "      <td>Automatic</td>\n",
       "      <td>1422.000</td>\n",
       "      <td>3.000</td>\n",
       "      <td>NaN</td>\n",
       "      <td>front</td>\n",
       "      <td>Benzine</td>\n",
       "      <td>4.100</td>\n",
       "      <td>109</td>\n",
       "      <td>Euro 6</td>\n",
       "      <td>Air conditioning,Armrest,Automatic climate con...</td>\n",
       "      <td>Bluetooth,CD player,Hands-free equipment,MP3,O...</td>\n",
       "      <td>Alloy wheels,Sport package,Sport suspension,Vo...</td>\n",
       "      <td>ABS,Central door lock,Driver-side airbag,Elect...</td>\n",
       "      <td>Technik &amp; Sicherheit:,Xenon plus,Klimaautomati...</td>\n",
       "      <td>NaN</td>\n",
       "      <td>NaN</td>\n",
       "      <td>Germany</td>\n",
       "      <td>NaN</td>\n",
       "      <td>NaN</td>\n",
       "      <td>4.000</td>\n",
       "    </tr>\n",
       "  </tbody>\n",
       "</table>\n",
       "</div>"
      ],
      "text/plain": [
       "  make_model body_type  price               vat     km registration  \\\n",
       "0    Audi A1    Sedans  15770    VAT deductible  56013    1461 days   \n",
       "1    Audi A1    Sedans  14500  Price negotiable  80000    1036 days   \n",
       "2    Audi A1    Sedans  14640    VAT deductible  83450    1430 days   \n",
       "3    Audi A1    Sedans  14500               NaN  73000    1248 days   \n",
       "4    Audi A1    Sedans  16790               NaN  16200    1340 days   \n",
       "\n",
       "   prev_owner      hp  type  previous_owners inspection_new  warranty  \\\n",
       "0       2.000  66.000  Used            2.000           True       NaN   \n",
       "1         NaN 141.000  Used              NaN            NaN       NaN   \n",
       "2       1.000  85.000  Used            1.000            NaN       NaN   \n",
       "3       1.000  66.000  Used            1.000            NaN       NaN   \n",
       "4       1.000  66.000  Used            1.000           True       NaN   \n",
       "\n",
       "  non_smoking_vehicle offer_number  first_registration body_color paint_type  \\\n",
       "0                 NaN    LR-062483            2016.000      Black   Metallic   \n",
       "1                 NaN          NaN            2017.000        Red        NaN   \n",
       "2                 NaN     AM-95365            2016.000      Black   Metallic   \n",
       "3                   6          NaN            2016.000      Brown   Metallic   \n",
       "4                 NaN        C1626            2016.000      Black   Metallic   \n",
       "\n",
       "      body_color_original    upholstery    body  nr_of_doors  nr_of_seats  \\\n",
       "0           Mythosschwarz  Cloth, Black  Sedans        5.000        5.000   \n",
       "1                     NaN   Cloth, Grey  Sedans        3.000        4.000   \n",
       "2  mythosschwarz metallic  Cloth, Black  Sedans        4.000        4.000   \n",
       "3                     NaN           NaN  Sedans        3.000        4.000   \n",
       "4  Mythosschwarz Metallic  Cloth, Black  Sedans        5.000        5.000   \n",
       "\n",
       "  gearing_type  displacement  cylinders   weight drive_chain     fuel  \\\n",
       "0    Automatic      1422.000      3.000 1220.000       front  Benzine   \n",
       "1    Automatic      1798.000      4.000 1255.000       front  Benzine   \n",
       "2    Automatic      1598.000        NaN      NaN       front  Benzine   \n",
       "3    Automatic      1422.000      3.000 1195.000         NaN  Benzine   \n",
       "4    Automatic      1422.000      3.000      NaN       front  Benzine   \n",
       "\n",
       "   consumption co_2_emission emission_class  \\\n",
       "0        3.800            99         Euro 6   \n",
       "1        5.600           129         Euro 6   \n",
       "2        3.800            99         Euro 6   \n",
       "3        3.800            99         Euro 6   \n",
       "4        4.100           109         Euro 6   \n",
       "\n",
       "                               comfort_&_convenience  \\\n",
       "0  Air conditioning,Armrest,Automatic climate con...   \n",
       "1  Air conditioning,Automatic climate control,Hil...   \n",
       "2  Air conditioning,Cruise control,Electrical sid...   \n",
       "3  Air suspension,Armrest,Auxiliary heating,Elect...   \n",
       "4  Air conditioning,Armrest,Automatic climate con...   \n",
       "\n",
       "                               entertainment_&_media  \\\n",
       "0  Bluetooth,Hands-free equipment,On-board comput...   \n",
       "1  Bluetooth,Hands-free equipment,On-board comput...   \n",
       "2                              MP3,On-board computer   \n",
       "3  Bluetooth,CD player,Hands-free equipment,MP3,O...   \n",
       "4  Bluetooth,CD player,Hands-free equipment,MP3,O...   \n",
       "\n",
       "                                              extras  \\\n",
       "0     Alloy wheels,Catalytic Converter,Voice Control   \n",
       "1  Alloy wheels,Sport seats,Sport suspension,Voic...   \n",
       "2                         Alloy wheels,Voice Control   \n",
       "3             Alloy wheels,Sport seats,Voice Control   \n",
       "4  Alloy wheels,Sport package,Sport suspension,Vo...   \n",
       "\n",
       "                                   safety_&_security  \\\n",
       "0  ABS,Central door lock,Daytime running lights,D...   \n",
       "1  ABS,Central door lock,Central door lock with r...   \n",
       "2  ABS,Central door lock,Daytime running lights,D...   \n",
       "3  ABS,Alarm system,Central door lock with remote...   \n",
       "4  ABS,Central door lock,Driver-side airbag,Elect...   \n",
       "\n",
       "                                         description  emission_label  gears  \\\n",
       "0  Sicherheit:, ,Deaktivierung für Beifahrer-Airb...             NaN    NaN   \n",
       "1  Langstreckenfahrzeug daher die hohe Kilometerl...           4.000  7.000   \n",
       "2  Fahrzeug-Nummer: AM-95365, ,Ehem. UPE 24.640 E...           4.000    NaN   \n",
       "3  Audi A1: ,- 1e eigenaar ,- Perfecte staat: sch...             NaN  6.000   \n",
       "4  Technik & Sicherheit:,Xenon plus,Klimaautomati...             NaN    NaN   \n",
       "\n",
       "  country_version last_service_date  availability   age  \n",
       "0             NaN               NaN           NaN 4.000  \n",
       "1             NaN               NaN           NaN 3.000  \n",
       "2             NaN               NaN           NaN 4.000  \n",
       "3             NaN               NaN           NaN 4.000  \n",
       "4         Germany               NaN           NaN 4.000  "
      ]
     },
     "execution_count": 196,
     "metadata": {},
     "output_type": "execute_result"
    }
   ],
   "source": [
    "df.head()"
   ]
  },
  {
   "cell_type": "code",
   "execution_count": 197,
   "metadata": {},
   "outputs": [
    {
     "data": {
      "text/html": [
       "<div>\n",
       "<style scoped>\n",
       "    .dataframe tbody tr th:only-of-type {\n",
       "        vertical-align: middle;\n",
       "    }\n",
       "\n",
       "    .dataframe tbody tr th {\n",
       "        vertical-align: top;\n",
       "    }\n",
       "\n",
       "    .dataframe thead th {\n",
       "        text-align: right;\n",
       "    }\n",
       "</style>\n",
       "<table border=\"1\" class=\"dataframe\">\n",
       "  <thead>\n",
       "    <tr style=\"text-align: right;\">\n",
       "      <th></th>\n",
       "      <th>make_model</th>\n",
       "      <th>body_type</th>\n",
       "      <th>price</th>\n",
       "      <th>vat</th>\n",
       "      <th>km</th>\n",
       "      <th>registration</th>\n",
       "      <th>prev_owner</th>\n",
       "      <th>hp</th>\n",
       "      <th>type</th>\n",
       "      <th>previous_owners</th>\n",
       "      <th>inspection_new</th>\n",
       "      <th>warranty</th>\n",
       "      <th>non_smoking_vehicle</th>\n",
       "      <th>offer_number</th>\n",
       "      <th>first_registration</th>\n",
       "      <th>body_color</th>\n",
       "      <th>paint_type</th>\n",
       "      <th>body_color_original</th>\n",
       "      <th>upholstery</th>\n",
       "      <th>body</th>\n",
       "      <th>nr_of_doors</th>\n",
       "      <th>nr_of_seats</th>\n",
       "      <th>gearing_type</th>\n",
       "      <th>displacement</th>\n",
       "      <th>cylinders</th>\n",
       "      <th>weight</th>\n",
       "      <th>drive_chain</th>\n",
       "      <th>fuel</th>\n",
       "      <th>consumption</th>\n",
       "      <th>co_2_emission</th>\n",
       "      <th>emission_class</th>\n",
       "      <th>comfort_&amp;_convenience</th>\n",
       "      <th>entertainment_&amp;_media</th>\n",
       "      <th>extras</th>\n",
       "      <th>safety_&amp;_security</th>\n",
       "      <th>description</th>\n",
       "      <th>emission_label</th>\n",
       "      <th>gears</th>\n",
       "      <th>country_version</th>\n",
       "      <th>last_service_date</th>\n",
       "      <th>availability</th>\n",
       "      <th>age</th>\n",
       "    </tr>\n",
       "  </thead>\n",
       "  <tbody>\n",
       "    <tr>\n",
       "      <th>15914</th>\n",
       "      <td>Renault Espace</td>\n",
       "      <td>Van</td>\n",
       "      <td>39950</td>\n",
       "      <td>VAT deductible</td>\n",
       "      <td>0</td>\n",
       "      <td>NaN</td>\n",
       "      <td>NaN</td>\n",
       "      <td>147.000</td>\n",
       "      <td>New</td>\n",
       "      <td>NaN</td>\n",
       "      <td>NaN</td>\n",
       "      <td>24.000</td>\n",
       "      <td>NaN</td>\n",
       "      <td>10988301</td>\n",
       "      <td>NaN</td>\n",
       "      <td>Grey</td>\n",
       "      <td>Metallic</td>\n",
       "      <td>Grigio scuro</td>\n",
       "      <td>NaN</td>\n",
       "      <td>Van</td>\n",
       "      <td>5.000</td>\n",
       "      <td>5.000</td>\n",
       "      <td>Automatic</td>\n",
       "      <td>1997.000</td>\n",
       "      <td>4.000</td>\n",
       "      <td>1758.000</td>\n",
       "      <td>front</td>\n",
       "      <td>Benzine</td>\n",
       "      <td>5.300</td>\n",
       "      <td>139</td>\n",
       "      <td>NaN</td>\n",
       "      <td>Air conditioning,Automatic climate control,Cru...</td>\n",
       "      <td>Bluetooth,Digital radio,Hands-free equipment,O...</td>\n",
       "      <td>Alloy wheels,Touch screen</td>\n",
       "      <td>ABS,Central door lock,Central door lock with r...</td>\n",
       "      <td>Vettura visionabile nella sede in Via Roma 141...</td>\n",
       "      <td>NaN</td>\n",
       "      <td>6.000</td>\n",
       "      <td>NaN</td>\n",
       "      <td>NaN</td>\n",
       "      <td>NaN</td>\n",
       "      <td>0.000</td>\n",
       "    </tr>\n",
       "    <tr>\n",
       "      <th>15915</th>\n",
       "      <td>Renault Espace</td>\n",
       "      <td>Van</td>\n",
       "      <td>39885</td>\n",
       "      <td>VAT deductible</td>\n",
       "      <td>9900</td>\n",
       "      <td>365 days</td>\n",
       "      <td>1.000</td>\n",
       "      <td>165.000</td>\n",
       "      <td>Used</td>\n",
       "      <td>1.000</td>\n",
       "      <td>NaN</td>\n",
       "      <td>NaN</td>\n",
       "      <td>4</td>\n",
       "      <td>507370_3223</td>\n",
       "      <td>2019.000</td>\n",
       "      <td>Grey</td>\n",
       "      <td>Metallic</td>\n",
       "      <td>Stahl-Grau Metallic</td>\n",
       "      <td>Cloth</td>\n",
       "      <td>Van</td>\n",
       "      <td>5.000</td>\n",
       "      <td>5.000</td>\n",
       "      <td>Automatic</td>\n",
       "      <td>1798.000</td>\n",
       "      <td>4.000</td>\n",
       "      <td>1708.000</td>\n",
       "      <td>front</td>\n",
       "      <td>Benzine</td>\n",
       "      <td>NaN</td>\n",
       "      <td>168</td>\n",
       "      <td>NaN</td>\n",
       "      <td>Air conditioning,Automatic climate control,Cru...</td>\n",
       "      <td>Bluetooth,Digital radio,Hands-free equipment,R...</td>\n",
       "      <td>Alloy wheels,Touch screen,Voice Control</td>\n",
       "      <td>ABS,Adaptive Cruise Control,Blind spot monitor...</td>\n",
       "      <td>Dach: Panorama-Glas-Schiebedach, Lackierung: M...</td>\n",
       "      <td>NaN</td>\n",
       "      <td>7.000</td>\n",
       "      <td>Germany</td>\n",
       "      <td>NaN</td>\n",
       "      <td>5.000</td>\n",
       "      <td>1.000</td>\n",
       "    </tr>\n",
       "    <tr>\n",
       "      <th>15916</th>\n",
       "      <td>Renault Espace</td>\n",
       "      <td>Van</td>\n",
       "      <td>39875</td>\n",
       "      <td>VAT deductible</td>\n",
       "      <td>15</td>\n",
       "      <td>306 days</td>\n",
       "      <td>1.000</td>\n",
       "      <td>146.000</td>\n",
       "      <td>Pre-registered</td>\n",
       "      <td>1.000</td>\n",
       "      <td>True</td>\n",
       "      <td>NaN</td>\n",
       "      <td>NaN</td>\n",
       "      <td>Espace16</td>\n",
       "      <td>2019.000</td>\n",
       "      <td>White</td>\n",
       "      <td>NaN</td>\n",
       "      <td>arktis-weiß</td>\n",
       "      <td>Full leather, Black</td>\n",
       "      <td>Van</td>\n",
       "      <td>5.000</td>\n",
       "      <td>7.000</td>\n",
       "      <td>Automatic</td>\n",
       "      <td>1997.000</td>\n",
       "      <td>4.000</td>\n",
       "      <td>NaN</td>\n",
       "      <td>front</td>\n",
       "      <td>Diesel</td>\n",
       "      <td>5.300</td>\n",
       "      <td>139</td>\n",
       "      <td>Euro 6d-TEMP</td>\n",
       "      <td>Air conditioning,Armrest,Automatic climate con...</td>\n",
       "      <td>Bluetooth,Hands-free equipment,On-board comput...</td>\n",
       "      <td>Alloy wheels</td>\n",
       "      <td>ABS,Adaptive Cruise Control,Blind spot monitor...</td>\n",
       "      <td>Getriebe:, Automatik,Technik:, Bordcomputer,As...</td>\n",
       "      <td>NaN</td>\n",
       "      <td>6.000</td>\n",
       "      <td>Austria</td>\n",
       "      <td>NaN</td>\n",
       "      <td>120.000</td>\n",
       "      <td>1.000</td>\n",
       "    </tr>\n",
       "    <tr>\n",
       "      <th>15917</th>\n",
       "      <td>Renault Espace</td>\n",
       "      <td>Van</td>\n",
       "      <td>39700</td>\n",
       "      <td>VAT deductible</td>\n",
       "      <td>10</td>\n",
       "      <td>214 days</td>\n",
       "      <td>NaN</td>\n",
       "      <td>147.000</td>\n",
       "      <td>Pre-registered</td>\n",
       "      <td>NaN</td>\n",
       "      <td>NaN</td>\n",
       "      <td>NaN</td>\n",
       "      <td>NaN</td>\n",
       "      <td>2691331</td>\n",
       "      <td>2019.000</td>\n",
       "      <td>Grey</td>\n",
       "      <td>NaN</td>\n",
       "      <td>Grigio</td>\n",
       "      <td>Part leather</td>\n",
       "      <td>Van</td>\n",
       "      <td>5.000</td>\n",
       "      <td>7.000</td>\n",
       "      <td>Automatic</td>\n",
       "      <td>1997.000</td>\n",
       "      <td>4.000</td>\n",
       "      <td>1758.000</td>\n",
       "      <td>front</td>\n",
       "      <td>Diesel</td>\n",
       "      <td>5.300</td>\n",
       "      <td>139</td>\n",
       "      <td>Euro 6</td>\n",
       "      <td>Air conditioning,Automatic climate control,Cru...</td>\n",
       "      <td>Bluetooth,Digital radio,Radio,USB</td>\n",
       "      <td>Alloy wheels,Touch screen</td>\n",
       "      <td>ABS,Blind spot monitor,Driver-side airbag,Elec...</td>\n",
       "      <td>DEK:[2691331],Renault Espace Blue dCi 200CV ED...</td>\n",
       "      <td>NaN</td>\n",
       "      <td>6.000</td>\n",
       "      <td>NaN</td>\n",
       "      <td>NaN</td>\n",
       "      <td>NaN</td>\n",
       "      <td>1.000</td>\n",
       "    </tr>\n",
       "    <tr>\n",
       "      <th>15918</th>\n",
       "      <td>Renault Espace</td>\n",
       "      <td>Van</td>\n",
       "      <td>40999</td>\n",
       "      <td>VAT deductible</td>\n",
       "      <td>0</td>\n",
       "      <td>365 days</td>\n",
       "      <td>1.000</td>\n",
       "      <td>165.000</td>\n",
       "      <td>Demonstration</td>\n",
       "      <td>1.000</td>\n",
       "      <td>True</td>\n",
       "      <td>NaN</td>\n",
       "      <td>NaN</td>\n",
       "      <td>Re_30000008029</td>\n",
       "      <td>2019.000</td>\n",
       "      <td>Grey</td>\n",
       "      <td>Metallic</td>\n",
       "      <td>Titanium-Grau Metallic</td>\n",
       "      <td>Full leather, Brown</td>\n",
       "      <td>Van</td>\n",
       "      <td>5.000</td>\n",
       "      <td>5.000</td>\n",
       "      <td>Automatic</td>\n",
       "      <td>1798.000</td>\n",
       "      <td>4.000</td>\n",
       "      <td>1685.000</td>\n",
       "      <td>4WD</td>\n",
       "      <td>Benzine</td>\n",
       "      <td>6.800</td>\n",
       "      <td>153</td>\n",
       "      <td>Euro 6</td>\n",
       "      <td>Air conditioning,Automatic climate control,Cru...</td>\n",
       "      <td>USB</td>\n",
       "      <td>Alloy wheels,Touch screen</td>\n",
       "      <td>ABS,Blind spot monitor,Daytime running lights,...</td>\n",
       "      <td>Sicherheit Airbags:, ,Seitenairbag, ,Fahrerair...</td>\n",
       "      <td>4.000</td>\n",
       "      <td>NaN</td>\n",
       "      <td>Germany</td>\n",
       "      <td>NaN</td>\n",
       "      <td>NaN</td>\n",
       "      <td>1.000</td>\n",
       "    </tr>\n",
       "  </tbody>\n",
       "</table>\n",
       "</div>"
      ],
      "text/plain": [
       "           make_model body_type  price             vat    km registration  \\\n",
       "15914  Renault Espace       Van  39950  VAT deductible     0          NaN   \n",
       "15915  Renault Espace       Van  39885  VAT deductible  9900     365 days   \n",
       "15916  Renault Espace       Van  39875  VAT deductible    15     306 days   \n",
       "15917  Renault Espace       Van  39700  VAT deductible    10     214 days   \n",
       "15918  Renault Espace       Van  40999  VAT deductible     0     365 days   \n",
       "\n",
       "       prev_owner      hp            type  previous_owners inspection_new  \\\n",
       "15914         NaN 147.000             New              NaN            NaN   \n",
       "15915       1.000 165.000            Used            1.000            NaN   \n",
       "15916       1.000 146.000  Pre-registered            1.000           True   \n",
       "15917         NaN 147.000  Pre-registered              NaN            NaN   \n",
       "15918       1.000 165.000   Demonstration            1.000           True   \n",
       "\n",
       "       warranty non_smoking_vehicle    offer_number  first_registration  \\\n",
       "15914    24.000                 NaN        10988301                 NaN   \n",
       "15915       NaN                   4     507370_3223            2019.000   \n",
       "15916       NaN                 NaN        Espace16            2019.000   \n",
       "15917       NaN                 NaN         2691331            2019.000   \n",
       "15918       NaN                 NaN  Re_30000008029            2019.000   \n",
       "\n",
       "      body_color paint_type     body_color_original           upholstery body  \\\n",
       "15914       Grey   Metallic            Grigio scuro                  NaN  Van   \n",
       "15915       Grey   Metallic     Stahl-Grau Metallic                Cloth  Van   \n",
       "15916      White        NaN             arktis-weiß  Full leather, Black  Van   \n",
       "15917       Grey        NaN                  Grigio         Part leather  Van   \n",
       "15918       Grey   Metallic  Titanium-Grau Metallic  Full leather, Brown  Van   \n",
       "\n",
       "       nr_of_doors  nr_of_seats gearing_type  displacement  cylinders  \\\n",
       "15914        5.000        5.000    Automatic      1997.000      4.000   \n",
       "15915        5.000        5.000    Automatic      1798.000      4.000   \n",
       "15916        5.000        7.000    Automatic      1997.000      4.000   \n",
       "15917        5.000        7.000    Automatic      1997.000      4.000   \n",
       "15918        5.000        5.000    Automatic      1798.000      4.000   \n",
       "\n",
       "        weight drive_chain     fuel  consumption co_2_emission emission_class  \\\n",
       "15914 1758.000       front  Benzine        5.300           139            NaN   \n",
       "15915 1708.000       front  Benzine          NaN           168            NaN   \n",
       "15916      NaN       front   Diesel        5.300           139   Euro 6d-TEMP   \n",
       "15917 1758.000       front   Diesel        5.300           139         Euro 6   \n",
       "15918 1685.000         4WD  Benzine        6.800           153         Euro 6   \n",
       "\n",
       "                                   comfort_&_convenience  \\\n",
       "15914  Air conditioning,Automatic climate control,Cru...   \n",
       "15915  Air conditioning,Automatic climate control,Cru...   \n",
       "15916  Air conditioning,Armrest,Automatic climate con...   \n",
       "15917  Air conditioning,Automatic climate control,Cru...   \n",
       "15918  Air conditioning,Automatic climate control,Cru...   \n",
       "\n",
       "                                   entertainment_&_media  \\\n",
       "15914  Bluetooth,Digital radio,Hands-free equipment,O...   \n",
       "15915  Bluetooth,Digital radio,Hands-free equipment,R...   \n",
       "15916  Bluetooth,Hands-free equipment,On-board comput...   \n",
       "15917                  Bluetooth,Digital radio,Radio,USB   \n",
       "15918                                                USB   \n",
       "\n",
       "                                        extras  \\\n",
       "15914                Alloy wheels,Touch screen   \n",
       "15915  Alloy wheels,Touch screen,Voice Control   \n",
       "15916                             Alloy wheels   \n",
       "15917                Alloy wheels,Touch screen   \n",
       "15918                Alloy wheels,Touch screen   \n",
       "\n",
       "                                       safety_&_security  \\\n",
       "15914  ABS,Central door lock,Central door lock with r...   \n",
       "15915  ABS,Adaptive Cruise Control,Blind spot monitor...   \n",
       "15916  ABS,Adaptive Cruise Control,Blind spot monitor...   \n",
       "15917  ABS,Blind spot monitor,Driver-side airbag,Elec...   \n",
       "15918  ABS,Blind spot monitor,Daytime running lights,...   \n",
       "\n",
       "                                             description  emission_label  \\\n",
       "15914  Vettura visionabile nella sede in Via Roma 141...             NaN   \n",
       "15915  Dach: Panorama-Glas-Schiebedach, Lackierung: M...             NaN   \n",
       "15916  Getriebe:, Automatik,Technik:, Bordcomputer,As...             NaN   \n",
       "15917  DEK:[2691331],Renault Espace Blue dCi 200CV ED...             NaN   \n",
       "15918  Sicherheit Airbags:, ,Seitenairbag, ,Fahrerair...           4.000   \n",
       "\n",
       "       gears country_version last_service_date  availability   age  \n",
       "15914  6.000             NaN               NaN           NaN 0.000  \n",
       "15915  7.000         Germany               NaN         5.000 1.000  \n",
       "15916  6.000         Austria               NaN       120.000 1.000  \n",
       "15917  6.000             NaN               NaN           NaN 1.000  \n",
       "15918    NaN         Germany               NaN           NaN 1.000  "
      ]
     },
     "execution_count": 197,
     "metadata": {},
     "output_type": "execute_result"
    }
   ],
   "source": [
    "df.tail()"
   ]
  },
  {
   "cell_type": "code",
   "execution_count": 198,
   "metadata": {},
   "outputs": [
    {
     "data": {
      "text/html": [
       "<div>\n",
       "<style scoped>\n",
       "    .dataframe tbody tr th:only-of-type {\n",
       "        vertical-align: middle;\n",
       "    }\n",
       "\n",
       "    .dataframe tbody tr th {\n",
       "        vertical-align: top;\n",
       "    }\n",
       "\n",
       "    .dataframe thead th {\n",
       "        text-align: right;\n",
       "    }\n",
       "</style>\n",
       "<table border=\"1\" class=\"dataframe\">\n",
       "  <thead>\n",
       "    <tr style=\"text-align: right;\">\n",
       "      <th></th>\n",
       "      <th>make_model</th>\n",
       "      <th>body_type</th>\n",
       "      <th>price</th>\n",
       "      <th>vat</th>\n",
       "      <th>km</th>\n",
       "      <th>registration</th>\n",
       "      <th>prev_owner</th>\n",
       "      <th>hp</th>\n",
       "      <th>type</th>\n",
       "      <th>previous_owners</th>\n",
       "      <th>inspection_new</th>\n",
       "      <th>warranty</th>\n",
       "      <th>non_smoking_vehicle</th>\n",
       "      <th>offer_number</th>\n",
       "      <th>first_registration</th>\n",
       "      <th>body_color</th>\n",
       "      <th>paint_type</th>\n",
       "      <th>body_color_original</th>\n",
       "      <th>upholstery</th>\n",
       "      <th>body</th>\n",
       "      <th>nr_of_doors</th>\n",
       "      <th>nr_of_seats</th>\n",
       "      <th>gearing_type</th>\n",
       "      <th>displacement</th>\n",
       "      <th>cylinders</th>\n",
       "      <th>weight</th>\n",
       "      <th>drive_chain</th>\n",
       "      <th>fuel</th>\n",
       "      <th>consumption</th>\n",
       "      <th>co_2_emission</th>\n",
       "      <th>emission_class</th>\n",
       "      <th>comfort_&amp;_convenience</th>\n",
       "      <th>entertainment_&amp;_media</th>\n",
       "      <th>extras</th>\n",
       "      <th>safety_&amp;_security</th>\n",
       "      <th>description</th>\n",
       "      <th>emission_label</th>\n",
       "      <th>gears</th>\n",
       "      <th>country_version</th>\n",
       "      <th>last_service_date</th>\n",
       "      <th>availability</th>\n",
       "      <th>age</th>\n",
       "    </tr>\n",
       "  </thead>\n",
       "  <tbody>\n",
       "    <tr>\n",
       "      <th>3491</th>\n",
       "      <td>Audi A3</td>\n",
       "      <td>Sedans</td>\n",
       "      <td>15700</td>\n",
       "      <td>VAT deductible</td>\n",
       "      <td>89991</td>\n",
       "      <td>1064 days</td>\n",
       "      <td>1.000</td>\n",
       "      <td>81.000</td>\n",
       "      <td>Used</td>\n",
       "      <td>1.000</td>\n",
       "      <td>NaN</td>\n",
       "      <td>NaN</td>\n",
       "      <td>6</td>\n",
       "      <td>NaN</td>\n",
       "      <td>2017.000</td>\n",
       "      <td>Silver</td>\n",
       "      <td>Metallic</td>\n",
       "      <td>Florettsilber Metallic</td>\n",
       "      <td>Cloth, Black</td>\n",
       "      <td>Sedans</td>\n",
       "      <td>4.000</td>\n",
       "      <td>5.000</td>\n",
       "      <td>Manual</td>\n",
       "      <td>1598.000</td>\n",
       "      <td>NaN</td>\n",
       "      <td>NaN</td>\n",
       "      <td>front</td>\n",
       "      <td>Benzine</td>\n",
       "      <td>4.100</td>\n",
       "      <td>108</td>\n",
       "      <td>Euro 6</td>\n",
       "      <td>Air conditioning,Armrest,Automatic climate con...</td>\n",
       "      <td>Bluetooth,CD player,Hands-free equipment,On-bo...</td>\n",
       "      <td>Alloy wheels,Voice Control</td>\n",
       "      <td>ABS,Central door lock,Daytime running lights,D...</td>\n",
       "      <td>WAUZZZ8V8H1051489,Ablage- und Gepäckraum-Paket...</td>\n",
       "      <td>4.000</td>\n",
       "      <td>6.000</td>\n",
       "      <td>NaN</td>\n",
       "      <td>NaN</td>\n",
       "      <td>NaN</td>\n",
       "      <td>3.000</td>\n",
       "    </tr>\n",
       "  </tbody>\n",
       "</table>\n",
       "</div>"
      ],
      "text/plain": [
       "     make_model body_type  price             vat     km registration  \\\n",
       "3491    Audi A3    Sedans  15700  VAT deductible  89991    1064 days   \n",
       "\n",
       "      prev_owner     hp  type  previous_owners inspection_new  warranty  \\\n",
       "3491       1.000 81.000  Used            1.000            NaN       NaN   \n",
       "\n",
       "     non_smoking_vehicle offer_number  first_registration body_color  \\\n",
       "3491                   6          NaN            2017.000     Silver   \n",
       "\n",
       "     paint_type     body_color_original    upholstery    body  nr_of_doors  \\\n",
       "3491   Metallic  Florettsilber Metallic  Cloth, Black  Sedans        4.000   \n",
       "\n",
       "      nr_of_seats gearing_type  displacement  cylinders  weight drive_chain  \\\n",
       "3491        5.000       Manual      1598.000        NaN     NaN       front   \n",
       "\n",
       "         fuel  consumption co_2_emission emission_class  \\\n",
       "3491  Benzine        4.100           108         Euro 6   \n",
       "\n",
       "                                  comfort_&_convenience  \\\n",
       "3491  Air conditioning,Armrest,Automatic climate con...   \n",
       "\n",
       "                                  entertainment_&_media  \\\n",
       "3491  Bluetooth,CD player,Hands-free equipment,On-bo...   \n",
       "\n",
       "                          extras  \\\n",
       "3491  Alloy wheels,Voice Control   \n",
       "\n",
       "                                      safety_&_security  \\\n",
       "3491  ABS,Central door lock,Daytime running lights,D...   \n",
       "\n",
       "                                            description  emission_label  \\\n",
       "3491  WAUZZZ8V8H1051489,Ablage- und Gepäckraum-Paket...           4.000   \n",
       "\n",
       "      gears country_version last_service_date  availability   age  \n",
       "3491  6.000             NaN               NaN           NaN 3.000  "
      ]
     },
     "execution_count": 198,
     "metadata": {},
     "output_type": "execute_result"
    }
   ],
   "source": [
    "df.sample()"
   ]
  },
  {
   "cell_type": "markdown",
   "metadata": {},
   "source": [
    "## ----------------------------------------------------------------"
   ]
  },
  {
   "cell_type": "markdown",
   "metadata": {},
   "source": [
    "## All Missing-Value Columns"
   ]
  },
  {
   "cell_type": "code",
   "execution_count": 199,
   "metadata": {},
   "outputs": [
    {
     "data": {
      "text/plain": [
       "Index(['make_model', 'body_type', 'price', 'vat', 'km', 'registration',\n",
       "       'prev_owner', 'hp', 'type', 'previous_owners', 'inspection_new',\n",
       "       'warranty', 'non_smoking_vehicle', 'offer_number', 'first_registration',\n",
       "       'body_color', 'paint_type', 'body_color_original', 'upholstery', 'body',\n",
       "       'nr_of_doors', 'nr_of_seats', 'gearing_type', 'displacement',\n",
       "       'cylinders', 'weight', 'drive_chain', 'fuel', 'consumption',\n",
       "       'co_2_emission', 'emission_class', 'comfort_&_convenience',\n",
       "       'entertainment_&_media', 'extras', 'safety_&_security', 'description',\n",
       "       'emission_label', 'gears', 'country_version', 'last_service_date',\n",
       "       'availability', 'age'],\n",
       "      dtype='object')"
      ]
     },
     "execution_count": 199,
     "metadata": {},
     "output_type": "execute_result"
    }
   ],
   "source": [
    "df.columns"
   ]
  },
  {
   "cell_type": "markdown",
   "metadata": {},
   "source": [
    "### 0- 'body_type'"
   ]
  },
  {
   "cell_type": "code",
   "execution_count": 200,
   "metadata": {},
   "outputs": [],
   "source": [
    "#df['body_type']    % 0.3  DROP ROWS!!!"
   ]
  },
  {
   "cell_type": "code",
   "execution_count": 201,
   "metadata": {},
   "outputs": [
    {
     "data": {
      "text/plain": [
       "(15919, 42)"
      ]
     },
     "execution_count": 201,
     "metadata": {},
     "output_type": "execute_result"
    }
   ],
   "source": [
    "df.shape"
   ]
  },
  {
   "cell_type": "code",
   "execution_count": 202,
   "metadata": {},
   "outputs": [
    {
     "data": {
      "text/html": [
       "<div>\n",
       "<style scoped>\n",
       "    .dataframe tbody tr th:only-of-type {\n",
       "        vertical-align: middle;\n",
       "    }\n",
       "\n",
       "    .dataframe tbody tr th {\n",
       "        vertical-align: top;\n",
       "    }\n",
       "\n",
       "    .dataframe thead th {\n",
       "        text-align: right;\n",
       "    }\n",
       "</style>\n",
       "<table border=\"1\" class=\"dataframe\">\n",
       "  <thead>\n",
       "    <tr style=\"text-align: right;\">\n",
       "      <th></th>\n",
       "      <th>make_model</th>\n",
       "      <th>body_type</th>\n",
       "      <th>price</th>\n",
       "      <th>vat</th>\n",
       "      <th>km</th>\n",
       "      <th>registration</th>\n",
       "      <th>prev_owner</th>\n",
       "      <th>hp</th>\n",
       "      <th>type</th>\n",
       "      <th>previous_owners</th>\n",
       "      <th>inspection_new</th>\n",
       "      <th>warranty</th>\n",
       "      <th>non_smoking_vehicle</th>\n",
       "      <th>offer_number</th>\n",
       "      <th>first_registration</th>\n",
       "      <th>body_color</th>\n",
       "      <th>paint_type</th>\n",
       "      <th>body_color_original</th>\n",
       "      <th>upholstery</th>\n",
       "      <th>body</th>\n",
       "      <th>nr_of_doors</th>\n",
       "      <th>nr_of_seats</th>\n",
       "      <th>gearing_type</th>\n",
       "      <th>displacement</th>\n",
       "      <th>cylinders</th>\n",
       "      <th>weight</th>\n",
       "      <th>drive_chain</th>\n",
       "      <th>fuel</th>\n",
       "      <th>consumption</th>\n",
       "      <th>co_2_emission</th>\n",
       "      <th>emission_class</th>\n",
       "      <th>comfort_&amp;_convenience</th>\n",
       "      <th>entertainment_&amp;_media</th>\n",
       "      <th>extras</th>\n",
       "      <th>safety_&amp;_security</th>\n",
       "      <th>description</th>\n",
       "      <th>emission_label</th>\n",
       "      <th>gears</th>\n",
       "      <th>country_version</th>\n",
       "      <th>last_service_date</th>\n",
       "      <th>availability</th>\n",
       "      <th>age</th>\n",
       "    </tr>\n",
       "  </thead>\n",
       "  <tbody>\n",
       "    <tr>\n",
       "      <th>0</th>\n",
       "      <td>Audi A1</td>\n",
       "      <td>Sedans</td>\n",
       "      <td>15770</td>\n",
       "      <td>VAT deductible</td>\n",
       "      <td>56013</td>\n",
       "      <td>1461 days</td>\n",
       "      <td>2.000</td>\n",
       "      <td>66.000</td>\n",
       "      <td>Used</td>\n",
       "      <td>2.000</td>\n",
       "      <td>True</td>\n",
       "      <td>NaN</td>\n",
       "      <td>NaN</td>\n",
       "      <td>LR-062483</td>\n",
       "      <td>2016.000</td>\n",
       "      <td>Black</td>\n",
       "      <td>Metallic</td>\n",
       "      <td>Mythosschwarz</td>\n",
       "      <td>Cloth, Black</td>\n",
       "      <td>Sedans</td>\n",
       "      <td>5.000</td>\n",
       "      <td>5.000</td>\n",
       "      <td>Automatic</td>\n",
       "      <td>1422.000</td>\n",
       "      <td>3.000</td>\n",
       "      <td>1220.000</td>\n",
       "      <td>front</td>\n",
       "      <td>Benzine</td>\n",
       "      <td>3.800</td>\n",
       "      <td>99</td>\n",
       "      <td>Euro 6</td>\n",
       "      <td>Air conditioning,Armrest,Automatic climate con...</td>\n",
       "      <td>Bluetooth,Hands-free equipment,On-board comput...</td>\n",
       "      <td>Alloy wheels,Catalytic Converter,Voice Control</td>\n",
       "      <td>ABS,Central door lock,Daytime running lights,D...</td>\n",
       "      <td>Sicherheit:, ,Deaktivierung für Beifahrer-Airb...</td>\n",
       "      <td>NaN</td>\n",
       "      <td>NaN</td>\n",
       "      <td>NaN</td>\n",
       "      <td>NaN</td>\n",
       "      <td>NaN</td>\n",
       "      <td>4.000</td>\n",
       "    </tr>\n",
       "    <tr>\n",
       "      <th>1</th>\n",
       "      <td>Audi A1</td>\n",
       "      <td>Sedans</td>\n",
       "      <td>14500</td>\n",
       "      <td>Price negotiable</td>\n",
       "      <td>80000</td>\n",
       "      <td>1036 days</td>\n",
       "      <td>NaN</td>\n",
       "      <td>141.000</td>\n",
       "      <td>Used</td>\n",
       "      <td>NaN</td>\n",
       "      <td>NaN</td>\n",
       "      <td>NaN</td>\n",
       "      <td>NaN</td>\n",
       "      <td>NaN</td>\n",
       "      <td>2017.000</td>\n",
       "      <td>Red</td>\n",
       "      <td>NaN</td>\n",
       "      <td>NaN</td>\n",
       "      <td>Cloth, Grey</td>\n",
       "      <td>Sedans</td>\n",
       "      <td>3.000</td>\n",
       "      <td>4.000</td>\n",
       "      <td>Automatic</td>\n",
       "      <td>1798.000</td>\n",
       "      <td>4.000</td>\n",
       "      <td>1255.000</td>\n",
       "      <td>front</td>\n",
       "      <td>Benzine</td>\n",
       "      <td>5.600</td>\n",
       "      <td>129</td>\n",
       "      <td>Euro 6</td>\n",
       "      <td>Air conditioning,Automatic climate control,Hil...</td>\n",
       "      <td>Bluetooth,Hands-free equipment,On-board comput...</td>\n",
       "      <td>Alloy wheels,Sport seats,Sport suspension,Voic...</td>\n",
       "      <td>ABS,Central door lock,Central door lock with r...</td>\n",
       "      <td>Langstreckenfahrzeug daher die hohe Kilometerl...</td>\n",
       "      <td>4.000</td>\n",
       "      <td>7.000</td>\n",
       "      <td>NaN</td>\n",
       "      <td>NaN</td>\n",
       "      <td>NaN</td>\n",
       "      <td>3.000</td>\n",
       "    </tr>\n",
       "    <tr>\n",
       "      <th>2</th>\n",
       "      <td>Audi A1</td>\n",
       "      <td>Sedans</td>\n",
       "      <td>14640</td>\n",
       "      <td>VAT deductible</td>\n",
       "      <td>83450</td>\n",
       "      <td>1430 days</td>\n",
       "      <td>1.000</td>\n",
       "      <td>85.000</td>\n",
       "      <td>Used</td>\n",
       "      <td>1.000</td>\n",
       "      <td>NaN</td>\n",
       "      <td>NaN</td>\n",
       "      <td>NaN</td>\n",
       "      <td>AM-95365</td>\n",
       "      <td>2016.000</td>\n",
       "      <td>Black</td>\n",
       "      <td>Metallic</td>\n",
       "      <td>mythosschwarz metallic</td>\n",
       "      <td>Cloth, Black</td>\n",
       "      <td>Sedans</td>\n",
       "      <td>4.000</td>\n",
       "      <td>4.000</td>\n",
       "      <td>Automatic</td>\n",
       "      <td>1598.000</td>\n",
       "      <td>NaN</td>\n",
       "      <td>NaN</td>\n",
       "      <td>front</td>\n",
       "      <td>Benzine</td>\n",
       "      <td>3.800</td>\n",
       "      <td>99</td>\n",
       "      <td>Euro 6</td>\n",
       "      <td>Air conditioning,Cruise control,Electrical sid...</td>\n",
       "      <td>MP3,On-board computer</td>\n",
       "      <td>Alloy wheels,Voice Control</td>\n",
       "      <td>ABS,Central door lock,Daytime running lights,D...</td>\n",
       "      <td>Fahrzeug-Nummer: AM-95365, ,Ehem. UPE 24.640 E...</td>\n",
       "      <td>4.000</td>\n",
       "      <td>NaN</td>\n",
       "      <td>NaN</td>\n",
       "      <td>NaN</td>\n",
       "      <td>NaN</td>\n",
       "      <td>4.000</td>\n",
       "    </tr>\n",
       "    <tr>\n",
       "      <th>3</th>\n",
       "      <td>Audi A1</td>\n",
       "      <td>Sedans</td>\n",
       "      <td>14500</td>\n",
       "      <td>NaN</td>\n",
       "      <td>73000</td>\n",
       "      <td>1248 days</td>\n",
       "      <td>1.000</td>\n",
       "      <td>66.000</td>\n",
       "      <td>Used</td>\n",
       "      <td>1.000</td>\n",
       "      <td>NaN</td>\n",
       "      <td>NaN</td>\n",
       "      <td>6</td>\n",
       "      <td>NaN</td>\n",
       "      <td>2016.000</td>\n",
       "      <td>Brown</td>\n",
       "      <td>Metallic</td>\n",
       "      <td>NaN</td>\n",
       "      <td>NaN</td>\n",
       "      <td>Sedans</td>\n",
       "      <td>3.000</td>\n",
       "      <td>4.000</td>\n",
       "      <td>Automatic</td>\n",
       "      <td>1422.000</td>\n",
       "      <td>3.000</td>\n",
       "      <td>1195.000</td>\n",
       "      <td>NaN</td>\n",
       "      <td>Benzine</td>\n",
       "      <td>3.800</td>\n",
       "      <td>99</td>\n",
       "      <td>Euro 6</td>\n",
       "      <td>Air suspension,Armrest,Auxiliary heating,Elect...</td>\n",
       "      <td>Bluetooth,CD player,Hands-free equipment,MP3,O...</td>\n",
       "      <td>Alloy wheels,Sport seats,Voice Control</td>\n",
       "      <td>ABS,Alarm system,Central door lock with remote...</td>\n",
       "      <td>Audi A1: ,- 1e eigenaar ,- Perfecte staat: sch...</td>\n",
       "      <td>NaN</td>\n",
       "      <td>6.000</td>\n",
       "      <td>NaN</td>\n",
       "      <td>NaN</td>\n",
       "      <td>NaN</td>\n",
       "      <td>4.000</td>\n",
       "    </tr>\n",
       "    <tr>\n",
       "      <th>4</th>\n",
       "      <td>Audi A1</td>\n",
       "      <td>Sedans</td>\n",
       "      <td>16790</td>\n",
       "      <td>NaN</td>\n",
       "      <td>16200</td>\n",
       "      <td>1340 days</td>\n",
       "      <td>1.000</td>\n",
       "      <td>66.000</td>\n",
       "      <td>Used</td>\n",
       "      <td>1.000</td>\n",
       "      <td>True</td>\n",
       "      <td>NaN</td>\n",
       "      <td>NaN</td>\n",
       "      <td>C1626</td>\n",
       "      <td>2016.000</td>\n",
       "      <td>Black</td>\n",
       "      <td>Metallic</td>\n",
       "      <td>Mythosschwarz Metallic</td>\n",
       "      <td>Cloth, Black</td>\n",
       "      <td>Sedans</td>\n",
       "      <td>5.000</td>\n",
       "      <td>5.000</td>\n",
       "      <td>Automatic</td>\n",
       "      <td>1422.000</td>\n",
       "      <td>3.000</td>\n",
       "      <td>NaN</td>\n",
       "      <td>front</td>\n",
       "      <td>Benzine</td>\n",
       "      <td>4.100</td>\n",
       "      <td>109</td>\n",
       "      <td>Euro 6</td>\n",
       "      <td>Air conditioning,Armrest,Automatic climate con...</td>\n",
       "      <td>Bluetooth,CD player,Hands-free equipment,MP3,O...</td>\n",
       "      <td>Alloy wheels,Sport package,Sport suspension,Vo...</td>\n",
       "      <td>ABS,Central door lock,Driver-side airbag,Elect...</td>\n",
       "      <td>Technik &amp; Sicherheit:,Xenon plus,Klimaautomati...</td>\n",
       "      <td>NaN</td>\n",
       "      <td>NaN</td>\n",
       "      <td>Germany</td>\n",
       "      <td>NaN</td>\n",
       "      <td>NaN</td>\n",
       "      <td>4.000</td>\n",
       "    </tr>\n",
       "  </tbody>\n",
       "</table>\n",
       "</div>"
      ],
      "text/plain": [
       "  make_model body_type  price               vat     km registration  \\\n",
       "0    Audi A1    Sedans  15770    VAT deductible  56013    1461 days   \n",
       "1    Audi A1    Sedans  14500  Price negotiable  80000    1036 days   \n",
       "2    Audi A1    Sedans  14640    VAT deductible  83450    1430 days   \n",
       "3    Audi A1    Sedans  14500               NaN  73000    1248 days   \n",
       "4    Audi A1    Sedans  16790               NaN  16200    1340 days   \n",
       "\n",
       "   prev_owner      hp  type  previous_owners inspection_new  warranty  \\\n",
       "0       2.000  66.000  Used            2.000           True       NaN   \n",
       "1         NaN 141.000  Used              NaN            NaN       NaN   \n",
       "2       1.000  85.000  Used            1.000            NaN       NaN   \n",
       "3       1.000  66.000  Used            1.000            NaN       NaN   \n",
       "4       1.000  66.000  Used            1.000           True       NaN   \n",
       "\n",
       "  non_smoking_vehicle offer_number  first_registration body_color paint_type  \\\n",
       "0                 NaN    LR-062483            2016.000      Black   Metallic   \n",
       "1                 NaN          NaN            2017.000        Red        NaN   \n",
       "2                 NaN     AM-95365            2016.000      Black   Metallic   \n",
       "3                   6          NaN            2016.000      Brown   Metallic   \n",
       "4                 NaN        C1626            2016.000      Black   Metallic   \n",
       "\n",
       "      body_color_original    upholstery    body  nr_of_doors  nr_of_seats  \\\n",
       "0           Mythosschwarz  Cloth, Black  Sedans        5.000        5.000   \n",
       "1                     NaN   Cloth, Grey  Sedans        3.000        4.000   \n",
       "2  mythosschwarz metallic  Cloth, Black  Sedans        4.000        4.000   \n",
       "3                     NaN           NaN  Sedans        3.000        4.000   \n",
       "4  Mythosschwarz Metallic  Cloth, Black  Sedans        5.000        5.000   \n",
       "\n",
       "  gearing_type  displacement  cylinders   weight drive_chain     fuel  \\\n",
       "0    Automatic      1422.000      3.000 1220.000       front  Benzine   \n",
       "1    Automatic      1798.000      4.000 1255.000       front  Benzine   \n",
       "2    Automatic      1598.000        NaN      NaN       front  Benzine   \n",
       "3    Automatic      1422.000      3.000 1195.000         NaN  Benzine   \n",
       "4    Automatic      1422.000      3.000      NaN       front  Benzine   \n",
       "\n",
       "   consumption co_2_emission emission_class  \\\n",
       "0        3.800            99         Euro 6   \n",
       "1        5.600           129         Euro 6   \n",
       "2        3.800            99         Euro 6   \n",
       "3        3.800            99         Euro 6   \n",
       "4        4.100           109         Euro 6   \n",
       "\n",
       "                               comfort_&_convenience  \\\n",
       "0  Air conditioning,Armrest,Automatic climate con...   \n",
       "1  Air conditioning,Automatic climate control,Hil...   \n",
       "2  Air conditioning,Cruise control,Electrical sid...   \n",
       "3  Air suspension,Armrest,Auxiliary heating,Elect...   \n",
       "4  Air conditioning,Armrest,Automatic climate con...   \n",
       "\n",
       "                               entertainment_&_media  \\\n",
       "0  Bluetooth,Hands-free equipment,On-board comput...   \n",
       "1  Bluetooth,Hands-free equipment,On-board comput...   \n",
       "2                              MP3,On-board computer   \n",
       "3  Bluetooth,CD player,Hands-free equipment,MP3,O...   \n",
       "4  Bluetooth,CD player,Hands-free equipment,MP3,O...   \n",
       "\n",
       "                                              extras  \\\n",
       "0     Alloy wheels,Catalytic Converter,Voice Control   \n",
       "1  Alloy wheels,Sport seats,Sport suspension,Voic...   \n",
       "2                         Alloy wheels,Voice Control   \n",
       "3             Alloy wheels,Sport seats,Voice Control   \n",
       "4  Alloy wheels,Sport package,Sport suspension,Vo...   \n",
       "\n",
       "                                   safety_&_security  \\\n",
       "0  ABS,Central door lock,Daytime running lights,D...   \n",
       "1  ABS,Central door lock,Central door lock with r...   \n",
       "2  ABS,Central door lock,Daytime running lights,D...   \n",
       "3  ABS,Alarm system,Central door lock with remote...   \n",
       "4  ABS,Central door lock,Driver-side airbag,Elect...   \n",
       "\n",
       "                                         description  emission_label  gears  \\\n",
       "0  Sicherheit:, ,Deaktivierung für Beifahrer-Airb...             NaN    NaN   \n",
       "1  Langstreckenfahrzeug daher die hohe Kilometerl...           4.000  7.000   \n",
       "2  Fahrzeug-Nummer: AM-95365, ,Ehem. UPE 24.640 E...           4.000    NaN   \n",
       "3  Audi A1: ,- 1e eigenaar ,- Perfecte staat: sch...             NaN  6.000   \n",
       "4  Technik & Sicherheit:,Xenon plus,Klimaautomati...             NaN    NaN   \n",
       "\n",
       "  country_version last_service_date  availability   age  \n",
       "0             NaN               NaN           NaN 4.000  \n",
       "1             NaN               NaN           NaN 3.000  \n",
       "2             NaN               NaN           NaN 4.000  \n",
       "3             NaN               NaN           NaN 4.000  \n",
       "4         Germany               NaN           NaN 4.000  "
      ]
     },
     "execution_count": 202,
     "metadata": {},
     "output_type": "execute_result"
    }
   ],
   "source": [
    "df= df.dropna(subset=['body_type'])\n",
    "df.head()"
   ]
  },
  {
   "cell_type": "code",
   "execution_count": 203,
   "metadata": {},
   "outputs": [
    {
     "data": {
      "text/plain": [
       "(15859, 42)"
      ]
     },
     "execution_count": 203,
     "metadata": {},
     "output_type": "execute_result"
    }
   ],
   "source": [
    "df.shape"
   ]
  },
  {
   "cell_type": "markdown",
   "metadata": {},
   "source": [
    "### 1 - 'vat'"
   ]
  },
  {
   "cell_type": "code",
   "execution_count": 204,
   "metadata": {},
   "outputs": [],
   "source": [
    "#'vat' %30"
   ]
  },
  {
   "cell_type": "code",
   "execution_count": 205,
   "metadata": {},
   "outputs": [
    {
     "data": {
      "text/plain": [
       "8810     VAT deductible\n",
       "5257     VAT deductible\n",
       "3505                NaN\n",
       "10660    VAT deductible\n",
       "232                 NaN\n",
       "13263               NaN\n",
       "10311    VAT deductible\n",
       "15398    VAT deductible\n",
       "1953     VAT deductible\n",
       "2843     VAT deductible\n",
       "Name: vat, dtype: object"
      ]
     },
     "execution_count": 205,
     "metadata": {},
     "output_type": "execute_result"
    }
   ],
   "source": [
    "df['vat'].sample(10)"
   ]
  },
  {
   "cell_type": "code",
   "execution_count": 206,
   "metadata": {},
   "outputs": [
    {
     "data": {
      "text/plain": [
       "VAT deductible      10961\n",
       "Price negotiable      425\n",
       "Name: vat, dtype: int64"
      ]
     },
     "execution_count": 206,
     "metadata": {},
     "output_type": "execute_result"
    }
   ],
   "source": [
    "df['vat'].value_counts()"
   ]
  },
  {
   "cell_type": "code",
   "execution_count": 207,
   "metadata": {},
   "outputs": [],
   "source": [
    "# from sklearn import preprocessing  (null ları da encode ettiğinden burada kullanılmadı)\n",
    "\n",
    "# lab_encoder = preprocessing.LabelEncoder()\n",
    "# df_['vat'] = lab_encoder.fit_transform(df_['vat'])\n",
    "# df_['vat']"
   ]
  },
  {
   "cell_type": "code",
   "execution_count": 208,
   "metadata": {},
   "outputs": [
    {
     "data": {
      "text/plain": [
       "0       1.000\n",
       "1       2.000\n",
       "2       1.000\n",
       "3         NaN\n",
       "4         NaN\n",
       "         ... \n",
       "15914   1.000\n",
       "15915   1.000\n",
       "15916   1.000\n",
       "15917   1.000\n",
       "15918   1.000\n",
       "Name: vat, Length: 15859, dtype: float64"
      ]
     },
     "execution_count": 208,
     "metadata": {},
     "output_type": "execute_result"
    }
   ],
   "source": [
    "df['vat'].replace(['VAT deductible','Price negotiable'],[1,2])"
   ]
  },
  {
   "cell_type": "code",
   "execution_count": 209,
   "metadata": {},
   "outputs": [
    {
     "data": {
      "text/plain": [
       "VAT deductible      10961\n",
       "Price negotiable      425\n",
       "Name: vat, dtype: int64"
      ]
     },
     "execution_count": 209,
     "metadata": {},
     "output_type": "execute_result"
    }
   ],
   "source": [
    "df['vat'].value_counts()"
   ]
  },
  {
   "cell_type": "code",
   "execution_count": 210,
   "metadata": {},
   "outputs": [
    {
     "data": {
      "text/plain": [
       "4473"
      ]
     },
     "execution_count": 210,
     "metadata": {},
     "output_type": "execute_result"
    }
   ],
   "source": [
    "df['vat'].isnull().sum()"
   ]
  },
  {
   "cell_type": "code",
   "execution_count": null,
   "metadata": {},
   "outputs": [],
   "source": []
  },
  {
   "cell_type": "markdown",
   "metadata": {},
   "source": [
    "### 2 -'prev_owner'"
   ]
  },
  {
   "cell_type": "code",
   "execution_count": 211,
   "metadata": {},
   "outputs": [],
   "source": [
    "#'prev_owner'  # %43  "
   ]
  },
  {
   "cell_type": "code",
   "execution_count": 212,
   "metadata": {},
   "outputs": [
    {
     "data": {
      "text/plain": [
       "prev_owner  previous_owners\n",
       "1.000       1.000              8286\n",
       "NaN         NaN                6589\n",
       "2.000       2.000               777\n",
       "NaN         0.000               188\n",
       "3.000       3.000                17\n",
       "4.000       4.000                 2\n",
       "dtype: int64"
      ]
     },
     "execution_count": 212,
     "metadata": {},
     "output_type": "execute_result"
    }
   ],
   "source": [
    "df[['prev_owner', 'previous_owners']].value_counts(dropna=False)"
   ]
  },
  {
   "cell_type": "code",
   "execution_count": 213,
   "metadata": {},
   "outputs": [
    {
     "data": {
      "text/plain": [
       "6777"
      ]
     },
     "execution_count": 213,
     "metadata": {},
     "output_type": "execute_result"
    }
   ],
   "source": [
    "df['prev_owner'].isnull().sum()"
   ]
  },
  {
   "cell_type": "code",
   "execution_count": 214,
   "metadata": {},
   "outputs": [
    {
     "data": {
      "text/plain": [
       "0       2.000\n",
       "1         NaN\n",
       "2       1.000\n",
       "3       1.000\n",
       "4       1.000\n",
       "         ... \n",
       "15914     NaN\n",
       "15915   1.000\n",
       "15916   1.000\n",
       "15917     NaN\n",
       "15918   1.000\n",
       "Name: prev_owner, Length: 15859, dtype: float64"
      ]
     },
     "execution_count": 214,
     "metadata": {},
     "output_type": "execute_result"
    }
   ],
   "source": [
    "df['prev_owner'].fillna(df['previous_owners'])"
   ]
  },
  {
   "cell_type": "code",
   "execution_count": 215,
   "metadata": {},
   "outputs": [
    {
     "data": {
      "text/plain": [
       "6777"
      ]
     },
     "execution_count": 215,
     "metadata": {},
     "output_type": "execute_result"
    }
   ],
   "source": [
    "df['prev_owner'].isnull().sum()"
   ]
  },
  {
   "cell_type": "code",
   "execution_count": 216,
   "metadata": {},
   "outputs": [],
   "source": [
    "to_drop = ['previous_owners']\n",
    "df.drop(to_drop, inplace = True, axis = 1)"
   ]
  },
  {
   "cell_type": "code",
   "execution_count": 217,
   "metadata": {},
   "outputs": [
    {
     "data": {
      "text/plain": [
       "(15859, 41)"
      ]
     },
     "execution_count": 217,
     "metadata": {},
     "output_type": "execute_result"
    }
   ],
   "source": [
    "df.shape"
   ]
  },
  {
   "cell_type": "markdown",
   "metadata": {},
   "source": [
    "### 3 - 'type' "
   ]
  },
  {
   "cell_type": "code",
   "execution_count": 218,
   "metadata": {},
   "outputs": [],
   "source": [
    "#'type'  (sadece 2)  DROP ROWS!!!"
   ]
  },
  {
   "cell_type": "code",
   "execution_count": 219,
   "metadata": {},
   "outputs": [
    {
     "data": {
      "text/plain": [
       "Used              11042\n",
       "New                1648\n",
       "Pre-registered     1360\n",
       "Employee's car     1011\n",
       "Demonstration       796\n",
       "Name: type, dtype: int64"
      ]
     },
     "execution_count": 219,
     "metadata": {},
     "output_type": "execute_result"
    }
   ],
   "source": [
    "df['type'].value_counts()"
   ]
  },
  {
   "cell_type": "code",
   "execution_count": 220,
   "metadata": {},
   "outputs": [
    {
     "data": {
      "text/plain": [
       "0                  Used\n",
       "1                  Used\n",
       "2                  Used\n",
       "3                  Used\n",
       "4                  Used\n",
       "              ...      \n",
       "15914               New\n",
       "15915              Used\n",
       "15916    Pre-registered\n",
       "15917    Pre-registered\n",
       "15918     Demonstration\n",
       "Name: type, Length: 15859, dtype: object"
      ]
     },
     "execution_count": 220,
     "metadata": {},
     "output_type": "execute_result"
    }
   ],
   "source": [
    "df['type'].replace(['Used','New', 'Pre-registered', \"Employee's car\", 'Demonstration'],[1,2,3,4,5])\n",
    "df['type']"
   ]
  },
  {
   "cell_type": "markdown",
   "metadata": {},
   "source": [
    "### 4 -'next_inspection' DROPPED"
   ]
  },
  {
   "cell_type": "code",
   "execution_count": 221,
   "metadata": {},
   "outputs": [],
   "source": [
    "# 'next_inspection' % 77"
   ]
  },
  {
   "cell_type": "code",
   "execution_count": 222,
   "metadata": {},
   "outputs": [],
   "source": [
    "# #ilan zamanıyla farkını al\n",
    "# df['today'] = '2019-01-01'\n",
    "# df['today'] = pd.to_datetime(df['today'])"
   ]
  },
  {
   "cell_type": "code",
   "execution_count": 223,
   "metadata": {},
   "outputs": [],
   "source": [
    "# df['next_inspection']"
   ]
  },
  {
   "cell_type": "code",
   "execution_count": 224,
   "metadata": {},
   "outputs": [],
   "source": [
    "# df['next_inspection'] = pd.to_datetime(df['next_inspection'], format='%Y/%m/%d')"
   ]
  },
  {
   "cell_type": "code",
   "execution_count": 225,
   "metadata": {},
   "outputs": [],
   "source": [
    "# df['next_inspection_DAYS'] = abs(df['today'] - df['next_inspection'])"
   ]
  },
  {
   "cell_type": "code",
   "execution_count": 226,
   "metadata": {},
   "outputs": [],
   "source": [
    "# df['next_inspection_DAYS']"
   ]
  },
  {
   "cell_type": "code",
   "execution_count": 227,
   "metadata": {},
   "outputs": [],
   "source": [
    "# to_drop = ['next_inspection']\n",
    "# df.drop(to_drop, inplace = True, axis = 1)"
   ]
  },
  {
   "cell_type": "markdown",
   "metadata": {},
   "source": [
    "### 5 - 'inspection_new'"
   ]
  },
  {
   "cell_type": "code",
   "execution_count": 228,
   "metadata": {},
   "outputs": [],
   "source": [
    "# 'inspection_new'   % 75"
   ]
  },
  {
   "cell_type": "markdown",
   "metadata": {},
   "source": [
    "### 6 - 'warranty'"
   ]
  },
  {
   "cell_type": "code",
   "execution_count": 229,
   "metadata": {},
   "outputs": [],
   "source": [
    "# 'warranty' % 70"
   ]
  },
  {
   "cell_type": "markdown",
   "metadata": {},
   "source": [
    "###  7 - 'non_smoking_vehicle' - DROPPED"
   ]
  },
  {
   "cell_type": "code",
   "execution_count": 230,
   "metadata": {},
   "outputs": [],
   "source": [
    "#'non_smoking_vehicle'   % 78"
   ]
  },
  {
   "cell_type": "code",
   "execution_count": 231,
   "metadata": {},
   "outputs": [
    {
     "data": {
      "text/html": [
       "<div>\n",
       "<style scoped>\n",
       "    .dataframe tbody tr th:only-of-type {\n",
       "        vertical-align: middle;\n",
       "    }\n",
       "\n",
       "    .dataframe tbody tr th {\n",
       "        vertical-align: top;\n",
       "    }\n",
       "\n",
       "    .dataframe thead th {\n",
       "        text-align: right;\n",
       "    }\n",
       "</style>\n",
       "<table border=\"1\" class=\"dataframe\">\n",
       "  <thead>\n",
       "    <tr style=\"text-align: right;\">\n",
       "      <th></th>\n",
       "      <th>non_smoking_vehicle</th>\n",
       "      <th>consumption</th>\n",
       "    </tr>\n",
       "  </thead>\n",
       "  <tbody>\n",
       "    <tr>\n",
       "      <th>1445</th>\n",
       "      <td>NaN</td>\n",
       "      <td>NaN</td>\n",
       "    </tr>\n",
       "    <tr>\n",
       "      <th>15134</th>\n",
       "      <td>NaN</td>\n",
       "      <td>NaN</td>\n",
       "    </tr>\n",
       "    <tr>\n",
       "      <th>2004</th>\n",
       "      <td>NaN</td>\n",
       "      <td>4.800</td>\n",
       "    </tr>\n",
       "    <tr>\n",
       "      <th>13881</th>\n",
       "      <td>NaN</td>\n",
       "      <td>4.700</td>\n",
       "    </tr>\n",
       "    <tr>\n",
       "      <th>3049</th>\n",
       "      <td>NaN</td>\n",
       "      <td>3.800</td>\n",
       "    </tr>\n",
       "    <tr>\n",
       "      <th>2801</th>\n",
       "      <td>NaN</td>\n",
       "      <td>10.000</td>\n",
       "    </tr>\n",
       "    <tr>\n",
       "      <th>3236</th>\n",
       "      <td>NaN</td>\n",
       "      <td>4.700</td>\n",
       "    </tr>\n",
       "    <tr>\n",
       "      <th>13745</th>\n",
       "      <td>NaN</td>\n",
       "      <td>3.300</td>\n",
       "    </tr>\n",
       "    <tr>\n",
       "      <th>6127</th>\n",
       "      <td>NaN</td>\n",
       "      <td>NaN</td>\n",
       "    </tr>\n",
       "    <tr>\n",
       "      <th>11679</th>\n",
       "      <td>NaN</td>\n",
       "      <td>3.900</td>\n",
       "    </tr>\n",
       "    <tr>\n",
       "      <th>9467</th>\n",
       "      <td>120</td>\n",
       "      <td>5.200</td>\n",
       "    </tr>\n",
       "    <tr>\n",
       "      <th>11127</th>\n",
       "      <td>NaN</td>\n",
       "      <td>4.100</td>\n",
       "    </tr>\n",
       "    <tr>\n",
       "      <th>6238</th>\n",
       "      <td>NaN</td>\n",
       "      <td>NaN</td>\n",
       "    </tr>\n",
       "    <tr>\n",
       "      <th>7090</th>\n",
       "      <td>NaN</td>\n",
       "      <td>5.600</td>\n",
       "    </tr>\n",
       "    <tr>\n",
       "      <th>13202</th>\n",
       "      <td>NaN</td>\n",
       "      <td>5.400</td>\n",
       "    </tr>\n",
       "  </tbody>\n",
       "</table>\n",
       "</div>"
      ],
      "text/plain": [
       "      non_smoking_vehicle  consumption\n",
       "1445                  NaN          NaN\n",
       "15134                 NaN          NaN\n",
       "2004                  NaN        4.800\n",
       "13881                 NaN        4.700\n",
       "3049                  NaN        3.800\n",
       "2801                  NaN       10.000\n",
       "3236                  NaN        4.700\n",
       "13745                 NaN        3.300\n",
       "6127                  NaN          NaN\n",
       "11679                 NaN        3.900\n",
       "9467                  120        5.200\n",
       "11127                 NaN        4.100\n",
       "6238                  NaN          NaN\n",
       "7090                  NaN        5.600\n",
       "13202                 NaN        5.400"
      ]
     },
     "execution_count": 231,
     "metadata": {},
     "output_type": "execute_result"
    }
   ],
   "source": [
    "df[['non_smoking_vehicle', 'consumption']].sample(15)"
   ]
  },
  {
   "cell_type": "code",
   "execution_count": 232,
   "metadata": {},
   "outputs": [],
   "source": [
    "to_drop = ['non_smoking_vehicle']\n",
    "df.drop(to_drop, inplace = True, axis = 1)"
   ]
  },
  {
   "cell_type": "code",
   "execution_count": 233,
   "metadata": {},
   "outputs": [
    {
     "data": {
      "text/plain": [
       "(15859, 40)"
      ]
     },
     "execution_count": 233,
     "metadata": {},
     "output_type": "execute_result"
    }
   ],
   "source": [
    "df.shape"
   ]
  },
  {
   "cell_type": "markdown",
   "metadata": {},
   "source": [
    "### 8 - 'offer_number' DROPPED"
   ]
  },
  {
   "cell_type": "code",
   "execution_count": 234,
   "metadata": {},
   "outputs": [],
   "source": [
    "# 'offer_number'  % 20"
   ]
  },
  {
   "cell_type": "code",
   "execution_count": 235,
   "metadata": {},
   "outputs": [
    {
     "data": {
      "text/plain": [
       "0             LR-062483\n",
       "1                   NaN\n",
       "2              AM-95365\n",
       "3                   NaN\n",
       "4                 C1626\n",
       "              ...      \n",
       "15914          10988301\n",
       "15915       507370_3223\n",
       "15916          Espace16\n",
       "15917           2691331\n",
       "15918    Re_30000008029\n",
       "Name: offer_number, Length: 15859, dtype: object"
      ]
     },
     "execution_count": 235,
     "metadata": {},
     "output_type": "execute_result"
    }
   ],
   "source": [
    "df['offer_number']"
   ]
  },
  {
   "cell_type": "code",
   "execution_count": 236,
   "metadata": {},
   "outputs": [],
   "source": [
    "to_drop = ['offer_number']\n",
    "df.drop(to_drop, inplace = True, axis = 1)"
   ]
  },
  {
   "cell_type": "code",
   "execution_count": 237,
   "metadata": {},
   "outputs": [
    {
     "data": {
      "text/plain": [
       "(15859, 39)"
      ]
     },
     "execution_count": 237,
     "metadata": {},
     "output_type": "execute_result"
    }
   ],
   "source": [
    "df.shape"
   ]
  },
  {
   "cell_type": "markdown",
   "metadata": {},
   "source": [
    "### 9 - 'first_registration'"
   ]
  },
  {
   "cell_type": "code",
   "execution_count": 238,
   "metadata": {},
   "outputs": [],
   "source": [
    "# 'first_registration'   %10"
   ]
  },
  {
   "cell_type": "code",
   "execution_count": 239,
   "metadata": {},
   "outputs": [
    {
     "data": {
      "text/plain": [
       "2018.000    4508\n",
       "2016.000    3663\n",
       "2017.000    3253\n",
       "2019.000    2850\n",
       "Name: first_registration, dtype: int64"
      ]
     },
     "execution_count": 239,
     "metadata": {},
     "output_type": "execute_result"
    }
   ],
   "source": [
    "df['first_registration'].value_counts()\n"
   ]
  },
  {
   "cell_type": "code",
   "execution_count": 240,
   "metadata": {},
   "outputs": [
    {
     "data": {
      "text/plain": [
       "1585"
      ]
     },
     "execution_count": 240,
     "metadata": {},
     "output_type": "execute_result"
    }
   ],
   "source": [
    "df['first_registration'].isnull().sum()"
   ]
  },
  {
   "cell_type": "code",
   "execution_count": 241,
   "metadata": {},
   "outputs": [
    {
     "data": {
      "text/plain": [
       "(15859, 39)"
      ]
     },
     "execution_count": 241,
     "metadata": {},
     "output_type": "execute_result"
    }
   ],
   "source": [
    "df.shape"
   ]
  },
  {
   "cell_type": "markdown",
   "metadata": {},
   "source": [
    "### 10 - 'body_color'"
   ]
  },
  {
   "cell_type": "code",
   "execution_count": 242,
   "metadata": {},
   "outputs": [],
   "source": [
    "# 'body_color'   %10"
   ]
  },
  {
   "cell_type": "markdown",
   "metadata": {},
   "source": [
    "### 11 - 'paint_type'"
   ]
  },
  {
   "cell_type": "code",
   "execution_count": 243,
   "metadata": {},
   "outputs": [],
   "source": [
    "# 'paint_type'   % 36"
   ]
  },
  {
   "cell_type": "markdown",
   "metadata": {},
   "source": [
    "### 12 - 'body_color_original'"
   ]
  },
  {
   "cell_type": "code",
   "execution_count": 244,
   "metadata": {},
   "outputs": [],
   "source": [
    "# 'body_color_original'   % 24"
   ]
  },
  {
   "cell_type": "markdown",
   "metadata": {},
   "source": [
    "### 13 - 'upholstery'"
   ]
  },
  {
   "cell_type": "code",
   "execution_count": 245,
   "metadata": {},
   "outputs": [],
   "source": [
    "# 'upholstery'   % 23"
   ]
  },
  {
   "cell_type": "code",
   "execution_count": 246,
   "metadata": {},
   "outputs": [
    {
     "data": {
      "text/plain": [
       "0    Cloth, Black\n",
       "Name: upholstery, dtype: object"
      ]
     },
     "execution_count": 246,
     "metadata": {},
     "output_type": "execute_result"
    }
   ],
   "source": [
    "df['upholstery'].head(1)"
   ]
  },
  {
   "cell_type": "code",
   "execution_count": 247,
   "metadata": {},
   "outputs": [],
   "source": [
    "df['upholstery'] = df['upholstery'].str.split(',')\n",
    "df['upholstery'] = df['upholstery'].apply(lambda x: x[0] if type(x) == list else x)"
   ]
  },
  {
   "cell_type": "code",
   "execution_count": 248,
   "metadata": {},
   "outputs": [
    {
     "data": {
      "text/plain": [
       "0               Cloth\n",
       "1               Cloth\n",
       "2               Cloth\n",
       "3                 NaN\n",
       "4               Cloth\n",
       "             ...     \n",
       "15914             NaN\n",
       "15915           Cloth\n",
       "15916    Full leather\n",
       "15917    Part leather\n",
       "15918    Full leather\n",
       "Name: upholstery, Length: 15859, dtype: object"
      ]
     },
     "execution_count": 248,
     "metadata": {},
     "output_type": "execute_result"
    }
   ],
   "source": [
    "df['upholstery'].replace(to_replace= ['Black', 'Grey', 'Brown', 'Beige', 'Blue', 'White'], value=np.nan, inplace=True)\n",
    "df['upholstery']"
   ]
  },
  {
   "cell_type": "code",
   "execution_count": 249,
   "metadata": {},
   "outputs": [
    {
     "data": {
      "text/plain": [
       "Cloth           8417\n",
       "Part leather    1499\n",
       "Full leather    1007\n",
       "Other            368\n",
       "Velour            60\n",
       "alcantara         57\n",
       "Name: upholstery, dtype: int64"
      ]
     },
     "execution_count": 249,
     "metadata": {},
     "output_type": "execute_result"
    }
   ],
   "source": [
    "df['upholstery'].value_counts()"
   ]
  },
  {
   "cell_type": "code",
   "execution_count": 250,
   "metadata": {},
   "outputs": [
    {
     "data": {
      "text/plain": [
       "0               Cloth\n",
       "1               Cloth\n",
       "2               Cloth\n",
       "3                 NaN\n",
       "4               Cloth\n",
       "             ...     \n",
       "15914             NaN\n",
       "15915           Cloth\n",
       "15916    Full leather\n",
       "15917    Part leather\n",
       "15918    Full leather\n",
       "Name: upholstery, Length: 15859, dtype: object"
      ]
     },
     "execution_count": 250,
     "metadata": {},
     "output_type": "execute_result"
    }
   ],
   "source": [
    "df['upholstery'].replace(['Black','Grey', 'Brown', \"Beige\", 'Blue', 'White'], np.nan)\n",
    "df['upholstery']"
   ]
  },
  {
   "cell_type": "code",
   "execution_count": 251,
   "metadata": {},
   "outputs": [
    {
     "data": {
      "text/plain": [
       "Cloth           8417\n",
       "Part leather    1499\n",
       "Full leather    1007\n",
       "Other            368\n",
       "Velour            60\n",
       "alcantara         57\n",
       "Name: upholstery, dtype: int64"
      ]
     },
     "execution_count": 251,
     "metadata": {},
     "output_type": "execute_result"
    }
   ],
   "source": [
    "df['upholstery'].value_counts()"
   ]
  },
  {
   "cell_type": "markdown",
   "metadata": {},
   "source": [
    "### 14 - 'body'- DROPPED (body_type stays)"
   ]
  },
  {
   "cell_type": "code",
   "execution_count": 252,
   "metadata": {},
   "outputs": [],
   "source": [
    "# 'body'  (60 tane)              DROP ROWS!!!"
   ]
  },
  {
   "cell_type": "code",
   "execution_count": 253,
   "metadata": {},
   "outputs": [
    {
     "data": {
      "text/plain": [
       "body         0\n",
       "body_type    0\n",
       "dtype: int64"
      ]
     },
     "execution_count": 253,
     "metadata": {},
     "output_type": "execute_result"
    }
   ],
   "source": [
    "df[['body', 'body_type']].isnull().sum()"
   ]
  },
  {
   "cell_type": "code",
   "execution_count": 254,
   "metadata": {},
   "outputs": [],
   "source": [
    "to_drop = ['body']\n",
    "df.drop(to_drop, inplace = True, axis = 1)"
   ]
  },
  {
   "cell_type": "code",
   "execution_count": 255,
   "metadata": {},
   "outputs": [
    {
     "data": {
      "text/plain": [
       "(15859, 38)"
      ]
     },
     "execution_count": 255,
     "metadata": {},
     "output_type": "execute_result"
    }
   ],
   "source": [
    "df.shape"
   ]
  },
  {
   "cell_type": "code",
   "execution_count": 256,
   "metadata": {},
   "outputs": [
    {
     "data": {
      "text/html": [
       "<div>\n",
       "<style scoped>\n",
       "    .dataframe tbody tr th:only-of-type {\n",
       "        vertical-align: middle;\n",
       "    }\n",
       "\n",
       "    .dataframe tbody tr th {\n",
       "        vertical-align: top;\n",
       "    }\n",
       "\n",
       "    .dataframe thead th {\n",
       "        text-align: right;\n",
       "    }\n",
       "</style>\n",
       "<table border=\"1\" class=\"dataframe\">\n",
       "  <thead>\n",
       "    <tr style=\"text-align: right;\">\n",
       "      <th></th>\n",
       "      <th>make_model</th>\n",
       "      <th>body_type</th>\n",
       "      <th>price</th>\n",
       "      <th>vat</th>\n",
       "      <th>km</th>\n",
       "      <th>registration</th>\n",
       "      <th>prev_owner</th>\n",
       "      <th>hp</th>\n",
       "      <th>type</th>\n",
       "      <th>inspection_new</th>\n",
       "      <th>warranty</th>\n",
       "      <th>first_registration</th>\n",
       "      <th>body_color</th>\n",
       "      <th>paint_type</th>\n",
       "      <th>body_color_original</th>\n",
       "      <th>upholstery</th>\n",
       "      <th>nr_of_doors</th>\n",
       "      <th>nr_of_seats</th>\n",
       "      <th>gearing_type</th>\n",
       "      <th>displacement</th>\n",
       "      <th>cylinders</th>\n",
       "      <th>weight</th>\n",
       "      <th>drive_chain</th>\n",
       "      <th>fuel</th>\n",
       "      <th>consumption</th>\n",
       "      <th>co_2_emission</th>\n",
       "      <th>emission_class</th>\n",
       "      <th>comfort_&amp;_convenience</th>\n",
       "      <th>entertainment_&amp;_media</th>\n",
       "      <th>extras</th>\n",
       "      <th>safety_&amp;_security</th>\n",
       "      <th>description</th>\n",
       "      <th>emission_label</th>\n",
       "      <th>gears</th>\n",
       "      <th>country_version</th>\n",
       "      <th>last_service_date</th>\n",
       "      <th>availability</th>\n",
       "      <th>age</th>\n",
       "    </tr>\n",
       "  </thead>\n",
       "  <tbody>\n",
       "    <tr>\n",
       "      <th>0</th>\n",
       "      <td>Audi A1</td>\n",
       "      <td>Sedans</td>\n",
       "      <td>15770</td>\n",
       "      <td>VAT deductible</td>\n",
       "      <td>56013</td>\n",
       "      <td>1461 days</td>\n",
       "      <td>2.000</td>\n",
       "      <td>66.000</td>\n",
       "      <td>Used</td>\n",
       "      <td>True</td>\n",
       "      <td>NaN</td>\n",
       "      <td>2016.000</td>\n",
       "      <td>Black</td>\n",
       "      <td>Metallic</td>\n",
       "      <td>Mythosschwarz</td>\n",
       "      <td>Cloth</td>\n",
       "      <td>5.000</td>\n",
       "      <td>5.000</td>\n",
       "      <td>Automatic</td>\n",
       "      <td>1422.000</td>\n",
       "      <td>3.000</td>\n",
       "      <td>1220.000</td>\n",
       "      <td>front</td>\n",
       "      <td>Benzine</td>\n",
       "      <td>3.800</td>\n",
       "      <td>99</td>\n",
       "      <td>Euro 6</td>\n",
       "      <td>Air conditioning,Armrest,Automatic climate con...</td>\n",
       "      <td>Bluetooth,Hands-free equipment,On-board comput...</td>\n",
       "      <td>Alloy wheels,Catalytic Converter,Voice Control</td>\n",
       "      <td>ABS,Central door lock,Daytime running lights,D...</td>\n",
       "      <td>Sicherheit:, ,Deaktivierung für Beifahrer-Airb...</td>\n",
       "      <td>NaN</td>\n",
       "      <td>NaN</td>\n",
       "      <td>NaN</td>\n",
       "      <td>NaN</td>\n",
       "      <td>NaN</td>\n",
       "      <td>4.000</td>\n",
       "    </tr>\n",
       "    <tr>\n",
       "      <th>1</th>\n",
       "      <td>Audi A1</td>\n",
       "      <td>Sedans</td>\n",
       "      <td>14500</td>\n",
       "      <td>Price negotiable</td>\n",
       "      <td>80000</td>\n",
       "      <td>1036 days</td>\n",
       "      <td>NaN</td>\n",
       "      <td>141.000</td>\n",
       "      <td>Used</td>\n",
       "      <td>NaN</td>\n",
       "      <td>NaN</td>\n",
       "      <td>2017.000</td>\n",
       "      <td>Red</td>\n",
       "      <td>NaN</td>\n",
       "      <td>NaN</td>\n",
       "      <td>Cloth</td>\n",
       "      <td>3.000</td>\n",
       "      <td>4.000</td>\n",
       "      <td>Automatic</td>\n",
       "      <td>1798.000</td>\n",
       "      <td>4.000</td>\n",
       "      <td>1255.000</td>\n",
       "      <td>front</td>\n",
       "      <td>Benzine</td>\n",
       "      <td>5.600</td>\n",
       "      <td>129</td>\n",
       "      <td>Euro 6</td>\n",
       "      <td>Air conditioning,Automatic climate control,Hil...</td>\n",
       "      <td>Bluetooth,Hands-free equipment,On-board comput...</td>\n",
       "      <td>Alloy wheels,Sport seats,Sport suspension,Voic...</td>\n",
       "      <td>ABS,Central door lock,Central door lock with r...</td>\n",
       "      <td>Langstreckenfahrzeug daher die hohe Kilometerl...</td>\n",
       "      <td>4.000</td>\n",
       "      <td>7.000</td>\n",
       "      <td>NaN</td>\n",
       "      <td>NaN</td>\n",
       "      <td>NaN</td>\n",
       "      <td>3.000</td>\n",
       "    </tr>\n",
       "    <tr>\n",
       "      <th>2</th>\n",
       "      <td>Audi A1</td>\n",
       "      <td>Sedans</td>\n",
       "      <td>14640</td>\n",
       "      <td>VAT deductible</td>\n",
       "      <td>83450</td>\n",
       "      <td>1430 days</td>\n",
       "      <td>1.000</td>\n",
       "      <td>85.000</td>\n",
       "      <td>Used</td>\n",
       "      <td>NaN</td>\n",
       "      <td>NaN</td>\n",
       "      <td>2016.000</td>\n",
       "      <td>Black</td>\n",
       "      <td>Metallic</td>\n",
       "      <td>mythosschwarz metallic</td>\n",
       "      <td>Cloth</td>\n",
       "      <td>4.000</td>\n",
       "      <td>4.000</td>\n",
       "      <td>Automatic</td>\n",
       "      <td>1598.000</td>\n",
       "      <td>NaN</td>\n",
       "      <td>NaN</td>\n",
       "      <td>front</td>\n",
       "      <td>Benzine</td>\n",
       "      <td>3.800</td>\n",
       "      <td>99</td>\n",
       "      <td>Euro 6</td>\n",
       "      <td>Air conditioning,Cruise control,Electrical sid...</td>\n",
       "      <td>MP3,On-board computer</td>\n",
       "      <td>Alloy wheels,Voice Control</td>\n",
       "      <td>ABS,Central door lock,Daytime running lights,D...</td>\n",
       "      <td>Fahrzeug-Nummer: AM-95365, ,Ehem. UPE 24.640 E...</td>\n",
       "      <td>4.000</td>\n",
       "      <td>NaN</td>\n",
       "      <td>NaN</td>\n",
       "      <td>NaN</td>\n",
       "      <td>NaN</td>\n",
       "      <td>4.000</td>\n",
       "    </tr>\n",
       "    <tr>\n",
       "      <th>3</th>\n",
       "      <td>Audi A1</td>\n",
       "      <td>Sedans</td>\n",
       "      <td>14500</td>\n",
       "      <td>NaN</td>\n",
       "      <td>73000</td>\n",
       "      <td>1248 days</td>\n",
       "      <td>1.000</td>\n",
       "      <td>66.000</td>\n",
       "      <td>Used</td>\n",
       "      <td>NaN</td>\n",
       "      <td>NaN</td>\n",
       "      <td>2016.000</td>\n",
       "      <td>Brown</td>\n",
       "      <td>Metallic</td>\n",
       "      <td>NaN</td>\n",
       "      <td>NaN</td>\n",
       "      <td>3.000</td>\n",
       "      <td>4.000</td>\n",
       "      <td>Automatic</td>\n",
       "      <td>1422.000</td>\n",
       "      <td>3.000</td>\n",
       "      <td>1195.000</td>\n",
       "      <td>NaN</td>\n",
       "      <td>Benzine</td>\n",
       "      <td>3.800</td>\n",
       "      <td>99</td>\n",
       "      <td>Euro 6</td>\n",
       "      <td>Air suspension,Armrest,Auxiliary heating,Elect...</td>\n",
       "      <td>Bluetooth,CD player,Hands-free equipment,MP3,O...</td>\n",
       "      <td>Alloy wheels,Sport seats,Voice Control</td>\n",
       "      <td>ABS,Alarm system,Central door lock with remote...</td>\n",
       "      <td>Audi A1: ,- 1e eigenaar ,- Perfecte staat: sch...</td>\n",
       "      <td>NaN</td>\n",
       "      <td>6.000</td>\n",
       "      <td>NaN</td>\n",
       "      <td>NaN</td>\n",
       "      <td>NaN</td>\n",
       "      <td>4.000</td>\n",
       "    </tr>\n",
       "    <tr>\n",
       "      <th>4</th>\n",
       "      <td>Audi A1</td>\n",
       "      <td>Sedans</td>\n",
       "      <td>16790</td>\n",
       "      <td>NaN</td>\n",
       "      <td>16200</td>\n",
       "      <td>1340 days</td>\n",
       "      <td>1.000</td>\n",
       "      <td>66.000</td>\n",
       "      <td>Used</td>\n",
       "      <td>True</td>\n",
       "      <td>NaN</td>\n",
       "      <td>2016.000</td>\n",
       "      <td>Black</td>\n",
       "      <td>Metallic</td>\n",
       "      <td>Mythosschwarz Metallic</td>\n",
       "      <td>Cloth</td>\n",
       "      <td>5.000</td>\n",
       "      <td>5.000</td>\n",
       "      <td>Automatic</td>\n",
       "      <td>1422.000</td>\n",
       "      <td>3.000</td>\n",
       "      <td>NaN</td>\n",
       "      <td>front</td>\n",
       "      <td>Benzine</td>\n",
       "      <td>4.100</td>\n",
       "      <td>109</td>\n",
       "      <td>Euro 6</td>\n",
       "      <td>Air conditioning,Armrest,Automatic climate con...</td>\n",
       "      <td>Bluetooth,CD player,Hands-free equipment,MP3,O...</td>\n",
       "      <td>Alloy wheels,Sport package,Sport suspension,Vo...</td>\n",
       "      <td>ABS,Central door lock,Driver-side airbag,Elect...</td>\n",
       "      <td>Technik &amp; Sicherheit:,Xenon plus,Klimaautomati...</td>\n",
       "      <td>NaN</td>\n",
       "      <td>NaN</td>\n",
       "      <td>Germany</td>\n",
       "      <td>NaN</td>\n",
       "      <td>NaN</td>\n",
       "      <td>4.000</td>\n",
       "    </tr>\n",
       "  </tbody>\n",
       "</table>\n",
       "</div>"
      ],
      "text/plain": [
       "  make_model body_type  price               vat     km registration  \\\n",
       "0    Audi A1    Sedans  15770    VAT deductible  56013    1461 days   \n",
       "1    Audi A1    Sedans  14500  Price negotiable  80000    1036 days   \n",
       "2    Audi A1    Sedans  14640    VAT deductible  83450    1430 days   \n",
       "3    Audi A1    Sedans  14500               NaN  73000    1248 days   \n",
       "4    Audi A1    Sedans  16790               NaN  16200    1340 days   \n",
       "\n",
       "   prev_owner      hp  type inspection_new  warranty  first_registration  \\\n",
       "0       2.000  66.000  Used           True       NaN            2016.000   \n",
       "1         NaN 141.000  Used            NaN       NaN            2017.000   \n",
       "2       1.000  85.000  Used            NaN       NaN            2016.000   \n",
       "3       1.000  66.000  Used            NaN       NaN            2016.000   \n",
       "4       1.000  66.000  Used           True       NaN            2016.000   \n",
       "\n",
       "  body_color paint_type     body_color_original upholstery  nr_of_doors  \\\n",
       "0      Black   Metallic           Mythosschwarz      Cloth        5.000   \n",
       "1        Red        NaN                     NaN      Cloth        3.000   \n",
       "2      Black   Metallic  mythosschwarz metallic      Cloth        4.000   \n",
       "3      Brown   Metallic                     NaN        NaN        3.000   \n",
       "4      Black   Metallic  Mythosschwarz Metallic      Cloth        5.000   \n",
       "\n",
       "   nr_of_seats gearing_type  displacement  cylinders   weight drive_chain  \\\n",
       "0        5.000    Automatic      1422.000      3.000 1220.000       front   \n",
       "1        4.000    Automatic      1798.000      4.000 1255.000       front   \n",
       "2        4.000    Automatic      1598.000        NaN      NaN       front   \n",
       "3        4.000    Automatic      1422.000      3.000 1195.000         NaN   \n",
       "4        5.000    Automatic      1422.000      3.000      NaN       front   \n",
       "\n",
       "      fuel  consumption co_2_emission emission_class  \\\n",
       "0  Benzine        3.800            99         Euro 6   \n",
       "1  Benzine        5.600           129         Euro 6   \n",
       "2  Benzine        3.800            99         Euro 6   \n",
       "3  Benzine        3.800            99         Euro 6   \n",
       "4  Benzine        4.100           109         Euro 6   \n",
       "\n",
       "                               comfort_&_convenience  \\\n",
       "0  Air conditioning,Armrest,Automatic climate con...   \n",
       "1  Air conditioning,Automatic climate control,Hil...   \n",
       "2  Air conditioning,Cruise control,Electrical sid...   \n",
       "3  Air suspension,Armrest,Auxiliary heating,Elect...   \n",
       "4  Air conditioning,Armrest,Automatic climate con...   \n",
       "\n",
       "                               entertainment_&_media  \\\n",
       "0  Bluetooth,Hands-free equipment,On-board comput...   \n",
       "1  Bluetooth,Hands-free equipment,On-board comput...   \n",
       "2                              MP3,On-board computer   \n",
       "3  Bluetooth,CD player,Hands-free equipment,MP3,O...   \n",
       "4  Bluetooth,CD player,Hands-free equipment,MP3,O...   \n",
       "\n",
       "                                              extras  \\\n",
       "0     Alloy wheels,Catalytic Converter,Voice Control   \n",
       "1  Alloy wheels,Sport seats,Sport suspension,Voic...   \n",
       "2                         Alloy wheels,Voice Control   \n",
       "3             Alloy wheels,Sport seats,Voice Control   \n",
       "4  Alloy wheels,Sport package,Sport suspension,Vo...   \n",
       "\n",
       "                                   safety_&_security  \\\n",
       "0  ABS,Central door lock,Daytime running lights,D...   \n",
       "1  ABS,Central door lock,Central door lock with r...   \n",
       "2  ABS,Central door lock,Daytime running lights,D...   \n",
       "3  ABS,Alarm system,Central door lock with remote...   \n",
       "4  ABS,Central door lock,Driver-side airbag,Elect...   \n",
       "\n",
       "                                         description  emission_label  gears  \\\n",
       "0  Sicherheit:, ,Deaktivierung für Beifahrer-Airb...             NaN    NaN   \n",
       "1  Langstreckenfahrzeug daher die hohe Kilometerl...           4.000  7.000   \n",
       "2  Fahrzeug-Nummer: AM-95365, ,Ehem. UPE 24.640 E...           4.000    NaN   \n",
       "3  Audi A1: ,- 1e eigenaar ,- Perfecte staat: sch...             NaN  6.000   \n",
       "4  Technik & Sicherheit:,Xenon plus,Klimaautomati...             NaN    NaN   \n",
       "\n",
       "  country_version last_service_date  availability   age  \n",
       "0             NaN               NaN           NaN 4.000  \n",
       "1             NaN               NaN           NaN 3.000  \n",
       "2             NaN               NaN           NaN 4.000  \n",
       "3             NaN               NaN           NaN 4.000  \n",
       "4         Germany               NaN           NaN 4.000  "
      ]
     },
     "execution_count": 256,
     "metadata": {},
     "output_type": "execute_result"
    }
   ],
   "source": [
    "df = df.dropna(subset=['body_type'])\n",
    "df.head()"
   ]
  },
  {
   "cell_type": "code",
   "execution_count": 257,
   "metadata": {},
   "outputs": [
    {
     "data": {
      "text/plain": [
       "(15859, 38)"
      ]
     },
     "execution_count": 257,
     "metadata": {},
     "output_type": "execute_result"
    }
   ],
   "source": [
    "df.shape"
   ]
  },
  {
   "cell_type": "markdown",
   "metadata": {},
   "source": [
    "### 15 - 'nr_of_doors' "
   ]
  },
  {
   "cell_type": "code",
   "execution_count": 258,
   "metadata": {},
   "outputs": [],
   "source": [
    "# 'nr_of_doors'  % 1 (212)      DROP ROWS!!!"
   ]
  },
  {
   "cell_type": "code",
   "execution_count": 259,
   "metadata": {},
   "outputs": [
    {
     "data": {
      "text/plain": [
       "(15859, 38)"
      ]
     },
     "execution_count": 259,
     "metadata": {},
     "output_type": "execute_result"
    }
   ],
   "source": [
    "df.shape"
   ]
  },
  {
   "cell_type": "code",
   "execution_count": 260,
   "metadata": {},
   "outputs": [],
   "source": [
    "df = df.dropna(subset=['nr_of_doors'])"
   ]
  },
  {
   "cell_type": "code",
   "execution_count": 261,
   "metadata": {},
   "outputs": [
    {
     "data": {
      "text/plain": [
       "(15648, 38)"
      ]
     },
     "execution_count": 261,
     "metadata": {},
     "output_type": "execute_result"
    }
   ],
   "source": [
    "df.shape"
   ]
  },
  {
   "cell_type": "markdown",
   "metadata": {},
   "source": [
    "### 16 - 'nr_of_seats'"
   ]
  },
  {
   "cell_type": "code",
   "execution_count": 262,
   "metadata": {},
   "outputs": [],
   "source": [
    "# 'nr_of_seats'   %6"
   ]
  },
  {
   "cell_type": "markdown",
   "metadata": {},
   "source": [
    "### 17 - 'model_code' DROPPED"
   ]
  },
  {
   "cell_type": "code",
   "execution_count": 263,
   "metadata": {},
   "outputs": [],
   "source": [
    "# 'model_code'  %69  #dropped in earlier FILE"
   ]
  },
  {
   "cell_type": "code",
   "execution_count": 264,
   "metadata": {},
   "outputs": [],
   "source": [
    "# to_drop = ['model_code']\n",
    "# df.drop(to_drop, inplace = True, axis = 1)"
   ]
  },
  {
   "cell_type": "markdown",
   "metadata": {},
   "source": [
    "### 18 - 'displacement' "
   ]
  },
  {
   "cell_type": "code",
   "execution_count": 265,
   "metadata": {},
   "outputs": [],
   "source": [
    "# 'displacement'  %3"
   ]
  },
  {
   "cell_type": "markdown",
   "metadata": {},
   "source": [
    "### 19 - 'cylinders'"
   ]
  },
  {
   "cell_type": "code",
   "execution_count": 266,
   "metadata": {},
   "outputs": [],
   "source": [
    "# 'cylinders'   %36"
   ]
  },
  {
   "cell_type": "markdown",
   "metadata": {},
   "source": [
    "### 20 - 'weight' "
   ]
  },
  {
   "cell_type": "code",
   "execution_count": 267,
   "metadata": {},
   "outputs": [],
   "source": [
    "# 'weight'   %44"
   ]
  },
  {
   "cell_type": "markdown",
   "metadata": {},
   "source": [
    "### 21 - 'drive_chain'"
   ]
  },
  {
   "cell_type": "code",
   "execution_count": 268,
   "metadata": {},
   "outputs": [],
   "source": [
    "# 'drive_chain' %43"
   ]
  },
  {
   "cell_type": "markdown",
   "metadata": {},
   "source": [
    "### 22 - 'consumption'"
   ]
  },
  {
   "cell_type": "code",
   "execution_count": 269,
   "metadata": {},
   "outputs": [],
   "source": [
    "# 'consumption'   %18"
   ]
  },
  {
   "cell_type": "code",
   "execution_count": 270,
   "metadata": {},
   "outputs": [
    {
     "data": {
      "text/plain": [
       "7.100      38\n",
       "55.000      1\n",
       "3.700     366\n",
       "6.000     278\n",
       "7.000       9\n",
       "4.900     346\n",
       "50.000      1\n",
       "3.300     306\n",
       "4.600     401\n",
       "4.200     407\n",
       "38.000      2\n",
       "33.000      1\n",
       "11.000      1\n",
       "3.200      25\n",
       "7.500       1\n",
       "3.500     288\n",
       "1.200       1\n",
       "46.000      1\n",
       "8.600       3\n",
       "4.300     295\n",
       "Name: consumption, dtype: int64"
      ]
     },
     "execution_count": 270,
     "metadata": {},
     "output_type": "execute_result"
    }
   ],
   "source": [
    "df['consumption'].value_counts().sample(20)"
   ]
  },
  {
   "cell_type": "code",
   "execution_count": 271,
   "metadata": {},
   "outputs": [],
   "source": [
    "df.loc[df['consumption'] == 50.000, 'consumption'] = 5.0\n",
    "df.loc[df['consumption'] == 33.000, 'consumption'] = 3.3\n",
    "df.loc[df['consumption'] == 46.000, 'consumption'] = 4.6\n",
    "df.loc[df['consumption'] == 55.000, 'consumption'] = 5.5\n",
    "df.loc[df['consumption'] == 32.000, 'consumption'] = 3.2\n",
    "df.loc[df['consumption'] == 54.000, 'consumption'] = 5.4\n",
    "df.loc[df['consumption'] == 43.000, 'consumption'] = 4.3\n",
    "df.loc[df['consumption'] == 40.000, 'consumption'] = 4.0\n",
    "df.loc[df['consumption'] == 38.000, 'consumption'] = 3.8"
   ]
  },
  {
   "cell_type": "markdown",
   "metadata": {},
   "source": [
    "### 23 - 'co_2_emission' "
   ]
  },
  {
   "cell_type": "code",
   "execution_count": 272,
   "metadata": {},
   "outputs": [],
   "source": [
    "# 'co_2_emission'  % 15"
   ]
  },
  {
   "cell_type": "markdown",
   "metadata": {},
   "source": [
    "### 24 - 'emission_class'"
   ]
  },
  {
   "cell_type": "code",
   "execution_count": 273,
   "metadata": {},
   "outputs": [],
   "source": [
    "# 'emission_class' %23"
   ]
  },
  {
   "cell_type": "markdown",
   "metadata": {},
   "source": [
    "### 25 - 'comfort_&_convenience' "
   ]
  },
  {
   "cell_type": "code",
   "execution_count": 274,
   "metadata": {},
   "outputs": [],
   "source": [
    "# 'comfort_&_convenience'   %6"
   ]
  },
  {
   "cell_type": "code",
   "execution_count": 275,
   "metadata": {},
   "outputs": [
    {
     "data": {
      "text/plain": [
       "0       16.000\n",
       "1        9.000\n",
       "2       13.000\n",
       "3       16.000\n",
       "4       13.000\n",
       "         ...  \n",
       "15914   20.000\n",
       "15915   23.000\n",
       "15916   24.000\n",
       "15917   10.000\n",
       "15918   11.000\n",
       "Name: number_of_comfort_convenience, Length: 15648, dtype: float64"
      ]
     },
     "execution_count": 275,
     "metadata": {},
     "output_type": "execute_result"
    }
   ],
   "source": [
    "df[\"number_of_comfort_convenience\"] = df[\"comfort_&_convenience\"].str.count(r\"\\,\")\n",
    "df[\"number_of_comfort_convenience\"] = df[\"number_of_comfort_convenience\"] +1\n",
    "df[\"number_of_comfort_convenience\"]"
   ]
  },
  {
   "cell_type": "markdown",
   "metadata": {},
   "source": [
    "### 26 - 'entertainment_&_media'"
   ]
  },
  {
   "cell_type": "code",
   "execution_count": 276,
   "metadata": {},
   "outputs": [],
   "source": [
    "# 'entertainment_&_media'  %9"
   ]
  },
  {
   "cell_type": "code",
   "execution_count": 277,
   "metadata": {},
   "outputs": [
    {
     "data": {
      "text/plain": [
       "0       4.000\n",
       "1       5.000\n",
       "2       2.000\n",
       "3       8.000\n",
       "4       7.000\n",
       "         ... \n",
       "15914   6.000\n",
       "15915   5.000\n",
       "15916   4.000\n",
       "15917   4.000\n",
       "15918   1.000\n",
       "Name: number_of_entertainment_media, Length: 15648, dtype: float64"
      ]
     },
     "execution_count": 277,
     "metadata": {},
     "output_type": "execute_result"
    }
   ],
   "source": [
    "df[\"number_of_entertainment_media\"] = df[\"entertainment_&_media\"].str.count(r\"\\,\")\n",
    "df[\"number_of_entertainment_media\"] = df[\"number_of_entertainment_media\"] +1\n",
    "df[\"number_of_entertainment_media\"]"
   ]
  },
  {
   "cell_type": "markdown",
   "metadata": {},
   "source": [
    "### 27 - 'extras' "
   ]
  },
  {
   "cell_type": "code",
   "execution_count": 278,
   "metadata": {},
   "outputs": [],
   "source": [
    "# 'extras'   %19"
   ]
  },
  {
   "cell_type": "code",
   "execution_count": 279,
   "metadata": {},
   "outputs": [
    {
     "data": {
      "text/plain": [
       "0       3.000\n",
       "1       4.000\n",
       "2       2.000\n",
       "3       3.000\n",
       "4       4.000\n",
       "         ... \n",
       "15914   2.000\n",
       "15915   3.000\n",
       "15916   1.000\n",
       "15917   2.000\n",
       "15918   2.000\n",
       "Name: number_of_extras, Length: 15648, dtype: float64"
      ]
     },
     "execution_count": 279,
     "metadata": {},
     "output_type": "execute_result"
    }
   ],
   "source": [
    "df[\"number_of_extras\"] = df[\"extras\"].str.count(r\"\\,\")\n",
    "df[\"number_of_extras\"] = df[\"number_of_extras\"] +1\n",
    "df[\"number_of_extras\"]"
   ]
  },
  {
   "cell_type": "markdown",
   "metadata": {},
   "source": [
    "### 28 - 'safety_&_security' "
   ]
  },
  {
   "cell_type": "code",
   "execution_count": 280,
   "metadata": {},
   "outputs": [],
   "source": [
    "# 'safety_&_security'  %6"
   ]
  },
  {
   "cell_type": "code",
   "execution_count": 281,
   "metadata": {},
   "outputs": [
    {
     "data": {
      "text/plain": [
       "0       14.000\n",
       "1       15.000\n",
       "2       12.000\n",
       "3       14.000\n",
       "4       13.000\n",
       "         ...  \n",
       "15914   19.000\n",
       "15915   19.000\n",
       "15916   18.000\n",
       "15917   12.000\n",
       "15918   14.000\n",
       "Name: number_of_safety_security, Length: 15648, dtype: float64"
      ]
     },
     "execution_count": 281,
     "metadata": {},
     "output_type": "execute_result"
    }
   ],
   "source": [
    "df[\"number_of_safety_security\"] = df[\"safety_&_security\"].str.count(r\"\\,\")\n",
    "df[\"number_of_safety_security\"] = df[\"number_of_safety_security\"] +1\n",
    "df[\"number_of_safety_security\"]"
   ]
  },
  {
   "cell_type": "markdown",
   "metadata": {},
   "source": [
    "### 29 - 'description' "
   ]
  },
  {
   "cell_type": "code",
   "execution_count": 282,
   "metadata": {},
   "outputs": [],
   "source": [
    "# 'description'  %4"
   ]
  },
  {
   "cell_type": "markdown",
   "metadata": {},
   "source": [
    "### 30 - 'emission_label'"
   ]
  },
  {
   "cell_type": "code",
   "execution_count": 283,
   "metadata": {},
   "outputs": [],
   "source": [
    "# 'emission_label'  %75"
   ]
  },
  {
   "cell_type": "markdown",
   "metadata": {},
   "source": [
    "### 31 - 'gears' "
   ]
  },
  {
   "cell_type": "code",
   "execution_count": 284,
   "metadata": {},
   "outputs": [],
   "source": [
    "# 'gears'  %30"
   ]
  },
  {
   "cell_type": "code",
   "execution_count": 285,
   "metadata": {},
   "outputs": [
    {
     "data": {
      "text/plain": [
       "6.000    5781\n",
       "5.000    3220\n",
       "7.000    1895\n",
       "8.000     224\n",
       "9.000       6\n",
       "1.000       2\n",
       "3.000       2\n",
       "4.000       2\n",
       "2.000       1\n",
       "Name: gears, dtype: int64"
      ]
     },
     "execution_count": 285,
     "metadata": {},
     "output_type": "execute_result"
    }
   ],
   "source": [
    "df['gears'].value_counts()"
   ]
  },
  {
   "cell_type": "code",
   "execution_count": 286,
   "metadata": {},
   "outputs": [
    {
     "data": {
      "image/png": "[encoded data removed]",
      "text/plain": [
       "<Figure size 864x432 with 1 Axes>"
      ]
     },
     "metadata": {},
     "output_type": "display_data"
    }
   ],
   "source": [
    "sns.boxplot(x=df.gears);"
   ]
  },
  {
   "cell_type": "code",
   "execution_count": 287,
   "metadata": {},
   "outputs": [
    {
     "data": {
      "text/plain": [
       "Audi A3           3064\n",
       "Audi A1           2587\n",
       "Opel Insignia     2570\n",
       "Opel Astra        2495\n",
       "Opel Corsa        2164\n",
       "Renault Clio      1780\n",
       "Renault Espace     953\n",
       "Renault Duster      34\n",
       "Audi A2              1\n",
       "Name: make_model, dtype: int64"
      ]
     },
     "execution_count": 287,
     "metadata": {},
     "output_type": "execute_result"
    }
   ],
   "source": [
    "df['make_model'].value_counts()"
   ]
  },
  {
   "cell_type": "code",
   "execution_count": 288,
   "metadata": {},
   "outputs": [
    {
     "data": {
      "text/plain": [
       "1    3064\n",
       "2    2587\n",
       "3    2570\n",
       "4    2495\n",
       "5    2164\n",
       "6    1780\n",
       "7     953\n",
       "8      34\n",
       "9       1\n",
       "Name: make_model, dtype: int64"
      ]
     },
     "execution_count": 288,
     "metadata": {},
     "output_type": "execute_result"
    }
   ],
   "source": [
    "df['make_model'].replace(to_replace=['Audi A3','Audi A1', 'Opel Insignia', \"Opel Astra\", 'Opel Corsa', 'Renault Clio', 'Renault Espace', 'Renault Duster', 'Audi A2'],value=[1,2,3,4,5,6,7,8,9], inplace=True)\n",
    "df['make_model'].value_counts()"
   ]
  },
  {
   "cell_type": "code",
   "execution_count": 289,
   "metadata": {},
   "outputs": [
    {
     "data": {
      "text/plain": [
       "15814   9.000\n",
       "15876   9.000\n",
       "15812   9.000\n",
       "15827   9.000\n",
       "15824   9.000\n",
       "         ... \n",
       "15906     NaN\n",
       "15908     NaN\n",
       "15911     NaN\n",
       "15913     NaN\n",
       "15918     NaN\n",
       "Name: gears, Length: 15648, dtype: float64"
      ]
     },
     "execution_count": 289,
     "metadata": {},
     "output_type": "execute_result"
    }
   ],
   "source": [
    "df.gears.sort_values(ascending = False) # extreme leri üstten alttan gör"
   ]
  },
  {
   "cell_type": "code",
   "execution_count": 290,
   "metadata": {},
   "outputs": [],
   "source": [
    "# def remove_outlier(df_in, col_name):\n",
    "#     q1 = df_in[col_name].quantile(0.25)\n",
    "#     q3 = df_in[col_name].quantile(0.75)\n",
    "#     iqr = q3-q1 #Interquartile range\n",
    "#     fence_low  = q1-1.5*iqr\n",
    "#     fence_high = q3+1.5*iqr\n",
    "#     df_out = df_in.loc[(df_in[col_name] > fence_low) & (df_in[col_name] < fence_high)]\n",
    "#     return df_out"
   ]
  },
  {
   "cell_type": "code",
   "execution_count": 291,
   "metadata": {},
   "outputs": [],
   "source": [
    "df.drop(df.index[df['gears'] == '9'], inplace = True)\n",
    "df.drop(df.index[df['gears'] == '8'], inplace = True)\n",
    "df.drop(df.index[df['gears'] == '4'], inplace = True)\n",
    "df.drop(df.index[df['gears'] == '3'], inplace = True)\n",
    "df.drop(df.index[df['gears'] == '2'], inplace = True)\n",
    "df.drop(df.index[df['gears'] == '1'], inplace = True)"
   ]
  },
  {
   "cell_type": "markdown",
   "metadata": {},
   "source": [
    "### 32 - 'country_version'"
   ]
  },
  {
   "cell_type": "code",
   "execution_count": 292,
   "metadata": {},
   "outputs": [],
   "source": [
    "# 'country_version'   %52"
   ]
  },
  {
   "cell_type": "code",
   "execution_count": null,
   "metadata": {},
   "outputs": [],
   "source": []
  },
  {
   "cell_type": "code",
   "execution_count": null,
   "metadata": {},
   "outputs": [],
   "source": []
  },
  {
   "cell_type": "code",
   "execution_count": null,
   "metadata": {},
   "outputs": [],
   "source": []
  },
  {
   "cell_type": "code",
   "execution_count": 293,
   "metadata": {},
   "outputs": [],
   "source": [
    "# df['inspection_new'] = df['inspection_new'].replace(to_replace='NaN', value=np.nan)"
   ]
  },
  {
   "cell_type": "markdown",
   "metadata": {},
   "source": [
    "## DROPPING few-missing-value ROWs"
   ]
  },
  {
   "cell_type": "code",
   "execution_count": 294,
   "metadata": {},
   "outputs": [],
   "source": [
    "# df = df.dropna(subset=['stop_time', 'police_department', 'driver_gender'])"
   ]
  },
  {
   "cell_type": "markdown",
   "metadata": {},
   "source": [
    "## TARIH ARALIKLARI HESAPLARI"
   ]
  },
  {
   "cell_type": "markdown",
   "metadata": {},
   "source": [
    "### Age (filling the missing values)"
   ]
  },
  {
   "cell_type": "code",
   "execution_count": 295,
   "metadata": {},
   "outputs": [
    {
     "data": {
      "text/plain": [
       "39"
      ]
     },
     "execution_count": 295,
     "metadata": {},
     "output_type": "execute_result"
    }
   ],
   "source": [
    "df['age'].isnull().sum()"
   ]
  },
  {
   "cell_type": "code",
   "execution_count": 296,
   "metadata": {},
   "outputs": [],
   "source": [
    "for group in list(df[\"make_model\"].unique()):\n",
    "    cond = df[\"make_model\"]==group\n",
    "    mode = list(df[cond][\"age\"].mode())\n",
    "    if mode != []:\n",
    "        df.loc[cond, \"age\"] = df.loc[cond, \"age\"].fillna(df[cond][\"age\"].mode()[0])\n",
    "    else:\n",
    "        df.loc[cond, \"age\"] = df.loc[cond, \"age\"].fillna(df[\"age\"].mode()[0])"
   ]
  },
  {
   "cell_type": "code",
   "execution_count": 297,
   "metadata": {},
   "outputs": [
    {
     "data": {
      "text/plain": [
       "0"
      ]
     },
     "execution_count": 297,
     "metadata": {},
     "output_type": "execute_result"
    }
   ],
   "source": [
    "df['age'].isnull().sum()"
   ]
  },
  {
   "cell_type": "markdown",
   "metadata": {},
   "source": [
    "### GOOD CODE"
   ]
  },
  {
   "cell_type": "code",
   "execution_count": 298,
   "metadata": {},
   "outputs": [],
   "source": [
    "# for group in list (df['age'].unique()):\n",
    "#     cond = df['age'] == group\n",
    "#     df.loc[cond, 'previous_owners'] = df.loc[cond, 'previous_owners'].fillna(method = \"ffill\").fillna(method=\"bfill\")\n",
    "# df['previous_owners'] = df['previou_owners'].fillna(method = \"ffill\").fillna(method = \"bfill\")\n",
    "    "
   ]
  },
  {
   "cell_type": "code",
   "execution_count": 299,
   "metadata": {},
   "outputs": [],
   "source": [
    "# for group1 in df[\"make_model\"].unique():\n",
    "#     for group2  in list(df['body_type'].unique):\n",
    "#         cond2 = (df[\"make_model\"] == group1) & (df[\"body_type\"] == group2)\n",
    "#         df.loc[cond2, \"Paint_Type\"] = df.loc[cond2, \"Paint_Type\"].fillna(method = \"ffill\").fillna(method = \"bfill\")\n",
    "        \n",
    "# for group1 in list(df[\"make_model\"].unique()):\n",
    "#     cond1 = df[\"make_model\"] == group1\n",
    "#     df.loc[cond1, \"Paint_Type\"] = df.loc[cond1, \"Paint_Type\"].fillna(method = \"\"ffill).fillna(method = \"bfill\")\n",
    "    \n",
    "# df[\"Paint_Type\"] = df[\"Paint_Type\"].fillna(method = \"\"ffill).fillna(method = \"bfill\")"
   ]
  },
  {
   "cell_type": "code",
   "execution_count": 300,
   "metadata": {},
   "outputs": [],
   "source": [
    "# df['comfort_&_convenience'].explode()   #liste içinde değilse istendiği gibi göstermiyor\n",
    "# df['comfort_&_convenience'].apply(pd.Series)   #liste içinde değilse istendiği gibi göstermiyor"
   ]
  },
  {
   "cell_type": "code",
   "execution_count": 301,
   "metadata": {},
   "outputs": [
    {
     "name": "stdout",
     "output_type": "stream",
     "text": [
      "<class 'pandas.core.frame.DataFrame'>\n",
      "Int64Index: 15648 entries, 0 to 15918\n",
      "Data columns (total 42 columns):\n",
      " #   Column                         Non-Null Count  Dtype  \n",
      "---  ------                         --------------  -----  \n",
      " 0   make_model                     15648 non-null  int64  \n",
      " 1   body_type                      15648 non-null  object \n",
      " 2   price                          15648 non-null  int64  \n",
      " 3   vat                            11221 non-null  object \n",
      " 4   km                             15648 non-null  int64  \n",
      " 5   registration                   14086 non-null  object \n",
      " 6   prev_owner                     8949 non-null   float64\n",
      " 7   hp                             15566 non-null  float64\n",
      " 8   type                           15646 non-null  object \n",
      " 9   inspection_new                 3920 non-null   object \n",
      " 10  warranty                       4792 non-null   float64\n",
      " 11  first_registration             14086 non-null  float64\n",
      " 12  body_color                     15055 non-null  object \n",
      " 13  paint_type                     10036 non-null  object \n",
      " 14  body_color_original            11953 non-null  object \n",
      " 15  upholstery                     11338 non-null  object \n",
      " 16  nr_of_doors                    15648 non-null  float64\n",
      " 17  nr_of_seats                    14885 non-null  float64\n",
      " 18  gearing_type                   15648 non-null  object \n",
      " 19  displacement                   15310 non-null  float64\n",
      " 20  cylinders                      10187 non-null  float64\n",
      " 21  weight                         8913 non-null   float64\n",
      " 22  drive_chain                    9017 non-null   object \n",
      " 23  fuel                           15648 non-null  object \n",
      " 24  consumption                    12958 non-null  float64\n",
      " 25  co_2_emission                  13403 non-null  object \n",
      " 26  emission_class                 12228 non-null  object \n",
      " 27  comfort_&_convenience          14840 non-null  object \n",
      " 28  entertainment_&_media          14423 non-null  object \n",
      " 29  extras                         12855 non-null  object \n",
      " 30  safety_&_security              14784 non-null  object \n",
      " 31  description                    14997 non-null  object \n",
      " 32  emission_label                 3923 non-null   float64\n",
      " 33  gears                          11133 non-null  float64\n",
      " 34  country_version                7543 non-null   object \n",
      " 35  last_service_date              563 non-null    object \n",
      " 36  availability                   632 non-null    float64\n",
      " 37  age                            15648 non-null  float64\n",
      " 38  number_of_comfort_convenience  14840 non-null  float64\n",
      " 39  number_of_entertainment_media  14423 non-null  float64\n",
      " 40  number_of_extras               12855 non-null  float64\n",
      " 41  number_of_safety_security      14784 non-null  float64\n",
      "dtypes: float64(18), int64(3), object(21)\n",
      "memory usage: 5.1+ MB\n"
     ]
    }
   ],
   "source": [
    "df.info()"
   ]
  },
  {
   "cell_type": "markdown",
   "metadata": {},
   "source": [
    "# ML Missing Value Predictor"
   ]
  },
  {
   "cell_type": "markdown",
   "metadata": {},
   "source": [
    "### Seperating the Relevant Part of the DataSet"
   ]
  },
  {
   "cell_type": "code",
   "execution_count": 302,
   "metadata": {},
   "outputs": [
    {
     "data": {
      "text/html": [
       "<div>\n",
       "<style scoped>\n",
       "    .dataframe tbody tr th:only-of-type {\n",
       "        vertical-align: middle;\n",
       "    }\n",
       "\n",
       "    .dataframe tbody tr th {\n",
       "        vertical-align: top;\n",
       "    }\n",
       "\n",
       "    .dataframe thead th {\n",
       "        text-align: right;\n",
       "    }\n",
       "</style>\n",
       "<table border=\"1\" class=\"dataframe\">\n",
       "  <thead>\n",
       "    <tr style=\"text-align: right;\">\n",
       "      <th></th>\n",
       "      <th>km</th>\n",
       "      <th>age</th>\n",
       "      <th>price</th>\n",
       "      <th>make_model</th>\n",
       "      <th>age</th>\n",
       "      <th>prev_owner</th>\n",
       "    </tr>\n",
       "  </thead>\n",
       "  <tbody>\n",
       "    <tr>\n",
       "      <th>0</th>\n",
       "      <td>56013</td>\n",
       "      <td>4.000</td>\n",
       "      <td>15770</td>\n",
       "      <td>2</td>\n",
       "      <td>4.000</td>\n",
       "      <td>2.000</td>\n",
       "    </tr>\n",
       "    <tr>\n",
       "      <th>1</th>\n",
       "      <td>80000</td>\n",
       "      <td>3.000</td>\n",
       "      <td>14500</td>\n",
       "      <td>2</td>\n",
       "      <td>3.000</td>\n",
       "      <td>NaN</td>\n",
       "    </tr>\n",
       "    <tr>\n",
       "      <th>2</th>\n",
       "      <td>83450</td>\n",
       "      <td>4.000</td>\n",
       "      <td>14640</td>\n",
       "      <td>2</td>\n",
       "      <td>4.000</td>\n",
       "      <td>1.000</td>\n",
       "    </tr>\n",
       "    <tr>\n",
       "      <th>3</th>\n",
       "      <td>73000</td>\n",
       "      <td>4.000</td>\n",
       "      <td>14500</td>\n",
       "      <td>2</td>\n",
       "      <td>4.000</td>\n",
       "      <td>1.000</td>\n",
       "    </tr>\n",
       "    <tr>\n",
       "      <th>4</th>\n",
       "      <td>16200</td>\n",
       "      <td>4.000</td>\n",
       "      <td>16790</td>\n",
       "      <td>2</td>\n",
       "      <td>4.000</td>\n",
       "      <td>1.000</td>\n",
       "    </tr>\n",
       "  </tbody>\n",
       "</table>\n",
       "</div>"
      ],
      "text/plain": [
       "      km   age  price  make_model   age  prev_owner\n",
       "0  56013 4.000  15770           2 4.000       2.000\n",
       "1  80000 3.000  14500           2 3.000         NaN\n",
       "2  83450 4.000  14640           2 4.000       1.000\n",
       "3  73000 4.000  14500           2 4.000       1.000\n",
       "4  16200 4.000  16790           2 4.000       1.000"
      ]
     },
     "execution_count": 302,
     "metadata": {},
     "output_type": "execute_result"
    }
   ],
   "source": [
    "df_ML = df[['km', 'age', 'price', 'make_model', 'age', 'prev_owner']]\n",
    "df_ML.head()"
   ]
  },
  {
   "cell_type": "code",
   "execution_count": 303,
   "metadata": {},
   "outputs": [
    {
     "data": {
      "text/plain": [
       "(15648, 6)"
      ]
     },
     "execution_count": 303,
     "metadata": {},
     "output_type": "execute_result"
    }
   ],
   "source": [
    "df_ML.shape"
   ]
  },
  {
   "cell_type": "markdown",
   "metadata": {},
   "source": [
    "### Forming the Test Data"
   ]
  },
  {
   "cell_type": "code",
   "execution_count": 304,
   "metadata": {},
   "outputs": [
    {
     "data": {
      "text/plain": [
       "km               0\n",
       "age              0\n",
       "price            0\n",
       "make_model       0\n",
       "age              0\n",
       "prev_owner    6699\n",
       "dtype: int64"
      ]
     },
     "execution_count": 304,
     "metadata": {},
     "output_type": "execute_result"
    }
   ],
   "source": [
    "#Seperate the null values to form the TEST data\n",
    "df_test = df_ML[df_ML['prev_owner'].isnull()]\n",
    "df_test.isnull().sum()"
   ]
  },
  {
   "cell_type": "code",
   "execution_count": 305,
   "metadata": {},
   "outputs": [
    {
     "data": {
      "text/html": [
       "<div>\n",
       "<style scoped>\n",
       "    .dataframe tbody tr th:only-of-type {\n",
       "        vertical-align: middle;\n",
       "    }\n",
       "\n",
       "    .dataframe tbody tr th {\n",
       "        vertical-align: top;\n",
       "    }\n",
       "\n",
       "    .dataframe thead th {\n",
       "        text-align: right;\n",
       "    }\n",
       "</style>\n",
       "<table border=\"1\" class=\"dataframe\">\n",
       "  <thead>\n",
       "    <tr style=\"text-align: right;\">\n",
       "      <th></th>\n",
       "      <th>km</th>\n",
       "      <th>age</th>\n",
       "      <th>price</th>\n",
       "      <th>make_model</th>\n",
       "      <th>age</th>\n",
       "      <th>prev_owner</th>\n",
       "    </tr>\n",
       "  </thead>\n",
       "  <tbody>\n",
       "    <tr>\n",
       "      <th>1</th>\n",
       "      <td>80000</td>\n",
       "      <td>3.000</td>\n",
       "      <td>14500</td>\n",
       "      <td>2</td>\n",
       "      <td>3.000</td>\n",
       "      <td>NaN</td>\n",
       "    </tr>\n",
       "    <tr>\n",
       "      <th>9</th>\n",
       "      <td>16103</td>\n",
       "      <td>3.000</td>\n",
       "      <td>17990</td>\n",
       "      <td>2</td>\n",
       "      <td>3.000</td>\n",
       "      <td>NaN</td>\n",
       "    </tr>\n",
       "    <tr>\n",
       "      <th>10</th>\n",
       "      <td>11300</td>\n",
       "      <td>2.000</td>\n",
       "      <td>18500</td>\n",
       "      <td>2</td>\n",
       "      <td>2.000</td>\n",
       "      <td>NaN</td>\n",
       "    </tr>\n",
       "    <tr>\n",
       "      <th>13</th>\n",
       "      <td>45764</td>\n",
       "      <td>4.000</td>\n",
       "      <td>18399</td>\n",
       "      <td>2</td>\n",
       "      <td>4.000</td>\n",
       "      <td>NaN</td>\n",
       "    </tr>\n",
       "    <tr>\n",
       "      <th>16</th>\n",
       "      <td>9752</td>\n",
       "      <td>2.000</td>\n",
       "      <td>18900</td>\n",
       "      <td>2</td>\n",
       "      <td>2.000</td>\n",
       "      <td>NaN</td>\n",
       "    </tr>\n",
       "  </tbody>\n",
       "</table>\n",
       "</div>"
      ],
      "text/plain": [
       "       km   age  price  make_model   age  prev_owner\n",
       "1   80000 3.000  14500           2 3.000         NaN\n",
       "9   16103 3.000  17990           2 3.000         NaN\n",
       "10  11300 2.000  18500           2 2.000         NaN\n",
       "13  45764 4.000  18399           2 4.000         NaN\n",
       "16   9752 2.000  18900           2 2.000         NaN"
      ]
     },
     "execution_count": 305,
     "metadata": {},
     "output_type": "execute_result"
    }
   ],
   "source": [
    "df_test.head()"
   ]
  },
  {
   "cell_type": "code",
   "execution_count": 306,
   "metadata": {},
   "outputs": [
    {
     "data": {
      "text/plain": [
       "(6699, 6)"
      ]
     },
     "execution_count": 306,
     "metadata": {},
     "output_type": "execute_result"
    }
   ],
   "source": [
    "df_test.shape"
   ]
  },
  {
   "cell_type": "code",
   "execution_count": 307,
   "metadata": {},
   "outputs": [],
   "source": [
    "# Drop the null values to form train data"
   ]
  },
  {
   "cell_type": "code",
   "execution_count": 308,
   "metadata": {},
   "outputs": [],
   "source": [
    "df_train = df_ML\n",
    "df_train.dropna(inplace=True)"
   ]
  },
  {
   "cell_type": "code",
   "execution_count": 309,
   "metadata": {},
   "outputs": [
    {
     "data": {
      "text/plain": [
       "(8949, 6)"
      ]
     },
     "execution_count": 309,
     "metadata": {},
     "output_type": "execute_result"
    }
   ],
   "source": [
    "df_train.shape"
   ]
  },
  {
   "cell_type": "code",
   "execution_count": 310,
   "metadata": {},
   "outputs": [
    {
     "data": {
      "text/html": [
       "<div>\n",
       "<style scoped>\n",
       "    .dataframe tbody tr th:only-of-type {\n",
       "        vertical-align: middle;\n",
       "    }\n",
       "\n",
       "    .dataframe tbody tr th {\n",
       "        vertical-align: top;\n",
       "    }\n",
       "\n",
       "    .dataframe thead th {\n",
       "        text-align: right;\n",
       "    }\n",
       "</style>\n",
       "<table border=\"1\" class=\"dataframe\">\n",
       "  <thead>\n",
       "    <tr style=\"text-align: right;\">\n",
       "      <th></th>\n",
       "      <th>km</th>\n",
       "      <th>age</th>\n",
       "      <th>price</th>\n",
       "      <th>make_model</th>\n",
       "      <th>age</th>\n",
       "      <th>prev_owner</th>\n",
       "    </tr>\n",
       "  </thead>\n",
       "  <tbody>\n",
       "    <tr>\n",
       "      <th>0</th>\n",
       "      <td>56013</td>\n",
       "      <td>4.000</td>\n",
       "      <td>15770</td>\n",
       "      <td>2</td>\n",
       "      <td>4.000</td>\n",
       "      <td>2.000</td>\n",
       "    </tr>\n",
       "    <tr>\n",
       "      <th>2</th>\n",
       "      <td>83450</td>\n",
       "      <td>4.000</td>\n",
       "      <td>14640</td>\n",
       "      <td>2</td>\n",
       "      <td>4.000</td>\n",
       "      <td>1.000</td>\n",
       "    </tr>\n",
       "    <tr>\n",
       "      <th>3</th>\n",
       "      <td>73000</td>\n",
       "      <td>4.000</td>\n",
       "      <td>14500</td>\n",
       "      <td>2</td>\n",
       "      <td>4.000</td>\n",
       "      <td>1.000</td>\n",
       "    </tr>\n",
       "    <tr>\n",
       "      <th>4</th>\n",
       "      <td>16200</td>\n",
       "      <td>4.000</td>\n",
       "      <td>16790</td>\n",
       "      <td>2</td>\n",
       "      <td>4.000</td>\n",
       "      <td>1.000</td>\n",
       "    </tr>\n",
       "    <tr>\n",
       "      <th>5</th>\n",
       "      <td>63668</td>\n",
       "      <td>4.000</td>\n",
       "      <td>15090</td>\n",
       "      <td>2</td>\n",
       "      <td>4.000</td>\n",
       "      <td>1.000</td>\n",
       "    </tr>\n",
       "  </tbody>\n",
       "</table>\n",
       "</div>"
      ],
      "text/plain": [
       "      km   age  price  make_model   age  prev_owner\n",
       "0  56013 4.000  15770           2 4.000       2.000\n",
       "2  83450 4.000  14640           2 4.000       1.000\n",
       "3  73000 4.000  14500           2 4.000       1.000\n",
       "4  16200 4.000  16790           2 4.000       1.000\n",
       "5  63668 4.000  15090           2 4.000       1.000"
      ]
     },
     "execution_count": 310,
     "metadata": {},
     "output_type": "execute_result"
    }
   ],
   "source": [
    "df_train.head()"
   ]
  },
  {
   "cell_type": "code",
   "execution_count": 311,
   "metadata": {},
   "outputs": [
    {
     "data": {
      "text/plain": [
       "km            0\n",
       "age           0\n",
       "price         0\n",
       "make_model    0\n",
       "age           0\n",
       "prev_owner    0\n",
       "dtype: int64"
      ]
     },
     "execution_count": 311,
     "metadata": {},
     "output_type": "execute_result"
    }
   ],
   "source": [
    "df_train.isnull().sum()"
   ]
  },
  {
   "cell_type": "code",
   "execution_count": 312,
   "metadata": {},
   "outputs": [
    {
     "data": {
      "text/plain": [
       "0"
      ]
     },
     "execution_count": 312,
     "metadata": {},
     "output_type": "execute_result"
    }
   ],
   "source": [
    "# Train data has no null. Check it!\n",
    "df_train[\"prev_owner\"].isnull().sum()"
   ]
  },
  {
   "cell_type": "code",
   "execution_count": 313,
   "metadata": {},
   "outputs": [
    {
     "data": {
      "text/plain": [
       "(8949, 6)"
      ]
     },
     "execution_count": 313,
     "metadata": {},
     "output_type": "execute_result"
    }
   ],
   "source": [
    "df_train.shape"
   ]
  },
  {
   "cell_type": "markdown",
   "metadata": {},
   "source": [
    "### Defining the x_train and y_train"
   ]
  },
  {
   "cell_type": "code",
   "execution_count": 314,
   "metadata": {},
   "outputs": [
    {
     "data": {
      "text/plain": [
       "(8949,)"
      ]
     },
     "execution_count": 314,
     "metadata": {},
     "output_type": "execute_result"
    }
   ],
   "source": [
    "y_train = df_train[\"prev_owner\"]\n",
    "y_train.shape"
   ]
  },
  {
   "cell_type": "code",
   "execution_count": 315,
   "metadata": {},
   "outputs": [],
   "source": [
    "x_train = df_train.drop(\"prev_owner\", axis=1)"
   ]
  },
  {
   "cell_type": "markdown",
   "metadata": {},
   "source": [
    "### Building the model"
   ]
  },
  {
   "cell_type": "code",
   "execution_count": 316,
   "metadata": {},
   "outputs": [],
   "source": [
    "from sklearn.linear_model import LogisticRegression\n",
    "lr = LogisticRegression()"
   ]
  },
  {
   "cell_type": "code",
   "execution_count": 317,
   "metadata": {},
   "outputs": [
    {
     "data": {
      "text/plain": [
       "LogisticRegression()"
      ]
     },
     "execution_count": 317,
     "metadata": {},
     "output_type": "execute_result"
    }
   ],
   "source": [
    "# Training the model on train data set (x_train, y_train)\n",
    "lr.fit(x_train, y_train)"
   ]
  },
  {
   "cell_type": "markdown",
   "metadata": {},
   "source": [
    "### Formin the x_test"
   ]
  },
  {
   "cell_type": "code",
   "execution_count": 318,
   "metadata": {},
   "outputs": [],
   "source": [
    "# DataSet EXCEPT the df['prev_owner] (target column) with null values\n",
    "x_test = df_test.drop('prev_owner', axis=1)"
   ]
  },
  {
   "cell_type": "code",
   "execution_count": 319,
   "metadata": {},
   "outputs": [
    {
     "data": {
      "text/html": [
       "<div>\n",
       "<style scoped>\n",
       "    .dataframe tbody tr th:only-of-type {\n",
       "        vertical-align: middle;\n",
       "    }\n",
       "\n",
       "    .dataframe tbody tr th {\n",
       "        vertical-align: top;\n",
       "    }\n",
       "\n",
       "    .dataframe thead th {\n",
       "        text-align: right;\n",
       "    }\n",
       "</style>\n",
       "<table border=\"1\" class=\"dataframe\">\n",
       "  <thead>\n",
       "    <tr style=\"text-align: right;\">\n",
       "      <th></th>\n",
       "      <th>km</th>\n",
       "      <th>age</th>\n",
       "      <th>price</th>\n",
       "      <th>make_model</th>\n",
       "      <th>age</th>\n",
       "    </tr>\n",
       "  </thead>\n",
       "  <tbody>\n",
       "    <tr>\n",
       "      <th>1</th>\n",
       "      <td>80000</td>\n",
       "      <td>3.000</td>\n",
       "      <td>14500</td>\n",
       "      <td>2</td>\n",
       "      <td>3.000</td>\n",
       "    </tr>\n",
       "    <tr>\n",
       "      <th>9</th>\n",
       "      <td>16103</td>\n",
       "      <td>3.000</td>\n",
       "      <td>17990</td>\n",
       "      <td>2</td>\n",
       "      <td>3.000</td>\n",
       "    </tr>\n",
       "    <tr>\n",
       "      <th>10</th>\n",
       "      <td>11300</td>\n",
       "      <td>2.000</td>\n",
       "      <td>18500</td>\n",
       "      <td>2</td>\n",
       "      <td>2.000</td>\n",
       "    </tr>\n",
       "    <tr>\n",
       "      <th>13</th>\n",
       "      <td>45764</td>\n",
       "      <td>4.000</td>\n",
       "      <td>18399</td>\n",
       "      <td>2</td>\n",
       "      <td>4.000</td>\n",
       "    </tr>\n",
       "    <tr>\n",
       "      <th>16</th>\n",
       "      <td>9752</td>\n",
       "      <td>2.000</td>\n",
       "      <td>18900</td>\n",
       "      <td>2</td>\n",
       "      <td>2.000</td>\n",
       "    </tr>\n",
       "    <tr>\n",
       "      <th>...</th>\n",
       "      <td>...</td>\n",
       "      <td>...</td>\n",
       "      <td>...</td>\n",
       "      <td>...</td>\n",
       "      <td>...</td>\n",
       "    </tr>\n",
       "    <tr>\n",
       "      <th>15909</th>\n",
       "      <td>3500</td>\n",
       "      <td>1.000</td>\n",
       "      <td>39990</td>\n",
       "      <td>7</td>\n",
       "      <td>1.000</td>\n",
       "    </tr>\n",
       "    <tr>\n",
       "      <th>15912</th>\n",
       "      <td>0</td>\n",
       "      <td>0.000</td>\n",
       "      <td>39950</td>\n",
       "      <td>7</td>\n",
       "      <td>0.000</td>\n",
       "    </tr>\n",
       "    <tr>\n",
       "      <th>15913</th>\n",
       "      <td>1000</td>\n",
       "      <td>1.000</td>\n",
       "      <td>39950</td>\n",
       "      <td>7</td>\n",
       "      <td>1.000</td>\n",
       "    </tr>\n",
       "    <tr>\n",
       "      <th>15914</th>\n",
       "      <td>0</td>\n",
       "      <td>0.000</td>\n",
       "      <td>39950</td>\n",
       "      <td>7</td>\n",
       "      <td>0.000</td>\n",
       "    </tr>\n",
       "    <tr>\n",
       "      <th>15917</th>\n",
       "      <td>10</td>\n",
       "      <td>1.000</td>\n",
       "      <td>39700</td>\n",
       "      <td>7</td>\n",
       "      <td>1.000</td>\n",
       "    </tr>\n",
       "  </tbody>\n",
       "</table>\n",
       "<p>6699 rows × 5 columns</p>\n",
       "</div>"
      ],
      "text/plain": [
       "          km   age  price  make_model   age\n",
       "1      80000 3.000  14500           2 3.000\n",
       "9      16103 3.000  17990           2 3.000\n",
       "10     11300 2.000  18500           2 2.000\n",
       "13     45764 4.000  18399           2 4.000\n",
       "16      9752 2.000  18900           2 2.000\n",
       "...      ...   ...    ...         ...   ...\n",
       "15909   3500 1.000  39990           7 1.000\n",
       "15912      0 0.000  39950           7 0.000\n",
       "15913   1000 1.000  39950           7 1.000\n",
       "15914      0 0.000  39950           7 0.000\n",
       "15917     10 1.000  39700           7 1.000\n",
       "\n",
       "[6699 rows x 5 columns]"
      ]
     },
     "execution_count": 319,
     "metadata": {},
     "output_type": "execute_result"
    }
   ],
   "source": [
    "x_test"
   ]
  },
  {
   "cell_type": "code",
   "execution_count": 320,
   "metadata": {},
   "outputs": [
    {
     "data": {
      "text/plain": [
       "(6699, 5)"
      ]
     },
     "execution_count": 320,
     "metadata": {},
     "output_type": "execute_result"
    }
   ],
   "source": [
    "x_test.shape"
   ]
  },
  {
   "cell_type": "markdown",
   "metadata": {},
   "source": [
    "### Applying the MODEL on x_test"
   ]
  },
  {
   "cell_type": "code",
   "execution_count": 321,
   "metadata": {},
   "outputs": [],
   "source": [
    "y_pred = lr.predict(x_test)"
   ]
  },
  {
   "cell_type": "code",
   "execution_count": 322,
   "metadata": {},
   "outputs": [
    {
     "data": {
      "text/plain": [
       "array([1., 1., 1., ..., 1., 1., 1.])"
      ]
     },
     "execution_count": 322,
     "metadata": {},
     "output_type": "execute_result"
    }
   ],
   "source": [
    "y_pred"
   ]
  },
  {
   "cell_type": "code",
   "execution_count": 323,
   "metadata": {},
   "outputs": [
    {
     "data": {
      "text/plain": [
       "(6699,)"
      ]
     },
     "execution_count": 323,
     "metadata": {},
     "output_type": "execute_result"
    }
   ],
   "source": [
    "y_pred.shape"
   ]
  },
  {
   "cell_type": "markdown",
   "metadata": {},
   "source": [
    "### Replacing the Missing Values with the Predicted Values"
   ]
  },
  {
   "cell_type": "code",
   "execution_count": 324,
   "metadata": {},
   "outputs": [],
   "source": [
    "df_test.loc[df_test['prev_owner'].isnull(), 'prev_owner'] = y_pred"
   ]
  },
  {
   "cell_type": "code",
   "execution_count": 325,
   "metadata": {},
   "outputs": [
    {
     "data": {
      "text/html": [
       "<div>\n",
       "<style scoped>\n",
       "    .dataframe tbody tr th:only-of-type {\n",
       "        vertical-align: middle;\n",
       "    }\n",
       "\n",
       "    .dataframe tbody tr th {\n",
       "        vertical-align: top;\n",
       "    }\n",
       "\n",
       "    .dataframe thead th {\n",
       "        text-align: right;\n",
       "    }\n",
       "</style>\n",
       "<table border=\"1\" class=\"dataframe\">\n",
       "  <thead>\n",
       "    <tr style=\"text-align: right;\">\n",
       "      <th></th>\n",
       "      <th>km</th>\n",
       "      <th>age</th>\n",
       "      <th>price</th>\n",
       "      <th>make_model</th>\n",
       "      <th>age</th>\n",
       "      <th>prev_owner</th>\n",
       "    </tr>\n",
       "  </thead>\n",
       "  <tbody>\n",
       "    <tr>\n",
       "      <th>1</th>\n",
       "      <td>80000</td>\n",
       "      <td>3.000</td>\n",
       "      <td>14500</td>\n",
       "      <td>2</td>\n",
       "      <td>3.000</td>\n",
       "      <td>1.000</td>\n",
       "    </tr>\n",
       "    <tr>\n",
       "      <th>9</th>\n",
       "      <td>16103</td>\n",
       "      <td>3.000</td>\n",
       "      <td>17990</td>\n",
       "      <td>2</td>\n",
       "      <td>3.000</td>\n",
       "      <td>1.000</td>\n",
       "    </tr>\n",
       "    <tr>\n",
       "      <th>10</th>\n",
       "      <td>11300</td>\n",
       "      <td>2.000</td>\n",
       "      <td>18500</td>\n",
       "      <td>2</td>\n",
       "      <td>2.000</td>\n",
       "      <td>1.000</td>\n",
       "    </tr>\n",
       "    <tr>\n",
       "      <th>13</th>\n",
       "      <td>45764</td>\n",
       "      <td>4.000</td>\n",
       "      <td>18399</td>\n",
       "      <td>2</td>\n",
       "      <td>4.000</td>\n",
       "      <td>1.000</td>\n",
       "    </tr>\n",
       "    <tr>\n",
       "      <th>16</th>\n",
       "      <td>9752</td>\n",
       "      <td>2.000</td>\n",
       "      <td>18900</td>\n",
       "      <td>2</td>\n",
       "      <td>2.000</td>\n",
       "      <td>1.000</td>\n",
       "    </tr>\n",
       "    <tr>\n",
       "      <th>...</th>\n",
       "      <td>...</td>\n",
       "      <td>...</td>\n",
       "      <td>...</td>\n",
       "      <td>...</td>\n",
       "      <td>...</td>\n",
       "      <td>...</td>\n",
       "    </tr>\n",
       "    <tr>\n",
       "      <th>15909</th>\n",
       "      <td>3500</td>\n",
       "      <td>1.000</td>\n",
       "      <td>39990</td>\n",
       "      <td>7</td>\n",
       "      <td>1.000</td>\n",
       "      <td>1.000</td>\n",
       "    </tr>\n",
       "    <tr>\n",
       "      <th>15912</th>\n",
       "      <td>0</td>\n",
       "      <td>0.000</td>\n",
       "      <td>39950</td>\n",
       "      <td>7</td>\n",
       "      <td>0.000</td>\n",
       "      <td>1.000</td>\n",
       "    </tr>\n",
       "    <tr>\n",
       "      <th>15913</th>\n",
       "      <td>1000</td>\n",
       "      <td>1.000</td>\n",
       "      <td>39950</td>\n",
       "      <td>7</td>\n",
       "      <td>1.000</td>\n",
       "      <td>1.000</td>\n",
       "    </tr>\n",
       "    <tr>\n",
       "      <th>15914</th>\n",
       "      <td>0</td>\n",
       "      <td>0.000</td>\n",
       "      <td>39950</td>\n",
       "      <td>7</td>\n",
       "      <td>0.000</td>\n",
       "      <td>1.000</td>\n",
       "    </tr>\n",
       "    <tr>\n",
       "      <th>15917</th>\n",
       "      <td>10</td>\n",
       "      <td>1.000</td>\n",
       "      <td>39700</td>\n",
       "      <td>7</td>\n",
       "      <td>1.000</td>\n",
       "      <td>1.000</td>\n",
       "    </tr>\n",
       "  </tbody>\n",
       "</table>\n",
       "<p>6699 rows × 6 columns</p>\n",
       "</div>"
      ],
      "text/plain": [
       "          km   age  price  make_model   age  prev_owner\n",
       "1      80000 3.000  14500           2 3.000       1.000\n",
       "9      16103 3.000  17990           2 3.000       1.000\n",
       "10     11300 2.000  18500           2 2.000       1.000\n",
       "13     45764 4.000  18399           2 4.000       1.000\n",
       "16      9752 2.000  18900           2 2.000       1.000\n",
       "...      ...   ...    ...         ...   ...         ...\n",
       "15909   3500 1.000  39990           7 1.000       1.000\n",
       "15912      0 0.000  39950           7 0.000       1.000\n",
       "15913   1000 1.000  39950           7 1.000       1.000\n",
       "15914      0 0.000  39950           7 0.000       1.000\n",
       "15917     10 1.000  39700           7 1.000       1.000\n",
       "\n",
       "[6699 rows x 6 columns]"
      ]
     },
     "execution_count": 325,
     "metadata": {},
     "output_type": "execute_result"
    }
   ],
   "source": [
    "df_test"
   ]
  },
  {
   "cell_type": "code",
   "execution_count": 326,
   "metadata": {},
   "outputs": [
    {
     "data": {
      "text/plain": [
       "1.000    6699\n",
       "Name: prev_owner, dtype: int64"
      ]
     },
     "execution_count": 326,
     "metadata": {},
     "output_type": "execute_result"
    }
   ],
   "source": [
    "df_test['prev_owner'].value_counts()"
   ]
  },
  {
   "cell_type": "markdown",
   "metadata": {},
   "source": [
    "### Combining the Filled-Null Row Indices into the None-Null Row Indices"
   ]
  },
  {
   "cell_type": "code",
   "execution_count": 327,
   "metadata": {},
   "outputs": [
    {
     "data": {
      "text/html": [
       "<div>\n",
       "<style scoped>\n",
       "    .dataframe tbody tr th:only-of-type {\n",
       "        vertical-align: middle;\n",
       "    }\n",
       "\n",
       "    .dataframe tbody tr th {\n",
       "        vertical-align: top;\n",
       "    }\n",
       "\n",
       "    .dataframe thead th {\n",
       "        text-align: right;\n",
       "    }\n",
       "</style>\n",
       "<table border=\"1\" class=\"dataframe\">\n",
       "  <thead>\n",
       "    <tr style=\"text-align: right;\">\n",
       "      <th></th>\n",
       "      <th>km</th>\n",
       "      <th>age</th>\n",
       "      <th>price</th>\n",
       "      <th>make_model</th>\n",
       "      <th>age</th>\n",
       "      <th>prev_owner</th>\n",
       "    </tr>\n",
       "  </thead>\n",
       "  <tbody>\n",
       "    <tr>\n",
       "      <th>1</th>\n",
       "      <td>80000</td>\n",
       "      <td>3.000</td>\n",
       "      <td>14500</td>\n",
       "      <td>2</td>\n",
       "      <td>3.000</td>\n",
       "      <td>1.000</td>\n",
       "    </tr>\n",
       "    <tr>\n",
       "      <th>9</th>\n",
       "      <td>16103</td>\n",
       "      <td>3.000</td>\n",
       "      <td>17990</td>\n",
       "      <td>2</td>\n",
       "      <td>3.000</td>\n",
       "      <td>1.000</td>\n",
       "    </tr>\n",
       "    <tr>\n",
       "      <th>10</th>\n",
       "      <td>11300</td>\n",
       "      <td>2.000</td>\n",
       "      <td>18500</td>\n",
       "      <td>2</td>\n",
       "      <td>2.000</td>\n",
       "      <td>1.000</td>\n",
       "    </tr>\n",
       "    <tr>\n",
       "      <th>13</th>\n",
       "      <td>45764</td>\n",
       "      <td>4.000</td>\n",
       "      <td>18399</td>\n",
       "      <td>2</td>\n",
       "      <td>4.000</td>\n",
       "      <td>1.000</td>\n",
       "    </tr>\n",
       "    <tr>\n",
       "      <th>16</th>\n",
       "      <td>9752</td>\n",
       "      <td>2.000</td>\n",
       "      <td>18900</td>\n",
       "      <td>2</td>\n",
       "      <td>2.000</td>\n",
       "      <td>1.000</td>\n",
       "    </tr>\n",
       "    <tr>\n",
       "      <th>...</th>\n",
       "      <td>...</td>\n",
       "      <td>...</td>\n",
       "      <td>...</td>\n",
       "      <td>...</td>\n",
       "      <td>...</td>\n",
       "      <td>...</td>\n",
       "    </tr>\n",
       "    <tr>\n",
       "      <th>15909</th>\n",
       "      <td>3500</td>\n",
       "      <td>1.000</td>\n",
       "      <td>39990</td>\n",
       "      <td>7</td>\n",
       "      <td>1.000</td>\n",
       "      <td>1.000</td>\n",
       "    </tr>\n",
       "    <tr>\n",
       "      <th>15912</th>\n",
       "      <td>0</td>\n",
       "      <td>0.000</td>\n",
       "      <td>39950</td>\n",
       "      <td>7</td>\n",
       "      <td>0.000</td>\n",
       "      <td>1.000</td>\n",
       "    </tr>\n",
       "    <tr>\n",
       "      <th>15913</th>\n",
       "      <td>1000</td>\n",
       "      <td>1.000</td>\n",
       "      <td>39950</td>\n",
       "      <td>7</td>\n",
       "      <td>1.000</td>\n",
       "      <td>1.000</td>\n",
       "    </tr>\n",
       "    <tr>\n",
       "      <th>15914</th>\n",
       "      <td>0</td>\n",
       "      <td>0.000</td>\n",
       "      <td>39950</td>\n",
       "      <td>7</td>\n",
       "      <td>0.000</td>\n",
       "      <td>1.000</td>\n",
       "    </tr>\n",
       "    <tr>\n",
       "      <th>15917</th>\n",
       "      <td>10</td>\n",
       "      <td>1.000</td>\n",
       "      <td>39700</td>\n",
       "      <td>7</td>\n",
       "      <td>1.000</td>\n",
       "      <td>1.000</td>\n",
       "    </tr>\n",
       "  </tbody>\n",
       "</table>\n",
       "<p>6699 rows × 6 columns</p>\n",
       "</div>"
      ],
      "text/plain": [
       "          km   age  price  make_model   age  prev_owner\n",
       "1      80000 3.000  14500           2 3.000       1.000\n",
       "9      16103 3.000  17990           2 3.000       1.000\n",
       "10     11300 2.000  18500           2 2.000       1.000\n",
       "13     45764 4.000  18399           2 4.000       1.000\n",
       "16      9752 2.000  18900           2 2.000       1.000\n",
       "...      ...   ...    ...         ...   ...         ...\n",
       "15909   3500 1.000  39990           7 1.000       1.000\n",
       "15912      0 0.000  39950           7 0.000       1.000\n",
       "15913   1000 1.000  39950           7 1.000       1.000\n",
       "15914      0 0.000  39950           7 0.000       1.000\n",
       "15917     10 1.000  39700           7 1.000       1.000\n",
       "\n",
       "[6699 rows x 6 columns]"
      ]
     },
     "execution_count": 327,
     "metadata": {},
     "output_type": "execute_result"
    }
   ],
   "source": [
    "df_test"
   ]
  },
  {
   "cell_type": "code",
   "execution_count": 328,
   "metadata": {},
   "outputs": [
    {
     "data": {
      "text/plain": [
       "0"
      ]
     },
     "execution_count": 328,
     "metadata": {},
     "output_type": "execute_result"
    }
   ],
   "source": [
    "df_test['prev_owner'].isnull().sum()"
   ]
  },
  {
   "cell_type": "code",
   "execution_count": 329,
   "metadata": {},
   "outputs": [
    {
     "data": {
      "text/html": [
       "<div>\n",
       "<style scoped>\n",
       "    .dataframe tbody tr th:only-of-type {\n",
       "        vertical-align: middle;\n",
       "    }\n",
       "\n",
       "    .dataframe tbody tr th {\n",
       "        vertical-align: top;\n",
       "    }\n",
       "\n",
       "    .dataframe thead th {\n",
       "        text-align: right;\n",
       "    }\n",
       "</style>\n",
       "<table border=\"1\" class=\"dataframe\">\n",
       "  <thead>\n",
       "    <tr style=\"text-align: right;\">\n",
       "      <th></th>\n",
       "      <th>km</th>\n",
       "      <th>age</th>\n",
       "      <th>price</th>\n",
       "      <th>make_model</th>\n",
       "      <th>age</th>\n",
       "      <th>prev_owner</th>\n",
       "    </tr>\n",
       "  </thead>\n",
       "  <tbody>\n",
       "    <tr>\n",
       "      <th>0</th>\n",
       "      <td>56013</td>\n",
       "      <td>4.000</td>\n",
       "      <td>15770</td>\n",
       "      <td>2</td>\n",
       "      <td>4.000</td>\n",
       "      <td>2.000</td>\n",
       "    </tr>\n",
       "    <tr>\n",
       "      <th>2</th>\n",
       "      <td>83450</td>\n",
       "      <td>4.000</td>\n",
       "      <td>14640</td>\n",
       "      <td>2</td>\n",
       "      <td>4.000</td>\n",
       "      <td>1.000</td>\n",
       "    </tr>\n",
       "    <tr>\n",
       "      <th>3</th>\n",
       "      <td>73000</td>\n",
       "      <td>4.000</td>\n",
       "      <td>14500</td>\n",
       "      <td>2</td>\n",
       "      <td>4.000</td>\n",
       "      <td>1.000</td>\n",
       "    </tr>\n",
       "    <tr>\n",
       "      <th>4</th>\n",
       "      <td>16200</td>\n",
       "      <td>4.000</td>\n",
       "      <td>16790</td>\n",
       "      <td>2</td>\n",
       "      <td>4.000</td>\n",
       "      <td>1.000</td>\n",
       "    </tr>\n",
       "    <tr>\n",
       "      <th>5</th>\n",
       "      <td>63668</td>\n",
       "      <td>4.000</td>\n",
       "      <td>15090</td>\n",
       "      <td>2</td>\n",
       "      <td>4.000</td>\n",
       "      <td>1.000</td>\n",
       "    </tr>\n",
       "    <tr>\n",
       "      <th>...</th>\n",
       "      <td>...</td>\n",
       "      <td>...</td>\n",
       "      <td>...</td>\n",
       "      <td>...</td>\n",
       "      <td>...</td>\n",
       "      <td>...</td>\n",
       "    </tr>\n",
       "    <tr>\n",
       "      <th>15910</th>\n",
       "      <td>8500</td>\n",
       "      <td>1.000</td>\n",
       "      <td>39980</td>\n",
       "      <td>7</td>\n",
       "      <td>1.000</td>\n",
       "      <td>1.000</td>\n",
       "    </tr>\n",
       "    <tr>\n",
       "      <th>15911</th>\n",
       "      <td>100</td>\n",
       "      <td>1.000</td>\n",
       "      <td>39980</td>\n",
       "      <td>7</td>\n",
       "      <td>1.000</td>\n",
       "      <td>1.000</td>\n",
       "    </tr>\n",
       "    <tr>\n",
       "      <th>15915</th>\n",
       "      <td>9900</td>\n",
       "      <td>1.000</td>\n",
       "      <td>39885</td>\n",
       "      <td>7</td>\n",
       "      <td>1.000</td>\n",
       "      <td>1.000</td>\n",
       "    </tr>\n",
       "    <tr>\n",
       "      <th>15916</th>\n",
       "      <td>15</td>\n",
       "      <td>1.000</td>\n",
       "      <td>39875</td>\n",
       "      <td>7</td>\n",
       "      <td>1.000</td>\n",
       "      <td>1.000</td>\n",
       "    </tr>\n",
       "    <tr>\n",
       "      <th>15918</th>\n",
       "      <td>0</td>\n",
       "      <td>1.000</td>\n",
       "      <td>40999</td>\n",
       "      <td>7</td>\n",
       "      <td>1.000</td>\n",
       "      <td>1.000</td>\n",
       "    </tr>\n",
       "  </tbody>\n",
       "</table>\n",
       "<p>8949 rows × 6 columns</p>\n",
       "</div>"
      ],
      "text/plain": [
       "          km   age  price  make_model   age  prev_owner\n",
       "0      56013 4.000  15770           2 4.000       2.000\n",
       "2      83450 4.000  14640           2 4.000       1.000\n",
       "3      73000 4.000  14500           2 4.000       1.000\n",
       "4      16200 4.000  16790           2 4.000       1.000\n",
       "5      63668 4.000  15090           2 4.000       1.000\n",
       "...      ...   ...    ...         ...   ...         ...\n",
       "15910   8500 1.000  39980           7 1.000       1.000\n",
       "15911    100 1.000  39980           7 1.000       1.000\n",
       "15915   9900 1.000  39885           7 1.000       1.000\n",
       "15916     15 1.000  39875           7 1.000       1.000\n",
       "15918      0 1.000  40999           7 1.000       1.000\n",
       "\n",
       "[8949 rows x 6 columns]"
      ]
     },
     "execution_count": 329,
     "metadata": {},
     "output_type": "execute_result"
    }
   ],
   "source": [
    "df_train"
   ]
  },
  {
   "cell_type": "code",
   "execution_count": 330,
   "metadata": {},
   "outputs": [
    {
     "data": {
      "text/plain": [
       "0"
      ]
     },
     "execution_count": 330,
     "metadata": {},
     "output_type": "execute_result"
    }
   ],
   "source": [
    "df_train['prev_owner'].isnull().sum()"
   ]
  },
  {
   "cell_type": "code",
   "execution_count": 331,
   "metadata": {},
   "outputs": [
    {
     "data": {
      "text/html": [
       "<div>\n",
       "<style scoped>\n",
       "    .dataframe tbody tr th:only-of-type {\n",
       "        vertical-align: middle;\n",
       "    }\n",
       "\n",
       "    .dataframe tbody tr th {\n",
       "        vertical-align: top;\n",
       "    }\n",
       "\n",
       "    .dataframe thead th {\n",
       "        text-align: right;\n",
       "    }\n",
       "</style>\n",
       "<table border=\"1\" class=\"dataframe\">\n",
       "  <thead>\n",
       "    <tr style=\"text-align: right;\">\n",
       "      <th></th>\n",
       "      <th>km</th>\n",
       "      <th>age</th>\n",
       "      <th>price</th>\n",
       "      <th>make_model</th>\n",
       "      <th>age</th>\n",
       "      <th>prev_owner</th>\n",
       "    </tr>\n",
       "  </thead>\n",
       "  <tbody>\n",
       "    <tr>\n",
       "      <th>0</th>\n",
       "      <td>56013</td>\n",
       "      <td>4.000</td>\n",
       "      <td>15770</td>\n",
       "      <td>2</td>\n",
       "      <td>4.000</td>\n",
       "      <td>2.000</td>\n",
       "    </tr>\n",
       "    <tr>\n",
       "      <th>2</th>\n",
       "      <td>83450</td>\n",
       "      <td>4.000</td>\n",
       "      <td>14640</td>\n",
       "      <td>2</td>\n",
       "      <td>4.000</td>\n",
       "      <td>1.000</td>\n",
       "    </tr>\n",
       "    <tr>\n",
       "      <th>3</th>\n",
       "      <td>73000</td>\n",
       "      <td>4.000</td>\n",
       "      <td>14500</td>\n",
       "      <td>2</td>\n",
       "      <td>4.000</td>\n",
       "      <td>1.000</td>\n",
       "    </tr>\n",
       "    <tr>\n",
       "      <th>4</th>\n",
       "      <td>16200</td>\n",
       "      <td>4.000</td>\n",
       "      <td>16790</td>\n",
       "      <td>2</td>\n",
       "      <td>4.000</td>\n",
       "      <td>1.000</td>\n",
       "    </tr>\n",
       "    <tr>\n",
       "      <th>5</th>\n",
       "      <td>63668</td>\n",
       "      <td>4.000</td>\n",
       "      <td>15090</td>\n",
       "      <td>2</td>\n",
       "      <td>4.000</td>\n",
       "      <td>1.000</td>\n",
       "    </tr>\n",
       "    <tr>\n",
       "      <th>...</th>\n",
       "      <td>...</td>\n",
       "      <td>...</td>\n",
       "      <td>...</td>\n",
       "      <td>...</td>\n",
       "      <td>...</td>\n",
       "      <td>...</td>\n",
       "    </tr>\n",
       "    <tr>\n",
       "      <th>15909</th>\n",
       "      <td>3500</td>\n",
       "      <td>1.000</td>\n",
       "      <td>39990</td>\n",
       "      <td>7</td>\n",
       "      <td>1.000</td>\n",
       "      <td>1.000</td>\n",
       "    </tr>\n",
       "    <tr>\n",
       "      <th>15912</th>\n",
       "      <td>0</td>\n",
       "      <td>0.000</td>\n",
       "      <td>39950</td>\n",
       "      <td>7</td>\n",
       "      <td>0.000</td>\n",
       "      <td>1.000</td>\n",
       "    </tr>\n",
       "    <tr>\n",
       "      <th>15913</th>\n",
       "      <td>1000</td>\n",
       "      <td>1.000</td>\n",
       "      <td>39950</td>\n",
       "      <td>7</td>\n",
       "      <td>1.000</td>\n",
       "      <td>1.000</td>\n",
       "    </tr>\n",
       "    <tr>\n",
       "      <th>15914</th>\n",
       "      <td>0</td>\n",
       "      <td>0.000</td>\n",
       "      <td>39950</td>\n",
       "      <td>7</td>\n",
       "      <td>0.000</td>\n",
       "      <td>1.000</td>\n",
       "    </tr>\n",
       "    <tr>\n",
       "      <th>15917</th>\n",
       "      <td>10</td>\n",
       "      <td>1.000</td>\n",
       "      <td>39700</td>\n",
       "      <td>7</td>\n",
       "      <td>1.000</td>\n",
       "      <td>1.000</td>\n",
       "    </tr>\n",
       "  </tbody>\n",
       "</table>\n",
       "<p>15648 rows × 6 columns</p>\n",
       "</div>"
      ],
      "text/plain": [
       "          km   age  price  make_model   age  prev_owner\n",
       "0      56013 4.000  15770           2 4.000       2.000\n",
       "2      83450 4.000  14640           2 4.000       1.000\n",
       "3      73000 4.000  14500           2 4.000       1.000\n",
       "4      16200 4.000  16790           2 4.000       1.000\n",
       "5      63668 4.000  15090           2 4.000       1.000\n",
       "...      ...   ...    ...         ...   ...         ...\n",
       "15909   3500 1.000  39990           7 1.000       1.000\n",
       "15912      0 0.000  39950           7 0.000       1.000\n",
       "15913   1000 1.000  39950           7 1.000       1.000\n",
       "15914      0 0.000  39950           7 0.000       1.000\n",
       "15917     10 1.000  39700           7 1.000       1.000\n",
       "\n",
       "[15648 rows x 6 columns]"
      ]
     },
     "execution_count": 331,
     "metadata": {},
     "output_type": "execute_result"
    }
   ],
   "source": [
    "# combining the df's with indices\n",
    "df_Merged = pd.concat([df_train, df_test], axis=0)\n",
    "df_Merged"
   ]
  },
  {
   "cell_type": "code",
   "execution_count": 332,
   "metadata": {},
   "outputs": [
    {
     "data": {
      "text/plain": [
       "0"
      ]
     },
     "execution_count": 332,
     "metadata": {},
     "output_type": "execute_result"
    }
   ],
   "source": [
    "df_Merged['prev_owner'].isnull().sum()"
   ]
  },
  {
   "cell_type": "code",
   "execution_count": 333,
   "metadata": {},
   "outputs": [
    {
     "data": {
      "text/html": [
       "<div>\n",
       "<style scoped>\n",
       "    .dataframe tbody tr th:only-of-type {\n",
       "        vertical-align: middle;\n",
       "    }\n",
       "\n",
       "    .dataframe tbody tr th {\n",
       "        vertical-align: top;\n",
       "    }\n",
       "\n",
       "    .dataframe thead th {\n",
       "        text-align: right;\n",
       "    }\n",
       "</style>\n",
       "<table border=\"1\" class=\"dataframe\">\n",
       "  <thead>\n",
       "    <tr style=\"text-align: right;\">\n",
       "      <th></th>\n",
       "      <th>km</th>\n",
       "      <th>age</th>\n",
       "      <th>price</th>\n",
       "      <th>make_model</th>\n",
       "      <th>age</th>\n",
       "      <th>prev_owner</th>\n",
       "    </tr>\n",
       "  </thead>\n",
       "  <tbody>\n",
       "    <tr>\n",
       "      <th>0</th>\n",
       "      <td>56013</td>\n",
       "      <td>4.000</td>\n",
       "      <td>15770</td>\n",
       "      <td>2</td>\n",
       "      <td>4.000</td>\n",
       "      <td>2.000</td>\n",
       "    </tr>\n",
       "    <tr>\n",
       "      <th>1</th>\n",
       "      <td>80000</td>\n",
       "      <td>3.000</td>\n",
       "      <td>14500</td>\n",
       "      <td>2</td>\n",
       "      <td>3.000</td>\n",
       "      <td>1.000</td>\n",
       "    </tr>\n",
       "    <tr>\n",
       "      <th>2</th>\n",
       "      <td>83450</td>\n",
       "      <td>4.000</td>\n",
       "      <td>14640</td>\n",
       "      <td>2</td>\n",
       "      <td>4.000</td>\n",
       "      <td>1.000</td>\n",
       "    </tr>\n",
       "    <tr>\n",
       "      <th>3</th>\n",
       "      <td>73000</td>\n",
       "      <td>4.000</td>\n",
       "      <td>14500</td>\n",
       "      <td>2</td>\n",
       "      <td>4.000</td>\n",
       "      <td>1.000</td>\n",
       "    </tr>\n",
       "    <tr>\n",
       "      <th>4</th>\n",
       "      <td>16200</td>\n",
       "      <td>4.000</td>\n",
       "      <td>16790</td>\n",
       "      <td>2</td>\n",
       "      <td>4.000</td>\n",
       "      <td>1.000</td>\n",
       "    </tr>\n",
       "    <tr>\n",
       "      <th>...</th>\n",
       "      <td>...</td>\n",
       "      <td>...</td>\n",
       "      <td>...</td>\n",
       "      <td>...</td>\n",
       "      <td>...</td>\n",
       "      <td>...</td>\n",
       "    </tr>\n",
       "    <tr>\n",
       "      <th>15914</th>\n",
       "      <td>0</td>\n",
       "      <td>0.000</td>\n",
       "      <td>39950</td>\n",
       "      <td>7</td>\n",
       "      <td>0.000</td>\n",
       "      <td>1.000</td>\n",
       "    </tr>\n",
       "    <tr>\n",
       "      <th>15915</th>\n",
       "      <td>9900</td>\n",
       "      <td>1.000</td>\n",
       "      <td>39885</td>\n",
       "      <td>7</td>\n",
       "      <td>1.000</td>\n",
       "      <td>1.000</td>\n",
       "    </tr>\n",
       "    <tr>\n",
       "      <th>15916</th>\n",
       "      <td>15</td>\n",
       "      <td>1.000</td>\n",
       "      <td>39875</td>\n",
       "      <td>7</td>\n",
       "      <td>1.000</td>\n",
       "      <td>1.000</td>\n",
       "    </tr>\n",
       "    <tr>\n",
       "      <th>15917</th>\n",
       "      <td>10</td>\n",
       "      <td>1.000</td>\n",
       "      <td>39700</td>\n",
       "      <td>7</td>\n",
       "      <td>1.000</td>\n",
       "      <td>1.000</td>\n",
       "    </tr>\n",
       "    <tr>\n",
       "      <th>15918</th>\n",
       "      <td>0</td>\n",
       "      <td>1.000</td>\n",
       "      <td>40999</td>\n",
       "      <td>7</td>\n",
       "      <td>1.000</td>\n",
       "      <td>1.000</td>\n",
       "    </tr>\n",
       "  </tbody>\n",
       "</table>\n",
       "<p>15648 rows × 6 columns</p>\n",
       "</div>"
      ],
      "text/plain": [
       "          km   age  price  make_model   age  prev_owner\n",
       "0      56013 4.000  15770           2 4.000       2.000\n",
       "1      80000 3.000  14500           2 3.000       1.000\n",
       "2      83450 4.000  14640           2 4.000       1.000\n",
       "3      73000 4.000  14500           2 4.000       1.000\n",
       "4      16200 4.000  16790           2 4.000       1.000\n",
       "...      ...   ...    ...         ...   ...         ...\n",
       "15914      0 0.000  39950           7 0.000       1.000\n",
       "15915   9900 1.000  39885           7 1.000       1.000\n",
       "15916     15 1.000  39875           7 1.000       1.000\n",
       "15917     10 1.000  39700           7 1.000       1.000\n",
       "15918      0 1.000  40999           7 1.000       1.000\n",
       "\n",
       "[15648 rows x 6 columns]"
      ]
     },
     "execution_count": 333,
     "metadata": {},
     "output_type": "execute_result"
    }
   ],
   "source": [
    "df_Merged.sort_index()"
   ]
  },
  {
   "cell_type": "code",
   "execution_count": 334,
   "metadata": {},
   "outputs": [
    {
     "data": {
      "text/html": [
       "<div>\n",
       "<style scoped>\n",
       "    .dataframe tbody tr th:only-of-type {\n",
       "        vertical-align: middle;\n",
       "    }\n",
       "\n",
       "    .dataframe tbody tr th {\n",
       "        vertical-align: top;\n",
       "    }\n",
       "\n",
       "    .dataframe thead th {\n",
       "        text-align: right;\n",
       "    }\n",
       "</style>\n",
       "<table border=\"1\" class=\"dataframe\">\n",
       "  <thead>\n",
       "    <tr style=\"text-align: right;\">\n",
       "      <th></th>\n",
       "      <th>make_model</th>\n",
       "      <th>body_type</th>\n",
       "      <th>price</th>\n",
       "      <th>vat</th>\n",
       "      <th>km</th>\n",
       "      <th>registration</th>\n",
       "      <th>prev_owner</th>\n",
       "      <th>hp</th>\n",
       "      <th>type</th>\n",
       "      <th>inspection_new</th>\n",
       "      <th>warranty</th>\n",
       "      <th>first_registration</th>\n",
       "      <th>body_color</th>\n",
       "      <th>paint_type</th>\n",
       "      <th>body_color_original</th>\n",
       "      <th>upholstery</th>\n",
       "      <th>nr_of_doors</th>\n",
       "      <th>nr_of_seats</th>\n",
       "      <th>gearing_type</th>\n",
       "      <th>displacement</th>\n",
       "      <th>cylinders</th>\n",
       "      <th>weight</th>\n",
       "      <th>drive_chain</th>\n",
       "      <th>fuel</th>\n",
       "      <th>consumption</th>\n",
       "      <th>co_2_emission</th>\n",
       "      <th>emission_class</th>\n",
       "      <th>comfort_&amp;_convenience</th>\n",
       "      <th>entertainment_&amp;_media</th>\n",
       "      <th>extras</th>\n",
       "      <th>safety_&amp;_security</th>\n",
       "      <th>description</th>\n",
       "      <th>emission_label</th>\n",
       "      <th>gears</th>\n",
       "      <th>country_version</th>\n",
       "      <th>last_service_date</th>\n",
       "      <th>availability</th>\n",
       "      <th>age</th>\n",
       "      <th>number_of_comfort_convenience</th>\n",
       "      <th>number_of_entertainment_media</th>\n",
       "      <th>number_of_extras</th>\n",
       "      <th>number_of_safety_security</th>\n",
       "    </tr>\n",
       "  </thead>\n",
       "  <tbody>\n",
       "    <tr>\n",
       "      <th>0</th>\n",
       "      <td>2</td>\n",
       "      <td>Sedans</td>\n",
       "      <td>15770</td>\n",
       "      <td>VAT deductible</td>\n",
       "      <td>56013</td>\n",
       "      <td>1461 days</td>\n",
       "      <td>2.000</td>\n",
       "      <td>66.000</td>\n",
       "      <td>Used</td>\n",
       "      <td>True</td>\n",
       "      <td>NaN</td>\n",
       "      <td>2016.000</td>\n",
       "      <td>Black</td>\n",
       "      <td>Metallic</td>\n",
       "      <td>Mythosschwarz</td>\n",
       "      <td>Cloth</td>\n",
       "      <td>5.000</td>\n",
       "      <td>5.000</td>\n",
       "      <td>Automatic</td>\n",
       "      <td>1422.000</td>\n",
       "      <td>3.000</td>\n",
       "      <td>1220.000</td>\n",
       "      <td>front</td>\n",
       "      <td>Benzine</td>\n",
       "      <td>3.800</td>\n",
       "      <td>99</td>\n",
       "      <td>Euro 6</td>\n",
       "      <td>Air conditioning,Armrest,Automatic climate con...</td>\n",
       "      <td>Bluetooth,Hands-free equipment,On-board comput...</td>\n",
       "      <td>Alloy wheels,Catalytic Converter,Voice Control</td>\n",
       "      <td>ABS,Central door lock,Daytime running lights,D...</td>\n",
       "      <td>Sicherheit:, ,Deaktivierung für Beifahrer-Airb...</td>\n",
       "      <td>NaN</td>\n",
       "      <td>NaN</td>\n",
       "      <td>NaN</td>\n",
       "      <td>NaN</td>\n",
       "      <td>NaN</td>\n",
       "      <td>4.000</td>\n",
       "      <td>16.000</td>\n",
       "      <td>4.000</td>\n",
       "      <td>3.000</td>\n",
       "      <td>14.000</td>\n",
       "    </tr>\n",
       "    <tr>\n",
       "      <th>1</th>\n",
       "      <td>2</td>\n",
       "      <td>Sedans</td>\n",
       "      <td>14500</td>\n",
       "      <td>Price negotiable</td>\n",
       "      <td>80000</td>\n",
       "      <td>1036 days</td>\n",
       "      <td>NaN</td>\n",
       "      <td>141.000</td>\n",
       "      <td>Used</td>\n",
       "      <td>NaN</td>\n",
       "      <td>NaN</td>\n",
       "      <td>2017.000</td>\n",
       "      <td>Red</td>\n",
       "      <td>NaN</td>\n",
       "      <td>NaN</td>\n",
       "      <td>Cloth</td>\n",
       "      <td>3.000</td>\n",
       "      <td>4.000</td>\n",
       "      <td>Automatic</td>\n",
       "      <td>1798.000</td>\n",
       "      <td>4.000</td>\n",
       "      <td>1255.000</td>\n",
       "      <td>front</td>\n",
       "      <td>Benzine</td>\n",
       "      <td>5.600</td>\n",
       "      <td>129</td>\n",
       "      <td>Euro 6</td>\n",
       "      <td>Air conditioning,Automatic climate control,Hil...</td>\n",
       "      <td>Bluetooth,Hands-free equipment,On-board comput...</td>\n",
       "      <td>Alloy wheels,Sport seats,Sport suspension,Voic...</td>\n",
       "      <td>ABS,Central door lock,Central door lock with r...</td>\n",
       "      <td>Langstreckenfahrzeug daher die hohe Kilometerl...</td>\n",
       "      <td>4.000</td>\n",
       "      <td>7.000</td>\n",
       "      <td>NaN</td>\n",
       "      <td>NaN</td>\n",
       "      <td>NaN</td>\n",
       "      <td>3.000</td>\n",
       "      <td>9.000</td>\n",
       "      <td>5.000</td>\n",
       "      <td>4.000</td>\n",
       "      <td>15.000</td>\n",
       "    </tr>\n",
       "    <tr>\n",
       "      <th>2</th>\n",
       "      <td>2</td>\n",
       "      <td>Sedans</td>\n",
       "      <td>14640</td>\n",
       "      <td>VAT deductible</td>\n",
       "      <td>83450</td>\n",
       "      <td>1430 days</td>\n",
       "      <td>1.000</td>\n",
       "      <td>85.000</td>\n",
       "      <td>Used</td>\n",
       "      <td>NaN</td>\n",
       "      <td>NaN</td>\n",
       "      <td>2016.000</td>\n",
       "      <td>Black</td>\n",
       "      <td>Metallic</td>\n",
       "      <td>mythosschwarz metallic</td>\n",
       "      <td>Cloth</td>\n",
       "      <td>4.000</td>\n",
       "      <td>4.000</td>\n",
       "      <td>Automatic</td>\n",
       "      <td>1598.000</td>\n",
       "      <td>NaN</td>\n",
       "      <td>NaN</td>\n",
       "      <td>front</td>\n",
       "      <td>Benzine</td>\n",
       "      <td>3.800</td>\n",
       "      <td>99</td>\n",
       "      <td>Euro 6</td>\n",
       "      <td>Air conditioning,Cruise control,Electrical sid...</td>\n",
       "      <td>MP3,On-board computer</td>\n",
       "      <td>Alloy wheels,Voice Control</td>\n",
       "      <td>ABS,Central door lock,Daytime running lights,D...</td>\n",
       "      <td>Fahrzeug-Nummer: AM-95365, ,Ehem. UPE 24.640 E...</td>\n",
       "      <td>4.000</td>\n",
       "      <td>NaN</td>\n",
       "      <td>NaN</td>\n",
       "      <td>NaN</td>\n",
       "      <td>NaN</td>\n",
       "      <td>4.000</td>\n",
       "      <td>13.000</td>\n",
       "      <td>2.000</td>\n",
       "      <td>2.000</td>\n",
       "      <td>12.000</td>\n",
       "    </tr>\n",
       "    <tr>\n",
       "      <th>3</th>\n",
       "      <td>2</td>\n",
       "      <td>Sedans</td>\n",
       "      <td>14500</td>\n",
       "      <td>NaN</td>\n",
       "      <td>73000</td>\n",
       "      <td>1248 days</td>\n",
       "      <td>1.000</td>\n",
       "      <td>66.000</td>\n",
       "      <td>Used</td>\n",
       "      <td>NaN</td>\n",
       "      <td>NaN</td>\n",
       "      <td>2016.000</td>\n",
       "      <td>Brown</td>\n",
       "      <td>Metallic</td>\n",
       "      <td>NaN</td>\n",
       "      <td>NaN</td>\n",
       "      <td>3.000</td>\n",
       "      <td>4.000</td>\n",
       "      <td>Automatic</td>\n",
       "      <td>1422.000</td>\n",
       "      <td>3.000</td>\n",
       "      <td>1195.000</td>\n",
       "      <td>NaN</td>\n",
       "      <td>Benzine</td>\n",
       "      <td>3.800</td>\n",
       "      <td>99</td>\n",
       "      <td>Euro 6</td>\n",
       "      <td>Air suspension,Armrest,Auxiliary heating,Elect...</td>\n",
       "      <td>Bluetooth,CD player,Hands-free equipment,MP3,O...</td>\n",
       "      <td>Alloy wheels,Sport seats,Voice Control</td>\n",
       "      <td>ABS,Alarm system,Central door lock with remote...</td>\n",
       "      <td>Audi A1: ,- 1e eigenaar ,- Perfecte staat: sch...</td>\n",
       "      <td>NaN</td>\n",
       "      <td>6.000</td>\n",
       "      <td>NaN</td>\n",
       "      <td>NaN</td>\n",
       "      <td>NaN</td>\n",
       "      <td>4.000</td>\n",
       "      <td>16.000</td>\n",
       "      <td>8.000</td>\n",
       "      <td>3.000</td>\n",
       "      <td>14.000</td>\n",
       "    </tr>\n",
       "    <tr>\n",
       "      <th>4</th>\n",
       "      <td>2</td>\n",
       "      <td>Sedans</td>\n",
       "      <td>16790</td>\n",
       "      <td>NaN</td>\n",
       "      <td>16200</td>\n",
       "      <td>1340 days</td>\n",
       "      <td>1.000</td>\n",
       "      <td>66.000</td>\n",
       "      <td>Used</td>\n",
       "      <td>True</td>\n",
       "      <td>NaN</td>\n",
       "      <td>2016.000</td>\n",
       "      <td>Black</td>\n",
       "      <td>Metallic</td>\n",
       "      <td>Mythosschwarz Metallic</td>\n",
       "      <td>Cloth</td>\n",
       "      <td>5.000</td>\n",
       "      <td>5.000</td>\n",
       "      <td>Automatic</td>\n",
       "      <td>1422.000</td>\n",
       "      <td>3.000</td>\n",
       "      <td>NaN</td>\n",
       "      <td>front</td>\n",
       "      <td>Benzine</td>\n",
       "      <td>4.100</td>\n",
       "      <td>109</td>\n",
       "      <td>Euro 6</td>\n",
       "      <td>Air conditioning,Armrest,Automatic climate con...</td>\n",
       "      <td>Bluetooth,CD player,Hands-free equipment,MP3,O...</td>\n",
       "      <td>Alloy wheels,Sport package,Sport suspension,Vo...</td>\n",
       "      <td>ABS,Central door lock,Driver-side airbag,Elect...</td>\n",
       "      <td>Technik &amp; Sicherheit:,Xenon plus,Klimaautomati...</td>\n",
       "      <td>NaN</td>\n",
       "      <td>NaN</td>\n",
       "      <td>Germany</td>\n",
       "      <td>NaN</td>\n",
       "      <td>NaN</td>\n",
       "      <td>4.000</td>\n",
       "      <td>13.000</td>\n",
       "      <td>7.000</td>\n",
       "      <td>4.000</td>\n",
       "      <td>13.000</td>\n",
       "    </tr>\n",
       "  </tbody>\n",
       "</table>\n",
       "</div>"
      ],
      "text/plain": [
       "   make_model body_type  price               vat     km registration  \\\n",
       "0           2    Sedans  15770    VAT deductible  56013    1461 days   \n",
       "1           2    Sedans  14500  Price negotiable  80000    1036 days   \n",
       "2           2    Sedans  14640    VAT deductible  83450    1430 days   \n",
       "3           2    Sedans  14500               NaN  73000    1248 days   \n",
       "4           2    Sedans  16790               NaN  16200    1340 days   \n",
       "\n",
       "   prev_owner      hp  type inspection_new  warranty  first_registration  \\\n",
       "0       2.000  66.000  Used           True       NaN            2016.000   \n",
       "1         NaN 141.000  Used            NaN       NaN            2017.000   \n",
       "2       1.000  85.000  Used            NaN       NaN            2016.000   \n",
       "3       1.000  66.000  Used            NaN       NaN            2016.000   \n",
       "4       1.000  66.000  Used           True       NaN            2016.000   \n",
       "\n",
       "  body_color paint_type     body_color_original upholstery  nr_of_doors  \\\n",
       "0      Black   Metallic           Mythosschwarz      Cloth        5.000   \n",
       "1        Red        NaN                     NaN      Cloth        3.000   \n",
       "2      Black   Metallic  mythosschwarz metallic      Cloth        4.000   \n",
       "3      Brown   Metallic                     NaN        NaN        3.000   \n",
       "4      Black   Metallic  Mythosschwarz Metallic      Cloth        5.000   \n",
       "\n",
       "   nr_of_seats gearing_type  displacement  cylinders   weight drive_chain  \\\n",
       "0        5.000    Automatic      1422.000      3.000 1220.000       front   \n",
       "1        4.000    Automatic      1798.000      4.000 1255.000       front   \n",
       "2        4.000    Automatic      1598.000        NaN      NaN       front   \n",
       "3        4.000    Automatic      1422.000      3.000 1195.000         NaN   \n",
       "4        5.000    Automatic      1422.000      3.000      NaN       front   \n",
       "\n",
       "      fuel  consumption co_2_emission emission_class  \\\n",
       "0  Benzine        3.800            99         Euro 6   \n",
       "1  Benzine        5.600           129         Euro 6   \n",
       "2  Benzine        3.800            99         Euro 6   \n",
       "3  Benzine        3.800            99         Euro 6   \n",
       "4  Benzine        4.100           109         Euro 6   \n",
       "\n",
       "                               comfort_&_convenience  \\\n",
       "0  Air conditioning,Armrest,Automatic climate con...   \n",
       "1  Air conditioning,Automatic climate control,Hil...   \n",
       "2  Air conditioning,Cruise control,Electrical sid...   \n",
       "3  Air suspension,Armrest,Auxiliary heating,Elect...   \n",
       "4  Air conditioning,Armrest,Automatic climate con...   \n",
       "\n",
       "                               entertainment_&_media  \\\n",
       "0  Bluetooth,Hands-free equipment,On-board comput...   \n",
       "1  Bluetooth,Hands-free equipment,On-board comput...   \n",
       "2                              MP3,On-board computer   \n",
       "3  Bluetooth,CD player,Hands-free equipment,MP3,O...   \n",
       "4  Bluetooth,CD player,Hands-free equipment,MP3,O...   \n",
       "\n",
       "                                              extras  \\\n",
       "0     Alloy wheels,Catalytic Converter,Voice Control   \n",
       "1  Alloy wheels,Sport seats,Sport suspension,Voic...   \n",
       "2                         Alloy wheels,Voice Control   \n",
       "3             Alloy wheels,Sport seats,Voice Control   \n",
       "4  Alloy wheels,Sport package,Sport suspension,Vo...   \n",
       "\n",
       "                                   safety_&_security  \\\n",
       "0  ABS,Central door lock,Daytime running lights,D...   \n",
       "1  ABS,Central door lock,Central door lock with r...   \n",
       "2  ABS,Central door lock,Daytime running lights,D...   \n",
       "3  ABS,Alarm system,Central door lock with remote...   \n",
       "4  ABS,Central door lock,Driver-side airbag,Elect...   \n",
       "\n",
       "                                         description  emission_label  gears  \\\n",
       "0  Sicherheit:, ,Deaktivierung für Beifahrer-Airb...             NaN    NaN   \n",
       "1  Langstreckenfahrzeug daher die hohe Kilometerl...           4.000  7.000   \n",
       "2  Fahrzeug-Nummer: AM-95365, ,Ehem. UPE 24.640 E...           4.000    NaN   \n",
       "3  Audi A1: ,- 1e eigenaar ,- Perfecte staat: sch...             NaN  6.000   \n",
       "4  Technik & Sicherheit:,Xenon plus,Klimaautomati...             NaN    NaN   \n",
       "\n",
       "  country_version last_service_date  availability   age  \\\n",
       "0             NaN               NaN           NaN 4.000   \n",
       "1             NaN               NaN           NaN 3.000   \n",
       "2             NaN               NaN           NaN 4.000   \n",
       "3             NaN               NaN           NaN 4.000   \n",
       "4         Germany               NaN           NaN 4.000   \n",
       "\n",
       "   number_of_comfort_convenience  number_of_entertainment_media  \\\n",
       "0                         16.000                          4.000   \n",
       "1                          9.000                          5.000   \n",
       "2                         13.000                          2.000   \n",
       "3                         16.000                          8.000   \n",
       "4                         13.000                          7.000   \n",
       "\n",
       "   number_of_extras  number_of_safety_security  \n",
       "0             3.000                     14.000  \n",
       "1             4.000                     15.000  \n",
       "2             2.000                     12.000  \n",
       "3             3.000                     14.000  \n",
       "4             4.000                     13.000  "
      ]
     },
     "execution_count": 334,
     "metadata": {},
     "output_type": "execute_result"
    }
   ],
   "source": [
    "df.head()"
   ]
  },
  {
   "cell_type": "code",
   "execution_count": 335,
   "metadata": {},
   "outputs": [],
   "source": [
    "df['prev_owner'] = df_Merged['prev_owner']"
   ]
  },
  {
   "cell_type": "code",
   "execution_count": 336,
   "metadata": {},
   "outputs": [
    {
     "data": {
      "text/html": [
       "<div>\n",
       "<style scoped>\n",
       "    .dataframe tbody tr th:only-of-type {\n",
       "        vertical-align: middle;\n",
       "    }\n",
       "\n",
       "    .dataframe tbody tr th {\n",
       "        vertical-align: top;\n",
       "    }\n",
       "\n",
       "    .dataframe thead th {\n",
       "        text-align: right;\n",
       "    }\n",
       "</style>\n",
       "<table border=\"1\" class=\"dataframe\">\n",
       "  <thead>\n",
       "    <tr style=\"text-align: right;\">\n",
       "      <th></th>\n",
       "      <th>make_model</th>\n",
       "      <th>body_type</th>\n",
       "      <th>price</th>\n",
       "      <th>vat</th>\n",
       "      <th>km</th>\n",
       "      <th>registration</th>\n",
       "      <th>prev_owner</th>\n",
       "      <th>hp</th>\n",
       "      <th>type</th>\n",
       "      <th>inspection_new</th>\n",
       "      <th>warranty</th>\n",
       "      <th>first_registration</th>\n",
       "      <th>body_color</th>\n",
       "      <th>paint_type</th>\n",
       "      <th>body_color_original</th>\n",
       "      <th>upholstery</th>\n",
       "      <th>nr_of_doors</th>\n",
       "      <th>nr_of_seats</th>\n",
       "      <th>gearing_type</th>\n",
       "      <th>displacement</th>\n",
       "      <th>cylinders</th>\n",
       "      <th>weight</th>\n",
       "      <th>drive_chain</th>\n",
       "      <th>fuel</th>\n",
       "      <th>consumption</th>\n",
       "      <th>co_2_emission</th>\n",
       "      <th>emission_class</th>\n",
       "      <th>comfort_&amp;_convenience</th>\n",
       "      <th>entertainment_&amp;_media</th>\n",
       "      <th>extras</th>\n",
       "      <th>safety_&amp;_security</th>\n",
       "      <th>description</th>\n",
       "      <th>emission_label</th>\n",
       "      <th>gears</th>\n",
       "      <th>country_version</th>\n",
       "      <th>last_service_date</th>\n",
       "      <th>availability</th>\n",
       "      <th>age</th>\n",
       "      <th>number_of_comfort_convenience</th>\n",
       "      <th>number_of_entertainment_media</th>\n",
       "      <th>number_of_extras</th>\n",
       "      <th>number_of_safety_security</th>\n",
       "    </tr>\n",
       "  </thead>\n",
       "  <tbody>\n",
       "    <tr>\n",
       "      <th>0</th>\n",
       "      <td>2</td>\n",
       "      <td>Sedans</td>\n",
       "      <td>15770</td>\n",
       "      <td>VAT deductible</td>\n",
       "      <td>56013</td>\n",
       "      <td>1461 days</td>\n",
       "      <td>2.000</td>\n",
       "      <td>66.000</td>\n",
       "      <td>Used</td>\n",
       "      <td>True</td>\n",
       "      <td>NaN</td>\n",
       "      <td>2016.000</td>\n",
       "      <td>Black</td>\n",
       "      <td>Metallic</td>\n",
       "      <td>Mythosschwarz</td>\n",
       "      <td>Cloth</td>\n",
       "      <td>5.000</td>\n",
       "      <td>5.000</td>\n",
       "      <td>Automatic</td>\n",
       "      <td>1422.000</td>\n",
       "      <td>3.000</td>\n",
       "      <td>1220.000</td>\n",
       "      <td>front</td>\n",
       "      <td>Benzine</td>\n",
       "      <td>3.800</td>\n",
       "      <td>99</td>\n",
       "      <td>Euro 6</td>\n",
       "      <td>Air conditioning,Armrest,Automatic climate con...</td>\n",
       "      <td>Bluetooth,Hands-free equipment,On-board comput...</td>\n",
       "      <td>Alloy wheels,Catalytic Converter,Voice Control</td>\n",
       "      <td>ABS,Central door lock,Daytime running lights,D...</td>\n",
       "      <td>Sicherheit:, ,Deaktivierung für Beifahrer-Airb...</td>\n",
       "      <td>NaN</td>\n",
       "      <td>NaN</td>\n",
       "      <td>NaN</td>\n",
       "      <td>NaN</td>\n",
       "      <td>NaN</td>\n",
       "      <td>4.000</td>\n",
       "      <td>16.000</td>\n",
       "      <td>4.000</td>\n",
       "      <td>3.000</td>\n",
       "      <td>14.000</td>\n",
       "    </tr>\n",
       "    <tr>\n",
       "      <th>1</th>\n",
       "      <td>2</td>\n",
       "      <td>Sedans</td>\n",
       "      <td>14500</td>\n",
       "      <td>Price negotiable</td>\n",
       "      <td>80000</td>\n",
       "      <td>1036 days</td>\n",
       "      <td>1.000</td>\n",
       "      <td>141.000</td>\n",
       "      <td>Used</td>\n",
       "      <td>NaN</td>\n",
       "      <td>NaN</td>\n",
       "      <td>2017.000</td>\n",
       "      <td>Red</td>\n",
       "      <td>NaN</td>\n",
       "      <td>NaN</td>\n",
       "      <td>Cloth</td>\n",
       "      <td>3.000</td>\n",
       "      <td>4.000</td>\n",
       "      <td>Automatic</td>\n",
       "      <td>1798.000</td>\n",
       "      <td>4.000</td>\n",
       "      <td>1255.000</td>\n",
       "      <td>front</td>\n",
       "      <td>Benzine</td>\n",
       "      <td>5.600</td>\n",
       "      <td>129</td>\n",
       "      <td>Euro 6</td>\n",
       "      <td>Air conditioning,Automatic climate control,Hil...</td>\n",
       "      <td>Bluetooth,Hands-free equipment,On-board comput...</td>\n",
       "      <td>Alloy wheels,Sport seats,Sport suspension,Voic...</td>\n",
       "      <td>ABS,Central door lock,Central door lock with r...</td>\n",
       "      <td>Langstreckenfahrzeug daher die hohe Kilometerl...</td>\n",
       "      <td>4.000</td>\n",
       "      <td>7.000</td>\n",
       "      <td>NaN</td>\n",
       "      <td>NaN</td>\n",
       "      <td>NaN</td>\n",
       "      <td>3.000</td>\n",
       "      <td>9.000</td>\n",
       "      <td>5.000</td>\n",
       "      <td>4.000</td>\n",
       "      <td>15.000</td>\n",
       "    </tr>\n",
       "    <tr>\n",
       "      <th>2</th>\n",
       "      <td>2</td>\n",
       "      <td>Sedans</td>\n",
       "      <td>14640</td>\n",
       "      <td>VAT deductible</td>\n",
       "      <td>83450</td>\n",
       "      <td>1430 days</td>\n",
       "      <td>1.000</td>\n",
       "      <td>85.000</td>\n",
       "      <td>Used</td>\n",
       "      <td>NaN</td>\n",
       "      <td>NaN</td>\n",
       "      <td>2016.000</td>\n",
       "      <td>Black</td>\n",
       "      <td>Metallic</td>\n",
       "      <td>mythosschwarz metallic</td>\n",
       "      <td>Cloth</td>\n",
       "      <td>4.000</td>\n",
       "      <td>4.000</td>\n",
       "      <td>Automatic</td>\n",
       "      <td>1598.000</td>\n",
       "      <td>NaN</td>\n",
       "      <td>NaN</td>\n",
       "      <td>front</td>\n",
       "      <td>Benzine</td>\n",
       "      <td>3.800</td>\n",
       "      <td>99</td>\n",
       "      <td>Euro 6</td>\n",
       "      <td>Air conditioning,Cruise control,Electrical sid...</td>\n",
       "      <td>MP3,On-board computer</td>\n",
       "      <td>Alloy wheels,Voice Control</td>\n",
       "      <td>ABS,Central door lock,Daytime running lights,D...</td>\n",
       "      <td>Fahrzeug-Nummer: AM-95365, ,Ehem. UPE 24.640 E...</td>\n",
       "      <td>4.000</td>\n",
       "      <td>NaN</td>\n",
       "      <td>NaN</td>\n",
       "      <td>NaN</td>\n",
       "      <td>NaN</td>\n",
       "      <td>4.000</td>\n",
       "      <td>13.000</td>\n",
       "      <td>2.000</td>\n",
       "      <td>2.000</td>\n",
       "      <td>12.000</td>\n",
       "    </tr>\n",
       "    <tr>\n",
       "      <th>3</th>\n",
       "      <td>2</td>\n",
       "      <td>Sedans</td>\n",
       "      <td>14500</td>\n",
       "      <td>NaN</td>\n",
       "      <td>73000</td>\n",
       "      <td>1248 days</td>\n",
       "      <td>1.000</td>\n",
       "      <td>66.000</td>\n",
       "      <td>Used</td>\n",
       "      <td>NaN</td>\n",
       "      <td>NaN</td>\n",
       "      <td>2016.000</td>\n",
       "      <td>Brown</td>\n",
       "      <td>Metallic</td>\n",
       "      <td>NaN</td>\n",
       "      <td>NaN</td>\n",
       "      <td>3.000</td>\n",
       "      <td>4.000</td>\n",
       "      <td>Automatic</td>\n",
       "      <td>1422.000</td>\n",
       "      <td>3.000</td>\n",
       "      <td>1195.000</td>\n",
       "      <td>NaN</td>\n",
       "      <td>Benzine</td>\n",
       "      <td>3.800</td>\n",
       "      <td>99</td>\n",
       "      <td>Euro 6</td>\n",
       "      <td>Air suspension,Armrest,Auxiliary heating,Elect...</td>\n",
       "      <td>Bluetooth,CD player,Hands-free equipment,MP3,O...</td>\n",
       "      <td>Alloy wheels,Sport seats,Voice Control</td>\n",
       "      <td>ABS,Alarm system,Central door lock with remote...</td>\n",
       "      <td>Audi A1: ,- 1e eigenaar ,- Perfecte staat: sch...</td>\n",
       "      <td>NaN</td>\n",
       "      <td>6.000</td>\n",
       "      <td>NaN</td>\n",
       "      <td>NaN</td>\n",
       "      <td>NaN</td>\n",
       "      <td>4.000</td>\n",
       "      <td>16.000</td>\n",
       "      <td>8.000</td>\n",
       "      <td>3.000</td>\n",
       "      <td>14.000</td>\n",
       "    </tr>\n",
       "    <tr>\n",
       "      <th>4</th>\n",
       "      <td>2</td>\n",
       "      <td>Sedans</td>\n",
       "      <td>16790</td>\n",
       "      <td>NaN</td>\n",
       "      <td>16200</td>\n",
       "      <td>1340 days</td>\n",
       "      <td>1.000</td>\n",
       "      <td>66.000</td>\n",
       "      <td>Used</td>\n",
       "      <td>True</td>\n",
       "      <td>NaN</td>\n",
       "      <td>2016.000</td>\n",
       "      <td>Black</td>\n",
       "      <td>Metallic</td>\n",
       "      <td>Mythosschwarz Metallic</td>\n",
       "      <td>Cloth</td>\n",
       "      <td>5.000</td>\n",
       "      <td>5.000</td>\n",
       "      <td>Automatic</td>\n",
       "      <td>1422.000</td>\n",
       "      <td>3.000</td>\n",
       "      <td>NaN</td>\n",
       "      <td>front</td>\n",
       "      <td>Benzine</td>\n",
       "      <td>4.100</td>\n",
       "      <td>109</td>\n",
       "      <td>Euro 6</td>\n",
       "      <td>Air conditioning,Armrest,Automatic climate con...</td>\n",
       "      <td>Bluetooth,CD player,Hands-free equipment,MP3,O...</td>\n",
       "      <td>Alloy wheels,Sport package,Sport suspension,Vo...</td>\n",
       "      <td>ABS,Central door lock,Driver-side airbag,Elect...</td>\n",
       "      <td>Technik &amp; Sicherheit:,Xenon plus,Klimaautomati...</td>\n",
       "      <td>NaN</td>\n",
       "      <td>NaN</td>\n",
       "      <td>Germany</td>\n",
       "      <td>NaN</td>\n",
       "      <td>NaN</td>\n",
       "      <td>4.000</td>\n",
       "      <td>13.000</td>\n",
       "      <td>7.000</td>\n",
       "      <td>4.000</td>\n",
       "      <td>13.000</td>\n",
       "    </tr>\n",
       "    <tr>\n",
       "      <th>5</th>\n",
       "      <td>2</td>\n",
       "      <td>Sedans</td>\n",
       "      <td>15090</td>\n",
       "      <td>NaN</td>\n",
       "      <td>63668</td>\n",
       "      <td>1430 days</td>\n",
       "      <td>1.000</td>\n",
       "      <td>85.000</td>\n",
       "      <td>Used</td>\n",
       "      <td>NaN</td>\n",
       "      <td>NaN</td>\n",
       "      <td>2016.000</td>\n",
       "      <td>White</td>\n",
       "      <td>Metallic</td>\n",
       "      <td>NaN</td>\n",
       "      <td>Part leather</td>\n",
       "      <td>4.000</td>\n",
       "      <td>5.000</td>\n",
       "      <td>Automatic</td>\n",
       "      <td>1598.000</td>\n",
       "      <td>NaN</td>\n",
       "      <td>NaN</td>\n",
       "      <td>NaN</td>\n",
       "      <td>Benzine</td>\n",
       "      <td>3.500</td>\n",
       "      <td>92</td>\n",
       "      <td>Euro 6</td>\n",
       "      <td>Air conditioning,Armrest,Automatic climate con...</td>\n",
       "      <td>Bluetooth,Hands-free equipment,On-board comput...</td>\n",
       "      <td>Alloy wheels,Sport package,Sport seats,Sport s...</td>\n",
       "      <td>ABS,Central door lock,Daytime running lights,D...</td>\n",
       "      <td>Sichern Sie sich diesen Audi A1 1.6 TDI Sport ...</td>\n",
       "      <td>4.000</td>\n",
       "      <td>NaN</td>\n",
       "      <td>Germany</td>\n",
       "      <td>NaN</td>\n",
       "      <td>NaN</td>\n",
       "      <td>4.000</td>\n",
       "      <td>17.000</td>\n",
       "      <td>6.000</td>\n",
       "      <td>4.000</td>\n",
       "      <td>14.000</td>\n",
       "    </tr>\n",
       "    <tr>\n",
       "      <th>6</th>\n",
       "      <td>2</td>\n",
       "      <td>Station wagon</td>\n",
       "      <td>16422</td>\n",
       "      <td>VAT deductible</td>\n",
       "      <td>62111</td>\n",
       "      <td>1401 days</td>\n",
       "      <td>1.000</td>\n",
       "      <td>85.000</td>\n",
       "      <td>Used</td>\n",
       "      <td>True</td>\n",
       "      <td>NaN</td>\n",
       "      <td>2016.000</td>\n",
       "      <td>White</td>\n",
       "      <td>Metallic</td>\n",
       "      <td>Gletscherweiss</td>\n",
       "      <td>Part leather</td>\n",
       "      <td>4.000</td>\n",
       "      <td>5.000</td>\n",
       "      <td>Automatic</td>\n",
       "      <td>1598.000</td>\n",
       "      <td>4.000</td>\n",
       "      <td>NaN</td>\n",
       "      <td>front</td>\n",
       "      <td>Benzine</td>\n",
       "      <td>3.700</td>\n",
       "      <td>98</td>\n",
       "      <td>Euro 6</td>\n",
       "      <td>Air conditioning,Armrest,Automatic climate con...</td>\n",
       "      <td>Bluetooth,CD player,Hands-free equipment,On-bo...</td>\n",
       "      <td>Alloy wheels,Sport package,Sport seats,Sport s...</td>\n",
       "      <td>ABS,Central door lock,Daytime running lights,D...</td>\n",
       "      <td>REDUZIERT !!!,MwSt. ausweisbar,Nettopreis: 13....</td>\n",
       "      <td>NaN</td>\n",
       "      <td>NaN</td>\n",
       "      <td>Germany</td>\n",
       "      <td>NaN</td>\n",
       "      <td>NaN</td>\n",
       "      <td>4.000</td>\n",
       "      <td>15.000</td>\n",
       "      <td>7.000</td>\n",
       "      <td>4.000</td>\n",
       "      <td>13.000</td>\n",
       "    </tr>\n",
       "    <tr>\n",
       "      <th>7</th>\n",
       "      <td>2</td>\n",
       "      <td>Compact</td>\n",
       "      <td>14480</td>\n",
       "      <td>VAT deductible</td>\n",
       "      <td>14986</td>\n",
       "      <td>1430 days</td>\n",
       "      <td>1.000</td>\n",
       "      <td>66.000</td>\n",
       "      <td>Used</td>\n",
       "      <td>True</td>\n",
       "      <td>NaN</td>\n",
       "      <td>2016.000</td>\n",
       "      <td>Red</td>\n",
       "      <td>Metallic</td>\n",
       "      <td>Misanorot Perleffekt</td>\n",
       "      <td>Cloth</td>\n",
       "      <td>5.000</td>\n",
       "      <td>5.000</td>\n",
       "      <td>Automatic</td>\n",
       "      <td>1422.000</td>\n",
       "      <td>NaN</td>\n",
       "      <td>NaN</td>\n",
       "      <td>front</td>\n",
       "      <td>Benzine</td>\n",
       "      <td>3.700</td>\n",
       "      <td>97</td>\n",
       "      <td>Euro 6</td>\n",
       "      <td>Air conditioning,Armrest,Electrical side mirro...</td>\n",
       "      <td>CD player,MP3,Radio</td>\n",
       "      <td>Alloy wheels</td>\n",
       "      <td>ABS,Central door lock,Daytime running lights,D...</td>\n",
       "      <td>Ausstattungspakete:, Ausstattungspaket: admire...</td>\n",
       "      <td>NaN</td>\n",
       "      <td>7.000</td>\n",
       "      <td>NaN</td>\n",
       "      <td>NaN</td>\n",
       "      <td>NaN</td>\n",
       "      <td>4.000</td>\n",
       "      <td>10.000</td>\n",
       "      <td>3.000</td>\n",
       "      <td>1.000</td>\n",
       "      <td>12.000</td>\n",
       "    </tr>\n",
       "    <tr>\n",
       "      <th>8</th>\n",
       "      <td>2</td>\n",
       "      <td>Sedans</td>\n",
       "      <td>16700</td>\n",
       "      <td>NaN</td>\n",
       "      <td>57000</td>\n",
       "      <td>1430 days</td>\n",
       "      <td>1.000</td>\n",
       "      <td>85.000</td>\n",
       "      <td>Used</td>\n",
       "      <td>NaN</td>\n",
       "      <td>12.000</td>\n",
       "      <td>2016.000</td>\n",
       "      <td>Grey</td>\n",
       "      <td>Metallic</td>\n",
       "      <td>Grigio</td>\n",
       "      <td>Cloth</td>\n",
       "      <td>5.000</td>\n",
       "      <td>4.000</td>\n",
       "      <td>Automatic</td>\n",
       "      <td>1598.000</td>\n",
       "      <td>4.000</td>\n",
       "      <td>1275.000</td>\n",
       "      <td>front</td>\n",
       "      <td>Benzine</td>\n",
       "      <td>3.700</td>\n",
       "      <td>97</td>\n",
       "      <td>Euro 6</td>\n",
       "      <td>Air conditioning,Power windows</td>\n",
       "      <td>Radio</td>\n",
       "      <td>Alloy wheels</td>\n",
       "      <td>ABS,Central door lock,Driver-side airbag,Elect...</td>\n",
       "      <td>Auto in ottime condizioni. Unico proprietario ...</td>\n",
       "      <td>NaN</td>\n",
       "      <td>7.000</td>\n",
       "      <td>NaN</td>\n",
       "      <td>NaN</td>\n",
       "      <td>NaN</td>\n",
       "      <td>4.000</td>\n",
       "      <td>2.000</td>\n",
       "      <td>1.000</td>\n",
       "      <td>1.000</td>\n",
       "      <td>9.000</td>\n",
       "    </tr>\n",
       "    <tr>\n",
       "      <th>9</th>\n",
       "      <td>2</td>\n",
       "      <td>Sedans</td>\n",
       "      <td>17990</td>\n",
       "      <td>NaN</td>\n",
       "      <td>16103</td>\n",
       "      <td>944 days</td>\n",
       "      <td>1.000</td>\n",
       "      <td>70.000</td>\n",
       "      <td>Used</td>\n",
       "      <td>NaN</td>\n",
       "      <td>3.000</td>\n",
       "      <td>2017.000</td>\n",
       "      <td>White</td>\n",
       "      <td>NaN</td>\n",
       "      <td>Blanc</td>\n",
       "      <td>NaN</td>\n",
       "      <td>5.000</td>\n",
       "      <td>4.000</td>\n",
       "      <td>Automatic</td>\n",
       "      <td>999.000</td>\n",
       "      <td>NaN</td>\n",
       "      <td>NaN</td>\n",
       "      <td>NaN</td>\n",
       "      <td>Benzine</td>\n",
       "      <td>NaN</td>\n",
       "      <td>NaN</td>\n",
       "      <td>NaN</td>\n",
       "      <td>NaN</td>\n",
       "      <td>NaN</td>\n",
       "      <td>NaN</td>\n",
       "      <td>NaN</td>\n",
       "      <td>Clim automatique,Ecran multifonction couleur,C...</td>\n",
       "      <td>NaN</td>\n",
       "      <td>7.000</td>\n",
       "      <td>NaN</td>\n",
       "      <td>NaN</td>\n",
       "      <td>NaN</td>\n",
       "      <td>3.000</td>\n",
       "      <td>NaN</td>\n",
       "      <td>NaN</td>\n",
       "      <td>NaN</td>\n",
       "      <td>NaN</td>\n",
       "    </tr>\n",
       "  </tbody>\n",
       "</table>\n",
       "</div>"
      ],
      "text/plain": [
       "   make_model      body_type  price               vat     km registration  \\\n",
       "0           2         Sedans  15770    VAT deductible  56013    1461 days   \n",
       "1           2         Sedans  14500  Price negotiable  80000    1036 days   \n",
       "2           2         Sedans  14640    VAT deductible  83450    1430 days   \n",
       "3           2         Sedans  14500               NaN  73000    1248 days   \n",
       "4           2         Sedans  16790               NaN  16200    1340 days   \n",
       "5           2         Sedans  15090               NaN  63668    1430 days   \n",
       "6           2  Station wagon  16422    VAT deductible  62111    1401 days   \n",
       "7           2        Compact  14480    VAT deductible  14986    1430 days   \n",
       "8           2         Sedans  16700               NaN  57000    1430 days   \n",
       "9           2         Sedans  17990               NaN  16103     944 days   \n",
       "\n",
       "   prev_owner      hp  type inspection_new  warranty  first_registration  \\\n",
       "0       2.000  66.000  Used           True       NaN            2016.000   \n",
       "1       1.000 141.000  Used            NaN       NaN            2017.000   \n",
       "2       1.000  85.000  Used            NaN       NaN            2016.000   \n",
       "3       1.000  66.000  Used            NaN       NaN            2016.000   \n",
       "4       1.000  66.000  Used           True       NaN            2016.000   \n",
       "5       1.000  85.000  Used            NaN       NaN            2016.000   \n",
       "6       1.000  85.000  Used           True       NaN            2016.000   \n",
       "7       1.000  66.000  Used           True       NaN            2016.000   \n",
       "8       1.000  85.000  Used            NaN    12.000            2016.000   \n",
       "9       1.000  70.000  Used            NaN     3.000            2017.000   \n",
       "\n",
       "  body_color paint_type     body_color_original    upholstery  nr_of_doors  \\\n",
       "0      Black   Metallic           Mythosschwarz         Cloth        5.000   \n",
       "1        Red        NaN                     NaN         Cloth        3.000   \n",
       "2      Black   Metallic  mythosschwarz metallic         Cloth        4.000   \n",
       "3      Brown   Metallic                     NaN           NaN        3.000   \n",
       "4      Black   Metallic  Mythosschwarz Metallic         Cloth        5.000   \n",
       "5      White   Metallic                     NaN  Part leather        4.000   \n",
       "6      White   Metallic          Gletscherweiss  Part leather        4.000   \n",
       "7        Red   Metallic    Misanorot Perleffekt         Cloth        5.000   \n",
       "8       Grey   Metallic                  Grigio         Cloth        5.000   \n",
       "9      White        NaN                   Blanc           NaN        5.000   \n",
       "\n",
       "   nr_of_seats gearing_type  displacement  cylinders   weight drive_chain  \\\n",
       "0        5.000    Automatic      1422.000      3.000 1220.000       front   \n",
       "1        4.000    Automatic      1798.000      4.000 1255.000       front   \n",
       "2        4.000    Automatic      1598.000        NaN      NaN       front   \n",
       "3        4.000    Automatic      1422.000      3.000 1195.000         NaN   \n",
       "4        5.000    Automatic      1422.000      3.000      NaN       front   \n",
       "5        5.000    Automatic      1598.000        NaN      NaN         NaN   \n",
       "6        5.000    Automatic      1598.000      4.000      NaN       front   \n",
       "7        5.000    Automatic      1422.000        NaN      NaN       front   \n",
       "8        4.000    Automatic      1598.000      4.000 1275.000       front   \n",
       "9        4.000    Automatic       999.000        NaN      NaN         NaN   \n",
       "\n",
       "      fuel  consumption co_2_emission emission_class  \\\n",
       "0  Benzine        3.800            99         Euro 6   \n",
       "1  Benzine        5.600           129         Euro 6   \n",
       "2  Benzine        3.800            99         Euro 6   \n",
       "3  Benzine        3.800            99         Euro 6   \n",
       "4  Benzine        4.100           109         Euro 6   \n",
       "5  Benzine        3.500            92         Euro 6   \n",
       "6  Benzine        3.700            98         Euro 6   \n",
       "7  Benzine        3.700            97         Euro 6   \n",
       "8  Benzine        3.700            97         Euro 6   \n",
       "9  Benzine          NaN           NaN            NaN   \n",
       "\n",
       "                               comfort_&_convenience  \\\n",
       "0  Air conditioning,Armrest,Automatic climate con...   \n",
       "1  Air conditioning,Automatic climate control,Hil...   \n",
       "2  Air conditioning,Cruise control,Electrical sid...   \n",
       "3  Air suspension,Armrest,Auxiliary heating,Elect...   \n",
       "4  Air conditioning,Armrest,Automatic climate con...   \n",
       "5  Air conditioning,Armrest,Automatic climate con...   \n",
       "6  Air conditioning,Armrest,Automatic climate con...   \n",
       "7  Air conditioning,Armrest,Electrical side mirro...   \n",
       "8                     Air conditioning,Power windows   \n",
       "9                                                NaN   \n",
       "\n",
       "                               entertainment_&_media  \\\n",
       "0  Bluetooth,Hands-free equipment,On-board comput...   \n",
       "1  Bluetooth,Hands-free equipment,On-board comput...   \n",
       "2                              MP3,On-board computer   \n",
       "3  Bluetooth,CD player,Hands-free equipment,MP3,O...   \n",
       "4  Bluetooth,CD player,Hands-free equipment,MP3,O...   \n",
       "5  Bluetooth,Hands-free equipment,On-board comput...   \n",
       "6  Bluetooth,CD player,Hands-free equipment,On-bo...   \n",
       "7                                CD player,MP3,Radio   \n",
       "8                                              Radio   \n",
       "9                                                NaN   \n",
       "\n",
       "                                              extras  \\\n",
       "0     Alloy wheels,Catalytic Converter,Voice Control   \n",
       "1  Alloy wheels,Sport seats,Sport suspension,Voic...   \n",
       "2                         Alloy wheels,Voice Control   \n",
       "3             Alloy wheels,Sport seats,Voice Control   \n",
       "4  Alloy wheels,Sport package,Sport suspension,Vo...   \n",
       "5  Alloy wheels,Sport package,Sport seats,Sport s...   \n",
       "6  Alloy wheels,Sport package,Sport seats,Sport s...   \n",
       "7                                       Alloy wheels   \n",
       "8                                       Alloy wheels   \n",
       "9                                                NaN   \n",
       "\n",
       "                                   safety_&_security  \\\n",
       "0  ABS,Central door lock,Daytime running lights,D...   \n",
       "1  ABS,Central door lock,Central door lock with r...   \n",
       "2  ABS,Central door lock,Daytime running lights,D...   \n",
       "3  ABS,Alarm system,Central door lock with remote...   \n",
       "4  ABS,Central door lock,Driver-side airbag,Elect...   \n",
       "5  ABS,Central door lock,Daytime running lights,D...   \n",
       "6  ABS,Central door lock,Daytime running lights,D...   \n",
       "7  ABS,Central door lock,Daytime running lights,D...   \n",
       "8  ABS,Central door lock,Driver-side airbag,Elect...   \n",
       "9                                                NaN   \n",
       "\n",
       "                                         description  emission_label  gears  \\\n",
       "0  Sicherheit:, ,Deaktivierung für Beifahrer-Airb...             NaN    NaN   \n",
       "1  Langstreckenfahrzeug daher die hohe Kilometerl...           4.000  7.000   \n",
       "2  Fahrzeug-Nummer: AM-95365, ,Ehem. UPE 24.640 E...           4.000    NaN   \n",
       "3  Audi A1: ,- 1e eigenaar ,- Perfecte staat: sch...             NaN  6.000   \n",
       "4  Technik & Sicherheit:,Xenon plus,Klimaautomati...             NaN    NaN   \n",
       "5  Sichern Sie sich diesen Audi A1 1.6 TDI Sport ...           4.000    NaN   \n",
       "6  REDUZIERT !!!,MwSt. ausweisbar,Nettopreis: 13....             NaN    NaN   \n",
       "7  Ausstattungspakete:, Ausstattungspaket: admire...             NaN  7.000   \n",
       "8  Auto in ottime condizioni. Unico proprietario ...             NaN  7.000   \n",
       "9  Clim automatique,Ecran multifonction couleur,C...             NaN  7.000   \n",
       "\n",
       "  country_version last_service_date  availability   age  \\\n",
       "0             NaN               NaN           NaN 4.000   \n",
       "1             NaN               NaN           NaN 3.000   \n",
       "2             NaN               NaN           NaN 4.000   \n",
       "3             NaN               NaN           NaN 4.000   \n",
       "4         Germany               NaN           NaN 4.000   \n",
       "5         Germany               NaN           NaN 4.000   \n",
       "6         Germany               NaN           NaN 4.000   \n",
       "7             NaN               NaN           NaN 4.000   \n",
       "8             NaN               NaN           NaN 4.000   \n",
       "9             NaN               NaN           NaN 3.000   \n",
       "\n",
       "   number_of_comfort_convenience  number_of_entertainment_media  \\\n",
       "0                         16.000                          4.000   \n",
       "1                          9.000                          5.000   \n",
       "2                         13.000                          2.000   \n",
       "3                         16.000                          8.000   \n",
       "4                         13.000                          7.000   \n",
       "5                         17.000                          6.000   \n",
       "6                         15.000                          7.000   \n",
       "7                         10.000                          3.000   \n",
       "8                          2.000                          1.000   \n",
       "9                            NaN                            NaN   \n",
       "\n",
       "   number_of_extras  number_of_safety_security  \n",
       "0             3.000                     14.000  \n",
       "1             4.000                     15.000  \n",
       "2             2.000                     12.000  \n",
       "3             3.000                     14.000  \n",
       "4             4.000                     13.000  \n",
       "5             4.000                     14.000  \n",
       "6             4.000                     13.000  \n",
       "7             1.000                     12.000  \n",
       "8             1.000                      9.000  \n",
       "9               NaN                        NaN  "
      ]
     },
     "execution_count": 336,
     "metadata": {},
     "output_type": "execute_result"
    }
   ],
   "source": [
    "df.head(10)"
   ]
  },
  {
   "cell_type": "markdown",
   "metadata": {},
   "source": [
    "# ----------------------------------------------------------------"
   ]
  },
  {
   "cell_type": "markdown",
   "metadata": {},
   "source": [
    "# FILLING THE REST of the MISSING VALUES"
   ]
  },
  {
   "cell_type": "code",
   "execution_count": 337,
   "metadata": {},
   "outputs": [
    {
     "data": {
      "text/html": [
       "<div>\n",
       "<style scoped>\n",
       "    .dataframe tbody tr th:only-of-type {\n",
       "        vertical-align: middle;\n",
       "    }\n",
       "\n",
       "    .dataframe tbody tr th {\n",
       "        vertical-align: top;\n",
       "    }\n",
       "\n",
       "    .dataframe thead th {\n",
       "        text-align: right;\n",
       "    }\n",
       "</style>\n",
       "<table border=\"1\" class=\"dataframe\">\n",
       "  <thead>\n",
       "    <tr style=\"text-align: right;\">\n",
       "      <th></th>\n",
       "      <th>make_model</th>\n",
       "      <th>body_type</th>\n",
       "      <th>price</th>\n",
       "      <th>vat</th>\n",
       "      <th>km</th>\n",
       "      <th>registration</th>\n",
       "      <th>prev_owner</th>\n",
       "      <th>hp</th>\n",
       "      <th>type</th>\n",
       "      <th>inspection_new</th>\n",
       "      <th>warranty</th>\n",
       "      <th>first_registration</th>\n",
       "      <th>body_color</th>\n",
       "      <th>paint_type</th>\n",
       "      <th>body_color_original</th>\n",
       "      <th>upholstery</th>\n",
       "      <th>nr_of_doors</th>\n",
       "      <th>nr_of_seats</th>\n",
       "      <th>gearing_type</th>\n",
       "      <th>displacement</th>\n",
       "      <th>cylinders</th>\n",
       "      <th>weight</th>\n",
       "      <th>drive_chain</th>\n",
       "      <th>fuel</th>\n",
       "      <th>consumption</th>\n",
       "      <th>co_2_emission</th>\n",
       "      <th>emission_class</th>\n",
       "      <th>comfort_&amp;_convenience</th>\n",
       "      <th>entertainment_&amp;_media</th>\n",
       "      <th>extras</th>\n",
       "      <th>safety_&amp;_security</th>\n",
       "      <th>description</th>\n",
       "      <th>emission_label</th>\n",
       "      <th>gears</th>\n",
       "      <th>country_version</th>\n",
       "      <th>last_service_date</th>\n",
       "      <th>availability</th>\n",
       "      <th>age</th>\n",
       "      <th>number_of_comfort_convenience</th>\n",
       "      <th>number_of_entertainment_media</th>\n",
       "      <th>number_of_extras</th>\n",
       "      <th>number_of_safety_security</th>\n",
       "    </tr>\n",
       "  </thead>\n",
       "  <tbody>\n",
       "    <tr>\n",
       "      <th>0</th>\n",
       "      <td>2</td>\n",
       "      <td>Sedans</td>\n",
       "      <td>15770</td>\n",
       "      <td>VAT deductible</td>\n",
       "      <td>56013</td>\n",
       "      <td>1461 days</td>\n",
       "      <td>2.000</td>\n",
       "      <td>66.000</td>\n",
       "      <td>Used</td>\n",
       "      <td>True</td>\n",
       "      <td>NaN</td>\n",
       "      <td>2016.000</td>\n",
       "      <td>Black</td>\n",
       "      <td>Metallic</td>\n",
       "      <td>Mythosschwarz</td>\n",
       "      <td>Cloth</td>\n",
       "      <td>5.000</td>\n",
       "      <td>5.000</td>\n",
       "      <td>Automatic</td>\n",
       "      <td>1422.000</td>\n",
       "      <td>3.000</td>\n",
       "      <td>1220.000</td>\n",
       "      <td>front</td>\n",
       "      <td>Benzine</td>\n",
       "      <td>3.800</td>\n",
       "      <td>99</td>\n",
       "      <td>Euro 6</td>\n",
       "      <td>Air conditioning,Armrest,Automatic climate con...</td>\n",
       "      <td>Bluetooth,Hands-free equipment,On-board comput...</td>\n",
       "      <td>Alloy wheels,Catalytic Converter,Voice Control</td>\n",
       "      <td>ABS,Central door lock,Daytime running lights,D...</td>\n",
       "      <td>Sicherheit:, ,Deaktivierung für Beifahrer-Airb...</td>\n",
       "      <td>NaN</td>\n",
       "      <td>NaN</td>\n",
       "      <td>NaN</td>\n",
       "      <td>NaN</td>\n",
       "      <td>NaN</td>\n",
       "      <td>4.000</td>\n",
       "      <td>16.000</td>\n",
       "      <td>4.000</td>\n",
       "      <td>3.000</td>\n",
       "      <td>14.000</td>\n",
       "    </tr>\n",
       "  </tbody>\n",
       "</table>\n",
       "</div>"
      ],
      "text/plain": [
       "   make_model body_type  price             vat     km registration  \\\n",
       "0           2    Sedans  15770  VAT deductible  56013    1461 days   \n",
       "\n",
       "   prev_owner     hp  type inspection_new  warranty  first_registration  \\\n",
       "0       2.000 66.000  Used           True       NaN            2016.000   \n",
       "\n",
       "  body_color paint_type body_color_original upholstery  nr_of_doors  \\\n",
       "0      Black   Metallic       Mythosschwarz      Cloth        5.000   \n",
       "\n",
       "   nr_of_seats gearing_type  displacement  cylinders   weight drive_chain  \\\n",
       "0        5.000    Automatic      1422.000      3.000 1220.000       front   \n",
       "\n",
       "      fuel  consumption co_2_emission emission_class  \\\n",
       "0  Benzine        3.800            99         Euro 6   \n",
       "\n",
       "                               comfort_&_convenience  \\\n",
       "0  Air conditioning,Armrest,Automatic climate con...   \n",
       "\n",
       "                               entertainment_&_media  \\\n",
       "0  Bluetooth,Hands-free equipment,On-board comput...   \n",
       "\n",
       "                                           extras  \\\n",
       "0  Alloy wheels,Catalytic Converter,Voice Control   \n",
       "\n",
       "                                   safety_&_security  \\\n",
       "0  ABS,Central door lock,Daytime running lights,D...   \n",
       "\n",
       "                                         description  emission_label  gears  \\\n",
       "0  Sicherheit:, ,Deaktivierung für Beifahrer-Airb...             NaN    NaN   \n",
       "\n",
       "  country_version last_service_date  availability   age  \\\n",
       "0             NaN               NaN           NaN 4.000   \n",
       "\n",
       "   number_of_comfort_convenience  number_of_entertainment_media  \\\n",
       "0                         16.000                          4.000   \n",
       "\n",
       "   number_of_extras  number_of_safety_security  \n",
       "0             3.000                     14.000  "
      ]
     },
     "execution_count": 337,
     "metadata": {},
     "output_type": "execute_result"
    }
   ],
   "source": [
    "df.head(1)"
   ]
  },
  {
   "cell_type": "code",
   "execution_count": 338,
   "metadata": {},
   "outputs": [
    {
     "data": {
      "text/plain": [
       "Index(['make_model', 'body_type', 'price', 'vat', 'km', 'registration',\n",
       "       'prev_owner', 'hp', 'type', 'inspection_new', 'warranty',\n",
       "       'first_registration', 'body_color', 'paint_type', 'body_color_original',\n",
       "       'upholstery', 'nr_of_doors', 'nr_of_seats', 'gearing_type',\n",
       "       'displacement', 'cylinders', 'weight', 'drive_chain', 'fuel',\n",
       "       'consumption', 'co_2_emission', 'emission_class',\n",
       "       'comfort_&_convenience', 'entertainment_&_media', 'extras',\n",
       "       'safety_&_security', 'description', 'emission_label', 'gears',\n",
       "       'country_version', 'last_service_date', 'availability', 'age',\n",
       "       'number_of_comfort_convenience', 'number_of_entertainment_media',\n",
       "       'number_of_extras', 'number_of_safety_security'],\n",
       "      dtype='object')"
      ]
     },
     "execution_count": 338,
     "metadata": {},
     "output_type": "execute_result"
    }
   ],
   "source": [
    "df.columns"
   ]
  },
  {
   "cell_type": "code",
   "execution_count": 339,
   "metadata": {},
   "outputs": [
    {
     "data": {
      "text/plain": [
       "15085"
      ]
     },
     "execution_count": 339,
     "metadata": {},
     "output_type": "execute_result"
    }
   ],
   "source": [
    "df.last_service_date.isnull().sum()"
   ]
  },
  {
   "cell_type": "code",
   "execution_count": 340,
   "metadata": {},
   "outputs": [],
   "source": [
    "to_drop = ['last_service_date']\n",
    "df.drop(to_drop, inplace = True, axis = 1)"
   ]
  },
  {
   "cell_type": "code",
   "execution_count": 341,
   "metadata": {},
   "outputs": [
    {
     "data": {
      "text/html": [
       "<div>\n",
       "<style scoped>\n",
       "    .dataframe tbody tr th:only-of-type {\n",
       "        vertical-align: middle;\n",
       "    }\n",
       "\n",
       "    .dataframe tbody tr th {\n",
       "        vertical-align: top;\n",
       "    }\n",
       "\n",
       "    .dataframe thead th {\n",
       "        text-align: right;\n",
       "    }\n",
       "</style>\n",
       "<table border=\"1\" class=\"dataframe\">\n",
       "  <thead>\n",
       "    <tr style=\"text-align: right;\">\n",
       "      <th></th>\n",
       "      <th>make_model</th>\n",
       "      <th>body_type</th>\n",
       "      <th>price</th>\n",
       "      <th>vat</th>\n",
       "      <th>km</th>\n",
       "      <th>registration</th>\n",
       "      <th>prev_owner</th>\n",
       "      <th>hp</th>\n",
       "      <th>type</th>\n",
       "      <th>inspection_new</th>\n",
       "      <th>warranty</th>\n",
       "      <th>first_registration</th>\n",
       "      <th>body_color</th>\n",
       "      <th>paint_type</th>\n",
       "      <th>body_color_original</th>\n",
       "      <th>upholstery</th>\n",
       "      <th>nr_of_doors</th>\n",
       "      <th>nr_of_seats</th>\n",
       "      <th>gearing_type</th>\n",
       "      <th>displacement</th>\n",
       "      <th>cylinders</th>\n",
       "      <th>weight</th>\n",
       "      <th>drive_chain</th>\n",
       "      <th>fuel</th>\n",
       "      <th>consumption</th>\n",
       "      <th>co_2_emission</th>\n",
       "      <th>emission_class</th>\n",
       "      <th>comfort_&amp;_convenience</th>\n",
       "      <th>entertainment_&amp;_media</th>\n",
       "      <th>extras</th>\n",
       "      <th>safety_&amp;_security</th>\n",
       "      <th>description</th>\n",
       "      <th>emission_label</th>\n",
       "      <th>gears</th>\n",
       "      <th>country_version</th>\n",
       "      <th>availability</th>\n",
       "      <th>age</th>\n",
       "      <th>number_of_comfort_convenience</th>\n",
       "      <th>number_of_entertainment_media</th>\n",
       "      <th>number_of_extras</th>\n",
       "      <th>number_of_safety_security</th>\n",
       "    </tr>\n",
       "  </thead>\n",
       "  <tbody>\n",
       "    <tr>\n",
       "      <th>0</th>\n",
       "      <td>2</td>\n",
       "      <td>Sedans</td>\n",
       "      <td>15770</td>\n",
       "      <td>VAT deductible</td>\n",
       "      <td>56013</td>\n",
       "      <td>1461 days</td>\n",
       "      <td>2.000</td>\n",
       "      <td>66.000</td>\n",
       "      <td>Used</td>\n",
       "      <td>True</td>\n",
       "      <td>NaN</td>\n",
       "      <td>2016.000</td>\n",
       "      <td>Black</td>\n",
       "      <td>Metallic</td>\n",
       "      <td>Mythosschwarz</td>\n",
       "      <td>Cloth</td>\n",
       "      <td>5.000</td>\n",
       "      <td>5.000</td>\n",
       "      <td>Automatic</td>\n",
       "      <td>1422.000</td>\n",
       "      <td>3.000</td>\n",
       "      <td>1220.000</td>\n",
       "      <td>front</td>\n",
       "      <td>Benzine</td>\n",
       "      <td>3.800</td>\n",
       "      <td>99</td>\n",
       "      <td>Euro 6</td>\n",
       "      <td>Air conditioning,Armrest,Automatic climate con...</td>\n",
       "      <td>Bluetooth,Hands-free equipment,On-board comput...</td>\n",
       "      <td>Alloy wheels,Catalytic Converter,Voice Control</td>\n",
       "      <td>ABS,Central door lock,Daytime running lights,D...</td>\n",
       "      <td>Sicherheit:, ,Deaktivierung für Beifahrer-Airb...</td>\n",
       "      <td>NaN</td>\n",
       "      <td>NaN</td>\n",
       "      <td>NaN</td>\n",
       "      <td>NaN</td>\n",
       "      <td>4.000</td>\n",
       "      <td>16.000</td>\n",
       "      <td>4.000</td>\n",
       "      <td>3.000</td>\n",
       "      <td>14.000</td>\n",
       "    </tr>\n",
       "    <tr>\n",
       "      <th>1</th>\n",
       "      <td>2</td>\n",
       "      <td>Sedans</td>\n",
       "      <td>14500</td>\n",
       "      <td>Price negotiable</td>\n",
       "      <td>80000</td>\n",
       "      <td>1036 days</td>\n",
       "      <td>1.000</td>\n",
       "      <td>141.000</td>\n",
       "      <td>Used</td>\n",
       "      <td>NaN</td>\n",
       "      <td>NaN</td>\n",
       "      <td>2017.000</td>\n",
       "      <td>Red</td>\n",
       "      <td>NaN</td>\n",
       "      <td>NaN</td>\n",
       "      <td>Cloth</td>\n",
       "      <td>3.000</td>\n",
       "      <td>4.000</td>\n",
       "      <td>Automatic</td>\n",
       "      <td>1798.000</td>\n",
       "      <td>4.000</td>\n",
       "      <td>1255.000</td>\n",
       "      <td>front</td>\n",
       "      <td>Benzine</td>\n",
       "      <td>5.600</td>\n",
       "      <td>129</td>\n",
       "      <td>Euro 6</td>\n",
       "      <td>Air conditioning,Automatic climate control,Hil...</td>\n",
       "      <td>Bluetooth,Hands-free equipment,On-board comput...</td>\n",
       "      <td>Alloy wheels,Sport seats,Sport suspension,Voic...</td>\n",
       "      <td>ABS,Central door lock,Central door lock with r...</td>\n",
       "      <td>Langstreckenfahrzeug daher die hohe Kilometerl...</td>\n",
       "      <td>4.000</td>\n",
       "      <td>7.000</td>\n",
       "      <td>NaN</td>\n",
       "      <td>NaN</td>\n",
       "      <td>3.000</td>\n",
       "      <td>9.000</td>\n",
       "      <td>5.000</td>\n",
       "      <td>4.000</td>\n",
       "      <td>15.000</td>\n",
       "    </tr>\n",
       "    <tr>\n",
       "      <th>2</th>\n",
       "      <td>2</td>\n",
       "      <td>Sedans</td>\n",
       "      <td>14640</td>\n",
       "      <td>VAT deductible</td>\n",
       "      <td>83450</td>\n",
       "      <td>1430 days</td>\n",
       "      <td>1.000</td>\n",
       "      <td>85.000</td>\n",
       "      <td>Used</td>\n",
       "      <td>NaN</td>\n",
       "      <td>NaN</td>\n",
       "      <td>2016.000</td>\n",
       "      <td>Black</td>\n",
       "      <td>Metallic</td>\n",
       "      <td>mythosschwarz metallic</td>\n",
       "      <td>Cloth</td>\n",
       "      <td>4.000</td>\n",
       "      <td>4.000</td>\n",
       "      <td>Automatic</td>\n",
       "      <td>1598.000</td>\n",
       "      <td>NaN</td>\n",
       "      <td>NaN</td>\n",
       "      <td>front</td>\n",
       "      <td>Benzine</td>\n",
       "      <td>3.800</td>\n",
       "      <td>99</td>\n",
       "      <td>Euro 6</td>\n",
       "      <td>Air conditioning,Cruise control,Electrical sid...</td>\n",
       "      <td>MP3,On-board computer</td>\n",
       "      <td>Alloy wheels,Voice Control</td>\n",
       "      <td>ABS,Central door lock,Daytime running lights,D...</td>\n",
       "      <td>Fahrzeug-Nummer: AM-95365, ,Ehem. UPE 24.640 E...</td>\n",
       "      <td>4.000</td>\n",
       "      <td>NaN</td>\n",
       "      <td>NaN</td>\n",
       "      <td>NaN</td>\n",
       "      <td>4.000</td>\n",
       "      <td>13.000</td>\n",
       "      <td>2.000</td>\n",
       "      <td>2.000</td>\n",
       "      <td>12.000</td>\n",
       "    </tr>\n",
       "    <tr>\n",
       "      <th>3</th>\n",
       "      <td>2</td>\n",
       "      <td>Sedans</td>\n",
       "      <td>14500</td>\n",
       "      <td>NaN</td>\n",
       "      <td>73000</td>\n",
       "      <td>1248 days</td>\n",
       "      <td>1.000</td>\n",
       "      <td>66.000</td>\n",
       "      <td>Used</td>\n",
       "      <td>NaN</td>\n",
       "      <td>NaN</td>\n",
       "      <td>2016.000</td>\n",
       "      <td>Brown</td>\n",
       "      <td>Metallic</td>\n",
       "      <td>NaN</td>\n",
       "      <td>NaN</td>\n",
       "      <td>3.000</td>\n",
       "      <td>4.000</td>\n",
       "      <td>Automatic</td>\n",
       "      <td>1422.000</td>\n",
       "      <td>3.000</td>\n",
       "      <td>1195.000</td>\n",
       "      <td>NaN</td>\n",
       "      <td>Benzine</td>\n",
       "      <td>3.800</td>\n",
       "      <td>99</td>\n",
       "      <td>Euro 6</td>\n",
       "      <td>Air suspension,Armrest,Auxiliary heating,Elect...</td>\n",
       "      <td>Bluetooth,CD player,Hands-free equipment,MP3,O...</td>\n",
       "      <td>Alloy wheels,Sport seats,Voice Control</td>\n",
       "      <td>ABS,Alarm system,Central door lock with remote...</td>\n",
       "      <td>Audi A1: ,- 1e eigenaar ,- Perfecte staat: sch...</td>\n",
       "      <td>NaN</td>\n",
       "      <td>6.000</td>\n",
       "      <td>NaN</td>\n",
       "      <td>NaN</td>\n",
       "      <td>4.000</td>\n",
       "      <td>16.000</td>\n",
       "      <td>8.000</td>\n",
       "      <td>3.000</td>\n",
       "      <td>14.000</td>\n",
       "    </tr>\n",
       "    <tr>\n",
       "      <th>4</th>\n",
       "      <td>2</td>\n",
       "      <td>Sedans</td>\n",
       "      <td>16790</td>\n",
       "      <td>NaN</td>\n",
       "      <td>16200</td>\n",
       "      <td>1340 days</td>\n",
       "      <td>1.000</td>\n",
       "      <td>66.000</td>\n",
       "      <td>Used</td>\n",
       "      <td>True</td>\n",
       "      <td>NaN</td>\n",
       "      <td>2016.000</td>\n",
       "      <td>Black</td>\n",
       "      <td>Metallic</td>\n",
       "      <td>Mythosschwarz Metallic</td>\n",
       "      <td>Cloth</td>\n",
       "      <td>5.000</td>\n",
       "      <td>5.000</td>\n",
       "      <td>Automatic</td>\n",
       "      <td>1422.000</td>\n",
       "      <td>3.000</td>\n",
       "      <td>NaN</td>\n",
       "      <td>front</td>\n",
       "      <td>Benzine</td>\n",
       "      <td>4.100</td>\n",
       "      <td>109</td>\n",
       "      <td>Euro 6</td>\n",
       "      <td>Air conditioning,Armrest,Automatic climate con...</td>\n",
       "      <td>Bluetooth,CD player,Hands-free equipment,MP3,O...</td>\n",
       "      <td>Alloy wheels,Sport package,Sport suspension,Vo...</td>\n",
       "      <td>ABS,Central door lock,Driver-side airbag,Elect...</td>\n",
       "      <td>Technik &amp; Sicherheit:,Xenon plus,Klimaautomati...</td>\n",
       "      <td>NaN</td>\n",
       "      <td>NaN</td>\n",
       "      <td>Germany</td>\n",
       "      <td>NaN</td>\n",
       "      <td>4.000</td>\n",
       "      <td>13.000</td>\n",
       "      <td>7.000</td>\n",
       "      <td>4.000</td>\n",
       "      <td>13.000</td>\n",
       "    </tr>\n",
       "    <tr>\n",
       "      <th>...</th>\n",
       "      <td>...</td>\n",
       "      <td>...</td>\n",
       "      <td>...</td>\n",
       "      <td>...</td>\n",
       "      <td>...</td>\n",
       "      <td>...</td>\n",
       "      <td>...</td>\n",
       "      <td>...</td>\n",
       "      <td>...</td>\n",
       "      <td>...</td>\n",
       "      <td>...</td>\n",
       "      <td>...</td>\n",
       "      <td>...</td>\n",
       "      <td>...</td>\n",
       "      <td>...</td>\n",
       "      <td>...</td>\n",
       "      <td>...</td>\n",
       "      <td>...</td>\n",
       "      <td>...</td>\n",
       "      <td>...</td>\n",
       "      <td>...</td>\n",
       "      <td>...</td>\n",
       "      <td>...</td>\n",
       "      <td>...</td>\n",
       "      <td>...</td>\n",
       "      <td>...</td>\n",
       "      <td>...</td>\n",
       "      <td>...</td>\n",
       "      <td>...</td>\n",
       "      <td>...</td>\n",
       "      <td>...</td>\n",
       "      <td>...</td>\n",
       "      <td>...</td>\n",
       "      <td>...</td>\n",
       "      <td>...</td>\n",
       "      <td>...</td>\n",
       "      <td>...</td>\n",
       "      <td>...</td>\n",
       "      <td>...</td>\n",
       "      <td>...</td>\n",
       "      <td>...</td>\n",
       "    </tr>\n",
       "    <tr>\n",
       "      <th>15914</th>\n",
       "      <td>7</td>\n",
       "      <td>Van</td>\n",
       "      <td>39950</td>\n",
       "      <td>VAT deductible</td>\n",
       "      <td>0</td>\n",
       "      <td>NaN</td>\n",
       "      <td>1.000</td>\n",
       "      <td>147.000</td>\n",
       "      <td>New</td>\n",
       "      <td>NaN</td>\n",
       "      <td>24.000</td>\n",
       "      <td>NaN</td>\n",
       "      <td>Grey</td>\n",
       "      <td>Metallic</td>\n",
       "      <td>Grigio scuro</td>\n",
       "      <td>NaN</td>\n",
       "      <td>5.000</td>\n",
       "      <td>5.000</td>\n",
       "      <td>Automatic</td>\n",
       "      <td>1997.000</td>\n",
       "      <td>4.000</td>\n",
       "      <td>1758.000</td>\n",
       "      <td>front</td>\n",
       "      <td>Benzine</td>\n",
       "      <td>5.300</td>\n",
       "      <td>139</td>\n",
       "      <td>NaN</td>\n",
       "      <td>Air conditioning,Automatic climate control,Cru...</td>\n",
       "      <td>Bluetooth,Digital radio,Hands-free equipment,O...</td>\n",
       "      <td>Alloy wheels,Touch screen</td>\n",
       "      <td>ABS,Central door lock,Central door lock with r...</td>\n",
       "      <td>Vettura visionabile nella sede in Via Roma 141...</td>\n",
       "      <td>NaN</td>\n",
       "      <td>6.000</td>\n",
       "      <td>NaN</td>\n",
       "      <td>NaN</td>\n",
       "      <td>0.000</td>\n",
       "      <td>20.000</td>\n",
       "      <td>6.000</td>\n",
       "      <td>2.000</td>\n",
       "      <td>19.000</td>\n",
       "    </tr>\n",
       "    <tr>\n",
       "      <th>15915</th>\n",
       "      <td>7</td>\n",
       "      <td>Van</td>\n",
       "      <td>39885</td>\n",
       "      <td>VAT deductible</td>\n",
       "      <td>9900</td>\n",
       "      <td>365 days</td>\n",
       "      <td>1.000</td>\n",
       "      <td>165.000</td>\n",
       "      <td>Used</td>\n",
       "      <td>NaN</td>\n",
       "      <td>NaN</td>\n",
       "      <td>2019.000</td>\n",
       "      <td>Grey</td>\n",
       "      <td>Metallic</td>\n",
       "      <td>Stahl-Grau Metallic</td>\n",
       "      <td>Cloth</td>\n",
       "      <td>5.000</td>\n",
       "      <td>5.000</td>\n",
       "      <td>Automatic</td>\n",
       "      <td>1798.000</td>\n",
       "      <td>4.000</td>\n",
       "      <td>1708.000</td>\n",
       "      <td>front</td>\n",
       "      <td>Benzine</td>\n",
       "      <td>NaN</td>\n",
       "      <td>168</td>\n",
       "      <td>NaN</td>\n",
       "      <td>Air conditioning,Automatic climate control,Cru...</td>\n",
       "      <td>Bluetooth,Digital radio,Hands-free equipment,R...</td>\n",
       "      <td>Alloy wheels,Touch screen,Voice Control</td>\n",
       "      <td>ABS,Adaptive Cruise Control,Blind spot monitor...</td>\n",
       "      <td>Dach: Panorama-Glas-Schiebedach, Lackierung: M...</td>\n",
       "      <td>NaN</td>\n",
       "      <td>7.000</td>\n",
       "      <td>Germany</td>\n",
       "      <td>5.000</td>\n",
       "      <td>1.000</td>\n",
       "      <td>23.000</td>\n",
       "      <td>5.000</td>\n",
       "      <td>3.000</td>\n",
       "      <td>19.000</td>\n",
       "    </tr>\n",
       "    <tr>\n",
       "      <th>15916</th>\n",
       "      <td>7</td>\n",
       "      <td>Van</td>\n",
       "      <td>39875</td>\n",
       "      <td>VAT deductible</td>\n",
       "      <td>15</td>\n",
       "      <td>306 days</td>\n",
       "      <td>1.000</td>\n",
       "      <td>146.000</td>\n",
       "      <td>Pre-registered</td>\n",
       "      <td>True</td>\n",
       "      <td>NaN</td>\n",
       "      <td>2019.000</td>\n",
       "      <td>White</td>\n",
       "      <td>NaN</td>\n",
       "      <td>arktis-weiß</td>\n",
       "      <td>Full leather</td>\n",
       "      <td>5.000</td>\n",
       "      <td>7.000</td>\n",
       "      <td>Automatic</td>\n",
       "      <td>1997.000</td>\n",
       "      <td>4.000</td>\n",
       "      <td>NaN</td>\n",
       "      <td>front</td>\n",
       "      <td>Diesel</td>\n",
       "      <td>5.300</td>\n",
       "      <td>139</td>\n",
       "      <td>Euro 6d-TEMP</td>\n",
       "      <td>Air conditioning,Armrest,Automatic climate con...</td>\n",
       "      <td>Bluetooth,Hands-free equipment,On-board comput...</td>\n",
       "      <td>Alloy wheels</td>\n",
       "      <td>ABS,Adaptive Cruise Control,Blind spot monitor...</td>\n",
       "      <td>Getriebe:, Automatik,Technik:, Bordcomputer,As...</td>\n",
       "      <td>NaN</td>\n",
       "      <td>6.000</td>\n",
       "      <td>Austria</td>\n",
       "      <td>120.000</td>\n",
       "      <td>1.000</td>\n",
       "      <td>24.000</td>\n",
       "      <td>4.000</td>\n",
       "      <td>1.000</td>\n",
       "      <td>18.000</td>\n",
       "    </tr>\n",
       "    <tr>\n",
       "      <th>15917</th>\n",
       "      <td>7</td>\n",
       "      <td>Van</td>\n",
       "      <td>39700</td>\n",
       "      <td>VAT deductible</td>\n",
       "      <td>10</td>\n",
       "      <td>214 days</td>\n",
       "      <td>1.000</td>\n",
       "      <td>147.000</td>\n",
       "      <td>Pre-registered</td>\n",
       "      <td>NaN</td>\n",
       "      <td>NaN</td>\n",
       "      <td>2019.000</td>\n",
       "      <td>Grey</td>\n",
       "      <td>NaN</td>\n",
       "      <td>Grigio</td>\n",
       "      <td>Part leather</td>\n",
       "      <td>5.000</td>\n",
       "      <td>7.000</td>\n",
       "      <td>Automatic</td>\n",
       "      <td>1997.000</td>\n",
       "      <td>4.000</td>\n",
       "      <td>1758.000</td>\n",
       "      <td>front</td>\n",
       "      <td>Diesel</td>\n",
       "      <td>5.300</td>\n",
       "      <td>139</td>\n",
       "      <td>Euro 6</td>\n",
       "      <td>Air conditioning,Automatic climate control,Cru...</td>\n",
       "      <td>Bluetooth,Digital radio,Radio,USB</td>\n",
       "      <td>Alloy wheels,Touch screen</td>\n",
       "      <td>ABS,Blind spot monitor,Driver-side airbag,Elec...</td>\n",
       "      <td>DEK:[2691331],Renault Espace Blue dCi 200CV ED...</td>\n",
       "      <td>NaN</td>\n",
       "      <td>6.000</td>\n",
       "      <td>NaN</td>\n",
       "      <td>NaN</td>\n",
       "      <td>1.000</td>\n",
       "      <td>10.000</td>\n",
       "      <td>4.000</td>\n",
       "      <td>2.000</td>\n",
       "      <td>12.000</td>\n",
       "    </tr>\n",
       "    <tr>\n",
       "      <th>15918</th>\n",
       "      <td>7</td>\n",
       "      <td>Van</td>\n",
       "      <td>40999</td>\n",
       "      <td>VAT deductible</td>\n",
       "      <td>0</td>\n",
       "      <td>365 days</td>\n",
       "      <td>1.000</td>\n",
       "      <td>165.000</td>\n",
       "      <td>Demonstration</td>\n",
       "      <td>True</td>\n",
       "      <td>NaN</td>\n",
       "      <td>2019.000</td>\n",
       "      <td>Grey</td>\n",
       "      <td>Metallic</td>\n",
       "      <td>Titanium-Grau Metallic</td>\n",
       "      <td>Full leather</td>\n",
       "      <td>5.000</td>\n",
       "      <td>5.000</td>\n",
       "      <td>Automatic</td>\n",
       "      <td>1798.000</td>\n",
       "      <td>4.000</td>\n",
       "      <td>1685.000</td>\n",
       "      <td>4WD</td>\n",
       "      <td>Benzine</td>\n",
       "      <td>6.800</td>\n",
       "      <td>153</td>\n",
       "      <td>Euro 6</td>\n",
       "      <td>Air conditioning,Automatic climate control,Cru...</td>\n",
       "      <td>USB</td>\n",
       "      <td>Alloy wheels,Touch screen</td>\n",
       "      <td>ABS,Blind spot monitor,Daytime running lights,...</td>\n",
       "      <td>Sicherheit Airbags:, ,Seitenairbag, ,Fahrerair...</td>\n",
       "      <td>4.000</td>\n",
       "      <td>NaN</td>\n",
       "      <td>Germany</td>\n",
       "      <td>NaN</td>\n",
       "      <td>1.000</td>\n",
       "      <td>11.000</td>\n",
       "      <td>1.000</td>\n",
       "      <td>2.000</td>\n",
       "      <td>14.000</td>\n",
       "    </tr>\n",
       "  </tbody>\n",
       "</table>\n",
       "<p>15648 rows × 41 columns</p>\n",
       "</div>"
      ],
      "text/plain": [
       "       make_model body_type  price               vat     km registration  \\\n",
       "0               2    Sedans  15770    VAT deductible  56013    1461 days   \n",
       "1               2    Sedans  14500  Price negotiable  80000    1036 days   \n",
       "2               2    Sedans  14640    VAT deductible  83450    1430 days   \n",
       "3               2    Sedans  14500               NaN  73000    1248 days   \n",
       "4               2    Sedans  16790               NaN  16200    1340 days   \n",
       "...           ...       ...    ...               ...    ...          ...   \n",
       "15914           7       Van  39950    VAT deductible      0          NaN   \n",
       "15915           7       Van  39885    VAT deductible   9900     365 days   \n",
       "15916           7       Van  39875    VAT deductible     15     306 days   \n",
       "15917           7       Van  39700    VAT deductible     10     214 days   \n",
       "15918           7       Van  40999    VAT deductible      0     365 days   \n",
       "\n",
       "       prev_owner      hp            type inspection_new  warranty  \\\n",
       "0           2.000  66.000            Used           True       NaN   \n",
       "1           1.000 141.000            Used            NaN       NaN   \n",
       "2           1.000  85.000            Used            NaN       NaN   \n",
       "3           1.000  66.000            Used            NaN       NaN   \n",
       "4           1.000  66.000            Used           True       NaN   \n",
       "...           ...     ...             ...            ...       ...   \n",
       "15914       1.000 147.000             New            NaN    24.000   \n",
       "15915       1.000 165.000            Used            NaN       NaN   \n",
       "15916       1.000 146.000  Pre-registered           True       NaN   \n",
       "15917       1.000 147.000  Pre-registered            NaN       NaN   \n",
       "15918       1.000 165.000   Demonstration           True       NaN   \n",
       "\n",
       "       first_registration body_color paint_type     body_color_original  \\\n",
       "0                2016.000      Black   Metallic           Mythosschwarz   \n",
       "1                2017.000        Red        NaN                     NaN   \n",
       "2                2016.000      Black   Metallic  mythosschwarz metallic   \n",
       "3                2016.000      Brown   Metallic                     NaN   \n",
       "4                2016.000      Black   Metallic  Mythosschwarz Metallic   \n",
       "...                   ...        ...        ...                     ...   \n",
       "15914                 NaN       Grey   Metallic            Grigio scuro   \n",
       "15915            2019.000       Grey   Metallic     Stahl-Grau Metallic   \n",
       "15916            2019.000      White        NaN             arktis-weiß   \n",
       "15917            2019.000       Grey        NaN                  Grigio   \n",
       "15918            2019.000       Grey   Metallic  Titanium-Grau Metallic   \n",
       "\n",
       "         upholstery  nr_of_doors  nr_of_seats gearing_type  displacement  \\\n",
       "0             Cloth        5.000        5.000    Automatic      1422.000   \n",
       "1             Cloth        3.000        4.000    Automatic      1798.000   \n",
       "2             Cloth        4.000        4.000    Automatic      1598.000   \n",
       "3               NaN        3.000        4.000    Automatic      1422.000   \n",
       "4             Cloth        5.000        5.000    Automatic      1422.000   \n",
       "...             ...          ...          ...          ...           ...   \n",
       "15914           NaN        5.000        5.000    Automatic      1997.000   \n",
       "15915         Cloth        5.000        5.000    Automatic      1798.000   \n",
       "15916  Full leather        5.000        7.000    Automatic      1997.000   \n",
       "15917  Part leather        5.000        7.000    Automatic      1997.000   \n",
       "15918  Full leather        5.000        5.000    Automatic      1798.000   \n",
       "\n",
       "       cylinders   weight drive_chain     fuel  consumption co_2_emission  \\\n",
       "0          3.000 1220.000       front  Benzine        3.800            99   \n",
       "1          4.000 1255.000       front  Benzine        5.600           129   \n",
       "2            NaN      NaN       front  Benzine        3.800            99   \n",
       "3          3.000 1195.000         NaN  Benzine        3.800            99   \n",
       "4          3.000      NaN       front  Benzine        4.100           109   \n",
       "...          ...      ...         ...      ...          ...           ...   \n",
       "15914      4.000 1758.000       front  Benzine        5.300           139   \n",
       "15915      4.000 1708.000       front  Benzine          NaN           168   \n",
       "15916      4.000      NaN       front   Diesel        5.300           139   \n",
       "15917      4.000 1758.000       front   Diesel        5.300           139   \n",
       "15918      4.000 1685.000         4WD  Benzine        6.800           153   \n",
       "\n",
       "      emission_class                              comfort_&_convenience  \\\n",
       "0             Euro 6  Air conditioning,Armrest,Automatic climate con...   \n",
       "1             Euro 6  Air conditioning,Automatic climate control,Hil...   \n",
       "2             Euro 6  Air conditioning,Cruise control,Electrical sid...   \n",
       "3             Euro 6  Air suspension,Armrest,Auxiliary heating,Elect...   \n",
       "4             Euro 6  Air conditioning,Armrest,Automatic climate con...   \n",
       "...              ...                                                ...   \n",
       "15914            NaN  Air conditioning,Automatic climate control,Cru...   \n",
       "15915            NaN  Air conditioning,Automatic climate control,Cru...   \n",
       "15916   Euro 6d-TEMP  Air conditioning,Armrest,Automatic climate con...   \n",
       "15917         Euro 6  Air conditioning,Automatic climate control,Cru...   \n",
       "15918         Euro 6  Air conditioning,Automatic climate control,Cru...   \n",
       "\n",
       "                                   entertainment_&_media  \\\n",
       "0      Bluetooth,Hands-free equipment,On-board comput...   \n",
       "1      Bluetooth,Hands-free equipment,On-board comput...   \n",
       "2                                  MP3,On-board computer   \n",
       "3      Bluetooth,CD player,Hands-free equipment,MP3,O...   \n",
       "4      Bluetooth,CD player,Hands-free equipment,MP3,O...   \n",
       "...                                                  ...   \n",
       "15914  Bluetooth,Digital radio,Hands-free equipment,O...   \n",
       "15915  Bluetooth,Digital radio,Hands-free equipment,R...   \n",
       "15916  Bluetooth,Hands-free equipment,On-board comput...   \n",
       "15917                  Bluetooth,Digital radio,Radio,USB   \n",
       "15918                                                USB   \n",
       "\n",
       "                                                  extras  \\\n",
       "0         Alloy wheels,Catalytic Converter,Voice Control   \n",
       "1      Alloy wheels,Sport seats,Sport suspension,Voic...   \n",
       "2                             Alloy wheels,Voice Control   \n",
       "3                 Alloy wheels,Sport seats,Voice Control   \n",
       "4      Alloy wheels,Sport package,Sport suspension,Vo...   \n",
       "...                                                  ...   \n",
       "15914                          Alloy wheels,Touch screen   \n",
       "15915            Alloy wheels,Touch screen,Voice Control   \n",
       "15916                                       Alloy wheels   \n",
       "15917                          Alloy wheels,Touch screen   \n",
       "15918                          Alloy wheels,Touch screen   \n",
       "\n",
       "                                       safety_&_security  \\\n",
       "0      ABS,Central door lock,Daytime running lights,D...   \n",
       "1      ABS,Central door lock,Central door lock with r...   \n",
       "2      ABS,Central door lock,Daytime running lights,D...   \n",
       "3      ABS,Alarm system,Central door lock with remote...   \n",
       "4      ABS,Central door lock,Driver-side airbag,Elect...   \n",
       "...                                                  ...   \n",
       "15914  ABS,Central door lock,Central door lock with r...   \n",
       "15915  ABS,Adaptive Cruise Control,Blind spot monitor...   \n",
       "15916  ABS,Adaptive Cruise Control,Blind spot monitor...   \n",
       "15917  ABS,Blind spot monitor,Driver-side airbag,Elec...   \n",
       "15918  ABS,Blind spot monitor,Daytime running lights,...   \n",
       "\n",
       "                                             description  emission_label  \\\n",
       "0      Sicherheit:, ,Deaktivierung für Beifahrer-Airb...             NaN   \n",
       "1      Langstreckenfahrzeug daher die hohe Kilometerl...           4.000   \n",
       "2      Fahrzeug-Nummer: AM-95365, ,Ehem. UPE 24.640 E...           4.000   \n",
       "3      Audi A1: ,- 1e eigenaar ,- Perfecte staat: sch...             NaN   \n",
       "4      Technik & Sicherheit:,Xenon plus,Klimaautomati...             NaN   \n",
       "...                                                  ...             ...   \n",
       "15914  Vettura visionabile nella sede in Via Roma 141...             NaN   \n",
       "15915  Dach: Panorama-Glas-Schiebedach, Lackierung: M...             NaN   \n",
       "15916  Getriebe:, Automatik,Technik:, Bordcomputer,As...             NaN   \n",
       "15917  DEK:[2691331],Renault Espace Blue dCi 200CV ED...             NaN   \n",
       "15918  Sicherheit Airbags:, ,Seitenairbag, ,Fahrerair...           4.000   \n",
       "\n",
       "       gears country_version  availability   age  \\\n",
       "0        NaN             NaN           NaN 4.000   \n",
       "1      7.000             NaN           NaN 3.000   \n",
       "2        NaN             NaN           NaN 4.000   \n",
       "3      6.000             NaN           NaN 4.000   \n",
       "4        NaN         Germany           NaN 4.000   \n",
       "...      ...             ...           ...   ...   \n",
       "15914  6.000             NaN           NaN 0.000   \n",
       "15915  7.000         Germany         5.000 1.000   \n",
       "15916  6.000         Austria       120.000 1.000   \n",
       "15917  6.000             NaN           NaN 1.000   \n",
       "15918    NaN         Germany           NaN 1.000   \n",
       "\n",
       "       number_of_comfort_convenience  number_of_entertainment_media  \\\n",
       "0                             16.000                          4.000   \n",
       "1                              9.000                          5.000   \n",
       "2                             13.000                          2.000   \n",
       "3                             16.000                          8.000   \n",
       "4                             13.000                          7.000   \n",
       "...                              ...                            ...   \n",
       "15914                         20.000                          6.000   \n",
       "15915                         23.000                          5.000   \n",
       "15916                         24.000                          4.000   \n",
       "15917                         10.000                          4.000   \n",
       "15918                         11.000                          1.000   \n",
       "\n",
       "       number_of_extras  number_of_safety_security  \n",
       "0                 3.000                     14.000  \n",
       "1                 4.000                     15.000  \n",
       "2                 2.000                     12.000  \n",
       "3                 3.000                     14.000  \n",
       "4                 4.000                     13.000  \n",
       "...                 ...                        ...  \n",
       "15914             2.000                     19.000  \n",
       "15915             3.000                     19.000  \n",
       "15916             1.000                     18.000  \n",
       "15917             2.000                     12.000  \n",
       "15918             2.000                     14.000  \n",
       "\n",
       "[15648 rows x 41 columns]"
      ]
     },
     "execution_count": 341,
     "metadata": {},
     "output_type": "execute_result"
    }
   ],
   "source": [
    "df"
   ]
  },
  {
   "cell_type": "code",
   "execution_count": 342,
   "metadata": {},
   "outputs": [
    {
     "data": {
      "text/plain": [
       "0    1461 days\n",
       "1    1036 days\n",
       "2    1430 days\n",
       "3    1248 days\n",
       "4    1340 days\n",
       "Name: registration, dtype: object"
      ]
     },
     "execution_count": 342,
     "metadata": {},
     "output_type": "execute_result"
    }
   ],
   "source": [
    "df['registration'] = df['registration'].astype(str)\n",
    "df['registration'].head()"
   ]
  },
  {
   "cell_type": "code",
   "execution_count": 343,
   "metadata": {},
   "outputs": [
    {
     "data": {
      "text/plain": [
       "0    1461\n",
       "1    1036\n",
       "2    1430\n",
       "3    1248\n",
       "4    1340\n",
       "Name: registration, dtype: object"
      ]
     },
     "execution_count": 343,
     "metadata": {},
     "output_type": "execute_result"
    }
   ],
   "source": [
    "df['registration'] = df['registration'].str.replace(' days', '')\n",
    "df['registration'].head()"
   ]
  },
  {
   "cell_type": "code",
   "execution_count": 344,
   "metadata": {},
   "outputs": [],
   "source": [
    "to_drop = ['first_registration']\n",
    "df.drop(to_drop, inplace = True, axis = 1)"
   ]
  },
  {
   "cell_type": "code",
   "execution_count": 345,
   "metadata": {},
   "outputs": [
    {
     "data": {
      "text/html": [
       "<div>\n",
       "<style scoped>\n",
       "    .dataframe tbody tr th:only-of-type {\n",
       "        vertical-align: middle;\n",
       "    }\n",
       "\n",
       "    .dataframe tbody tr th {\n",
       "        vertical-align: top;\n",
       "    }\n",
       "\n",
       "    .dataframe thead th {\n",
       "        text-align: right;\n",
       "    }\n",
       "</style>\n",
       "<table border=\"1\" class=\"dataframe\">\n",
       "  <thead>\n",
       "    <tr style=\"text-align: right;\">\n",
       "      <th></th>\n",
       "      <th>make_model</th>\n",
       "      <th>body_type</th>\n",
       "      <th>price</th>\n",
       "      <th>vat</th>\n",
       "      <th>km</th>\n",
       "      <th>registration</th>\n",
       "      <th>prev_owner</th>\n",
       "      <th>hp</th>\n",
       "      <th>type</th>\n",
       "      <th>inspection_new</th>\n",
       "      <th>warranty</th>\n",
       "      <th>body_color</th>\n",
       "      <th>paint_type</th>\n",
       "      <th>body_color_original</th>\n",
       "      <th>upholstery</th>\n",
       "      <th>nr_of_doors</th>\n",
       "      <th>nr_of_seats</th>\n",
       "      <th>gearing_type</th>\n",
       "      <th>displacement</th>\n",
       "      <th>cylinders</th>\n",
       "      <th>weight</th>\n",
       "      <th>drive_chain</th>\n",
       "      <th>fuel</th>\n",
       "      <th>consumption</th>\n",
       "      <th>co_2_emission</th>\n",
       "      <th>emission_class</th>\n",
       "      <th>comfort_&amp;_convenience</th>\n",
       "      <th>entertainment_&amp;_media</th>\n",
       "      <th>extras</th>\n",
       "      <th>safety_&amp;_security</th>\n",
       "      <th>description</th>\n",
       "      <th>emission_label</th>\n",
       "      <th>gears</th>\n",
       "      <th>country_version</th>\n",
       "      <th>availability</th>\n",
       "      <th>age</th>\n",
       "      <th>number_of_comfort_convenience</th>\n",
       "      <th>number_of_entertainment_media</th>\n",
       "      <th>number_of_extras</th>\n",
       "      <th>number_of_safety_security</th>\n",
       "    </tr>\n",
       "  </thead>\n",
       "  <tbody>\n",
       "    <tr>\n",
       "      <th>0</th>\n",
       "      <td>2</td>\n",
       "      <td>Sedans</td>\n",
       "      <td>15770</td>\n",
       "      <td>VAT deductible</td>\n",
       "      <td>56013</td>\n",
       "      <td>1461</td>\n",
       "      <td>2.000</td>\n",
       "      <td>66.000</td>\n",
       "      <td>Used</td>\n",
       "      <td>True</td>\n",
       "      <td>NaN</td>\n",
       "      <td>Black</td>\n",
       "      <td>Metallic</td>\n",
       "      <td>Mythosschwarz</td>\n",
       "      <td>Cloth</td>\n",
       "      <td>5.000</td>\n",
       "      <td>5.000</td>\n",
       "      <td>Automatic</td>\n",
       "      <td>1422.000</td>\n",
       "      <td>3.000</td>\n",
       "      <td>1220.000</td>\n",
       "      <td>front</td>\n",
       "      <td>Benzine</td>\n",
       "      <td>3.800</td>\n",
       "      <td>99</td>\n",
       "      <td>Euro 6</td>\n",
       "      <td>Air conditioning,Armrest,Automatic climate con...</td>\n",
       "      <td>Bluetooth,Hands-free equipment,On-board comput...</td>\n",
       "      <td>Alloy wheels,Catalytic Converter,Voice Control</td>\n",
       "      <td>ABS,Central door lock,Daytime running lights,D...</td>\n",
       "      <td>Sicherheit:, ,Deaktivierung für Beifahrer-Airb...</td>\n",
       "      <td>NaN</td>\n",
       "      <td>NaN</td>\n",
       "      <td>NaN</td>\n",
       "      <td>NaN</td>\n",
       "      <td>4.000</td>\n",
       "      <td>16.000</td>\n",
       "      <td>4.000</td>\n",
       "      <td>3.000</td>\n",
       "      <td>14.000</td>\n",
       "    </tr>\n",
       "    <tr>\n",
       "      <th>1</th>\n",
       "      <td>2</td>\n",
       "      <td>Sedans</td>\n",
       "      <td>14500</td>\n",
       "      <td>Price negotiable</td>\n",
       "      <td>80000</td>\n",
       "      <td>1036</td>\n",
       "      <td>1.000</td>\n",
       "      <td>141.000</td>\n",
       "      <td>Used</td>\n",
       "      <td>NaN</td>\n",
       "      <td>NaN</td>\n",
       "      <td>Red</td>\n",
       "      <td>NaN</td>\n",
       "      <td>NaN</td>\n",
       "      <td>Cloth</td>\n",
       "      <td>3.000</td>\n",
       "      <td>4.000</td>\n",
       "      <td>Automatic</td>\n",
       "      <td>1798.000</td>\n",
       "      <td>4.000</td>\n",
       "      <td>1255.000</td>\n",
       "      <td>front</td>\n",
       "      <td>Benzine</td>\n",
       "      <td>5.600</td>\n",
       "      <td>129</td>\n",
       "      <td>Euro 6</td>\n",
       "      <td>Air conditioning,Automatic climate control,Hil...</td>\n",
       "      <td>Bluetooth,Hands-free equipment,On-board comput...</td>\n",
       "      <td>Alloy wheels,Sport seats,Sport suspension,Voic...</td>\n",
       "      <td>ABS,Central door lock,Central door lock with r...</td>\n",
       "      <td>Langstreckenfahrzeug daher die hohe Kilometerl...</td>\n",
       "      <td>4.000</td>\n",
       "      <td>7.000</td>\n",
       "      <td>NaN</td>\n",
       "      <td>NaN</td>\n",
       "      <td>3.000</td>\n",
       "      <td>9.000</td>\n",
       "      <td>5.000</td>\n",
       "      <td>4.000</td>\n",
       "      <td>15.000</td>\n",
       "    </tr>\n",
       "    <tr>\n",
       "      <th>2</th>\n",
       "      <td>2</td>\n",
       "      <td>Sedans</td>\n",
       "      <td>14640</td>\n",
       "      <td>VAT deductible</td>\n",
       "      <td>83450</td>\n",
       "      <td>1430</td>\n",
       "      <td>1.000</td>\n",
       "      <td>85.000</td>\n",
       "      <td>Used</td>\n",
       "      <td>NaN</td>\n",
       "      <td>NaN</td>\n",
       "      <td>Black</td>\n",
       "      <td>Metallic</td>\n",
       "      <td>mythosschwarz metallic</td>\n",
       "      <td>Cloth</td>\n",
       "      <td>4.000</td>\n",
       "      <td>4.000</td>\n",
       "      <td>Automatic</td>\n",
       "      <td>1598.000</td>\n",
       "      <td>NaN</td>\n",
       "      <td>NaN</td>\n",
       "      <td>front</td>\n",
       "      <td>Benzine</td>\n",
       "      <td>3.800</td>\n",
       "      <td>99</td>\n",
       "      <td>Euro 6</td>\n",
       "      <td>Air conditioning,Cruise control,Electrical sid...</td>\n",
       "      <td>MP3,On-board computer</td>\n",
       "      <td>Alloy wheels,Voice Control</td>\n",
       "      <td>ABS,Central door lock,Daytime running lights,D...</td>\n",
       "      <td>Fahrzeug-Nummer: AM-95365, ,Ehem. UPE 24.640 E...</td>\n",
       "      <td>4.000</td>\n",
       "      <td>NaN</td>\n",
       "      <td>NaN</td>\n",
       "      <td>NaN</td>\n",
       "      <td>4.000</td>\n",
       "      <td>13.000</td>\n",
       "      <td>2.000</td>\n",
       "      <td>2.000</td>\n",
       "      <td>12.000</td>\n",
       "    </tr>\n",
       "    <tr>\n",
       "      <th>3</th>\n",
       "      <td>2</td>\n",
       "      <td>Sedans</td>\n",
       "      <td>14500</td>\n",
       "      <td>NaN</td>\n",
       "      <td>73000</td>\n",
       "      <td>1248</td>\n",
       "      <td>1.000</td>\n",
       "      <td>66.000</td>\n",
       "      <td>Used</td>\n",
       "      <td>NaN</td>\n",
       "      <td>NaN</td>\n",
       "      <td>Brown</td>\n",
       "      <td>Metallic</td>\n",
       "      <td>NaN</td>\n",
       "      <td>NaN</td>\n",
       "      <td>3.000</td>\n",
       "      <td>4.000</td>\n",
       "      <td>Automatic</td>\n",
       "      <td>1422.000</td>\n",
       "      <td>3.000</td>\n",
       "      <td>1195.000</td>\n",
       "      <td>NaN</td>\n",
       "      <td>Benzine</td>\n",
       "      <td>3.800</td>\n",
       "      <td>99</td>\n",
       "      <td>Euro 6</td>\n",
       "      <td>Air suspension,Armrest,Auxiliary heating,Elect...</td>\n",
       "      <td>Bluetooth,CD player,Hands-free equipment,MP3,O...</td>\n",
       "      <td>Alloy wheels,Sport seats,Voice Control</td>\n",
       "      <td>ABS,Alarm system,Central door lock with remote...</td>\n",
       "      <td>Audi A1: ,- 1e eigenaar ,- Perfecte staat: sch...</td>\n",
       "      <td>NaN</td>\n",
       "      <td>6.000</td>\n",
       "      <td>NaN</td>\n",
       "      <td>NaN</td>\n",
       "      <td>4.000</td>\n",
       "      <td>16.000</td>\n",
       "      <td>8.000</td>\n",
       "      <td>3.000</td>\n",
       "      <td>14.000</td>\n",
       "    </tr>\n",
       "    <tr>\n",
       "      <th>4</th>\n",
       "      <td>2</td>\n",
       "      <td>Sedans</td>\n",
       "      <td>16790</td>\n",
       "      <td>NaN</td>\n",
       "      <td>16200</td>\n",
       "      <td>1340</td>\n",
       "      <td>1.000</td>\n",
       "      <td>66.000</td>\n",
       "      <td>Used</td>\n",
       "      <td>True</td>\n",
       "      <td>NaN</td>\n",
       "      <td>Black</td>\n",
       "      <td>Metallic</td>\n",
       "      <td>Mythosschwarz Metallic</td>\n",
       "      <td>Cloth</td>\n",
       "      <td>5.000</td>\n",
       "      <td>5.000</td>\n",
       "      <td>Automatic</td>\n",
       "      <td>1422.000</td>\n",
       "      <td>3.000</td>\n",
       "      <td>NaN</td>\n",
       "      <td>front</td>\n",
       "      <td>Benzine</td>\n",
       "      <td>4.100</td>\n",
       "      <td>109</td>\n",
       "      <td>Euro 6</td>\n",
       "      <td>Air conditioning,Armrest,Automatic climate con...</td>\n",
       "      <td>Bluetooth,CD player,Hands-free equipment,MP3,O...</td>\n",
       "      <td>Alloy wheels,Sport package,Sport suspension,Vo...</td>\n",
       "      <td>ABS,Central door lock,Driver-side airbag,Elect...</td>\n",
       "      <td>Technik &amp; Sicherheit:,Xenon plus,Klimaautomati...</td>\n",
       "      <td>NaN</td>\n",
       "      <td>NaN</td>\n",
       "      <td>Germany</td>\n",
       "      <td>NaN</td>\n",
       "      <td>4.000</td>\n",
       "      <td>13.000</td>\n",
       "      <td>7.000</td>\n",
       "      <td>4.000</td>\n",
       "      <td>13.000</td>\n",
       "    </tr>\n",
       "    <tr>\n",
       "      <th>...</th>\n",
       "      <td>...</td>\n",
       "      <td>...</td>\n",
       "      <td>...</td>\n",
       "      <td>...</td>\n",
       "      <td>...</td>\n",
       "      <td>...</td>\n",
       "      <td>...</td>\n",
       "      <td>...</td>\n",
       "      <td>...</td>\n",
       "      <td>...</td>\n",
       "      <td>...</td>\n",
       "      <td>...</td>\n",
       "      <td>...</td>\n",
       "      <td>...</td>\n",
       "      <td>...</td>\n",
       "      <td>...</td>\n",
       "      <td>...</td>\n",
       "      <td>...</td>\n",
       "      <td>...</td>\n",
       "      <td>...</td>\n",
       "      <td>...</td>\n",
       "      <td>...</td>\n",
       "      <td>...</td>\n",
       "      <td>...</td>\n",
       "      <td>...</td>\n",
       "      <td>...</td>\n",
       "      <td>...</td>\n",
       "      <td>...</td>\n",
       "      <td>...</td>\n",
       "      <td>...</td>\n",
       "      <td>...</td>\n",
       "      <td>...</td>\n",
       "      <td>...</td>\n",
       "      <td>...</td>\n",
       "      <td>...</td>\n",
       "      <td>...</td>\n",
       "      <td>...</td>\n",
       "      <td>...</td>\n",
       "      <td>...</td>\n",
       "      <td>...</td>\n",
       "    </tr>\n",
       "    <tr>\n",
       "      <th>15914</th>\n",
       "      <td>7</td>\n",
       "      <td>Van</td>\n",
       "      <td>39950</td>\n",
       "      <td>VAT deductible</td>\n",
       "      <td>0</td>\n",
       "      <td>nan</td>\n",
       "      <td>1.000</td>\n",
       "      <td>147.000</td>\n",
       "      <td>New</td>\n",
       "      <td>NaN</td>\n",
       "      <td>24.000</td>\n",
       "      <td>Grey</td>\n",
       "      <td>Metallic</td>\n",
       "      <td>Grigio scuro</td>\n",
       "      <td>NaN</td>\n",
       "      <td>5.000</td>\n",
       "      <td>5.000</td>\n",
       "      <td>Automatic</td>\n",
       "      <td>1997.000</td>\n",
       "      <td>4.000</td>\n",
       "      <td>1758.000</td>\n",
       "      <td>front</td>\n",
       "      <td>Benzine</td>\n",
       "      <td>5.300</td>\n",
       "      <td>139</td>\n",
       "      <td>NaN</td>\n",
       "      <td>Air conditioning,Automatic climate control,Cru...</td>\n",
       "      <td>Bluetooth,Digital radio,Hands-free equipment,O...</td>\n",
       "      <td>Alloy wheels,Touch screen</td>\n",
       "      <td>ABS,Central door lock,Central door lock with r...</td>\n",
       "      <td>Vettura visionabile nella sede in Via Roma 141...</td>\n",
       "      <td>NaN</td>\n",
       "      <td>6.000</td>\n",
       "      <td>NaN</td>\n",
       "      <td>NaN</td>\n",
       "      <td>0.000</td>\n",
       "      <td>20.000</td>\n",
       "      <td>6.000</td>\n",
       "      <td>2.000</td>\n",
       "      <td>19.000</td>\n",
       "    </tr>\n",
       "    <tr>\n",
       "      <th>15915</th>\n",
       "      <td>7</td>\n",
       "      <td>Van</td>\n",
       "      <td>39885</td>\n",
       "      <td>VAT deductible</td>\n",
       "      <td>9900</td>\n",
       "      <td>365</td>\n",
       "      <td>1.000</td>\n",
       "      <td>165.000</td>\n",
       "      <td>Used</td>\n",
       "      <td>NaN</td>\n",
       "      <td>NaN</td>\n",
       "      <td>Grey</td>\n",
       "      <td>Metallic</td>\n",
       "      <td>Stahl-Grau Metallic</td>\n",
       "      <td>Cloth</td>\n",
       "      <td>5.000</td>\n",
       "      <td>5.000</td>\n",
       "      <td>Automatic</td>\n",
       "      <td>1798.000</td>\n",
       "      <td>4.000</td>\n",
       "      <td>1708.000</td>\n",
       "      <td>front</td>\n",
       "      <td>Benzine</td>\n",
       "      <td>NaN</td>\n",
       "      <td>168</td>\n",
       "      <td>NaN</td>\n",
       "      <td>Air conditioning,Automatic climate control,Cru...</td>\n",
       "      <td>Bluetooth,Digital radio,Hands-free equipment,R...</td>\n",
       "      <td>Alloy wheels,Touch screen,Voice Control</td>\n",
       "      <td>ABS,Adaptive Cruise Control,Blind spot monitor...</td>\n",
       "      <td>Dach: Panorama-Glas-Schiebedach, Lackierung: M...</td>\n",
       "      <td>NaN</td>\n",
       "      <td>7.000</td>\n",
       "      <td>Germany</td>\n",
       "      <td>5.000</td>\n",
       "      <td>1.000</td>\n",
       "      <td>23.000</td>\n",
       "      <td>5.000</td>\n",
       "      <td>3.000</td>\n",
       "      <td>19.000</td>\n",
       "    </tr>\n",
       "    <tr>\n",
       "      <th>15916</th>\n",
       "      <td>7</td>\n",
       "      <td>Van</td>\n",
       "      <td>39875</td>\n",
       "      <td>VAT deductible</td>\n",
       "      <td>15</td>\n",
       "      <td>306</td>\n",
       "      <td>1.000</td>\n",
       "      <td>146.000</td>\n",
       "      <td>Pre-registered</td>\n",
       "      <td>True</td>\n",
       "      <td>NaN</td>\n",
       "      <td>White</td>\n",
       "      <td>NaN</td>\n",
       "      <td>arktis-weiß</td>\n",
       "      <td>Full leather</td>\n",
       "      <td>5.000</td>\n",
       "      <td>7.000</td>\n",
       "      <td>Automatic</td>\n",
       "      <td>1997.000</td>\n",
       "      <td>4.000</td>\n",
       "      <td>NaN</td>\n",
       "      <td>front</td>\n",
       "      <td>Diesel</td>\n",
       "      <td>5.300</td>\n",
       "      <td>139</td>\n",
       "      <td>Euro 6d-TEMP</td>\n",
       "      <td>Air conditioning,Armrest,Automatic climate con...</td>\n",
       "      <td>Bluetooth,Hands-free equipment,On-board comput...</td>\n",
       "      <td>Alloy wheels</td>\n",
       "      <td>ABS,Adaptive Cruise Control,Blind spot monitor...</td>\n",
       "      <td>Getriebe:, Automatik,Technik:, Bordcomputer,As...</td>\n",
       "      <td>NaN</td>\n",
       "      <td>6.000</td>\n",
       "      <td>Austria</td>\n",
       "      <td>120.000</td>\n",
       "      <td>1.000</td>\n",
       "      <td>24.000</td>\n",
       "      <td>4.000</td>\n",
       "      <td>1.000</td>\n",
       "      <td>18.000</td>\n",
       "    </tr>\n",
       "    <tr>\n",
       "      <th>15917</th>\n",
       "      <td>7</td>\n",
       "      <td>Van</td>\n",
       "      <td>39700</td>\n",
       "      <td>VAT deductible</td>\n",
       "      <td>10</td>\n",
       "      <td>214</td>\n",
       "      <td>1.000</td>\n",
       "      <td>147.000</td>\n",
       "      <td>Pre-registered</td>\n",
       "      <td>NaN</td>\n",
       "      <td>NaN</td>\n",
       "      <td>Grey</td>\n",
       "      <td>NaN</td>\n",
       "      <td>Grigio</td>\n",
       "      <td>Part leather</td>\n",
       "      <td>5.000</td>\n",
       "      <td>7.000</td>\n",
       "      <td>Automatic</td>\n",
       "      <td>1997.000</td>\n",
       "      <td>4.000</td>\n",
       "      <td>1758.000</td>\n",
       "      <td>front</td>\n",
       "      <td>Diesel</td>\n",
       "      <td>5.300</td>\n",
       "      <td>139</td>\n",
       "      <td>Euro 6</td>\n",
       "      <td>Air conditioning,Automatic climate control,Cru...</td>\n",
       "      <td>Bluetooth,Digital radio,Radio,USB</td>\n",
       "      <td>Alloy wheels,Touch screen</td>\n",
       "      <td>ABS,Blind spot monitor,Driver-side airbag,Elec...</td>\n",
       "      <td>DEK:[2691331],Renault Espace Blue dCi 200CV ED...</td>\n",
       "      <td>NaN</td>\n",
       "      <td>6.000</td>\n",
       "      <td>NaN</td>\n",
       "      <td>NaN</td>\n",
       "      <td>1.000</td>\n",
       "      <td>10.000</td>\n",
       "      <td>4.000</td>\n",
       "      <td>2.000</td>\n",
       "      <td>12.000</td>\n",
       "    </tr>\n",
       "    <tr>\n",
       "      <th>15918</th>\n",
       "      <td>7</td>\n",
       "      <td>Van</td>\n",
       "      <td>40999</td>\n",
       "      <td>VAT deductible</td>\n",
       "      <td>0</td>\n",
       "      <td>365</td>\n",
       "      <td>1.000</td>\n",
       "      <td>165.000</td>\n",
       "      <td>Demonstration</td>\n",
       "      <td>True</td>\n",
       "      <td>NaN</td>\n",
       "      <td>Grey</td>\n",
       "      <td>Metallic</td>\n",
       "      <td>Titanium-Grau Metallic</td>\n",
       "      <td>Full leather</td>\n",
       "      <td>5.000</td>\n",
       "      <td>5.000</td>\n",
       "      <td>Automatic</td>\n",
       "      <td>1798.000</td>\n",
       "      <td>4.000</td>\n",
       "      <td>1685.000</td>\n",
       "      <td>4WD</td>\n",
       "      <td>Benzine</td>\n",
       "      <td>6.800</td>\n",
       "      <td>153</td>\n",
       "      <td>Euro 6</td>\n",
       "      <td>Air conditioning,Automatic climate control,Cru...</td>\n",
       "      <td>USB</td>\n",
       "      <td>Alloy wheels,Touch screen</td>\n",
       "      <td>ABS,Blind spot monitor,Daytime running lights,...</td>\n",
       "      <td>Sicherheit Airbags:, ,Seitenairbag, ,Fahrerair...</td>\n",
       "      <td>4.000</td>\n",
       "      <td>NaN</td>\n",
       "      <td>Germany</td>\n",
       "      <td>NaN</td>\n",
       "      <td>1.000</td>\n",
       "      <td>11.000</td>\n",
       "      <td>1.000</td>\n",
       "      <td>2.000</td>\n",
       "      <td>14.000</td>\n",
       "    </tr>\n",
       "  </tbody>\n",
       "</table>\n",
       "<p>15648 rows × 40 columns</p>\n",
       "</div>"
      ],
      "text/plain": [
       "       make_model body_type  price               vat     km registration  \\\n",
       "0               2    Sedans  15770    VAT deductible  56013         1461   \n",
       "1               2    Sedans  14500  Price negotiable  80000         1036   \n",
       "2               2    Sedans  14640    VAT deductible  83450         1430   \n",
       "3               2    Sedans  14500               NaN  73000         1248   \n",
       "4               2    Sedans  16790               NaN  16200         1340   \n",
       "...           ...       ...    ...               ...    ...          ...   \n",
       "15914           7       Van  39950    VAT deductible      0          nan   \n",
       "15915           7       Van  39885    VAT deductible   9900          365   \n",
       "15916           7       Van  39875    VAT deductible     15          306   \n",
       "15917           7       Van  39700    VAT deductible     10          214   \n",
       "15918           7       Van  40999    VAT deductible      0          365   \n",
       "\n",
       "       prev_owner      hp            type inspection_new  warranty body_color  \\\n",
       "0           2.000  66.000            Used           True       NaN      Black   \n",
       "1           1.000 141.000            Used            NaN       NaN        Red   \n",
       "2           1.000  85.000            Used            NaN       NaN      Black   \n",
       "3           1.000  66.000            Used            NaN       NaN      Brown   \n",
       "4           1.000  66.000            Used           True       NaN      Black   \n",
       "...           ...     ...             ...            ...       ...        ...   \n",
       "15914       1.000 147.000             New            NaN    24.000       Grey   \n",
       "15915       1.000 165.000            Used            NaN       NaN       Grey   \n",
       "15916       1.000 146.000  Pre-registered           True       NaN      White   \n",
       "15917       1.000 147.000  Pre-registered            NaN       NaN       Grey   \n",
       "15918       1.000 165.000   Demonstration           True       NaN       Grey   \n",
       "\n",
       "      paint_type     body_color_original    upholstery  nr_of_doors  \\\n",
       "0       Metallic           Mythosschwarz         Cloth        5.000   \n",
       "1            NaN                     NaN         Cloth        3.000   \n",
       "2       Metallic  mythosschwarz metallic         Cloth        4.000   \n",
       "3       Metallic                     NaN           NaN        3.000   \n",
       "4       Metallic  Mythosschwarz Metallic         Cloth        5.000   \n",
       "...          ...                     ...           ...          ...   \n",
       "15914   Metallic            Grigio scuro           NaN        5.000   \n",
       "15915   Metallic     Stahl-Grau Metallic         Cloth        5.000   \n",
       "15916        NaN             arktis-weiß  Full leather        5.000   \n",
       "15917        NaN                  Grigio  Part leather        5.000   \n",
       "15918   Metallic  Titanium-Grau Metallic  Full leather        5.000   \n",
       "\n",
       "       nr_of_seats gearing_type  displacement  cylinders   weight drive_chain  \\\n",
       "0            5.000    Automatic      1422.000      3.000 1220.000       front   \n",
       "1            4.000    Automatic      1798.000      4.000 1255.000       front   \n",
       "2            4.000    Automatic      1598.000        NaN      NaN       front   \n",
       "3            4.000    Automatic      1422.000      3.000 1195.000         NaN   \n",
       "4            5.000    Automatic      1422.000      3.000      NaN       front   \n",
       "...            ...          ...           ...        ...      ...         ...   \n",
       "15914        5.000    Automatic      1997.000      4.000 1758.000       front   \n",
       "15915        5.000    Automatic      1798.000      4.000 1708.000       front   \n",
       "15916        7.000    Automatic      1997.000      4.000      NaN       front   \n",
       "15917        7.000    Automatic      1997.000      4.000 1758.000       front   \n",
       "15918        5.000    Automatic      1798.000      4.000 1685.000         4WD   \n",
       "\n",
       "          fuel  consumption co_2_emission emission_class  \\\n",
       "0      Benzine        3.800            99         Euro 6   \n",
       "1      Benzine        5.600           129         Euro 6   \n",
       "2      Benzine        3.800            99         Euro 6   \n",
       "3      Benzine        3.800            99         Euro 6   \n",
       "4      Benzine        4.100           109         Euro 6   \n",
       "...        ...          ...           ...            ...   \n",
       "15914  Benzine        5.300           139            NaN   \n",
       "15915  Benzine          NaN           168            NaN   \n",
       "15916   Diesel        5.300           139   Euro 6d-TEMP   \n",
       "15917   Diesel        5.300           139         Euro 6   \n",
       "15918  Benzine        6.800           153         Euro 6   \n",
       "\n",
       "                                   comfort_&_convenience  \\\n",
       "0      Air conditioning,Armrest,Automatic climate con...   \n",
       "1      Air conditioning,Automatic climate control,Hil...   \n",
       "2      Air conditioning,Cruise control,Electrical sid...   \n",
       "3      Air suspension,Armrest,Auxiliary heating,Elect...   \n",
       "4      Air conditioning,Armrest,Automatic climate con...   \n",
       "...                                                  ...   \n",
       "15914  Air conditioning,Automatic climate control,Cru...   \n",
       "15915  Air conditioning,Automatic climate control,Cru...   \n",
       "15916  Air conditioning,Armrest,Automatic climate con...   \n",
       "15917  Air conditioning,Automatic climate control,Cru...   \n",
       "15918  Air conditioning,Automatic climate control,Cru...   \n",
       "\n",
       "                                   entertainment_&_media  \\\n",
       "0      Bluetooth,Hands-free equipment,On-board comput...   \n",
       "1      Bluetooth,Hands-free equipment,On-board comput...   \n",
       "2                                  MP3,On-board computer   \n",
       "3      Bluetooth,CD player,Hands-free equipment,MP3,O...   \n",
       "4      Bluetooth,CD player,Hands-free equipment,MP3,O...   \n",
       "...                                                  ...   \n",
       "15914  Bluetooth,Digital radio,Hands-free equipment,O...   \n",
       "15915  Bluetooth,Digital radio,Hands-free equipment,R...   \n",
       "15916  Bluetooth,Hands-free equipment,On-board comput...   \n",
       "15917                  Bluetooth,Digital radio,Radio,USB   \n",
       "15918                                                USB   \n",
       "\n",
       "                                                  extras  \\\n",
       "0         Alloy wheels,Catalytic Converter,Voice Control   \n",
       "1      Alloy wheels,Sport seats,Sport suspension,Voic...   \n",
       "2                             Alloy wheels,Voice Control   \n",
       "3                 Alloy wheels,Sport seats,Voice Control   \n",
       "4      Alloy wheels,Sport package,Sport suspension,Vo...   \n",
       "...                                                  ...   \n",
       "15914                          Alloy wheels,Touch screen   \n",
       "15915            Alloy wheels,Touch screen,Voice Control   \n",
       "15916                                       Alloy wheels   \n",
       "15917                          Alloy wheels,Touch screen   \n",
       "15918                          Alloy wheels,Touch screen   \n",
       "\n",
       "                                       safety_&_security  \\\n",
       "0      ABS,Central door lock,Daytime running lights,D...   \n",
       "1      ABS,Central door lock,Central door lock with r...   \n",
       "2      ABS,Central door lock,Daytime running lights,D...   \n",
       "3      ABS,Alarm system,Central door lock with remote...   \n",
       "4      ABS,Central door lock,Driver-side airbag,Elect...   \n",
       "...                                                  ...   \n",
       "15914  ABS,Central door lock,Central door lock with r...   \n",
       "15915  ABS,Adaptive Cruise Control,Blind spot monitor...   \n",
       "15916  ABS,Adaptive Cruise Control,Blind spot monitor...   \n",
       "15917  ABS,Blind spot monitor,Driver-side airbag,Elec...   \n",
       "15918  ABS,Blind spot monitor,Daytime running lights,...   \n",
       "\n",
       "                                             description  emission_label  \\\n",
       "0      Sicherheit:, ,Deaktivierung für Beifahrer-Airb...             NaN   \n",
       "1      Langstreckenfahrzeug daher die hohe Kilometerl...           4.000   \n",
       "2      Fahrzeug-Nummer: AM-95365, ,Ehem. UPE 24.640 E...           4.000   \n",
       "3      Audi A1: ,- 1e eigenaar ,- Perfecte staat: sch...             NaN   \n",
       "4      Technik & Sicherheit:,Xenon plus,Klimaautomati...             NaN   \n",
       "...                                                  ...             ...   \n",
       "15914  Vettura visionabile nella sede in Via Roma 141...             NaN   \n",
       "15915  Dach: Panorama-Glas-Schiebedach, Lackierung: M...             NaN   \n",
       "15916  Getriebe:, Automatik,Technik:, Bordcomputer,As...             NaN   \n",
       "15917  DEK:[2691331],Renault Espace Blue dCi 200CV ED...             NaN   \n",
       "15918  Sicherheit Airbags:, ,Seitenairbag, ,Fahrerair...           4.000   \n",
       "\n",
       "       gears country_version  availability   age  \\\n",
       "0        NaN             NaN           NaN 4.000   \n",
       "1      7.000             NaN           NaN 3.000   \n",
       "2        NaN             NaN           NaN 4.000   \n",
       "3      6.000             NaN           NaN 4.000   \n",
       "4        NaN         Germany           NaN 4.000   \n",
       "...      ...             ...           ...   ...   \n",
       "15914  6.000             NaN           NaN 0.000   \n",
       "15915  7.000         Germany         5.000 1.000   \n",
       "15916  6.000         Austria       120.000 1.000   \n",
       "15917  6.000             NaN           NaN 1.000   \n",
       "15918    NaN         Germany           NaN 1.000   \n",
       "\n",
       "       number_of_comfort_convenience  number_of_entertainment_media  \\\n",
       "0                             16.000                          4.000   \n",
       "1                              9.000                          5.000   \n",
       "2                             13.000                          2.000   \n",
       "3                             16.000                          8.000   \n",
       "4                             13.000                          7.000   \n",
       "...                              ...                            ...   \n",
       "15914                         20.000                          6.000   \n",
       "15915                         23.000                          5.000   \n",
       "15916                         24.000                          4.000   \n",
       "15917                         10.000                          4.000   \n",
       "15918                         11.000                          1.000   \n",
       "\n",
       "       number_of_extras  number_of_safety_security  \n",
       "0                 3.000                     14.000  \n",
       "1                 4.000                     15.000  \n",
       "2                 2.000                     12.000  \n",
       "3                 3.000                     14.000  \n",
       "4                 4.000                     13.000  \n",
       "...                 ...                        ...  \n",
       "15914             2.000                     19.000  \n",
       "15915             3.000                     19.000  \n",
       "15916             1.000                     18.000  \n",
       "15917             2.000                     12.000  \n",
       "15918             2.000                     14.000  \n",
       "\n",
       "[15648 rows x 40 columns]"
      ]
     },
     "execution_count": 345,
     "metadata": {},
     "output_type": "execute_result"
    }
   ],
   "source": [
    "df"
   ]
  },
  {
   "cell_type": "code",
   "execution_count": 346,
   "metadata": {},
   "outputs": [
    {
     "data": {
      "text/plain": [
       "(15648, 40)"
      ]
     },
     "execution_count": 346,
     "metadata": {},
     "output_type": "execute_result"
    }
   ],
   "source": [
    "df.shape"
   ]
  },
  {
   "cell_type": "code",
   "execution_count": 347,
   "metadata": {},
   "outputs": [
    {
     "name": "stdout",
     "output_type": "stream",
     "text": [
      "<class 'pandas.core.frame.DataFrame'>\n",
      "Int64Index: 15648 entries, 0 to 15918\n",
      "Data columns (total 40 columns):\n",
      " #   Column                         Non-Null Count  Dtype  \n",
      "---  ------                         --------------  -----  \n",
      " 0   make_model                     15648 non-null  int64  \n",
      " 1   body_type                      15648 non-null  object \n",
      " 2   price                          15648 non-null  int64  \n",
      " 3   vat                            11221 non-null  object \n",
      " 4   km                             15648 non-null  int64  \n",
      " 5   registration                   15648 non-null  object \n",
      " 6   prev_owner                     15648 non-null  float64\n",
      " 7   hp                             15566 non-null  float64\n",
      " 8   type                           15646 non-null  object \n",
      " 9   inspection_new                 3920 non-null   object \n",
      " 10  warranty                       4792 non-null   float64\n",
      " 11  body_color                     15055 non-null  object \n",
      " 12  paint_type                     10036 non-null  object \n",
      " 13  body_color_original            11953 non-null  object \n",
      " 14  upholstery                     11338 non-null  object \n",
      " 15  nr_of_doors                    15648 non-null  float64\n",
      " 16  nr_of_seats                    14885 non-null  float64\n",
      " 17  gearing_type                   15648 non-null  object \n",
      " 18  displacement                   15310 non-null  float64\n",
      " 19  cylinders                      10187 non-null  float64\n",
      " 20  weight                         8913 non-null   float64\n",
      " 21  drive_chain                    9017 non-null   object \n",
      " 22  fuel                           15648 non-null  object \n",
      " 23  consumption                    12958 non-null  float64\n",
      " 24  co_2_emission                  13403 non-null  object \n",
      " 25  emission_class                 12228 non-null  object \n",
      " 26  comfort_&_convenience          14840 non-null  object \n",
      " 27  entertainment_&_media          14423 non-null  object \n",
      " 28  extras                         12855 non-null  object \n",
      " 29  safety_&_security              14784 non-null  object \n",
      " 30  description                    14997 non-null  object \n",
      " 31  emission_label                 3923 non-null   float64\n",
      " 32  gears                          11133 non-null  float64\n",
      " 33  country_version                7543 non-null   object \n",
      " 34  availability                   632 non-null    float64\n",
      " 35  age                            15648 non-null  float64\n",
      " 36  number_of_comfort_convenience  14840 non-null  float64\n",
      " 37  number_of_entertainment_media  14423 non-null  float64\n",
      " 38  number_of_extras               12855 non-null  float64\n",
      " 39  number_of_safety_security      14784 non-null  float64\n",
      "dtypes: float64(17), int64(3), object(20)\n",
      "memory usage: 4.9+ MB\n"
     ]
    }
   ],
   "source": [
    "df.info()"
   ]
  },
  {
   "cell_type": "markdown",
   "metadata": {},
   "source": [
    "# SAYISALLAŞTIRMA"
   ]
  },
  {
   "cell_type": "code",
   "execution_count": 348,
   "metadata": {},
   "outputs": [
    {
     "data": {
      "text/plain": [
       "VAT deductible      10801\n",
       "Price negotiable      420\n",
       "Name: vat, dtype: int64"
      ]
     },
     "execution_count": 348,
     "metadata": {},
     "output_type": "execute_result"
    }
   ],
   "source": [
    "df['vat'].value_counts()"
   ]
  },
  {
   "cell_type": "code",
   "execution_count": 349,
   "metadata": {},
   "outputs": [
    {
     "data": {
      "text/plain": [
       "0          VAT deductible\n",
       "1        Price negotiable\n",
       "2          VAT deductible\n",
       "3                     nan\n",
       "4                     nan\n",
       "               ...       \n",
       "15914      VAT deductible\n",
       "15915      VAT deductible\n",
       "15916      VAT deductible\n",
       "15917      VAT deductible\n",
       "15918      VAT deductible\n",
       "Name: vat, Length: 15648, dtype: object"
      ]
     },
     "execution_count": 349,
     "metadata": {},
     "output_type": "execute_result"
    }
   ],
   "source": [
    "df['vat'].astype(str)"
   ]
  },
  {
   "cell_type": "code",
   "execution_count": 350,
   "metadata": {},
   "outputs": [
    {
     "data": {
      "text/plain": [
       "1.000    10801\n",
       "2.000      420\n",
       "Name: vat, dtype: int64"
      ]
     },
     "execution_count": 350,
     "metadata": {},
     "output_type": "execute_result"
    }
   ],
   "source": [
    "df['vat']= df['vat'].replace(to_replace=['VAT deductible','Price negotiable'], value=[1,2])\n",
    "df['vat'].value_counts()"
   ]
  },
  {
   "cell_type": "markdown",
   "metadata": {},
   "source": [
    "# --------------------------------"
   ]
  },
  {
   "cell_type": "code",
   "execution_count": 351,
   "metadata": {},
   "outputs": [
    {
     "data": {
      "text/plain": [
       "593"
      ]
     },
     "execution_count": 351,
     "metadata": {},
     "output_type": "execute_result"
    }
   ],
   "source": [
    "df['body_color'].isnull().sum()"
   ]
  },
  {
   "cell_type": "code",
   "execution_count": 352,
   "metadata": {},
   "outputs": [
    {
     "data": {
      "text/plain": [
       "0        Black\n",
       "1          Red\n",
       "2        Black\n",
       "3        Brown\n",
       "4        Black\n",
       "         ...  \n",
       "15914     Grey\n",
       "15915     Grey\n",
       "15916    White\n",
       "15917     Grey\n",
       "15918     Grey\n",
       "Name: body_color, Length: 15648, dtype: object"
      ]
     },
     "execution_count": 352,
     "metadata": {},
     "output_type": "execute_result"
    }
   ],
   "source": [
    "df['body_color'].astype(str)"
   ]
  },
  {
   "cell_type": "code",
   "execution_count": 353,
   "metadata": {},
   "outputs": [
    {
     "data": {
      "text/plain": [
       "1.000     3697\n",
       "2.000     3444\n",
       "3.000     3301\n",
       "4.000     1635\n",
       "5.000     1413\n",
       "6.000      944\n",
       "7.000      288\n",
       "8.000      153\n",
       "9.000      101\n",
       "10.000      51\n",
       "11.000      17\n",
       "12.000       6\n",
       "13.000       3\n",
       "14.000       2\n",
       "Name: body_color, dtype: int64"
      ]
     },
     "execution_count": 353,
     "metadata": {},
     "output_type": "execute_result"
    }
   ],
   "source": [
    "df['body_color']= df['body_color'].replace(to_replace=['Black', 'Grey', 'White', 'Silver', 'Blue', 'Red', 'Brown', 'Green', 'Beige', 'Yellow', 'Violet', 'Bronze', 'Orange', 'Gold'], value=[1,2,3,4,5,6,7,8,9,10,11,12,13,14])\n",
    "df['body_color'].value_counts()"
   ]
  },
  {
   "cell_type": "markdown",
   "metadata": {},
   "source": [
    "# --------------------------------"
   ]
  },
  {
   "cell_type": "code",
   "execution_count": 354,
   "metadata": {},
   "outputs": [
    {
     "data": {
      "text/plain": [
       "Onyx Schwarz                     337\n",
       "Bianco                           234\n",
       "Mythosschwarz Metallic           230\n",
       "Brillantschwarz                  216\n",
       "Quarz Grau                       200\n",
       "                                ... \n",
       "White & Black                      1\n",
       "BLAU                               1\n",
       "Schneeweiss / Dach Schwarz         1\n",
       "Premium Tiefsee Blau               1\n",
       "Perlmutt-Weiß Metallic (Weiß)      1\n",
       "Name: body_color_original, Length: 1912, dtype: int64"
      ]
     },
     "execution_count": 354,
     "metadata": {},
     "output_type": "execute_result"
    }
   ],
   "source": [
    "df['body_color_original'].value_counts()"
   ]
  },
  {
   "cell_type": "code",
   "execution_count": 355,
   "metadata": {},
   "outputs": [],
   "source": [
    "to_drop = ['body_color_original']\n",
    "df.drop(to_drop, inplace = True, axis = 1)"
   ]
  },
  {
   "cell_type": "markdown",
   "metadata": {},
   "source": [
    "# --------------------------------"
   ]
  },
  {
   "cell_type": "code",
   "execution_count": 356,
   "metadata": {},
   "outputs": [
    {
     "data": {
      "text/plain": [
       "Used              10874\n",
       "New                1626\n",
       "Pre-registered     1356\n",
       "Employee's car     1009\n",
       "Demonstration       781\n",
       "Name: type, dtype: int64"
      ]
     },
     "execution_count": 356,
     "metadata": {},
     "output_type": "execute_result"
    }
   ],
   "source": [
    "df['type'].value_counts()"
   ]
  },
  {
   "cell_type": "code",
   "execution_count": 357,
   "metadata": {},
   "outputs": [
    {
     "data": {
      "text/plain": [
       "0                  Used\n",
       "1                  Used\n",
       "2                  Used\n",
       "3                  Used\n",
       "4                  Used\n",
       "              ...      \n",
       "15914               New\n",
       "15915              Used\n",
       "15916    Pre-registered\n",
       "15917    Pre-registered\n",
       "15918     Demonstration\n",
       "Name: type, Length: 15648, dtype: object"
      ]
     },
     "execution_count": 357,
     "metadata": {},
     "output_type": "execute_result"
    }
   ],
   "source": [
    "df['type'].astype(str)"
   ]
  },
  {
   "cell_type": "code",
   "execution_count": 358,
   "metadata": {},
   "outputs": [
    {
     "data": {
      "text/plain": [
       "1.000    10874\n",
       "2.000     1626\n",
       "3.000     1356\n",
       "4.000     1009\n",
       "5.000      781\n",
       "Name: type, dtype: int64"
      ]
     },
     "execution_count": 358,
     "metadata": {},
     "output_type": "execute_result"
    }
   ],
   "source": [
    "df['type']= df['type'].replace(to_replace=['Used', 'New', 'Pre-registered', \"Employee's car\", 'Demonstration'], value=[1,2,3,4,5])\n",
    "df['type'].value_counts()"
   ]
  },
  {
   "cell_type": "markdown",
   "metadata": {},
   "source": [
    "# --------------------------------"
   ]
  },
  {
   "cell_type": "code",
   "execution_count": 359,
   "metadata": {},
   "outputs": [
    {
     "data": {
      "text/plain": [
       "Metallic       9693\n",
       "Uni/basic       338\n",
       "Perl effect       5\n",
       "Name: paint_type, dtype: int64"
      ]
     },
     "execution_count": 359,
     "metadata": {},
     "output_type": "execute_result"
    }
   ],
   "source": [
    "df['paint_type'].value_counts()"
   ]
  },
  {
   "cell_type": "code",
   "execution_count": 360,
   "metadata": {},
   "outputs": [
    {
     "data": {
      "text/plain": [
       "0        Metallic\n",
       "1             nan\n",
       "2        Metallic\n",
       "3        Metallic\n",
       "4        Metallic\n",
       "           ...   \n",
       "15914    Metallic\n",
       "15915    Metallic\n",
       "15916         nan\n",
       "15917         nan\n",
       "15918    Metallic\n",
       "Name: paint_type, Length: 15648, dtype: object"
      ]
     },
     "execution_count": 360,
     "metadata": {},
     "output_type": "execute_result"
    }
   ],
   "source": [
    "df['paint_type'].astype(str)"
   ]
  },
  {
   "cell_type": "code",
   "execution_count": 361,
   "metadata": {},
   "outputs": [
    {
     "data": {
      "text/plain": [
       "1.000    9693\n",
       "2.000     338\n",
       "3.000       5\n",
       "Name: paint_type, dtype: int64"
      ]
     },
     "execution_count": 361,
     "metadata": {},
     "output_type": "execute_result"
    }
   ],
   "source": [
    "df['paint_type']= df['paint_type'].replace(to_replace=['Metallic', 'Uni/basic', 'Perl effect'], value=[1,2,3])\n",
    "df['paint_type'].value_counts()"
   ]
  },
  {
   "cell_type": "markdown",
   "metadata": {},
   "source": [
    "# --------------------------------"
   ]
  },
  {
   "cell_type": "code",
   "execution_count": 362,
   "metadata": {},
   "outputs": [
    {
     "data": {
      "text/plain": [
       "front    8842\n",
       "4WD       171\n",
       "rear        4\n",
       "Name: drive_chain, dtype: int64"
      ]
     },
     "execution_count": 362,
     "metadata": {},
     "output_type": "execute_result"
    }
   ],
   "source": [
    "df['drive_chain'].value_counts()"
   ]
  },
  {
   "cell_type": "code",
   "execution_count": 363,
   "metadata": {},
   "outputs": [
    {
     "data": {
      "text/plain": [
       "0        front\n",
       "1        front\n",
       "2        front\n",
       "3          nan\n",
       "4        front\n",
       "         ...  \n",
       "15914    front\n",
       "15915    front\n",
       "15916    front\n",
       "15917    front\n",
       "15918      4WD\n",
       "Name: drive_chain, Length: 15648, dtype: object"
      ]
     },
     "execution_count": 363,
     "metadata": {},
     "output_type": "execute_result"
    }
   ],
   "source": [
    "df['drive_chain'].astype(str)"
   ]
  },
  {
   "cell_type": "code",
   "execution_count": 364,
   "metadata": {},
   "outputs": [
    {
     "data": {
      "text/plain": [
       "1.000    8842\n",
       "2.000     171\n",
       "3.000       4\n",
       "Name: drive_chain, dtype: int64"
      ]
     },
     "execution_count": 364,
     "metadata": {},
     "output_type": "execute_result"
    }
   ],
   "source": [
    "df['drive_chain']= df['drive_chain'].replace(to_replace=['front', '4WD', 'rear'], value=[1,2,3])\n",
    "df['drive_chain'].value_counts()"
   ]
  },
  {
   "cell_type": "markdown",
   "metadata": {},
   "source": [
    "# --------------------------------"
   ]
  },
  {
   "cell_type": "markdown",
   "metadata": {},
   "source": []
  },
  {
   "cell_type": "code",
   "execution_count": 365,
   "metadata": {},
   "outputs": [
    {
     "data": {
      "text/plain": [
       "Sedans           7782\n",
       "Station wagon    3519\n",
       "Compact          3115\n",
       "Van               772\n",
       "Other             286\n",
       "Transporter        87\n",
       "Off-Road           55\n",
       "Coupe              24\n",
       "Convertible         8\n",
       "Name: body_type, dtype: int64"
      ]
     },
     "execution_count": 365,
     "metadata": {},
     "output_type": "execute_result"
    }
   ],
   "source": [
    "df['body_type'].value_counts()"
   ]
  },
  {
   "cell_type": "code",
   "execution_count": 366,
   "metadata": {},
   "outputs": [
    {
     "data": {
      "text/plain": [
       "0        Sedans\n",
       "1        Sedans\n",
       "2        Sedans\n",
       "3        Sedans\n",
       "4        Sedans\n",
       "          ...  \n",
       "15914       Van\n",
       "15915       Van\n",
       "15916       Van\n",
       "15917       Van\n",
       "15918       Van\n",
       "Name: body_type, Length: 15648, dtype: object"
      ]
     },
     "execution_count": 366,
     "metadata": {},
     "output_type": "execute_result"
    }
   ],
   "source": [
    "df['body_type'].astype(str)"
   ]
  },
  {
   "cell_type": "code",
   "execution_count": 367,
   "metadata": {},
   "outputs": [
    {
     "data": {
      "text/plain": [
       "1    7782\n",
       "2    3519\n",
       "3    3115\n",
       "4     772\n",
       "5     286\n",
       "6      87\n",
       "7      55\n",
       "8      24\n",
       "9       8\n",
       "Name: body_type, dtype: int64"
      ]
     },
     "execution_count": 367,
     "metadata": {},
     "output_type": "execute_result"
    }
   ],
   "source": [
    "df['body_type']= df['body_type'].replace(to_replace=['Sedans', 'Station wagon', 'Compact', 'Van', 'Other', 'Transporter', 'Off-Road', 'Coupe', 'Convertible'], value=[1,2,3,4,5,6,7,8,9])\n",
    "df['body_type'].value_counts()"
   ]
  },
  {
   "cell_type": "markdown",
   "metadata": {},
   "source": [
    "# --------------------------------"
   ]
  },
  {
   "cell_type": "code",
   "execution_count": 368,
   "metadata": {},
   "outputs": [
    {
     "data": {
      "text/plain": [
       "Manual            7995\n",
       "Automatic         7184\n",
       "Semi-automatic     469\n",
       "Name: gearing_type, dtype: int64"
      ]
     },
     "execution_count": 368,
     "metadata": {},
     "output_type": "execute_result"
    }
   ],
   "source": [
    "df['gearing_type'].value_counts()"
   ]
  },
  {
   "cell_type": "code",
   "execution_count": 369,
   "metadata": {},
   "outputs": [
    {
     "data": {
      "text/plain": [
       "0        Automatic\n",
       "1        Automatic\n",
       "2        Automatic\n",
       "3        Automatic\n",
       "4        Automatic\n",
       "           ...    \n",
       "15914    Automatic\n",
       "15915    Automatic\n",
       "15916    Automatic\n",
       "15917    Automatic\n",
       "15918    Automatic\n",
       "Name: gearing_type, Length: 15648, dtype: object"
      ]
     },
     "execution_count": 369,
     "metadata": {},
     "output_type": "execute_result"
    }
   ],
   "source": [
    "df['gearing_type'].astype(str)"
   ]
  },
  {
   "cell_type": "code",
   "execution_count": 370,
   "metadata": {},
   "outputs": [
    {
     "data": {
      "text/plain": [
       "1    7995\n",
       "2    7184\n",
       "3     469\n",
       "Name: gearing_type, dtype: int64"
      ]
     },
     "execution_count": 370,
     "metadata": {},
     "output_type": "execute_result"
    }
   ],
   "source": [
    "df['gearing_type']= df['gearing_type'].replace(to_replace=['Manual', 'Automatic', 'Semi-automatic'], value=[1,2,3])\n",
    "df['gearing_type'].value_counts()"
   ]
  },
  {
   "cell_type": "markdown",
   "metadata": {},
   "source": [
    "# --------------------------------"
   ]
  },
  {
   "cell_type": "code",
   "execution_count": 371,
   "metadata": {},
   "outputs": [
    {
     "data": {
      "text/plain": [
       "Benzine     12759\n",
       "Diesel       2825\n",
       "LPG/CNG        59\n",
       "Electric        5\n",
       "Name: fuel, dtype: int64"
      ]
     },
     "execution_count": 371,
     "metadata": {},
     "output_type": "execute_result"
    }
   ],
   "source": [
    "df['fuel'].value_counts()"
   ]
  },
  {
   "cell_type": "code",
   "execution_count": 372,
   "metadata": {},
   "outputs": [
    {
     "data": {
      "text/plain": [
       "0        Benzine\n",
       "1        Benzine\n",
       "2        Benzine\n",
       "3        Benzine\n",
       "4        Benzine\n",
       "          ...   \n",
       "15914    Benzine\n",
       "15915    Benzine\n",
       "15916     Diesel\n",
       "15917     Diesel\n",
       "15918    Benzine\n",
       "Name: fuel, Length: 15648, dtype: object"
      ]
     },
     "execution_count": 372,
     "metadata": {},
     "output_type": "execute_result"
    }
   ],
   "source": [
    "df['fuel'].astype(str)"
   ]
  },
  {
   "cell_type": "code",
   "execution_count": 373,
   "metadata": {},
   "outputs": [
    {
     "data": {
      "text/plain": [
       "1    12759\n",
       "2     2825\n",
       "3       59\n",
       "4        5\n",
       "Name: fuel, dtype: int64"
      ]
     },
     "execution_count": 373,
     "metadata": {},
     "output_type": "execute_result"
    }
   ],
   "source": [
    "df['fuel']= df['fuel'].replace(to_replace=['Benzine', 'Diesel', 'LPG/CNG', 'Electric'], value=[1,2,3, 4])\n",
    "df['fuel'].value_counts()"
   ]
  },
  {
   "cell_type": "markdown",
   "metadata": {},
   "source": [
    "# --------------------------------"
   ]
  },
  {
   "cell_type": "code",
   "execution_count": 374,
   "metadata": {},
   "outputs": [
    {
     "data": {
      "text/plain": [
       "Euro 6          10089\n",
       "Euro 6d-TEMP     1837\n",
       "Euro 6c           124\n",
       "Euro 5             78\n",
       "Euro 6d            62\n",
       "Euro 4             38\n",
       "Name: emission_class, dtype: int64"
      ]
     },
     "execution_count": 374,
     "metadata": {},
     "output_type": "execute_result"
    }
   ],
   "source": [
    "df['emission_class'].value_counts()"
   ]
  },
  {
   "cell_type": "code",
   "execution_count": 375,
   "metadata": {},
   "outputs": [
    {
     "data": {
      "text/plain": [
       "0              Euro 6\n",
       "1              Euro 6\n",
       "2              Euro 6\n",
       "3              Euro 6\n",
       "4              Euro 6\n",
       "             ...     \n",
       "15914             nan\n",
       "15915             nan\n",
       "15916    Euro 6d-TEMP\n",
       "15917          Euro 6\n",
       "15918          Euro 6\n",
       "Name: emission_class, Length: 15648, dtype: object"
      ]
     },
     "execution_count": 375,
     "metadata": {},
     "output_type": "execute_result"
    }
   ],
   "source": [
    "df['emission_class'].astype(str)"
   ]
  },
  {
   "cell_type": "code",
   "execution_count": 376,
   "metadata": {},
   "outputs": [
    {
     "data": {
      "text/plain": [
       "1.000    10089\n",
       "2.000     1837\n",
       "3.000      124\n",
       "4.000       78\n",
       "5.000       62\n",
       "6.000       38\n",
       "Name: emission_class, dtype: int64"
      ]
     },
     "execution_count": 376,
     "metadata": {},
     "output_type": "execute_result"
    }
   ],
   "source": [
    "df['emission_class']= df['emission_class'].replace(to_replace=['Euro 6', 'Euro 6d-TEMP', 'Euro 6c', 'Euro 5', 'Euro 6d', 'Euro 4'], value=[1,2,3,4,5,6])\n",
    "df['emission_class'].value_counts()"
   ]
  },
  {
   "cell_type": "markdown",
   "metadata": {},
   "source": [
    "# --------------------------------"
   ]
  },
  {
   "cell_type": "code",
   "execution_count": 377,
   "metadata": {},
   "outputs": [
    {
     "data": {
      "text/plain": [
       "4.000    3535\n",
       "1.000     377\n",
       "5.000       8\n",
       "3.000       2\n",
       "2.000       1\n",
       "Name: emission_label, dtype: int64"
      ]
     },
     "execution_count": 377,
     "metadata": {},
     "output_type": "execute_result"
    }
   ],
   "source": [
    "df['emission_label'].value_counts()"
   ]
  },
  {
   "cell_type": "code",
   "execution_count": 378,
   "metadata": {},
   "outputs": [
    {
     "data": {
      "text/plain": [
       "0        nan\n",
       "1        4.0\n",
       "2        4.0\n",
       "3        nan\n",
       "4        nan\n",
       "        ... \n",
       "15914    nan\n",
       "15915    nan\n",
       "15916    nan\n",
       "15917    nan\n",
       "15918    4.0\n",
       "Name: emission_label, Length: 15648, dtype: object"
      ]
     },
     "execution_count": 378,
     "metadata": {},
     "output_type": "execute_result"
    }
   ],
   "source": [
    "df['emission_label'].astype(str)"
   ]
  },
  {
   "cell_type": "code",
   "execution_count": 379,
   "metadata": {},
   "outputs": [
    {
     "data": {
      "text/plain": [
       "4.000    3535\n",
       "1.000     377\n",
       "5.000       8\n",
       "3.000       2\n",
       "2.000       1\n",
       "Name: emission_label, dtype: int64"
      ]
     },
     "execution_count": 379,
     "metadata": {},
     "output_type": "execute_result"
    }
   ],
   "source": [
    "df['emission_label']= df['emission_label'].replace(to_replace=['Green', 'No sticker', 'Blue', 'Yellow', 'Red'], value=[1,2,3,4,5])\n",
    "df['emission_label'].value_counts()"
   ]
  },
  {
   "cell_type": "markdown",
   "metadata": {},
   "source": [
    "# --------------------------------"
   ]
  },
  {
   "cell_type": "code",
   "execution_count": 380,
   "metadata": {},
   "outputs": [
    {
     "data": {
      "text/plain": [
       "Germany           4478\n",
       "Italy             1029\n",
       "European Union     506\n",
       "Netherlands        464\n",
       "Spain              325\n",
       "Belgium            312\n",
       "Austria            203\n",
       "Czech Republic      52\n",
       "Poland              49\n",
       "France              36\n",
       "Denmark             33\n",
       "Hungary             28\n",
       "Japan                8\n",
       "Slovakia             4\n",
       "Croatia              4\n",
       "Sweden               3\n",
       "Romania              2\n",
       "Bulgaria             2\n",
       "Luxembourg           1\n",
       "Switzerland          1\n",
       "Slovenia             1\n",
       "Egypt                1\n",
       "Serbia               1\n",
       "Name: country_version, dtype: int64"
      ]
     },
     "execution_count": 380,
     "metadata": {},
     "output_type": "execute_result"
    }
   ],
   "source": [
    "df['country_version'].value_counts()"
   ]
  },
  {
   "cell_type": "code",
   "execution_count": 381,
   "metadata": {},
   "outputs": [
    {
     "data": {
      "text/plain": [
       "0            nan\n",
       "1            nan\n",
       "2            nan\n",
       "3            nan\n",
       "4        Germany\n",
       "          ...   \n",
       "15914        nan\n",
       "15915    Germany\n",
       "15916    Austria\n",
       "15917        nan\n",
       "15918    Germany\n",
       "Name: country_version, Length: 15648, dtype: object"
      ]
     },
     "execution_count": 381,
     "metadata": {},
     "output_type": "execute_result"
    }
   ],
   "source": [
    "df['country_version'].astype(str)"
   ]
  },
  {
   "cell_type": "code",
   "execution_count": 382,
   "metadata": {},
   "outputs": [
    {
     "data": {
      "text/plain": [
       "23.000    4478\n",
       "22.000    1029\n",
       "21.000     506\n",
       "20.000     464\n",
       "19.000     325\n",
       "18.000     312\n",
       "17.000     203\n",
       "16.000      52\n",
       "15.000      49\n",
       "14.000      36\n",
       "13.000      33\n",
       "12.000      28\n",
       "11.000       8\n",
       "10.000       4\n",
       "9.000        4\n",
       "8.000        3\n",
       "7.000        2\n",
       "6.000        2\n",
       "5.000        1\n",
       "4.000        1\n",
       "3.000        1\n",
       "2.000        1\n",
       "1.000        1\n",
       "Name: country_version, dtype: int64"
      ]
     },
     "execution_count": 382,
     "metadata": {},
     "output_type": "execute_result"
    }
   ],
   "source": [
    "df['country_version']= df['country_version'].replace(to_replace=['Serbia', 'Egypt', 'Slovenia', 'Switzerland', 'Luxembourg', 'Bulgaria', 'Romania', 'Sweden', 'Croatia', 'Slovakia', 'Japan', 'Hungary', 'Denmark', 'France', 'Poland', 'Czech Republic', 'Austria', 'Belgium', 'Spain', 'Netherlands', 'European Union', 'Italy', 'Germany'], value=[1,2,3,4,5,6,7,8,9,10,11,12,13,14,15,16,17,18,19,20, 21,22,23])\n",
    "df['country_version'].value_counts()"
   ]
  },
  {
   "cell_type": "markdown",
   "metadata": {},
   "source": [
    "# --------------------------------"
   ]
  },
  {
   "cell_type": "code",
   "execution_count": 383,
   "metadata": {},
   "outputs": [
    {
     "data": {
      "text/plain": [
       "Cloth           8362\n",
       "Part leather    1494\n",
       "Full leather    1001\n",
       "Other            366\n",
       "Velour            58\n",
       "alcantara         57\n",
       "Name: upholstery, dtype: int64"
      ]
     },
     "execution_count": 383,
     "metadata": {},
     "output_type": "execute_result"
    }
   ],
   "source": [
    "df['upholstery'].value_counts()"
   ]
  },
  {
   "cell_type": "code",
   "execution_count": 384,
   "metadata": {},
   "outputs": [
    {
     "data": {
      "text/plain": [
       "0               Cloth\n",
       "1               Cloth\n",
       "2               Cloth\n",
       "3                 nan\n",
       "4               Cloth\n",
       "             ...     \n",
       "15914             nan\n",
       "15915           Cloth\n",
       "15916    Full leather\n",
       "15917    Part leather\n",
       "15918    Full leather\n",
       "Name: upholstery, Length: 15648, dtype: object"
      ]
     },
     "execution_count": 384,
     "metadata": {},
     "output_type": "execute_result"
    }
   ],
   "source": [
    "df['upholstery'].astype(str)"
   ]
  },
  {
   "cell_type": "code",
   "execution_count": 385,
   "metadata": {},
   "outputs": [
    {
     "data": {
      "text/plain": [
       "1.000    8362\n",
       "2.000    1494\n",
       "3.000    1001\n",
       "4.000     366\n",
       "5.000      58\n",
       "6.000      57\n",
       "Name: upholstery, dtype: int64"
      ]
     },
     "execution_count": 385,
     "metadata": {},
     "output_type": "execute_result"
    }
   ],
   "source": [
    "df['upholstery']= df['upholstery'].replace(to_replace=['Cloth', 'Part leather', 'Full leather', 'Other', 'Velour', 'alcantara'], value=[1,2,3,4,5,6])\n",
    "df['upholstery'].value_counts()"
   ]
  },
  {
   "cell_type": "markdown",
   "metadata": {},
   "source": [
    "# --------------------------------"
   ]
  },
  {
   "cell_type": "code",
   "execution_count": 386,
   "metadata": {},
   "outputs": [
    {
     "data": {
      "text/html": [
       "<div>\n",
       "<style scoped>\n",
       "    .dataframe tbody tr th:only-of-type {\n",
       "        vertical-align: middle;\n",
       "    }\n",
       "\n",
       "    .dataframe tbody tr th {\n",
       "        vertical-align: top;\n",
       "    }\n",
       "\n",
       "    .dataframe thead th {\n",
       "        text-align: right;\n",
       "    }\n",
       "</style>\n",
       "<table border=\"1\" class=\"dataframe\">\n",
       "  <thead>\n",
       "    <tr style=\"text-align: right;\">\n",
       "      <th></th>\n",
       "      <th>make_model</th>\n",
       "      <th>body_type</th>\n",
       "      <th>price</th>\n",
       "      <th>vat</th>\n",
       "      <th>km</th>\n",
       "      <th>registration</th>\n",
       "      <th>prev_owner</th>\n",
       "      <th>hp</th>\n",
       "      <th>type</th>\n",
       "      <th>inspection_new</th>\n",
       "      <th>warranty</th>\n",
       "      <th>body_color</th>\n",
       "      <th>paint_type</th>\n",
       "      <th>upholstery</th>\n",
       "      <th>nr_of_doors</th>\n",
       "      <th>nr_of_seats</th>\n",
       "      <th>gearing_type</th>\n",
       "      <th>displacement</th>\n",
       "      <th>cylinders</th>\n",
       "      <th>weight</th>\n",
       "      <th>drive_chain</th>\n",
       "      <th>fuel</th>\n",
       "      <th>consumption</th>\n",
       "      <th>co_2_emission</th>\n",
       "      <th>emission_class</th>\n",
       "      <th>comfort_&amp;_convenience</th>\n",
       "      <th>entertainment_&amp;_media</th>\n",
       "      <th>extras</th>\n",
       "      <th>safety_&amp;_security</th>\n",
       "      <th>description</th>\n",
       "      <th>emission_label</th>\n",
       "      <th>gears</th>\n",
       "      <th>country_version</th>\n",
       "      <th>availability</th>\n",
       "      <th>age</th>\n",
       "      <th>number_of_comfort_convenience</th>\n",
       "      <th>number_of_entertainment_media</th>\n",
       "      <th>number_of_extras</th>\n",
       "      <th>number_of_safety_security</th>\n",
       "    </tr>\n",
       "  </thead>\n",
       "  <tbody>\n",
       "    <tr>\n",
       "      <th>0</th>\n",
       "      <td>2</td>\n",
       "      <td>1</td>\n",
       "      <td>15770</td>\n",
       "      <td>1.000</td>\n",
       "      <td>56013</td>\n",
       "      <td>1461</td>\n",
       "      <td>2.000</td>\n",
       "      <td>66.000</td>\n",
       "      <td>1.000</td>\n",
       "      <td>True</td>\n",
       "      <td>NaN</td>\n",
       "      <td>1.000</td>\n",
       "      <td>1.000</td>\n",
       "      <td>1.000</td>\n",
       "      <td>5.000</td>\n",
       "      <td>5.000</td>\n",
       "      <td>2</td>\n",
       "      <td>1422.000</td>\n",
       "      <td>3.000</td>\n",
       "      <td>1220.000</td>\n",
       "      <td>1.000</td>\n",
       "      <td>1</td>\n",
       "      <td>3.800</td>\n",
       "      <td>99</td>\n",
       "      <td>1.000</td>\n",
       "      <td>Air conditioning,Armrest,Automatic climate con...</td>\n",
       "      <td>Bluetooth,Hands-free equipment,On-board comput...</td>\n",
       "      <td>Alloy wheels,Catalytic Converter,Voice Control</td>\n",
       "      <td>ABS,Central door lock,Daytime running lights,D...</td>\n",
       "      <td>Sicherheit:, ,Deaktivierung für Beifahrer-Airb...</td>\n",
       "      <td>NaN</td>\n",
       "      <td>NaN</td>\n",
       "      <td>NaN</td>\n",
       "      <td>NaN</td>\n",
       "      <td>4.000</td>\n",
       "      <td>16.000</td>\n",
       "      <td>4.000</td>\n",
       "      <td>3.000</td>\n",
       "      <td>14.000</td>\n",
       "    </tr>\n",
       "    <tr>\n",
       "      <th>1</th>\n",
       "      <td>2</td>\n",
       "      <td>1</td>\n",
       "      <td>14500</td>\n",
       "      <td>2.000</td>\n",
       "      <td>80000</td>\n",
       "      <td>1036</td>\n",
       "      <td>1.000</td>\n",
       "      <td>141.000</td>\n",
       "      <td>1.000</td>\n",
       "      <td>NaN</td>\n",
       "      <td>NaN</td>\n",
       "      <td>6.000</td>\n",
       "      <td>NaN</td>\n",
       "      <td>1.000</td>\n",
       "      <td>3.000</td>\n",
       "      <td>4.000</td>\n",
       "      <td>2</td>\n",
       "      <td>1798.000</td>\n",
       "      <td>4.000</td>\n",
       "      <td>1255.000</td>\n",
       "      <td>1.000</td>\n",
       "      <td>1</td>\n",
       "      <td>5.600</td>\n",
       "      <td>129</td>\n",
       "      <td>1.000</td>\n",
       "      <td>Air conditioning,Automatic climate control,Hil...</td>\n",
       "      <td>Bluetooth,Hands-free equipment,On-board comput...</td>\n",
       "      <td>Alloy wheels,Sport seats,Sport suspension,Voic...</td>\n",
       "      <td>ABS,Central door lock,Central door lock with r...</td>\n",
       "      <td>Langstreckenfahrzeug daher die hohe Kilometerl...</td>\n",
       "      <td>4.000</td>\n",
       "      <td>7.000</td>\n",
       "      <td>NaN</td>\n",
       "      <td>NaN</td>\n",
       "      <td>3.000</td>\n",
       "      <td>9.000</td>\n",
       "      <td>5.000</td>\n",
       "      <td>4.000</td>\n",
       "      <td>15.000</td>\n",
       "    </tr>\n",
       "    <tr>\n",
       "      <th>2</th>\n",
       "      <td>2</td>\n",
       "      <td>1</td>\n",
       "      <td>14640</td>\n",
       "      <td>1.000</td>\n",
       "      <td>83450</td>\n",
       "      <td>1430</td>\n",
       "      <td>1.000</td>\n",
       "      <td>85.000</td>\n",
       "      <td>1.000</td>\n",
       "      <td>NaN</td>\n",
       "      <td>NaN</td>\n",
       "      <td>1.000</td>\n",
       "      <td>1.000</td>\n",
       "      <td>1.000</td>\n",
       "      <td>4.000</td>\n",
       "      <td>4.000</td>\n",
       "      <td>2</td>\n",
       "      <td>1598.000</td>\n",
       "      <td>NaN</td>\n",
       "      <td>NaN</td>\n",
       "      <td>1.000</td>\n",
       "      <td>1</td>\n",
       "      <td>3.800</td>\n",
       "      <td>99</td>\n",
       "      <td>1.000</td>\n",
       "      <td>Air conditioning,Cruise control,Electrical sid...</td>\n",
       "      <td>MP3,On-board computer</td>\n",
       "      <td>Alloy wheels,Voice Control</td>\n",
       "      <td>ABS,Central door lock,Daytime running lights,D...</td>\n",
       "      <td>Fahrzeug-Nummer: AM-95365, ,Ehem. UPE 24.640 E...</td>\n",
       "      <td>4.000</td>\n",
       "      <td>NaN</td>\n",
       "      <td>NaN</td>\n",
       "      <td>NaN</td>\n",
       "      <td>4.000</td>\n",
       "      <td>13.000</td>\n",
       "      <td>2.000</td>\n",
       "      <td>2.000</td>\n",
       "      <td>12.000</td>\n",
       "    </tr>\n",
       "    <tr>\n",
       "      <th>3</th>\n",
       "      <td>2</td>\n",
       "      <td>1</td>\n",
       "      <td>14500</td>\n",
       "      <td>NaN</td>\n",
       "      <td>73000</td>\n",
       "      <td>1248</td>\n",
       "      <td>1.000</td>\n",
       "      <td>66.000</td>\n",
       "      <td>1.000</td>\n",
       "      <td>NaN</td>\n",
       "      <td>NaN</td>\n",
       "      <td>7.000</td>\n",
       "      <td>1.000</td>\n",
       "      <td>NaN</td>\n",
       "      <td>3.000</td>\n",
       "      <td>4.000</td>\n",
       "      <td>2</td>\n",
       "      <td>1422.000</td>\n",
       "      <td>3.000</td>\n",
       "      <td>1195.000</td>\n",
       "      <td>NaN</td>\n",
       "      <td>1</td>\n",
       "      <td>3.800</td>\n",
       "      <td>99</td>\n",
       "      <td>1.000</td>\n",
       "      <td>Air suspension,Armrest,Auxiliary heating,Elect...</td>\n",
       "      <td>Bluetooth,CD player,Hands-free equipment,MP3,O...</td>\n",
       "      <td>Alloy wheels,Sport seats,Voice Control</td>\n",
       "      <td>ABS,Alarm system,Central door lock with remote...</td>\n",
       "      <td>Audi A1: ,- 1e eigenaar ,- Perfecte staat: sch...</td>\n",
       "      <td>NaN</td>\n",
       "      <td>6.000</td>\n",
       "      <td>NaN</td>\n",
       "      <td>NaN</td>\n",
       "      <td>4.000</td>\n",
       "      <td>16.000</td>\n",
       "      <td>8.000</td>\n",
       "      <td>3.000</td>\n",
       "      <td>14.000</td>\n",
       "    </tr>\n",
       "    <tr>\n",
       "      <th>4</th>\n",
       "      <td>2</td>\n",
       "      <td>1</td>\n",
       "      <td>16790</td>\n",
       "      <td>NaN</td>\n",
       "      <td>16200</td>\n",
       "      <td>1340</td>\n",
       "      <td>1.000</td>\n",
       "      <td>66.000</td>\n",
       "      <td>1.000</td>\n",
       "      <td>True</td>\n",
       "      <td>NaN</td>\n",
       "      <td>1.000</td>\n",
       "      <td>1.000</td>\n",
       "      <td>1.000</td>\n",
       "      <td>5.000</td>\n",
       "      <td>5.000</td>\n",
       "      <td>2</td>\n",
       "      <td>1422.000</td>\n",
       "      <td>3.000</td>\n",
       "      <td>NaN</td>\n",
       "      <td>1.000</td>\n",
       "      <td>1</td>\n",
       "      <td>4.100</td>\n",
       "      <td>109</td>\n",
       "      <td>1.000</td>\n",
       "      <td>Air conditioning,Armrest,Automatic climate con...</td>\n",
       "      <td>Bluetooth,CD player,Hands-free equipment,MP3,O...</td>\n",
       "      <td>Alloy wheels,Sport package,Sport suspension,Vo...</td>\n",
       "      <td>ABS,Central door lock,Driver-side airbag,Elect...</td>\n",
       "      <td>Technik &amp; Sicherheit:,Xenon plus,Klimaautomati...</td>\n",
       "      <td>NaN</td>\n",
       "      <td>NaN</td>\n",
       "      <td>23.000</td>\n",
       "      <td>NaN</td>\n",
       "      <td>4.000</td>\n",
       "      <td>13.000</td>\n",
       "      <td>7.000</td>\n",
       "      <td>4.000</td>\n",
       "      <td>13.000</td>\n",
       "    </tr>\n",
       "  </tbody>\n",
       "</table>\n",
       "</div>"
      ],
      "text/plain": [
       "   make_model  body_type  price   vat     km registration  prev_owner      hp  \\\n",
       "0           2          1  15770 1.000  56013         1461       2.000  66.000   \n",
       "1           2          1  14500 2.000  80000         1036       1.000 141.000   \n",
       "2           2          1  14640 1.000  83450         1430       1.000  85.000   \n",
       "3           2          1  14500   NaN  73000         1248       1.000  66.000   \n",
       "4           2          1  16790   NaN  16200         1340       1.000  66.000   \n",
       "\n",
       "   type inspection_new  warranty  body_color  paint_type  upholstery  \\\n",
       "0 1.000           True       NaN       1.000       1.000       1.000   \n",
       "1 1.000            NaN       NaN       6.000         NaN       1.000   \n",
       "2 1.000            NaN       NaN       1.000       1.000       1.000   \n",
       "3 1.000            NaN       NaN       7.000       1.000         NaN   \n",
       "4 1.000           True       NaN       1.000       1.000       1.000   \n",
       "\n",
       "   nr_of_doors  nr_of_seats  gearing_type  displacement  cylinders   weight  \\\n",
       "0        5.000        5.000             2      1422.000      3.000 1220.000   \n",
       "1        3.000        4.000             2      1798.000      4.000 1255.000   \n",
       "2        4.000        4.000             2      1598.000        NaN      NaN   \n",
       "3        3.000        4.000             2      1422.000      3.000 1195.000   \n",
       "4        5.000        5.000             2      1422.000      3.000      NaN   \n",
       "\n",
       "   drive_chain  fuel  consumption co_2_emission  emission_class  \\\n",
       "0        1.000     1        3.800            99           1.000   \n",
       "1        1.000     1        5.600           129           1.000   \n",
       "2        1.000     1        3.800            99           1.000   \n",
       "3          NaN     1        3.800            99           1.000   \n",
       "4        1.000     1        4.100           109           1.000   \n",
       "\n",
       "                               comfort_&_convenience  \\\n",
       "0  Air conditioning,Armrest,Automatic climate con...   \n",
       "1  Air conditioning,Automatic climate control,Hil...   \n",
       "2  Air conditioning,Cruise control,Electrical sid...   \n",
       "3  Air suspension,Armrest,Auxiliary heating,Elect...   \n",
       "4  Air conditioning,Armrest,Automatic climate con...   \n",
       "\n",
       "                               entertainment_&_media  \\\n",
       "0  Bluetooth,Hands-free equipment,On-board comput...   \n",
       "1  Bluetooth,Hands-free equipment,On-board comput...   \n",
       "2                              MP3,On-board computer   \n",
       "3  Bluetooth,CD player,Hands-free equipment,MP3,O...   \n",
       "4  Bluetooth,CD player,Hands-free equipment,MP3,O...   \n",
       "\n",
       "                                              extras  \\\n",
       "0     Alloy wheels,Catalytic Converter,Voice Control   \n",
       "1  Alloy wheels,Sport seats,Sport suspension,Voic...   \n",
       "2                         Alloy wheels,Voice Control   \n",
       "3             Alloy wheels,Sport seats,Voice Control   \n",
       "4  Alloy wheels,Sport package,Sport suspension,Vo...   \n",
       "\n",
       "                                   safety_&_security  \\\n",
       "0  ABS,Central door lock,Daytime running lights,D...   \n",
       "1  ABS,Central door lock,Central door lock with r...   \n",
       "2  ABS,Central door lock,Daytime running lights,D...   \n",
       "3  ABS,Alarm system,Central door lock with remote...   \n",
       "4  ABS,Central door lock,Driver-side airbag,Elect...   \n",
       "\n",
       "                                         description  emission_label  gears  \\\n",
       "0  Sicherheit:, ,Deaktivierung für Beifahrer-Airb...             NaN    NaN   \n",
       "1  Langstreckenfahrzeug daher die hohe Kilometerl...           4.000  7.000   \n",
       "2  Fahrzeug-Nummer: AM-95365, ,Ehem. UPE 24.640 E...           4.000    NaN   \n",
       "3  Audi A1: ,- 1e eigenaar ,- Perfecte staat: sch...             NaN  6.000   \n",
       "4  Technik & Sicherheit:,Xenon plus,Klimaautomati...             NaN    NaN   \n",
       "\n",
       "   country_version  availability   age  number_of_comfort_convenience  \\\n",
       "0              NaN           NaN 4.000                         16.000   \n",
       "1              NaN           NaN 3.000                          9.000   \n",
       "2              NaN           NaN 4.000                         13.000   \n",
       "3              NaN           NaN 4.000                         16.000   \n",
       "4           23.000           NaN 4.000                         13.000   \n",
       "\n",
       "   number_of_entertainment_media  number_of_extras  number_of_safety_security  \n",
       "0                          4.000             3.000                     14.000  \n",
       "1                          5.000             4.000                     15.000  \n",
       "2                          2.000             2.000                     12.000  \n",
       "3                          8.000             3.000                     14.000  \n",
       "4                          7.000             4.000                     13.000  "
      ]
     },
     "execution_count": 386,
     "metadata": {},
     "output_type": "execute_result"
    }
   ],
   "source": [
    "df.head()"
   ]
  },
  {
   "cell_type": "code",
   "execution_count": 387,
   "metadata": {},
   "outputs": [],
   "source": [
    "df.to_csv('scoutPART3-ReadyforMLMissingPrediction.csv', index=False)"
   ]
  }
 ],
 "metadata": {
  "kernelspec": {
   "display_name": "Python 3.9.13 64-bit",
   "language": "python",
   "name": "python3"
  },
  "language_info": {
   "codemirror_mode": {
    "name": "ipython",
    "version": 3
   },
   "file_extension": ".py",
   "mimetype": "text/x-python",
   "name": "python",
   "nbconvert_exporter": "python",
   "pygments_lexer": "ipython3",
   "version": "3.9.13"
  },
  "orig_nbformat": 4,
  "vscode": {
   "interpreter": {
    "hash": "b0fa6594d8f4cbf19f97940f81e996739fb7646882a419484c72d19e05852a7e"
   }
  }
 },
 "nbformat": 4,
 "nbformat_minor": 2
}
