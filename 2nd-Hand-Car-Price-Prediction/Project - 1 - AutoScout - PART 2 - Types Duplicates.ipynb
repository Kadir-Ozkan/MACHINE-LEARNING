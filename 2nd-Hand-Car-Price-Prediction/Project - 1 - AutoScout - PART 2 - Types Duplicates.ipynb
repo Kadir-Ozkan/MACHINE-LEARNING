{
 "cells": [
  {
   "cell_type": "markdown",
   "metadata": {},
   "source": [
    "<img src=https://i.ibb.co/wJW61Y2/Used-cars.jpg width=\"700\" height=\"200\">\n",
    "\n",
    "## <p style=\"background-color:#FDFEFE; font-family:newtimeroman; color:#060108; font-size:200%; text-align:center; border-radius:10px 10px;\">The Capstone Project of Data Analytics Module</p>\n",
    "\n",
    "## <p style=\"background-color:#FDFEFE; font-family:newtimeroman; color:#060108; font-size:150%; text-align:center; border-radius:10px 10px;\">Car Price Prediction EDA</p>"
   ]
  },
  {
   "cell_type": "markdown",
   "metadata": {},
   "source": [
    "# PART- 2 `( Data Types and Duplicates)`"
   ]
  },
  {
   "cell_type": "code",
   "execution_count": 1,
   "metadata": {},
   "outputs": [],
   "source": [
    "# data manipulation\n",
    "import pandas as pd\n",
    "import numpy as np\n",
    "\n",
    "# data viz\n",
    "import matplotlib.pyplot as plt\n",
    "from matplotlib import rcParams\n",
    "import seaborn as sns\n",
    "\n",
    "#File Read\n",
    "import json\n",
    "\n",
    "#Regex\n",
    "import re\n",
    "\n",
    "# apply some cool styling\n",
    "plt.style.use(\"ggplot\")\n",
    "from pylab import rcParams\n",
    "rcParams['figure.figsize'] = (12,  6)\n",
    "\n",
    "import warnings\n",
    "warnings.filterwarnings(\"ignore\")\n",
    "warnings.warn(\"this will not show\")\n",
    "\n",
    "sns.set_style(\"whitegrid\")\n",
    "pd.set_option('display.float_format', lambda x: '%.3f' % x)\n",
    "\n",
    "# Set it to None to display all columns in the dataframe\n",
    "pd.set_option('display.max_columns', None)\n",
    "\n",
    "# Set it None to display all rows in the dataframe\n",
    "#pd.set_option('display.max_rows', None)\n",
    "\n",
    "\n",
    "import plotly \n",
    "import plotly.express as px\n",
    "import plotly.graph_objs as go\n",
    "import plotly.offline as py\n",
    "from plotly.offline import iplot\n",
    "from plotly.subplots import make_subplots\n",
    "import plotly.figure_factory as ff"
   ]
  },
  {
   "cell_type": "code",
   "execution_count": 2,
   "metadata": {},
   "outputs": [],
   "source": [
    "df = pd.read_csv('scoutPART1-CleaningisDone.csv')"
   ]
  },
  {
   "cell_type": "code",
   "execution_count": 3,
   "metadata": {},
   "outputs": [
    {
     "data": {
      "text/html": [
       "<div>\n",
       "<style scoped>\n",
       "    .dataframe tbody tr th:only-of-type {\n",
       "        vertical-align: middle;\n",
       "    }\n",
       "\n",
       "    .dataframe tbody tr th {\n",
       "        vertical-align: top;\n",
       "    }\n",
       "\n",
       "    .dataframe thead th {\n",
       "        text-align: right;\n",
       "    }\n",
       "</style>\n",
       "<table border=\"1\" class=\"dataframe\">\n",
       "  <thead>\n",
       "    <tr style=\"text-align: right;\">\n",
       "      <th></th>\n",
       "      <th>url</th>\n",
       "      <th>make_model</th>\n",
       "      <th>short_description</th>\n",
       "      <th>body_type</th>\n",
       "      <th>price</th>\n",
       "      <th>vat</th>\n",
       "      <th>km</th>\n",
       "      <th>registration</th>\n",
       "      <th>prev_owner</th>\n",
       "      <th>kW</th>\n",
       "      <th>hp</th>\n",
       "      <th>type</th>\n",
       "      <th>previous_owners</th>\n",
       "      <th>next_inspection</th>\n",
       "      <th>inspection_new</th>\n",
       "      <th>warranty</th>\n",
       "      <th>full_service</th>\n",
       "      <th>non_smoking_vehicle</th>\n",
       "      <th>null</th>\n",
       "      <th>make</th>\n",
       "      <th>model</th>\n",
       "      <th>offer_number</th>\n",
       "      <th>first_registration</th>\n",
       "      <th>body_color</th>\n",
       "      <th>paint_type</th>\n",
       "      <th>body_color_original</th>\n",
       "      <th>upholstery</th>\n",
       "      <th>body</th>\n",
       "      <th>nr_of_doors</th>\n",
       "      <th>nr_of_seats</th>\n",
       "      <th>model_code</th>\n",
       "      <th>gearing_type</th>\n",
       "      <th>displacement</th>\n",
       "      <th>cylinders</th>\n",
       "      <th>weight</th>\n",
       "      <th>drive_chain</th>\n",
       "      <th>fuel</th>\n",
       "      <th>consumption</th>\n",
       "      <th>co_2_emission</th>\n",
       "      <th>emission_class</th>\n",
       "      <th>comfort_&amp;_convenience</th>\n",
       "      <th>entertainment_&amp;_media</th>\n",
       "      <th>extras</th>\n",
       "      <th>safety_&amp;_security</th>\n",
       "      <th>description</th>\n",
       "      <th>emission_label</th>\n",
       "      <th>gears</th>\n",
       "      <th>country_version</th>\n",
       "      <th>electricity_consumption</th>\n",
       "      <th>last_service_date</th>\n",
       "      <th>other_fuel_types</th>\n",
       "      <th>availability</th>\n",
       "      <th>last_timing_belt_service_date</th>\n",
       "      <th>available_from</th>\n",
       "    </tr>\n",
       "  </thead>\n",
       "  <tbody>\n",
       "    <tr>\n",
       "      <th>0</th>\n",
       "      <td>https://www.autoscout24.com//offers/audi-a1-sp...</td>\n",
       "      <td>Audi A1</td>\n",
       "      <td>Sportback 1.4 TDI S-tronic Xenon Navi Klima</td>\n",
       "      <td>Sedans</td>\n",
       "      <td>15770</td>\n",
       "      <td>VAT deductible</td>\n",
       "      <td>56,013</td>\n",
       "      <td>01/2016</td>\n",
       "      <td>2.000</td>\n",
       "      <td>NaN</td>\n",
       "      <td>66.000</td>\n",
       "      <td>Used</td>\n",
       "      <td>2.000</td>\n",
       "      <td>06/2021</td>\n",
       "      <td>Yes</td>\n",
       "      <td>NaN</td>\n",
       "      <td>NaN</td>\n",
       "      <td>NaN</td>\n",
       "      <td>NaN</td>\n",
       "      <td>Audi</td>\n",
       "      <td>A1</td>\n",
       "      <td>LR-062483</td>\n",
       "      <td>2016.000</td>\n",
       "      <td>Black</td>\n",
       "      <td>Metallic</td>\n",
       "      <td>Mythosschwarz</td>\n",
       "      <td>Cloth, Black</td>\n",
       "      <td>Sedans</td>\n",
       "      <td>5.000</td>\n",
       "      <td>5.000</td>\n",
       "      <td>0588/BDF</td>\n",
       "      <td>Automatic</td>\n",
       "      <td>1,422</td>\n",
       "      <td>3.000</td>\n",
       "      <td>1,220</td>\n",
       "      <td>front</td>\n",
       "      <td>Benzine</td>\n",
       "      <td>3.800</td>\n",
       "      <td>99</td>\n",
       "      <td>Euro 6</td>\n",
       "      <td>Air conditioning,Armrest,Automatic climate con...</td>\n",
       "      <td>Bluetooth,Hands-free equipment,On-board comput...</td>\n",
       "      <td>Alloy wheels,Catalytic Converter,Voice Control</td>\n",
       "      <td>ABS,Central door lock,Daytime running lights,D...</td>\n",
       "      <td>Sicherheit:, ,Deaktivierung für Beifahrer-Airb...</td>\n",
       "      <td>NaN</td>\n",
       "      <td>NaN</td>\n",
       "      <td>NaN</td>\n",
       "      <td>NaN</td>\n",
       "      <td>NaN</td>\n",
       "      <td>NaN</td>\n",
       "      <td>NaN</td>\n",
       "      <td>NaN</td>\n",
       "      <td>NaN</td>\n",
       "    </tr>\n",
       "    <tr>\n",
       "      <th>1</th>\n",
       "      <td>https://www.autoscout24.com//offers/audi-a1-1-...</td>\n",
       "      <td>Audi A1</td>\n",
       "      <td>1.8 TFSI sport</td>\n",
       "      <td>Sedans</td>\n",
       "      <td>14500</td>\n",
       "      <td>Price negotiable</td>\n",
       "      <td>80,000</td>\n",
       "      <td>03/2017</td>\n",
       "      <td>NaN</td>\n",
       "      <td>NaN</td>\n",
       "      <td>141.000</td>\n",
       "      <td>Used</td>\n",
       "      <td>NaN</td>\n",
       "      <td>NaN</td>\n",
       "      <td>NaN</td>\n",
       "      <td>NaN</td>\n",
       "      <td>NaN</td>\n",
       "      <td>NaN</td>\n",
       "      <td>NaN</td>\n",
       "      <td>Audi</td>\n",
       "      <td>A1</td>\n",
       "      <td>NaN</td>\n",
       "      <td>2017.000</td>\n",
       "      <td>Red</td>\n",
       "      <td>NaN</td>\n",
       "      <td>NaN</td>\n",
       "      <td>Cloth, Grey</td>\n",
       "      <td>Sedans</td>\n",
       "      <td>3.000</td>\n",
       "      <td>4.000</td>\n",
       "      <td>0588/BCY</td>\n",
       "      <td>Automatic</td>\n",
       "      <td>1,798</td>\n",
       "      <td>4.000</td>\n",
       "      <td>1,255</td>\n",
       "      <td>front</td>\n",
       "      <td>Benzine</td>\n",
       "      <td>5.600</td>\n",
       "      <td>129</td>\n",
       "      <td>Euro 6</td>\n",
       "      <td>Air conditioning,Automatic climate control,Hil...</td>\n",
       "      <td>Bluetooth,Hands-free equipment,On-board comput...</td>\n",
       "      <td>Alloy wheels,Sport seats,Sport suspension,Voic...</td>\n",
       "      <td>ABS,Central door lock,Central door lock with r...</td>\n",
       "      <td>Langstreckenfahrzeug daher die hohe Kilometerl...</td>\n",
       "      <td>4.000</td>\n",
       "      <td>7.000</td>\n",
       "      <td>NaN</td>\n",
       "      <td>NaN</td>\n",
       "      <td>NaN</td>\n",
       "      <td>NaN</td>\n",
       "      <td>NaN</td>\n",
       "      <td>NaN</td>\n",
       "      <td>NaN</td>\n",
       "    </tr>\n",
       "    <tr>\n",
       "      <th>2</th>\n",
       "      <td>https://www.autoscout24.com//offers/audi-a1-sp...</td>\n",
       "      <td>Audi A1</td>\n",
       "      <td>Sportback 1.6 TDI S tronic Einparkhilfe plus+m...</td>\n",
       "      <td>Sedans</td>\n",
       "      <td>14640</td>\n",
       "      <td>VAT deductible</td>\n",
       "      <td>83,450</td>\n",
       "      <td>02/2016</td>\n",
       "      <td>1.000</td>\n",
       "      <td>NaN</td>\n",
       "      <td>85.000</td>\n",
       "      <td>Used</td>\n",
       "      <td>1.000</td>\n",
       "      <td>NaN</td>\n",
       "      <td>NaN</td>\n",
       "      <td>NaN</td>\n",
       "      <td>NaN</td>\n",
       "      <td>NaN</td>\n",
       "      <td>NaN</td>\n",
       "      <td>Audi</td>\n",
       "      <td>A1</td>\n",
       "      <td>AM-95365</td>\n",
       "      <td>2016.000</td>\n",
       "      <td>Black</td>\n",
       "      <td>Metallic</td>\n",
       "      <td>mythosschwarz metallic</td>\n",
       "      <td>Cloth, Black</td>\n",
       "      <td>Sedans</td>\n",
       "      <td>4.000</td>\n",
       "      <td>4.000</td>\n",
       "      <td>NaN</td>\n",
       "      <td>Automatic</td>\n",
       "      <td>1,598</td>\n",
       "      <td>NaN</td>\n",
       "      <td>NaN</td>\n",
       "      <td>front</td>\n",
       "      <td>Benzine</td>\n",
       "      <td>3.800</td>\n",
       "      <td>99</td>\n",
       "      <td>Euro 6</td>\n",
       "      <td>Air conditioning,Cruise control,Electrical sid...</td>\n",
       "      <td>MP3,On-board computer</td>\n",
       "      <td>Alloy wheels,Voice Control</td>\n",
       "      <td>ABS,Central door lock,Daytime running lights,D...</td>\n",
       "      <td>Fahrzeug-Nummer: AM-95365, ,Ehem. UPE 24.640 E...</td>\n",
       "      <td>4.000</td>\n",
       "      <td>NaN</td>\n",
       "      <td>NaN</td>\n",
       "      <td>NaN</td>\n",
       "      <td>NaN</td>\n",
       "      <td>NaN</td>\n",
       "      <td>NaN</td>\n",
       "      <td>NaN</td>\n",
       "      <td>NaN</td>\n",
       "    </tr>\n",
       "    <tr>\n",
       "      <th>3</th>\n",
       "      <td>https://www.autoscout24.com//offers/audi-a1-1-...</td>\n",
       "      <td>Audi A1</td>\n",
       "      <td>1.4 TDi Design S tronic</td>\n",
       "      <td>Sedans</td>\n",
       "      <td>14500</td>\n",
       "      <td>NaN</td>\n",
       "      <td>73,000</td>\n",
       "      <td>08/2016</td>\n",
       "      <td>1.000</td>\n",
       "      <td>NaN</td>\n",
       "      <td>66.000</td>\n",
       "      <td>Used</td>\n",
       "      <td>1.000</td>\n",
       "      <td>NaN</td>\n",
       "      <td>NaN</td>\n",
       "      <td>NaN</td>\n",
       "      <td>NaN</td>\n",
       "      <td>6</td>\n",
       "      <td>NaN</td>\n",
       "      <td>Audi</td>\n",
       "      <td>A1</td>\n",
       "      <td>NaN</td>\n",
       "      <td>2016.000</td>\n",
       "      <td>Brown</td>\n",
       "      <td>Metallic</td>\n",
       "      <td>NaN</td>\n",
       "      <td>NaN</td>\n",
       "      <td>Sedans</td>\n",
       "      <td>3.000</td>\n",
       "      <td>4.000</td>\n",
       "      <td>NaN</td>\n",
       "      <td>Automatic</td>\n",
       "      <td>1,422</td>\n",
       "      <td>3.000</td>\n",
       "      <td>1,195</td>\n",
       "      <td>NaN</td>\n",
       "      <td>Benzine</td>\n",
       "      <td>3.800</td>\n",
       "      <td>99</td>\n",
       "      <td>Euro 6</td>\n",
       "      <td>Air suspension,Armrest,Auxiliary heating,Elect...</td>\n",
       "      <td>Bluetooth,CD player,Hands-free equipment,MP3,O...</td>\n",
       "      <td>Alloy wheels,Sport seats,Voice Control</td>\n",
       "      <td>ABS,Alarm system,Central door lock with remote...</td>\n",
       "      <td>Audi A1: ,- 1e eigenaar ,- Perfecte staat: sch...</td>\n",
       "      <td>NaN</td>\n",
       "      <td>6.000</td>\n",
       "      <td>NaN</td>\n",
       "      <td>NaN</td>\n",
       "      <td>NaN</td>\n",
       "      <td>NaN</td>\n",
       "      <td>NaN</td>\n",
       "      <td>NaN</td>\n",
       "      <td>NaN</td>\n",
       "    </tr>\n",
       "    <tr>\n",
       "      <th>4</th>\n",
       "      <td>https://www.autoscout24.com//offers/audi-a1-sp...</td>\n",
       "      <td>Audi A1</td>\n",
       "      <td>Sportback 1.4 TDI S-Tronic S-Line Ext. admired...</td>\n",
       "      <td>Sedans</td>\n",
       "      <td>16790</td>\n",
       "      <td>NaN</td>\n",
       "      <td>16,200</td>\n",
       "      <td>05/2016</td>\n",
       "      <td>1.000</td>\n",
       "      <td>NaN</td>\n",
       "      <td>66.000</td>\n",
       "      <td>Used</td>\n",
       "      <td>1.000</td>\n",
       "      <td>NaN</td>\n",
       "      <td>Yes</td>\n",
       "      <td>NaN</td>\n",
       "      <td>NaN</td>\n",
       "      <td>NaN</td>\n",
       "      <td>NaN</td>\n",
       "      <td>Audi</td>\n",
       "      <td>A1</td>\n",
       "      <td>C1626</td>\n",
       "      <td>2016.000</td>\n",
       "      <td>Black</td>\n",
       "      <td>Metallic</td>\n",
       "      <td>Mythosschwarz Metallic</td>\n",
       "      <td>Cloth, Black</td>\n",
       "      <td>Sedans</td>\n",
       "      <td>5.000</td>\n",
       "      <td>5.000</td>\n",
       "      <td>0588/BDF</td>\n",
       "      <td>Automatic</td>\n",
       "      <td>1,422</td>\n",
       "      <td>3.000</td>\n",
       "      <td>NaN</td>\n",
       "      <td>front</td>\n",
       "      <td>Benzine</td>\n",
       "      <td>4.100</td>\n",
       "      <td>109</td>\n",
       "      <td>Euro 6</td>\n",
       "      <td>Air conditioning,Armrest,Automatic climate con...</td>\n",
       "      <td>Bluetooth,CD player,Hands-free equipment,MP3,O...</td>\n",
       "      <td>Alloy wheels,Sport package,Sport suspension,Vo...</td>\n",
       "      <td>ABS,Central door lock,Driver-side airbag,Elect...</td>\n",
       "      <td>Technik &amp; Sicherheit:,Xenon plus,Klimaautomati...</td>\n",
       "      <td>NaN</td>\n",
       "      <td>NaN</td>\n",
       "      <td>Germany</td>\n",
       "      <td>NaN</td>\n",
       "      <td>NaN</td>\n",
       "      <td>NaN</td>\n",
       "      <td>NaN</td>\n",
       "      <td>NaN</td>\n",
       "      <td>NaN</td>\n",
       "    </tr>\n",
       "  </tbody>\n",
       "</table>\n",
       "</div>"
      ],
      "text/plain": [
       "                                                 url make_model  \\\n",
       "0  https://www.autoscout24.com//offers/audi-a1-sp...    Audi A1   \n",
       "1  https://www.autoscout24.com//offers/audi-a1-1-...    Audi A1   \n",
       "2  https://www.autoscout24.com//offers/audi-a1-sp...    Audi A1   \n",
       "3  https://www.autoscout24.com//offers/audi-a1-1-...    Audi A1   \n",
       "4  https://www.autoscout24.com//offers/audi-a1-sp...    Audi A1   \n",
       "\n",
       "                                   short_description body_type  price  \\\n",
       "0        Sportback 1.4 TDI S-tronic Xenon Navi Klima    Sedans  15770   \n",
       "1                                     1.8 TFSI sport    Sedans  14500   \n",
       "2  Sportback 1.6 TDI S tronic Einparkhilfe plus+m...    Sedans  14640   \n",
       "3                            1.4 TDi Design S tronic    Sedans  14500   \n",
       "4  Sportback 1.4 TDI S-Tronic S-Line Ext. admired...    Sedans  16790   \n",
       "\n",
       "                vat      km registration  prev_owner  kW      hp  type  \\\n",
       "0    VAT deductible  56,013      01/2016       2.000 NaN  66.000  Used   \n",
       "1  Price negotiable  80,000      03/2017         NaN NaN 141.000  Used   \n",
       "2    VAT deductible  83,450      02/2016       1.000 NaN  85.000  Used   \n",
       "3               NaN  73,000      08/2016       1.000 NaN  66.000  Used   \n",
       "4               NaN  16,200      05/2016       1.000 NaN  66.000  Used   \n",
       "\n",
       "   previous_owners next_inspection inspection_new  warranty  full_service  \\\n",
       "0            2.000         06/2021            Yes       NaN           NaN   \n",
       "1              NaN             NaN            NaN       NaN           NaN   \n",
       "2            1.000             NaN            NaN       NaN           NaN   \n",
       "3            1.000             NaN            NaN       NaN           NaN   \n",
       "4            1.000             NaN            Yes       NaN           NaN   \n",
       "\n",
       "  non_smoking_vehicle  null  make model offer_number  first_registration  \\\n",
       "0                 NaN   NaN  Audi    A1    LR-062483            2016.000   \n",
       "1                 NaN   NaN  Audi    A1          NaN            2017.000   \n",
       "2                 NaN   NaN  Audi    A1     AM-95365            2016.000   \n",
       "3                   6   NaN  Audi    A1          NaN            2016.000   \n",
       "4                 NaN   NaN  Audi    A1        C1626            2016.000   \n",
       "\n",
       "  body_color paint_type     body_color_original    upholstery    body  \\\n",
       "0      Black   Metallic           Mythosschwarz  Cloth, Black  Sedans   \n",
       "1        Red        NaN                     NaN   Cloth, Grey  Sedans   \n",
       "2      Black   Metallic  mythosschwarz metallic  Cloth, Black  Sedans   \n",
       "3      Brown   Metallic                     NaN           NaN  Sedans   \n",
       "4      Black   Metallic  Mythosschwarz Metallic  Cloth, Black  Sedans   \n",
       "\n",
       "   nr_of_doors  nr_of_seats model_code gearing_type displacement  cylinders  \\\n",
       "0        5.000        5.000   0588/BDF    Automatic        1,422      3.000   \n",
       "1        3.000        4.000   0588/BCY    Automatic        1,798      4.000   \n",
       "2        4.000        4.000        NaN    Automatic        1,598        NaN   \n",
       "3        3.000        4.000        NaN    Automatic        1,422      3.000   \n",
       "4        5.000        5.000   0588/BDF    Automatic        1,422      3.000   \n",
       "\n",
       "  weight drive_chain     fuel  consumption co_2_emission emission_class  \\\n",
       "0  1,220       front  Benzine        3.800            99         Euro 6   \n",
       "1  1,255       front  Benzine        5.600           129         Euro 6   \n",
       "2    NaN       front  Benzine        3.800            99         Euro 6   \n",
       "3  1,195         NaN  Benzine        3.800            99         Euro 6   \n",
       "4    NaN       front  Benzine        4.100           109         Euro 6   \n",
       "\n",
       "                               comfort_&_convenience  \\\n",
       "0  Air conditioning,Armrest,Automatic climate con...   \n",
       "1  Air conditioning,Automatic climate control,Hil...   \n",
       "2  Air conditioning,Cruise control,Electrical sid...   \n",
       "3  Air suspension,Armrest,Auxiliary heating,Elect...   \n",
       "4  Air conditioning,Armrest,Automatic climate con...   \n",
       "\n",
       "                               entertainment_&_media  \\\n",
       "0  Bluetooth,Hands-free equipment,On-board comput...   \n",
       "1  Bluetooth,Hands-free equipment,On-board comput...   \n",
       "2                              MP3,On-board computer   \n",
       "3  Bluetooth,CD player,Hands-free equipment,MP3,O...   \n",
       "4  Bluetooth,CD player,Hands-free equipment,MP3,O...   \n",
       "\n",
       "                                              extras  \\\n",
       "0     Alloy wheels,Catalytic Converter,Voice Control   \n",
       "1  Alloy wheels,Sport seats,Sport suspension,Voic...   \n",
       "2                         Alloy wheels,Voice Control   \n",
       "3             Alloy wheels,Sport seats,Voice Control   \n",
       "4  Alloy wheels,Sport package,Sport suspension,Vo...   \n",
       "\n",
       "                                   safety_&_security  \\\n",
       "0  ABS,Central door lock,Daytime running lights,D...   \n",
       "1  ABS,Central door lock,Central door lock with r...   \n",
       "2  ABS,Central door lock,Daytime running lights,D...   \n",
       "3  ABS,Alarm system,Central door lock with remote...   \n",
       "4  ABS,Central door lock,Driver-side airbag,Elect...   \n",
       "\n",
       "                                         description  emission_label  gears  \\\n",
       "0  Sicherheit:, ,Deaktivierung für Beifahrer-Airb...             NaN    NaN   \n",
       "1  Langstreckenfahrzeug daher die hohe Kilometerl...           4.000  7.000   \n",
       "2  Fahrzeug-Nummer: AM-95365, ,Ehem. UPE 24.640 E...           4.000    NaN   \n",
       "3  Audi A1: ,- 1e eigenaar ,- Perfecte staat: sch...             NaN  6.000   \n",
       "4  Technik & Sicherheit:,Xenon plus,Klimaautomati...             NaN    NaN   \n",
       "\n",
       "  country_version electricity_consumption last_service_date  other_fuel_types  \\\n",
       "0             NaN                     NaN               NaN               NaN   \n",
       "1             NaN                     NaN               NaN               NaN   \n",
       "2             NaN                     NaN               NaN               NaN   \n",
       "3             NaN                     NaN               NaN               NaN   \n",
       "4         Germany                     NaN               NaN               NaN   \n",
       "\n",
       "   availability last_timing_belt_service_date available_from  \n",
       "0           NaN                           NaN            NaN  \n",
       "1           NaN                           NaN            NaN  \n",
       "2           NaN                           NaN            NaN  \n",
       "3           NaN                           NaN            NaN  \n",
       "4           NaN                           NaN            NaN  "
      ]
     },
     "execution_count": 3,
     "metadata": {},
     "output_type": "execute_result"
    }
   ],
   "source": [
    "df.head()"
   ]
  },
  {
   "cell_type": "code",
   "execution_count": 4,
   "metadata": {},
   "outputs": [
    {
     "name": "stdout",
     "output_type": "stream",
     "text": [
      "<class 'pandas.core.frame.DataFrame'>\n",
      "RangeIndex: 15919 entries, 0 to 15918\n",
      "Data columns (total 54 columns):\n",
      " #   Column                         Non-Null Count  Dtype  \n",
      "---  ------                         --------------  -----  \n",
      " 0   url                            15919 non-null  object \n",
      " 1   make_model                     15919 non-null  object \n",
      " 2   short_description              15873 non-null  object \n",
      " 3   body_type                      15859 non-null  object \n",
      " 4   price                          15919 non-null  int64  \n",
      " 5   vat                            11406 non-null  object \n",
      " 6   km                             15919 non-null  object \n",
      " 7   registration                   15919 non-null  object \n",
      " 8   prev_owner                     9091 non-null   float64\n",
      " 9   kW                             0 non-null      float64\n",
      " 10  hp                             15831 non-null  float64\n",
      " 11  type                           15917 non-null  object \n",
      " 12  previous_owners                9279 non-null   float64\n",
      " 13  next_inspection                3535 non-null   object \n",
      " 14  inspection_new                 3932 non-null   object \n",
      " 15  warranty                       4853 non-null   float64\n",
      " 16  full_service                   0 non-null      float64\n",
      " 17  non_smoking_vehicle            3460 non-null   object \n",
      " 18  null                           0 non-null      float64\n",
      " 19  make                           15919 non-null  object \n",
      " 20  model                          15919 non-null  object \n",
      " 21  offer_number                   12744 non-null  object \n",
      " 22  first_registration             14322 non-null  float64\n",
      " 23  body_color                     15322 non-null  object \n",
      " 24  paint_type                     10147 non-null  object \n",
      " 25  body_color_original            12145 non-null  object \n",
      " 26  upholstery                     12199 non-null  object \n",
      " 27  body                           15859 non-null  object \n",
      " 28  nr_of_doors                    15707 non-null  float64\n",
      " 29  nr_of_seats                    14942 non-null  float64\n",
      " 30  model_code                     4978 non-null   object \n",
      " 31  gearing_type                   15919 non-null  object \n",
      " 32  displacement                   15423 non-null  object \n",
      " 33  cylinders                      10239 non-null  float64\n",
      " 34  weight                         8945 non-null   object \n",
      " 35  drive_chain                    9061 non-null   object \n",
      " 36  fuel                           15919 non-null  object \n",
      " 37  consumption                    13036 non-null  float64\n",
      " 38  co_2_emission                  13483 non-null  object \n",
      " 39  emission_class                 12291 non-null  object \n",
      " 40  comfort_&_convenience          14999 non-null  object \n",
      " 41  entertainment_&_media          14545 non-null  object \n",
      " 42  extras                         12957 non-null  object \n",
      " 43  safety_&_security              14937 non-null  object \n",
      " 44  description                    15252 non-null  object \n",
      " 45  emission_label                 3945 non-null   float64\n",
      " 46  gears                          11207 non-null  float64\n",
      " 47  country_version                7586 non-null   object \n",
      " 48  electricity_consumption        137 non-null    object \n",
      " 49  last_service_date              566 non-null    object \n",
      " 50  other_fuel_types               0 non-null      float64\n",
      " 51  availability                   635 non-null    float64\n",
      " 52  last_timing_belt_service_date  16 non-null     object \n",
      " 53  available_from                 272 non-null    object \n",
      "dtypes: float64(16), int64(1), object(37)\n",
      "memory usage: 6.6+ MB\n"
     ]
    }
   ],
   "source": [
    "df.info()"
   ]
  },
  {
   "cell_type": "code",
   "execution_count": 5,
   "metadata": {},
   "outputs": [
    {
     "data": {
      "text/plain": [
       "Index(['url', 'make_model', 'short_description', 'body_type', 'price', 'vat',\n",
       "       'km', 'registration', 'prev_owner', 'kW', 'hp', 'type',\n",
       "       'previous_owners', 'next_inspection', 'inspection_new', 'warranty',\n",
       "       'full_service', 'non_smoking_vehicle', 'null', 'make', 'model',\n",
       "       'offer_number', 'first_registration', 'body_color', 'paint_type',\n",
       "       'body_color_original', 'upholstery', 'body', 'nr_of_doors',\n",
       "       'nr_of_seats', 'model_code', 'gearing_type', 'displacement',\n",
       "       'cylinders', 'weight', 'drive_chain', 'fuel', 'consumption',\n",
       "       'co_2_emission', 'emission_class', 'comfort_&_convenience',\n",
       "       'entertainment_&_media', 'extras', 'safety_&_security', 'description',\n",
       "       'emission_label', 'gears', 'country_version', 'electricity_consumption',\n",
       "       'last_service_date', 'other_fuel_types', 'availability',\n",
       "       'last_timing_belt_service_date', 'available_from'],\n",
       "      dtype='object')"
      ]
     },
     "execution_count": 5,
     "metadata": {},
     "output_type": "execute_result"
    }
   ],
   "source": [
    "df.columns"
   ]
  },
  {
   "cell_type": "code",
   "execution_count": 6,
   "metadata": {},
   "outputs": [],
   "source": [
    "def first_look(data, col):\n",
    "    print('[',col,']')\n",
    "    print('-'*30)\n",
    "    print('Data Type        :', data[col].dtypes)\n",
    "    print('Percent_of_Nulls   : ', '%', round(data[col].isnull().sum() / data.shape[0]*100, 2))\n",
    "    print('Num_of_Nulls   : ', data[col].isnull().sum())\n",
    "    print('Num_of_Uniques : ', data[col].nunique())\n",
    "    print('Duplicates     : ', data.duplicated(subset = None, keep = 'first').sum())\n",
    "    print(data[col].value_counts(dropna = False).sort_index())"
   ]
  },
  {
   "cell_type": "markdown",
   "metadata": {},
   "source": [
    "### tek tek bakmak yerine döngüyle bakmak daha faydalı !!!!!!!!!!!!! Sonrasında bunu kullan"
   ]
  },
  {
   "cell_type": "code",
   "execution_count": 7,
   "metadata": {},
   "outputs": [],
   "source": [
    "# for col in object_col:\n",
    "#     first_look(col)"
   ]
  },
  {
   "cell_type": "markdown",
   "metadata": {},
   "source": [
    "## ----------------------------------------------------------------"
   ]
  },
  {
   "cell_type": "code",
   "execution_count": 8,
   "metadata": {},
   "outputs": [
    {
     "name": "stdout",
     "output_type": "stream",
     "text": [
      "[ url ]\n",
      "------------------------------\n",
      "Data Type        : object\n",
      "Percent_of_Nulls   :  % 0.0\n",
      "Num_of_Nulls   :  0\n",
      "Num_of_Uniques :  15919\n",
      "Duplicates     :  0\n",
      "https://www.autoscout24.com//offers/audi-a1-1-0-30-tfsi-sportback-advanced-2019-sh-pdc-gasoline-white-1037d13f-0851-44dd-b559-c6f6def8e6d2                     1\n",
      "https://www.autoscout24.com//offers/audi-a1-1-0-30-tfsi-sportback-advanced-gasoline-white-16e81c6c-58ce-4b86-9926-9f09302d0ef4                                 1\n",
      "https://www.autoscout24.com//offers/audi-a1-1-0-30-tfsi-sportback-advanced-gasoline-white-a48492d9-f2e5-436d-9ad4-dfb31ff19aed                                 1\n",
      "https://www.autoscout24.com//offers/audi-a1-1-0-30-tfsi-sportback-basis-2019-navi-virtual-gasoline-white-6d94186e-c19d-4aa1-a223-bc0256d51845                  1\n",
      "https://www.autoscout24.com//offers/audi-a1-1-0-30-tfsi-sportback-basis-2019-pdc-sh-gasoline-white-047a0fe6-743e-4ae6-892e-e97bc13b1468                        1\n",
      "                                                                                                                                                              ..\n",
      "https://www.autoscout24.com//offers/renault-espace-zen-energy-dci-160-twin-turbo-edc-diesel-white-5eb03fe7-5c36-40b6-a596-ee0de57372e1                         1\n",
      "https://www.autoscout24.com//offers/renault-espace-zen-energy-dci-160-twin-turbo-edc-diesel-white-996ac32a-6070-40af-b6ab-74f57232e256                         1\n",
      "https://www.autoscout24.com//offers/renault-espace-zen-energy-dci-160-twin-turbo-edc-diesel-white-a6700fd3-efb5-44a8-a85b-90c491c9d378                         1\n",
      "https://www.autoscout24.com//offers/renault-espace-zen-energy-dci-160-twin-turbo-edc-diesel-white-b9b30dfb-beb9-4157-b8b4-dbe86ba6573d                         1\n",
      "https://www.autoscout24.com//offers/renault-espace-zu-spaet-geht-an-haendler-da-wird-er-dann-23-000-ko-gasoline-silver-93caa088-19e3-905e-e053-e250040a8d8d    1\n",
      "Name: url, Length: 15919, dtype: int64\n"
     ]
    }
   ],
   "source": [
    "first_look(df, 'url')"
   ]
  },
  {
   "cell_type": "code",
   "execution_count": 9,
   "metadata": {},
   "outputs": [
    {
     "name": "stdout",
     "output_type": "stream",
     "text": [
      "[ make_model ]\n",
      "------------------------------\n",
      "Data Type        : object\n",
      "Percent_of_Nulls   :  % 0.0\n",
      "Num_of_Nulls   :  0\n",
      "Num_of_Uniques :  9\n",
      "Duplicates     :  0\n",
      "Audi A1           2614\n",
      "Audi A2              1\n",
      "Audi A3           3097\n",
      "Opel Astra        2526\n",
      "Opel Corsa        2219\n",
      "Opel Insignia     2598\n",
      "Renault Clio      1839\n",
      "Renault Duster      34\n",
      "Renault Espace     991\n",
      "Name: make_model, dtype: int64\n"
     ]
    }
   ],
   "source": [
    "first_look(df, 'make_model')"
   ]
  },
  {
   "cell_type": "code",
   "execution_count": 10,
   "metadata": {},
   "outputs": [
    {
     "name": "stdout",
     "output_type": "stream",
     "text": [
      "[ short_description ]\n",
      "------------------------------\n",
      "Data Type        : object\n",
      "Percent_of_Nulls   :  % 0.29\n",
      "Num_of_Nulls   :  46\n",
      "Num_of_Uniques :  10001\n",
      "Duplicates     :  0\n",
      " 1,6 CDTI**NAVI*Klimaaut*Tempomat*EURO6*TÜV NEU     1\n",
      " 1.4 75 cv5 porte b-color                           1\n",
      " 1.4 TFSI Attraction (125 CV)                       6\n",
      " 1.4 Turbo S&S Excellence (125 CV)                  2\n",
      " 1.6 CDTi Dynamic (110 CV)                          4\n",
      "                                                   ..\n",
      "van 1.5 dci 75cv S S E6                             1\n",
      "van 1.5 dci 75cv S&S E6                            24\n",
      "zoé life                                            1\n",
      "Österr. Edition 16.CDTI                             1\n",
      "NaN                                                46\n",
      "Name: short_description, Length: 10002, dtype: int64\n"
     ]
    }
   ],
   "source": [
    "first_look(df, 'short_description')"
   ]
  },
  {
   "cell_type": "code",
   "execution_count": 11,
   "metadata": {},
   "outputs": [
    {
     "name": "stdout",
     "output_type": "stream",
     "text": [
      "[ body_type ]\n",
      "------------------------------\n",
      "Data Type        : object\n",
      "Percent_of_Nulls   :  % 0.38\n",
      "Num_of_Nulls   :  60\n",
      "Num_of_Uniques :  9\n",
      "Duplicates     :  0\n",
      "Compact          3153\n",
      "Convertible         8\n",
      "Coupe              25\n",
      "Off-Road           56\n",
      "Other             290\n",
      "Sedans           7903\n",
      "Station wagon    3553\n",
      "Transporter        88\n",
      "Van               783\n",
      "NaN                60\n",
      "Name: body_type, dtype: int64\n"
     ]
    }
   ],
   "source": [
    "first_look(df, 'body_type')"
   ]
  },
  {
   "cell_type": "code",
   "execution_count": 12,
   "metadata": {},
   "outputs": [
    {
     "name": "stdout",
     "output_type": "stream",
     "text": [
      "[ price ]\n",
      "------------------------------\n",
      "Data Type        : int64\n",
      "Percent_of_Nulls   :  % 0.0\n",
      "Num_of_Nulls   :  0\n",
      "Num_of_Uniques :  2956\n",
      "Duplicates     :  0\n",
      "13       1\n",
      "120      1\n",
      "255      1\n",
      "331      1\n",
      "4950     1\n",
      "        ..\n",
      "64332    1\n",
      "64900    1\n",
      "67600    1\n",
      "68320    1\n",
      "74600    1\n",
      "Name: price, Length: 2956, dtype: int64\n"
     ]
    }
   ],
   "source": [
    "first_look(df, 'price')"
   ]
  },
  {
   "cell_type": "code",
   "execution_count": 13,
   "metadata": {},
   "outputs": [
    {
     "data": {
      "text/plain": [
       "url                               object\n",
       "make_model                        object\n",
       "short_description                 object\n",
       "body_type                         object\n",
       "price                            float64\n",
       "vat                               object\n",
       "km                                object\n",
       "registration                      object\n",
       "prev_owner                       float64\n",
       "kW                               float64\n",
       "hp                               float64\n",
       "type                              object\n",
       "previous_owners                  float64\n",
       "next_inspection                   object\n",
       "inspection_new                    object\n",
       "warranty                         float64\n",
       "full_service                     float64\n",
       "non_smoking_vehicle               object\n",
       "null                             float64\n",
       "make                              object\n",
       "model                             object\n",
       "offer_number                      object\n",
       "first_registration               float64\n",
       "body_color                        object\n",
       "paint_type                        object\n",
       "body_color_original               object\n",
       "upholstery                        object\n",
       "body                              object\n",
       "nr_of_doors                      float64\n",
       "nr_of_seats                      float64\n",
       "model_code                        object\n",
       "gearing_type                      object\n",
       "displacement                      object\n",
       "cylinders                        float64\n",
       "weight                            object\n",
       "drive_chain                       object\n",
       "fuel                              object\n",
       "consumption                      float64\n",
       "co_2_emission                     object\n",
       "emission_class                    object\n",
       "comfort_&_convenience             object\n",
       "entertainment_&_media             object\n",
       "extras                            object\n",
       "safety_&_security                 object\n",
       "description                       object\n",
       "emission_label                   float64\n",
       "gears                            float64\n",
       "country_version                   object\n",
       "electricity_consumption           object\n",
       "last_service_date                 object\n",
       "other_fuel_types                 float64\n",
       "availability                     float64\n",
       "last_timing_belt_service_date     object\n",
       "available_from                    object\n",
       "dtype: object"
      ]
     },
     "execution_count": 13,
     "metadata": {},
     "output_type": "execute_result"
    }
   ],
   "source": [
    "df.astype({'price': 'float'}).dtypes"
   ]
  },
  {
   "cell_type": "code",
   "execution_count": 14,
   "metadata": {},
   "outputs": [
    {
     "name": "stdout",
     "output_type": "stream",
     "text": [
      "[ vat ]\n",
      "------------------------------\n",
      "Data Type        : object\n",
      "Percent_of_Nulls   :  % 28.35\n",
      "Num_of_Nulls   :  4513\n",
      "Num_of_Uniques :  2\n",
      "Duplicates     :  0\n",
      "Price negotiable      426\n",
      "VAT deductible      10980\n",
      "NaN                  4513\n",
      "Name: vat, dtype: int64\n"
     ]
    }
   ],
   "source": [
    "first_look(df, 'vat')"
   ]
  },
  {
   "cell_type": "code",
   "execution_count": 15,
   "metadata": {},
   "outputs": [
    {
     "name": "stdout",
     "output_type": "stream",
     "text": [
      "[ km ]\n",
      "------------------------------\n",
      "Data Type        : object\n",
      "Percent_of_Nulls   :  % 0.0\n",
      "Num_of_Nulls   :  0\n",
      "Num_of_Uniques :  6689\n",
      "Duplicates     :  0\n",
      "0         1043\n",
      "1          367\n",
      "1,000       46\n",
      "1,001        4\n",
      "1,010        1\n",
      "          ... \n",
      "99,999       1\n",
      "990          2\n",
      "991          1\n",
      "995          1\n",
      "999          3\n",
      "Name: km, Length: 6689, dtype: int64\n"
     ]
    }
   ],
   "source": [
    "first_look(df, 'km')"
   ]
  },
  {
   "cell_type": "code",
   "execution_count": 16,
   "metadata": {},
   "outputs": [],
   "source": [
    "df['km'] = df['km'].str.replace(',', '')"
   ]
  },
  {
   "cell_type": "code",
   "execution_count": 17,
   "metadata": {},
   "outputs": [
    {
     "data": {
      "text/plain": [
       "url                               object\n",
       "make_model                        object\n",
       "short_description                 object\n",
       "body_type                         object\n",
       "price                              int64\n",
       "vat                               object\n",
       "km                               float64\n",
       "registration                      object\n",
       "prev_owner                       float64\n",
       "kW                               float64\n",
       "hp                               float64\n",
       "type                              object\n",
       "previous_owners                  float64\n",
       "next_inspection                   object\n",
       "inspection_new                    object\n",
       "warranty                         float64\n",
       "full_service                     float64\n",
       "non_smoking_vehicle               object\n",
       "null                             float64\n",
       "make                              object\n",
       "model                             object\n",
       "offer_number                      object\n",
       "first_registration               float64\n",
       "body_color                        object\n",
       "paint_type                        object\n",
       "body_color_original               object\n",
       "upholstery                        object\n",
       "body                              object\n",
       "nr_of_doors                      float64\n",
       "nr_of_seats                      float64\n",
       "model_code                        object\n",
       "gearing_type                      object\n",
       "displacement                      object\n",
       "cylinders                        float64\n",
       "weight                            object\n",
       "drive_chain                       object\n",
       "fuel                              object\n",
       "consumption                      float64\n",
       "co_2_emission                     object\n",
       "emission_class                    object\n",
       "comfort_&_convenience             object\n",
       "entertainment_&_media             object\n",
       "extras                            object\n",
       "safety_&_security                 object\n",
       "description                       object\n",
       "emission_label                   float64\n",
       "gears                            float64\n",
       "country_version                   object\n",
       "electricity_consumption           object\n",
       "last_service_date                 object\n",
       "other_fuel_types                 float64\n",
       "availability                     float64\n",
       "last_timing_belt_service_date     object\n",
       "available_from                    object\n",
       "dtype: object"
      ]
     },
     "execution_count": 17,
     "metadata": {},
     "output_type": "execute_result"
    }
   ],
   "source": [
    "df.astype({'km': 'float'}).dtypes"
   ]
  },
  {
   "cell_type": "code",
   "execution_count": 18,
   "metadata": {},
   "outputs": [
    {
     "name": "stdout",
     "output_type": "stream",
     "text": [
      "[ registration ]\n",
      "------------------------------\n",
      "Data Type        : object\n",
      "Percent_of_Nulls   :  % 0.0\n",
      "Num_of_Nulls   :  0\n",
      "Num_of_Uniques :  48\n",
      "Duplicates     :  0\n",
      "-/-        1597\n",
      "01/2016     376\n",
      "01/2017     306\n",
      "01/2018     511\n",
      "01/2019     541\n",
      "02/2016     472\n",
      "02/2017     368\n",
      "02/2018     539\n",
      "02/2019     585\n",
      "03/2016     536\n",
      "03/2017     471\n",
      "03/2018     695\n",
      "03/2019     543\n",
      "04/2016     532\n",
      "04/2017     380\n",
      "04/2018     541\n",
      "04/2019     506\n",
      "05/2016     459\n",
      "05/2017     404\n",
      "05/2018     572\n",
      "05/2019     440\n",
      "06/2016     452\n",
      "06/2017     409\n",
      "06/2018     532\n",
      "06/2019     224\n",
      "07/2016     176\n",
      "07/2017     215\n",
      "07/2018     396\n",
      "07/2019       6\n",
      "08/2016      94\n",
      "08/2017     114\n",
      "08/2018     285\n",
      "08/2019       1\n",
      "09/2016     141\n",
      "09/2017     149\n",
      "09/2018     141\n",
      "09/2019       5\n",
      "10/2016     160\n",
      "10/2017     154\n",
      "10/2018      97\n",
      "11/2016     142\n",
      "11/2017     180\n",
      "11/2018     110\n",
      "11/2019       1\n",
      "12/2016     134\n",
      "12/2017     123\n",
      "12/2018     103\n",
      "12/2019       1\n",
      "Name: registration, dtype: int64\n"
     ]
    }
   ],
   "source": [
    "first_look(df, 'registration')"
   ]
  },
  {
   "cell_type": "code",
   "execution_count": 19,
   "metadata": {},
   "outputs": [],
   "source": [
    "df['registration'] = df['registration'].replace(to_replace='-/-', value=np.nan)"
   ]
  },
  {
   "cell_type": "code",
   "execution_count": 20,
   "metadata": {},
   "outputs": [
    {
     "data": {
      "text/plain": [
       "0   2016-01-01\n",
       "1   2017-03-01\n",
       "2   2016-02-01\n",
       "3   2016-08-01\n",
       "4   2016-05-01\n",
       "Name: registration, dtype: datetime64[ns]"
      ]
     },
     "execution_count": 20,
     "metadata": {},
     "output_type": "execute_result"
    }
   ],
   "source": [
    "df['registration']= pd.to_datetime(df['registration'])\n",
    "df['registration'].head()"
   ]
  },
  {
   "cell_type": "code",
   "execution_count": 21,
   "metadata": {},
   "outputs": [
    {
     "data": {
      "text/html": [
       "<div>\n",
       "<style scoped>\n",
       "    .dataframe tbody tr th:only-of-type {\n",
       "        vertical-align: middle;\n",
       "    }\n",
       "\n",
       "    .dataframe tbody tr th {\n",
       "        vertical-align: top;\n",
       "    }\n",
       "\n",
       "    .dataframe thead th {\n",
       "        text-align: right;\n",
       "    }\n",
       "</style>\n",
       "<table border=\"1\" class=\"dataframe\">\n",
       "  <thead>\n",
       "    <tr style=\"text-align: right;\">\n",
       "      <th></th>\n",
       "      <th>url</th>\n",
       "      <th>make_model</th>\n",
       "      <th>short_description</th>\n",
       "      <th>body_type</th>\n",
       "      <th>price</th>\n",
       "      <th>vat</th>\n",
       "      <th>km</th>\n",
       "      <th>registration</th>\n",
       "      <th>prev_owner</th>\n",
       "      <th>kW</th>\n",
       "      <th>hp</th>\n",
       "      <th>type</th>\n",
       "      <th>previous_owners</th>\n",
       "      <th>next_inspection</th>\n",
       "      <th>inspection_new</th>\n",
       "      <th>warranty</th>\n",
       "      <th>full_service</th>\n",
       "      <th>non_smoking_vehicle</th>\n",
       "      <th>null</th>\n",
       "      <th>make</th>\n",
       "      <th>model</th>\n",
       "      <th>offer_number</th>\n",
       "      <th>first_registration</th>\n",
       "      <th>body_color</th>\n",
       "      <th>paint_type</th>\n",
       "      <th>body_color_original</th>\n",
       "      <th>upholstery</th>\n",
       "      <th>body</th>\n",
       "      <th>nr_of_doors</th>\n",
       "      <th>nr_of_seats</th>\n",
       "      <th>model_code</th>\n",
       "      <th>gearing_type</th>\n",
       "      <th>displacement</th>\n",
       "      <th>cylinders</th>\n",
       "      <th>weight</th>\n",
       "      <th>drive_chain</th>\n",
       "      <th>fuel</th>\n",
       "      <th>consumption</th>\n",
       "      <th>co_2_emission</th>\n",
       "      <th>emission_class</th>\n",
       "      <th>comfort_&amp;_convenience</th>\n",
       "      <th>entertainment_&amp;_media</th>\n",
       "      <th>extras</th>\n",
       "      <th>safety_&amp;_security</th>\n",
       "      <th>description</th>\n",
       "      <th>emission_label</th>\n",
       "      <th>gears</th>\n",
       "      <th>country_version</th>\n",
       "      <th>electricity_consumption</th>\n",
       "      <th>last_service_date</th>\n",
       "      <th>other_fuel_types</th>\n",
       "      <th>availability</th>\n",
       "      <th>last_timing_belt_service_date</th>\n",
       "      <th>available_from</th>\n",
       "    </tr>\n",
       "  </thead>\n",
       "  <tbody>\n",
       "    <tr>\n",
       "      <th>0</th>\n",
       "      <td>https://www.autoscout24.com//offers/audi-a1-sp...</td>\n",
       "      <td>Audi A1</td>\n",
       "      <td>Sportback 1.4 TDI S-tronic Xenon Navi Klima</td>\n",
       "      <td>Sedans</td>\n",
       "      <td>15770</td>\n",
       "      <td>VAT deductible</td>\n",
       "      <td>56013</td>\n",
       "      <td>2016-01-01</td>\n",
       "      <td>2.000</td>\n",
       "      <td>NaN</td>\n",
       "      <td>66.000</td>\n",
       "      <td>Used</td>\n",
       "      <td>2.000</td>\n",
       "      <td>06/2021</td>\n",
       "      <td>Yes</td>\n",
       "      <td>NaN</td>\n",
       "      <td>NaN</td>\n",
       "      <td>NaN</td>\n",
       "      <td>NaN</td>\n",
       "      <td>Audi</td>\n",
       "      <td>A1</td>\n",
       "      <td>LR-062483</td>\n",
       "      <td>2016.000</td>\n",
       "      <td>Black</td>\n",
       "      <td>Metallic</td>\n",
       "      <td>Mythosschwarz</td>\n",
       "      <td>Cloth, Black</td>\n",
       "      <td>Sedans</td>\n",
       "      <td>5.000</td>\n",
       "      <td>5.000</td>\n",
       "      <td>0588/BDF</td>\n",
       "      <td>Automatic</td>\n",
       "      <td>1,422</td>\n",
       "      <td>3.000</td>\n",
       "      <td>1,220</td>\n",
       "      <td>front</td>\n",
       "      <td>Benzine</td>\n",
       "      <td>3.800</td>\n",
       "      <td>99</td>\n",
       "      <td>Euro 6</td>\n",
       "      <td>Air conditioning,Armrest,Automatic climate con...</td>\n",
       "      <td>Bluetooth,Hands-free equipment,On-board comput...</td>\n",
       "      <td>Alloy wheels,Catalytic Converter,Voice Control</td>\n",
       "      <td>ABS,Central door lock,Daytime running lights,D...</td>\n",
       "      <td>Sicherheit:, ,Deaktivierung für Beifahrer-Airb...</td>\n",
       "      <td>NaN</td>\n",
       "      <td>NaN</td>\n",
       "      <td>NaN</td>\n",
       "      <td>NaN</td>\n",
       "      <td>NaN</td>\n",
       "      <td>NaN</td>\n",
       "      <td>NaN</td>\n",
       "      <td>NaN</td>\n",
       "      <td>NaN</td>\n",
       "    </tr>\n",
       "  </tbody>\n",
       "</table>\n",
       "</div>"
      ],
      "text/plain": [
       "                                                 url make_model  \\\n",
       "0  https://www.autoscout24.com//offers/audi-a1-sp...    Audi A1   \n",
       "\n",
       "                             short_description body_type  price  \\\n",
       "0  Sportback 1.4 TDI S-tronic Xenon Navi Klima    Sedans  15770   \n",
       "\n",
       "              vat     km registration  prev_owner  kW     hp  type  \\\n",
       "0  VAT deductible  56013   2016-01-01       2.000 NaN 66.000  Used   \n",
       "\n",
       "   previous_owners next_inspection inspection_new  warranty  full_service  \\\n",
       "0            2.000         06/2021            Yes       NaN           NaN   \n",
       "\n",
       "  non_smoking_vehicle  null  make model offer_number  first_registration  \\\n",
       "0                 NaN   NaN  Audi    A1    LR-062483            2016.000   \n",
       "\n",
       "  body_color paint_type body_color_original    upholstery    body  \\\n",
       "0      Black   Metallic       Mythosschwarz  Cloth, Black  Sedans   \n",
       "\n",
       "   nr_of_doors  nr_of_seats model_code gearing_type displacement  cylinders  \\\n",
       "0        5.000        5.000   0588/BDF    Automatic        1,422      3.000   \n",
       "\n",
       "  weight drive_chain     fuel  consumption co_2_emission emission_class  \\\n",
       "0  1,220       front  Benzine        3.800            99         Euro 6   \n",
       "\n",
       "                               comfort_&_convenience  \\\n",
       "0  Air conditioning,Armrest,Automatic climate con...   \n",
       "\n",
       "                               entertainment_&_media  \\\n",
       "0  Bluetooth,Hands-free equipment,On-board comput...   \n",
       "\n",
       "                                           extras  \\\n",
       "0  Alloy wheels,Catalytic Converter,Voice Control   \n",
       "\n",
       "                                   safety_&_security  \\\n",
       "0  ABS,Central door lock,Daytime running lights,D...   \n",
       "\n",
       "                                         description  emission_label  gears  \\\n",
       "0  Sicherheit:, ,Deaktivierung für Beifahrer-Airb...             NaN    NaN   \n",
       "\n",
       "  country_version electricity_consumption last_service_date  other_fuel_types  \\\n",
       "0             NaN                     NaN               NaN               NaN   \n",
       "\n",
       "   availability last_timing_belt_service_date available_from  \n",
       "0           NaN                           NaN            NaN  "
      ]
     },
     "execution_count": 21,
     "metadata": {},
     "output_type": "execute_result"
    }
   ],
   "source": [
    "df.head(1)"
   ]
  },
  {
   "cell_type": "code",
   "execution_count": 22,
   "metadata": {},
   "outputs": [
    {
     "data": {
      "text/plain": [
       "0   2020-01-01\n",
       "Name: today, dtype: datetime64[ns]"
      ]
     },
     "execution_count": 22,
     "metadata": {},
     "output_type": "execute_result"
    }
   ],
   "source": [
    "df['today'] = '2020-01-01'\n",
    "df['today'] = pd.to_datetime(df['today'])\n",
    "df['today'].head(1)"
   ]
  },
  {
   "cell_type": "code",
   "execution_count": 23,
   "metadata": {},
   "outputs": [
    {
     "data": {
      "text/plain": [
       "0       1461 days\n",
       "1       1036 days\n",
       "2       1430 days\n",
       "3       1248 days\n",
       "4       1340 days\n",
       "           ...   \n",
       "15914         NaT\n",
       "15915    365 days\n",
       "15916    306 days\n",
       "15917    214 days\n",
       "15918    365 days\n",
       "Name: registration, Length: 15919, dtype: timedelta64[ns]"
      ]
     },
     "execution_count": 23,
     "metadata": {},
     "output_type": "execute_result"
    }
   ],
   "source": [
    "df['registration']= df['today'] - df['registration']\n",
    "df['registration']"
   ]
  },
  {
   "cell_type": "code",
   "execution_count": 24,
   "metadata": {},
   "outputs": [],
   "source": [
    "to_drop = ['today']\n",
    "df.drop(to_drop, inplace = True, axis = 1)"
   ]
  },
  {
   "cell_type": "code",
   "execution_count": 25,
   "metadata": {},
   "outputs": [
    {
     "name": "stdout",
     "output_type": "stream",
     "text": [
      "[ kW ]\n",
      "------------------------------\n",
      "Data Type        : float64\n",
      "Percent_of_Nulls   :  % 100.0\n",
      "Num_of_Nulls   :  15919\n",
      "Num_of_Uniques :  0\n",
      "Duplicates     :  0\n",
      "NaN    15919\n",
      "Name: kW, dtype: int64\n"
     ]
    }
   ],
   "source": [
    "first_look(df, 'kW')"
   ]
  },
  {
   "cell_type": "code",
   "execution_count": 26,
   "metadata": {},
   "outputs": [
    {
     "name": "stdout",
     "output_type": "stream",
     "text": [
      "[ prev_owner ]\n",
      "------------------------------\n",
      "Data Type        : float64\n",
      "Percent_of_Nulls   :  % 42.89\n",
      "Num_of_Nulls   :  6828\n",
      "Num_of_Uniques :  4\n",
      "Duplicates     :  0\n",
      "1.000    8294\n",
      "2.000     778\n",
      "3.000      17\n",
      "4.000       2\n",
      "NaN      6828\n",
      "Name: prev_owner, dtype: int64\n"
     ]
    }
   ],
   "source": [
    "first_look(df,'prev_owner')"
   ]
  },
  {
   "cell_type": "code",
   "execution_count": 27,
   "metadata": {},
   "outputs": [
    {
     "name": "stdout",
     "output_type": "stream",
     "text": [
      "[ hp ]\n",
      "------------------------------\n",
      "Data Type        : float64\n",
      "Percent_of_Nulls   :  % 0.55\n",
      "Num_of_Nulls   :  88\n",
      "Num_of_Uniques :  80\n",
      "Duplicates     :  0\n",
      "1.000      20\n",
      "4.000       1\n",
      "9.000       1\n",
      "40.000      2\n",
      "44.000      1\n",
      "           ..\n",
      "228.000     2\n",
      "239.000     1\n",
      "270.000     2\n",
      "294.000    18\n",
      "NaN        88\n",
      "Name: hp, Length: 81, dtype: int64\n"
     ]
    }
   ],
   "source": [
    "first_look(df, 'hp')"
   ]
  },
  {
   "cell_type": "code",
   "execution_count": 28,
   "metadata": {},
   "outputs": [
    {
     "name": "stdout",
     "output_type": "stream",
     "text": [
      "[ type ]\n",
      "------------------------------\n",
      "Data Type        : object\n",
      "Percent_of_Nulls   :  % 0.01\n",
      "Num_of_Nulls   :  2\n",
      "Num_of_Uniques :  5\n",
      "Duplicates     :  0\n",
      "Demonstration       796\n",
      "Employee's car     1011\n",
      "New                1650\n",
      "Pre-registered     1364\n",
      "Used              11096\n",
      "NaN                   2\n",
      "Name: type, dtype: int64\n"
     ]
    }
   ],
   "source": [
    "first_look(df, 'type')"
   ]
  },
  {
   "cell_type": "code",
   "execution_count": 29,
   "metadata": {},
   "outputs": [
    {
     "name": "stdout",
     "output_type": "stream",
     "text": [
      "[ previous_owners ]\n",
      "------------------------------\n",
      "Data Type        : float64\n",
      "Percent_of_Nulls   :  % 41.71\n",
      "Num_of_Nulls   :  6640\n",
      "Num_of_Uniques :  5\n",
      "Duplicates     :  0\n",
      "0.000     188\n",
      "1.000    8294\n",
      "2.000     778\n",
      "3.000      17\n",
      "4.000       2\n",
      "NaN      6640\n",
      "Name: previous_owners, dtype: int64\n"
     ]
    }
   ],
   "source": [
    "first_look(df, 'previous_owners')"
   ]
  },
  {
   "cell_type": "code",
   "execution_count": 30,
   "metadata": {},
   "outputs": [
    {
     "name": "stdout",
     "output_type": "stream",
     "text": [
      "[ next_inspection ]\n",
      "------------------------------\n",
      "Data Type        : object\n",
      "Percent_of_Nulls   :  % 77.79\n",
      "Num_of_Nulls   :  12384\n",
      "Num_of_Uniques :  77\n",
      "Duplicates     :  0\n",
      "01/1921        1\n",
      "01/1955        1\n",
      "01/1999        1\n",
      "01/2001        5\n",
      "01/2018        1\n",
      "           ...  \n",
      "12/2019       20\n",
      "12/2020       50\n",
      "12/2021       22\n",
      "12/2022        1\n",
      "NaN        12384\n",
      "Name: next_inspection, Length: 78, dtype: int64\n"
     ]
    }
   ],
   "source": [
    "first_look(df, 'next_inspection')"
   ]
  },
  {
   "cell_type": "code",
   "execution_count": 31,
   "metadata": {},
   "outputs": [
    {
     "data": {
      "text/plain": [
       "0   2021-06-01\n",
       "1          NaT\n",
       "2          NaT\n",
       "3          NaT\n",
       "4          NaT\n",
       "Name: next_inspection, dtype: datetime64[ns]"
      ]
     },
     "execution_count": 31,
     "metadata": {},
     "output_type": "execute_result"
    }
   ],
   "source": [
    "df['next_inspection']= pd.to_datetime(df['next_inspection'])\n",
    "df['next_inspection'].head()"
   ]
  },
  {
   "cell_type": "code",
   "execution_count": 32,
   "metadata": {},
   "outputs": [
    {
     "name": "stdout",
     "output_type": "stream",
     "text": [
      "[ inspection_new ]\n",
      "------------------------------\n",
      "Data Type        : object\n",
      "Percent_of_Nulls   :  % 75.3\n",
      "Num_of_Nulls   :  11987\n",
      "Num_of_Uniques :  1\n",
      "Duplicates     :  0\n",
      "Yes     3932\n",
      "NaN    11987\n",
      "Name: inspection_new, dtype: int64\n"
     ]
    }
   ],
   "source": [
    "first_look(df, 'inspection_new')"
   ]
  },
  {
   "cell_type": "code",
   "execution_count": 33,
   "metadata": {},
   "outputs": [
    {
     "data": {
      "text/plain": [
       "0    True\n",
       "1     NaN\n",
       "2     NaN\n",
       "3     NaN\n",
       "4    True\n",
       "Name: inspection_new, dtype: object"
      ]
     },
     "execution_count": 33,
     "metadata": {},
     "output_type": "execute_result"
    }
   ],
   "source": [
    "df['inspection_new'] = df['inspection_new'].str.replace('Yes', 'True')\n",
    "df['inspection_new'].head()"
   ]
  },
  {
   "cell_type": "code",
   "execution_count": 34,
   "metadata": {},
   "outputs": [
    {
     "data": {
      "text/plain": [
       "url                                       object\n",
       "make_model                                object\n",
       "short_description                         object\n",
       "body_type                                 object\n",
       "price                                      int64\n",
       "vat                                       object\n",
       "km                                        object\n",
       "registration                     timedelta64[ns]\n",
       "prev_owner                               float64\n",
       "kW                                       float64\n",
       "hp                                       float64\n",
       "type                                      object\n",
       "previous_owners                          float64\n",
       "next_inspection                   datetime64[ns]\n",
       "inspection_new                              bool\n",
       "warranty                                 float64\n",
       "full_service                             float64\n",
       "non_smoking_vehicle                       object\n",
       "null                                     float64\n",
       "make                                      object\n",
       "model                                     object\n",
       "offer_number                              object\n",
       "first_registration                       float64\n",
       "body_color                                object\n",
       "paint_type                                object\n",
       "body_color_original                       object\n",
       "upholstery                                object\n",
       "body                                      object\n",
       "nr_of_doors                              float64\n",
       "nr_of_seats                              float64\n",
       "model_code                                object\n",
       "gearing_type                              object\n",
       "displacement                              object\n",
       "cylinders                                float64\n",
       "weight                                    object\n",
       "drive_chain                               object\n",
       "fuel                                      object\n",
       "consumption                              float64\n",
       "co_2_emission                             object\n",
       "emission_class                            object\n",
       "comfort_&_convenience                     object\n",
       "entertainment_&_media                     object\n",
       "extras                                    object\n",
       "safety_&_security                         object\n",
       "description                               object\n",
       "emission_label                           float64\n",
       "gears                                    float64\n",
       "country_version                           object\n",
       "electricity_consumption                   object\n",
       "last_service_date                         object\n",
       "other_fuel_types                         float64\n",
       "availability                             float64\n",
       "last_timing_belt_service_date             object\n",
       "available_from                            object\n",
       "dtype: object"
      ]
     },
     "execution_count": 34,
     "metadata": {},
     "output_type": "execute_result"
    }
   ],
   "source": [
    "df.astype({'inspection_new': 'bool'}).dtypes"
   ]
  },
  {
   "cell_type": "code",
   "execution_count": 35,
   "metadata": {},
   "outputs": [
    {
     "name": "stdout",
     "output_type": "stream",
     "text": [
      "[ warranty ]\n",
      "------------------------------\n",
      "Data Type        : float64\n",
      "Percent_of_Nulls   :  % 69.51\n",
      "Num_of_Nulls   :  11066\n",
      "Num_of_Uniques :  41\n",
      "Duplicates     :  0\n",
      "1.000         3\n",
      "2.000         5\n",
      "3.000        33\n",
      "4.000         3\n",
      "6.000       125\n",
      "7.000         1\n",
      "8.000         1\n",
      "9.000         2\n",
      "10.000        1\n",
      "11.000        2\n",
      "12.000     2594\n",
      "13.000        3\n",
      "14.000        2\n",
      "15.000        1\n",
      "16.000        4\n",
      "17.000        2\n",
      "18.000       10\n",
      "19.000        3\n",
      "20.000        7\n",
      "21.000        2\n",
      "22.000        2\n",
      "23.000       11\n",
      "24.000     1118\n",
      "25.000        6\n",
      "26.000        4\n",
      "28.000        2\n",
      "30.000        1\n",
      "33.000        1\n",
      "34.000        3\n",
      "36.000      279\n",
      "40.000        1\n",
      "45.000        2\n",
      "46.000        2\n",
      "47.000        1\n",
      "48.000      149\n",
      "49.000        1\n",
      "50.000        4\n",
      "56.000        1\n",
      "60.000      401\n",
      "65.000        1\n",
      "72.000       59\n",
      "NaN       11066\n",
      "Name: warranty, dtype: int64\n"
     ]
    }
   ],
   "source": [
    "first_look(df, 'warranty')"
   ]
  },
  {
   "cell_type": "code",
   "execution_count": 36,
   "metadata": {},
   "outputs": [
    {
     "name": "stdout",
     "output_type": "stream",
     "text": [
      "[ full_service ]\n",
      "------------------------------\n",
      "Data Type        : float64\n",
      "Percent_of_Nulls   :  % 100.0\n",
      "Num_of_Nulls   :  15919\n",
      "Num_of_Uniques :  0\n",
      "Duplicates     :  0\n",
      "NaN    15919\n",
      "Name: full_service, dtype: int64\n"
     ]
    }
   ],
   "source": [
    "first_look(df, 'full_service')"
   ]
  },
  {
   "cell_type": "code",
   "execution_count": 37,
   "metadata": {},
   "outputs": [
    {
     "name": "stdout",
     "output_type": "stream",
     "text": [
      "[ non_smoking_vehicle ]\n",
      "------------------------------\n",
      "Data Type        : object\n",
      "Percent_of_Nulls   :  % 78.26\n",
      "Num_of_Nulls   :  12459\n",
      "Num_of_Uniques :  88\n",
      "Duplicates     :  0\n",
      "1         24\n",
      "1.6        1\n",
      "100       18\n",
      "101        1\n",
      "102       11\n",
      "       ...  \n",
      "95         3\n",
      "97        20\n",
      "98        15\n",
      "99        23\n",
      "NaN    12459\n",
      "Name: non_smoking_vehicle, Length: 89, dtype: int64\n"
     ]
    }
   ],
   "source": [
    "first_look(df, 'non_smoking_vehicle')"
   ]
  },
  {
   "cell_type": "code",
   "execution_count": 38,
   "metadata": {},
   "outputs": [
    {
     "name": "stdout",
     "output_type": "stream",
     "text": [
      "[ null ]\n",
      "------------------------------\n",
      "Data Type        : float64\n",
      "Percent_of_Nulls   :  % 100.0\n",
      "Num_of_Nulls   :  15919\n",
      "Num_of_Uniques :  0\n",
      "Duplicates     :  0\n",
      "NaN    15919\n",
      "Name: null, dtype: int64\n"
     ]
    }
   ],
   "source": [
    "first_look(df, 'null')"
   ]
  },
  {
   "cell_type": "code",
   "execution_count": 39,
   "metadata": {},
   "outputs": [
    {
     "name": "stdout",
     "output_type": "stream",
     "text": [
      "[ make ]\n",
      "------------------------------\n",
      "Data Type        : object\n",
      "Percent_of_Nulls   :  % 0.0\n",
      "Num_of_Nulls   :  0\n",
      "Num_of_Uniques :  3\n",
      "Duplicates     :  0\n",
      "Audi       5712\n",
      "Opel       7343\n",
      "Renault    2864\n",
      "Name: make, dtype: int64\n"
     ]
    }
   ],
   "source": [
    "first_look(df, 'make')"
   ]
  },
  {
   "cell_type": "code",
   "execution_count": 40,
   "metadata": {},
   "outputs": [],
   "source": [
    "to_drop = ['make']\n",
    "df.drop(to_drop, inplace = True, axis = 1)"
   ]
  },
  {
   "cell_type": "code",
   "execution_count": 41,
   "metadata": {},
   "outputs": [
    {
     "name": "stdout",
     "output_type": "stream",
     "text": [
      "[ model ]\n",
      "------------------------------\n",
      "Data Type        : object\n",
      "Percent_of_Nulls   :  % 0.0\n",
      "Num_of_Nulls   :  0\n",
      "Num_of_Uniques :  9\n",
      "Duplicates     :  0\n",
      "A1          2614\n",
      "A2             1\n",
      "A3          3097\n",
      "Astra       2526\n",
      "Clio        1839\n",
      "Corsa       2219\n",
      "Duster        34\n",
      "Espace       991\n",
      "Insignia    2598\n",
      "Name: model, dtype: int64\n"
     ]
    }
   ],
   "source": [
    "first_look(df, 'model')"
   ]
  },
  {
   "cell_type": "code",
   "execution_count": 42,
   "metadata": {},
   "outputs": [],
   "source": [
    "to_drop = ['model']\n",
    "df.drop(to_drop, inplace = True, axis = 1)"
   ]
  },
  {
   "cell_type": "code",
   "execution_count": 43,
   "metadata": {},
   "outputs": [
    {
     "name": "stdout",
     "output_type": "stream",
     "text": [
      "[ offer_number ]\n",
      "------------------------------\n",
      "Data Type        : object\n",
      "Percent_of_Nulls   :  % 19.94\n",
      "Num_of_Nulls   :  3175\n",
      "Num_of_Uniques :  11440\n",
      "Duplicates     :  0\n",
      "# 250678          1\n",
      "# 8H6050830       1\n",
      "# G1024529        1\n",
      "# G6050580        1\n",
      "#8023778          2\n",
      "               ... \n",
      "x_45689v          2\n",
      "y8fx64x           1\n",
      "zr11914           1\n",
      "zr11916           1\n",
      "NaN            3175\n",
      "Name: offer_number, Length: 11441, dtype: int64\n"
     ]
    }
   ],
   "source": [
    "first_look(df, 'offer_number')"
   ]
  },
  {
   "cell_type": "code",
   "execution_count": 44,
   "metadata": {},
   "outputs": [
    {
     "name": "stdout",
     "output_type": "stream",
     "text": [
      "[ first_registration ]\n",
      "------------------------------\n",
      "Data Type        : float64\n",
      "Percent_of_Nulls   :  % 10.03\n",
      "Num_of_Nulls   :  1597\n",
      "Num_of_Uniques :  4\n",
      "Duplicates     :  0\n",
      "2016.000    3674\n",
      "2017.000    3273\n",
      "2018.000    4522\n",
      "2019.000    2853\n",
      "NaN         1597\n",
      "Name: first_registration, dtype: int64\n"
     ]
    }
   ],
   "source": [
    "first_look(df, 'first_registration')"
   ]
  },
  {
   "cell_type": "code",
   "execution_count": 45,
   "metadata": {},
   "outputs": [
    {
     "data": {
      "text/plain": [
       "0   2016.000\n",
       "1   2017.000\n",
       "2   2016.000\n",
       "3   2016.000\n",
       "4   2016.000\n",
       "Name: first_registration, dtype: float64"
      ]
     },
     "execution_count": 45,
     "metadata": {},
     "output_type": "execute_result"
    }
   ],
   "source": [
    "\n",
    "# df['first_registration']= pd.to_datetime(df['first_registration'])\n",
    "df['first_registration'].head()"
   ]
  },
  {
   "cell_type": "code",
   "execution_count": 46,
   "metadata": {},
   "outputs": [
    {
     "data": {
      "text/plain": [
       "0       4.000\n",
       "1       3.000\n",
       "2       4.000\n",
       "3       4.000\n",
       "4       4.000\n",
       "         ... \n",
       "15914     NaN\n",
       "15915   1.000\n",
       "15916   1.000\n",
       "15917   1.000\n",
       "15918   1.000\n",
       "Name: age, Length: 15919, dtype: float64"
      ]
     },
     "execution_count": 46,
     "metadata": {},
     "output_type": "execute_result"
    }
   ],
   "source": [
    "df['age'] = 2020 - df['first_registration']\n",
    "df['age']"
   ]
  },
  {
   "cell_type": "markdown",
   "metadata": {},
   "source": []
  },
  {
   "cell_type": "code",
   "execution_count": 47,
   "metadata": {},
   "outputs": [
    {
     "data": {
      "text/plain": [
       "New    1650\n",
       "Name: type_New, dtype: int64"
      ]
     },
     "execution_count": 47,
     "metadata": {},
     "output_type": "execute_result"
    }
   ],
   "source": [
    "df['type_New'] =  df['type'].apply(lambda x: 'New' if x == 'New' else np.nan)\n",
    "df['type_New'].value_counts()"
   ]
  },
  {
   "cell_type": "code",
   "execution_count": 48,
   "metadata": {},
   "outputs": [
    {
     "data": {
      "text/plain": [
       "1597"
      ]
     },
     "execution_count": 48,
     "metadata": {},
     "output_type": "execute_result"
    }
   ],
   "source": [
    "df['age'].isnull().sum()"
   ]
  },
  {
   "cell_type": "code",
   "execution_count": 49,
   "metadata": {},
   "outputs": [
    {
     "data": {
      "text/plain": [
       "0       4.000\n",
       "1       3.000\n",
       "2       4.000\n",
       "3       4.000\n",
       "4       4.000\n",
       "         ... \n",
       "15914     NaN\n",
       "15915   1.000\n",
       "15916   1.000\n",
       "15917   1.000\n",
       "15918   1.000\n",
       "Name: age, Length: 15919, dtype: float64"
      ]
     },
     "execution_count": 49,
     "metadata": {},
     "output_type": "execute_result"
    }
   ],
   "source": [
    "df['age']"
   ]
  },
  {
   "cell_type": "code",
   "execution_count": 50,
   "metadata": {},
   "outputs": [
    {
     "data": {
      "text/plain": [
       "0       4.000\n",
       "1       3.000\n",
       "2       4.000\n",
       "3       4.000\n",
       "4       4.000\n",
       "         ... \n",
       "15914     New\n",
       "15915   1.000\n",
       "15916   1.000\n",
       "15917   1.000\n",
       "15918   1.000\n",
       "Name: age, Length: 15919, dtype: object"
      ]
     },
     "execution_count": 50,
     "metadata": {},
     "output_type": "execute_result"
    }
   ],
   "source": [
    "df['age'] = df['age'].fillna(value= df['type_New'])\n",
    "df['age'] "
   ]
  },
  {
   "cell_type": "code",
   "execution_count": 51,
   "metadata": {},
   "outputs": [],
   "source": [
    "df['age'] = df['age'].replace('New', 0)"
   ]
  },
  {
   "cell_type": "code",
   "execution_count": 52,
   "metadata": {},
   "outputs": [
    {
     "data": {
      "text/plain": [
       "50"
      ]
     },
     "execution_count": 52,
     "metadata": {},
     "output_type": "execute_result"
    }
   ],
   "source": [
    "df['age'].isnull().sum()"
   ]
  },
  {
   "cell_type": "code",
   "execution_count": 53,
   "metadata": {},
   "outputs": [],
   "source": [
    "to_drop = ['type_New']\n",
    "df.drop(to_drop, inplace = True, axis = 1)"
   ]
  },
  {
   "cell_type": "code",
   "execution_count": 54,
   "metadata": {},
   "outputs": [
    {
     "name": "stdout",
     "output_type": "stream",
     "text": [
      "[ body_color ]\n",
      "------------------------------\n",
      "Data Type        : object\n",
      "Percent_of_Nulls   :  % 3.75\n",
      "Num_of_Nulls   :  597\n",
      "Num_of_Uniques :  14\n",
      "Duplicates     :  0\n",
      "Beige      108\n",
      "Black     3745\n",
      "Blue      1431\n",
      "Bronze       6\n",
      "Brown      289\n",
      "Gold         2\n",
      "Green      154\n",
      "Grey      3505\n",
      "Orange       3\n",
      "Red        957\n",
      "Silver    1647\n",
      "Violet      18\n",
      "White     3406\n",
      "Yellow      51\n",
      "NaN        597\n",
      "Name: body_color, dtype: int64\n"
     ]
    }
   ],
   "source": [
    "first_look(df, 'body_color')"
   ]
  },
  {
   "cell_type": "code",
   "execution_count": 55,
   "metadata": {},
   "outputs": [
    {
     "name": "stdout",
     "output_type": "stream",
     "text": [
      "[ paint_type ]\n",
      "------------------------------\n",
      "Data Type        : object\n",
      "Percent_of_Nulls   :  % 36.26\n",
      "Num_of_Nulls   :  5772\n",
      "Num_of_Uniques :  3\n",
      "Duplicates     :  0\n",
      "Metallic       9794\n",
      "Perl effect       6\n",
      "Uni/basic       347\n",
      "NaN            5772\n",
      "Name: paint_type, dtype: int64\n"
     ]
    }
   ],
   "source": [
    "first_look(df, 'paint_type')"
   ]
  },
  {
   "cell_type": "code",
   "execution_count": 56,
   "metadata": {},
   "outputs": [
    {
     "name": "stdout",
     "output_type": "stream",
     "text": [
      "[ body_color_original ]\n",
      "------------------------------\n",
      "Data Type        : object\n",
      "Percent_of_Nulls   :  % 23.71\n",
      "Num_of_Nulls   :  3774\n",
      "Num_of_Uniques :  1926\n",
      "Duplicates     :  0\n",
      "\"PLATIN\"                          1\n",
      "\"satinsilber \"                    1\n",
      "(0C0C) Monsungrau Metallic        1\n",
      "(B4B4) Cortinaweiss               1\n",
      "(NNP)                             1\n",
      "                               ... \n",
      "wählbar - ggf. mit Aufpreis     118\n",
      "wählbar -ggfl. mit Aufpreis       1\n",
      "wählbar, ggf gegen Aufpreis       2\n",
      "zwart                             2\n",
      "NaN                            3774\n",
      "Name: body_color_original, Length: 1927, dtype: int64\n"
     ]
    }
   ],
   "source": [
    "first_look(df, 'body_color_original')"
   ]
  },
  {
   "cell_type": "code",
   "execution_count": 57,
   "metadata": {},
   "outputs": [
    {
     "name": "stdout",
     "output_type": "stream",
     "text": [
      "[ upholstery ]\n",
      "------------------------------\n",
      "Data Type        : object\n",
      "Percent_of_Nulls   :  % 23.37\n",
      "Num_of_Nulls   :  3720\n",
      "Num_of_Uniques :  46\n",
      "Duplicates     :  0\n",
      "Beige                     3\n",
      "Black                   491\n",
      "Blue                      2\n",
      "Brown                    12\n",
      "Cloth                  1005\n",
      "Cloth, Beige             13\n",
      "Cloth, Black           5821\n",
      "Cloth, Blue              12\n",
      "Cloth, Brown             28\n",
      "Cloth, Grey             891\n",
      "Cloth, Orange             1\n",
      "Cloth, Other            639\n",
      "Cloth, Red                5\n",
      "Cloth, White              8\n",
      "Full leather            139\n",
      "Full leather, Beige      36\n",
      "Full leather, Black     575\n",
      "Full leather, Blue        2\n",
      "Full leather, Brown     116\n",
      "Full leather, Grey       67\n",
      "Full leather, Other      72\n",
      "Full leather, Red         1\n",
      "Full leather, White       1\n",
      "Grey                    273\n",
      "Other                    56\n",
      "Other, Black            110\n",
      "Other, Brown              1\n",
      "Other, Grey              15\n",
      "Other, Other            182\n",
      "Other, Yellow             4\n",
      "Part leather            140\n",
      "Part leather, Beige       2\n",
      "Part leather, Black    1121\n",
      "Part leather, Brown      50\n",
      "Part leather, Grey      116\n",
      "Part leather, Other      65\n",
      "Part leather, Red         3\n",
      "Part leather, White       2\n",
      "Velour                   16\n",
      "Velour, Black            36\n",
      "Velour, Grey              8\n",
      "White                     2\n",
      "alcantara                 2\n",
      "alcantara, Black         47\n",
      "alcantara, Grey           6\n",
      "alcantara, Other          2\n",
      "NaN                    3720\n",
      "Name: upholstery, dtype: int64\n"
     ]
    }
   ],
   "source": [
    "first_look(df, 'upholstery')"
   ]
  },
  {
   "cell_type": "code",
   "execution_count": 58,
   "metadata": {},
   "outputs": [
    {
     "name": "stdout",
     "output_type": "stream",
     "text": [
      "[ body ]\n",
      "------------------------------\n",
      "Data Type        : object\n",
      "Percent_of_Nulls   :  % 0.38\n",
      "Num_of_Nulls   :  60\n",
      "Num_of_Uniques :  9\n",
      "Duplicates     :  0\n",
      "Compact          3153\n",
      "Convertible         8\n",
      "Coupe              25\n",
      "Off-Road           56\n",
      "Other             290\n",
      "Sedans           7903\n",
      "Station wagon    3553\n",
      "Transporter        88\n",
      "Van               783\n",
      "NaN                60\n",
      "Name: body, dtype: int64\n"
     ]
    }
   ],
   "source": [
    "first_look(df, 'body')"
   ]
  },
  {
   "cell_type": "code",
   "execution_count": 59,
   "metadata": {},
   "outputs": [
    {
     "name": "stdout",
     "output_type": "stream",
     "text": [
      "[ nr_of_doors ]\n",
      "------------------------------\n",
      "Data Type        : float64\n",
      "Percent_of_Nulls   :  % 1.33\n",
      "Num_of_Nulls   :  212\n",
      "Num_of_Uniques :  6\n",
      "Duplicates     :  0\n",
      "1.000        1\n",
      "2.000      219\n",
      "3.000      832\n",
      "4.000     3079\n",
      "5.000    11575\n",
      "7.000        1\n",
      "NaN        212\n",
      "Name: nr_of_doors, dtype: int64\n"
     ]
    }
   ],
   "source": [
    "first_look(df, 'nr_of_doors')"
   ]
  },
  {
   "cell_type": "code",
   "execution_count": 60,
   "metadata": {},
   "outputs": [
    {
     "name": "stdout",
     "output_type": "stream",
     "text": [
      "[ nr_of_seats ]\n",
      "------------------------------\n",
      "Data Type        : float64\n",
      "Percent_of_Nulls   :  % 6.14\n",
      "Num_of_Nulls   :  977\n",
      "Num_of_Uniques :  6\n",
      "Duplicates     :  0\n",
      "2.000      116\n",
      "3.000        1\n",
      "4.000     1125\n",
      "5.000    13336\n",
      "6.000        2\n",
      "7.000      362\n",
      "NaN        977\n",
      "Name: nr_of_seats, dtype: int64\n"
     ]
    }
   ],
   "source": [
    "first_look(df, 'nr_of_seats')"
   ]
  },
  {
   "cell_type": "code",
   "execution_count": 61,
   "metadata": {},
   "outputs": [
    {
     "name": "stdout",
     "output_type": "stream",
     "text": [
      "[ model_code ]\n",
      "------------------------------\n",
      "Data Type        : object\n",
      "Percent_of_Nulls   :  % 68.73\n",
      "Num_of_Nulls   :  10941\n",
      "Num_of_Uniques :  232\n",
      "Duplicates     :  0\n",
      "0000/000       21\n",
      "0000/035        1\n",
      "0000/ACP        1\n",
      "0035/AAA        1\n",
      "0035/AAD        1\n",
      "            ...  \n",
      "3333/BJR       79\n",
      "3333/BKG        1\n",
      "3333/BKQ       18\n",
      "3333/BKR        8\n",
      "NaN         10941\n",
      "Name: model_code, Length: 233, dtype: int64\n"
     ]
    }
   ],
   "source": [
    "first_look(df, 'model_code')"
   ]
  },
  {
   "cell_type": "code",
   "execution_count": 62,
   "metadata": {},
   "outputs": [
    {
     "name": "stdout",
     "output_type": "stream",
     "text": [
      "[ gearing_type ]\n",
      "------------------------------\n",
      "Data Type        : object\n",
      "Percent_of_Nulls   :  % 0.0\n",
      "Num_of_Nulls   :  0\n",
      "Num_of_Uniques :  3\n",
      "Duplicates     :  0\n",
      "Automatic         7297\n",
      "Manual            8153\n",
      "Semi-automatic     469\n",
      "Name: gearing_type, dtype: int64\n"
     ]
    }
   ],
   "source": [
    "first_look(df, 'gearing_type')"
   ]
  },
  {
   "cell_type": "code",
   "execution_count": 63,
   "metadata": {},
   "outputs": [
    {
     "name": "stdout",
     "output_type": "stream",
     "text": [
      "[ displacement ]\n",
      "------------------------------\n",
      "Data Type        : object\n",
      "Percent_of_Nulls   :  % 3.12\n",
      "Num_of_Nulls   :  496\n",
      "Num_of_Uniques :  77\n",
      "Duplicates     :  0\n",
      "1          36\n",
      "1,000      40\n",
      "1,100       1\n",
      "1,149     288\n",
      "1,195       1\n",
      "         ... \n",
      "996         1\n",
      "997         4\n",
      "998        72\n",
      "999      2438\n",
      "NaN       496\n",
      "Name: displacement, Length: 78, dtype: int64\n"
     ]
    }
   ],
   "source": [
    "first_look(df, 'displacement')"
   ]
  },
  {
   "cell_type": "code",
   "execution_count": 64,
   "metadata": {},
   "outputs": [
    {
     "data": {
      "text/plain": [
       "0    1422\n",
       "1    1798\n",
       "2    1598\n",
       "3    1422\n",
       "4    1422\n",
       "Name: displacement, dtype: object"
      ]
     },
     "execution_count": 64,
     "metadata": {},
     "output_type": "execute_result"
    }
   ],
   "source": [
    "df['displacement'] = df['displacement'].str.replace(',', '')\n",
    "df['displacement'].head()"
   ]
  },
  {
   "cell_type": "code",
   "execution_count": 65,
   "metadata": {},
   "outputs": [
    {
     "name": "stdout",
     "output_type": "stream",
     "text": [
      "[ cylinders ]\n",
      "------------------------------\n",
      "Data Type        : float64\n",
      "Percent_of_Nulls   :  % 35.68\n",
      "Num_of_Nulls   :  5680\n",
      "Num_of_Uniques :  7\n",
      "Duplicates     :  0\n",
      "1.000       1\n",
      "2.000       2\n",
      "3.000    2104\n",
      "4.000    8105\n",
      "5.000      22\n",
      "6.000       3\n",
      "8.000       2\n",
      "NaN      5680\n",
      "Name: cylinders, dtype: int64\n"
     ]
    }
   ],
   "source": [
    "first_look(df, 'cylinders')"
   ]
  },
  {
   "cell_type": "code",
   "execution_count": 66,
   "metadata": {},
   "outputs": [
    {
     "name": "stdout",
     "output_type": "stream",
     "text": [
      "[ weight ]\n",
      "------------------------------\n",
      "Data Type        : object\n",
      "Percent_of_Nulls   :  % 43.81\n",
      "Num_of_Nulls   :  6974\n",
      "Num_of_Uniques :  434\n",
      "Duplicates     :  0\n",
      "1           2\n",
      "1,009       1\n",
      "1,010       3\n",
      "1,017       1\n",
      "1,030       1\n",
      "         ... \n",
      "840         1\n",
      "900         1\n",
      "977         2\n",
      "980        11\n",
      "NaN      6974\n",
      "Name: weight, Length: 435, dtype: int64\n"
     ]
    }
   ],
   "source": [
    "first_look(df, 'weight')"
   ]
  },
  {
   "cell_type": "code",
   "execution_count": 67,
   "metadata": {},
   "outputs": [
    {
     "data": {
      "text/plain": [
       "0    1220\n",
       "1    1255\n",
       "2     NaN\n",
       "3    1195\n",
       "4     NaN\n",
       "Name: weight, dtype: object"
      ]
     },
     "execution_count": 67,
     "metadata": {},
     "output_type": "execute_result"
    }
   ],
   "source": [
    "df['weight'] = df['weight'].str.replace(',', '')\n",
    "df['weight'].head()"
   ]
  },
  {
   "cell_type": "code",
   "execution_count": 68,
   "metadata": {},
   "outputs": [
    {
     "name": "stdout",
     "output_type": "stream",
     "text": [
      "[ drive_chain ]\n",
      "------------------------------\n",
      "Data Type        : object\n",
      "Percent_of_Nulls   :  % 43.08\n",
      "Num_of_Nulls   :  6858\n",
      "Num_of_Uniques :  3\n",
      "Duplicates     :  0\n",
      "4WD       171\n",
      "front    8886\n",
      "rear        4\n",
      "NaN      6858\n",
      "Name: drive_chain, dtype: int64\n"
     ]
    }
   ],
   "source": [
    "first_look(df, 'drive_chain')"
   ]
  },
  {
   "cell_type": "code",
   "execution_count": 69,
   "metadata": {},
   "outputs": [
    {
     "name": "stdout",
     "output_type": "stream",
     "text": [
      "[ fuel ]\n",
      "------------------------------\n",
      "Data Type        : object\n",
      "Percent_of_Nulls   :  % 0.0\n",
      "Num_of_Nulls   :  0\n",
      "Num_of_Uniques :  4\n",
      "Duplicates     :  0\n",
      "Benzine     12866\n",
      "Diesel       2984\n",
      "Electric        5\n",
      "LPG/CNG        64\n",
      "Name: fuel, dtype: int64\n"
     ]
    }
   ],
   "source": [
    "first_look(df, 'fuel')"
   ]
  },
  {
   "cell_type": "code",
   "execution_count": 70,
   "metadata": {},
   "outputs": [
    {
     "name": "stdout",
     "output_type": "stream",
     "text": [
      "[ consumption ]\n",
      "------------------------------\n",
      "Data Type        : float64\n",
      "Percent_of_Nulls   :  % 18.11\n",
      "Num_of_Nulls   :  2883\n",
      "Num_of_Uniques :  71\n",
      "Duplicates     :  0\n",
      "0.000        2\n",
      "1.000        1\n",
      "1.200        1\n",
      "3.000       69\n",
      "3.100        7\n",
      "          ... \n",
      "50.000       1\n",
      "51.000       4\n",
      "54.000       1\n",
      "55.000       1\n",
      "NaN       2883\n",
      "Name: consumption, Length: 72, dtype: int64\n"
     ]
    }
   ],
   "source": [
    "first_look(df, 'consumption')"
   ]
  },
  {
   "cell_type": "code",
   "execution_count": 71,
   "metadata": {},
   "outputs": [
    {
     "name": "stdout",
     "output_type": "stream",
     "text": [
      "[ co_2_emission ]\n",
      "------------------------------\n",
      "Data Type        : object\n",
      "Percent_of_Nulls   :  % 15.3\n",
      "Num_of_Nulls   :  2436\n",
      "Num_of_Uniques :  122\n",
      "Duplicates     :  0\n",
      "0           2\n",
      "1           1\n",
      "1,060       1\n",
      "100        36\n",
      "101       105\n",
      "         ... \n",
      "97        537\n",
      "98        151\n",
      "99        545\n",
      "990         1\n",
      "NaN      2436\n",
      "Name: co_2_emission, Length: 123, dtype: int64\n"
     ]
    }
   ],
   "source": [
    "first_look(df, 'co_2_emission')"
   ]
  },
  {
   "cell_type": "code",
   "execution_count": 72,
   "metadata": {},
   "outputs": [
    {
     "name": "stdout",
     "output_type": "stream",
     "text": [
      "[ emission_class ]\n",
      "------------------------------\n",
      "Data Type        : object\n",
      "Percent_of_Nulls   :  % 22.79\n",
      "Num_of_Nulls   :  3628\n",
      "Num_of_Uniques :  6\n",
      "Duplicates     :  0\n",
      "Euro 4             40\n",
      "Euro 5             78\n",
      "Euro 6          10139\n",
      "Euro 6c           127\n",
      "Euro 6d            62\n",
      "Euro 6d-TEMP     1845\n",
      "NaN              3628\n",
      "Name: emission_class, dtype: int64\n"
     ]
    }
   ],
   "source": [
    "first_look(df, 'emission_class')"
   ]
  },
  {
   "cell_type": "code",
   "execution_count": 73,
   "metadata": {},
   "outputs": [
    {
     "name": "stdout",
     "output_type": "stream",
     "text": [
      "[ comfort_&_convenience ]\n",
      "------------------------------\n",
      "Data Type        : object\n",
      "Percent_of_Nulls   :  % 5.78\n",
      "Num_of_Nulls   :  920\n",
      "Num_of_Uniques :  6198\n",
      "Duplicates     :  0\n",
      "Air conditioning                                                                                                                                                                                                                                                                                                                                                                                                                                                                                                                                                                                                                                                   79\n",
      "Air conditioning,Air suspension,Armrest,Automatic climate control,Auxiliary heating,Cruise control,Electrical side mirrors,Hill Holder,Leather steering wheel,Light sensor,Lumbar support,Multi-function steering wheel,Navigation system,Park Distance Control,Parking assist system sensors front,Parking assist system sensors rear,Power windows,Rain sensor,Split rear seats,Start-stop system,Tinted windows,Wind deflector                                                                                                                                                                                                                                   1\n",
      "Air conditioning,Air suspension,Armrest,Automatic climate control,Auxiliary heating,Cruise control,Electrically adjustable seats,Electrical side mirrors,Electric tailgate,Heated steering wheel,Hill Holder,Leather seats,Leather steering wheel,Light sensor,Lumbar support,Multi-function steering wheel,Navigation system,Panorama roof,Parking assist system camera,Parking assist system self-steering,Parking assist system sensors front,Parking assist system sensors rear,Power windows,Rain sensor,Seat heating,Seat ventilation,Split rear seats,Start-stop system,Sunroof,Tinted windows                                                               1\n",
      "Air conditioning,Air suspension,Armrest,Automatic climate control,Auxiliary heating,Cruise control,Electrically adjustable seats,Electrical side mirrors,Keyless central door lock,Leather steering wheel,Light sensor,Lumbar support,Multi-function steering wheel,Navigation system,Park Distance Control,Parking assist system self-steering,Power windows,Rain sensor,Seat heating,Seat ventilation,Split rear seats,Start-stop system,Tinted windows                                                                                                                                                                                                           1\n",
      "Air conditioning,Air suspension,Armrest,Automatic climate control,Auxiliary heating,Cruise control,Electrically adjustable seats,Electrically heated windshield,Electrical side mirrors,Electric tailgate,Heads-up display,Hill Holder,Keyless central door lock,Leather steering wheel,Light sensor,Lumbar support,Massage seats,Multi-function steering wheel,Navigation system,Panorama roof,Park Distance Control,Parking assist system camera,Parking assist system self-steering,Parking assist system sensors front,Parking assist system sensors rear,Power windows,Rain sensor,Seat heating,Split rear seats,Start-stop system,Sunroof,Tinted windows      1\n",
      "                                                                                                                                                                                                                                                                                                                                                                                                                                                                                                                                                                                                                                                                 ... \n",
      "Power windows,Seat ventilation,Split rear seats                                                                                                                                                                                                                                                                                                                                                                                                                                                                                                                                                                                                                    11\n",
      "Power windows,Start-stop system                                                                                                                                                                                                                                                                                                                                                                                                                                                                                                                                                                                                                                     4\n",
      "Rain sensor                                                                                                                                                                                                                                                                                                                                                                                                                                                                                                                                                                                                                                                         1\n",
      "Sunroof                                                                                                                                                                                                                                                                                                                                                                                                                                                                                                                                                                                                                                                             8\n",
      "NaN                                                                                                                                                                                                                                                                                                                                                                                                                                                                                                                                                                                                                                                               920\n",
      "Name: comfort_&_convenience, Length: 6199, dtype: int64\n"
     ]
    }
   ],
   "source": [
    "first_look(df, 'comfort_&_convenience')"
   ]
  },
  {
   "cell_type": "code",
   "execution_count": 74,
   "metadata": {},
   "outputs": [
    {
     "name": "stdout",
     "output_type": "stream",
     "text": [
      "[ entertainment_&_media ]\n",
      "------------------------------\n",
      "Data Type        : object\n",
      "Percent_of_Nulls   :  % 8.63\n",
      "Num_of_Nulls   :  1374\n",
      "Num_of_Uniques :  346\n",
      "Duplicates     :  0\n",
      "Bluetooth                                                                                           125\n",
      "Bluetooth,CD player                                                                                  14\n",
      "Bluetooth,CD player,Digital radio,Hands-free equipment                                                1\n",
      "Bluetooth,CD player,Digital radio,Hands-free equipment,MP3,On-board computer,Radio                   25\n",
      "Bluetooth,CD player,Digital radio,Hands-free equipment,MP3,On-board computer,Radio,Sound system      20\n",
      "                                                                                                   ... \n",
      "Radio,USB                                                                                            29\n",
      "Sound system                                                                                         15\n",
      "Sound system,USB                                                                                     12\n",
      "USB                                                                                                  46\n",
      "NaN                                                                                                1374\n",
      "Name: entertainment_&_media, Length: 347, dtype: int64\n"
     ]
    }
   ],
   "source": [
    "first_look(df, 'entertainment_&_media')"
   ]
  },
  {
   "cell_type": "code",
   "execution_count": 75,
   "metadata": {},
   "outputs": [
    {
     "name": "stdout",
     "output_type": "stream",
     "text": [
      "[ extras ]\n",
      "------------------------------\n",
      "Data Type        : object\n",
      "Percent_of_Nulls   :  % 18.61\n",
      "Num_of_Nulls   :  2962\n",
      "Num_of_Uniques :  659\n",
      "Duplicates     :  0\n",
      "Alloy wheels                                                                                            3245\n",
      "Alloy wheels,Cab or rented Car                                                                            32\n",
      "Alloy wheels,Cab or rented Car,Catalytic Converter                                                        15\n",
      "Alloy wheels,Cab or rented Car,Catalytic Converter,Roof rack                                               1\n",
      "Alloy wheels,Cab or rented Car,Catalytic Converter,Roof rack,Shift paddles,Sport seats,Voice Control       1\n",
      "                                                                                                        ... \n",
      "Tuned car,Voice Control                                                                                    1\n",
      "Voice Control                                                                                             85\n",
      "Voice Control,Winter tyres                                                                                 1\n",
      "Winter tyres                                                                                              12\n",
      "NaN                                                                                                     2962\n",
      "Name: extras, Length: 660, dtype: int64\n"
     ]
    }
   ],
   "source": [
    "first_look(df, 'extras')"
   ]
  },
  {
   "cell_type": "code",
   "execution_count": 76,
   "metadata": {},
   "outputs": [
    {
     "name": "stdout",
     "output_type": "stream",
     "text": [
      "[ safety_&_security ]\n",
      "------------------------------\n",
      "Data Type        : object\n",
      "Percent_of_Nulls   :  % 6.17\n",
      "Num_of_Nulls   :  982\n",
      "Num_of_Uniques :  4443\n",
      "Duplicates     :  0\n",
      "ABS                                                                                                                                                                                                                                                                                                                                                                                                                                                                                                        4\n",
      "ABS,Adaptive Cruise Control,Adaptive headlights,Alarm system,Blind spot monitor,Central door lock with remote control,Daytime running lights,Driver-side airbag,Electronic stability control,Emergency brake assistant,Emergency system,Fog lights,Head airbag,Immobilizer,Isofix,Lane departure warning system,Passenger-side airbag,Power steering,Side airbag,Tire pressure monitoring system,Traction control,Traffic sign recognition,Xenon headlights                                                1\n",
      "ABS,Adaptive Cruise Control,Adaptive headlights,Alarm system,Blind spot monitor,Central door lock with remote control,Daytime running lights,Driver-side airbag,Electronic stability control,Emergency brake assistant,Emergency system,Fog lights,Immobilizer,Isofix,Lane departure warning system,LED Daytime Running Lights,LED Headlights,Passenger-side airbag,Power steering,Side airbag,Tire pressure monitoring system,Traffic sign recognition                                                    1\n",
      "ABS,Adaptive Cruise Control,Adaptive headlights,Alarm system,Blind spot monitor,Central door lock with remote control,Daytime running lights,Driver-side airbag,Electronic stability control,Emergency system,Fog lights,Head airbag,Immobilizer,Isofix,LED Daytime Running Lights,Passenger-side airbag,Power steering,Side airbag,Tire pressure monitoring system,Traction control,Traffic sign recognition,Xenon headlights                                                                             1\n",
      "ABS,Adaptive Cruise Control,Adaptive headlights,Alarm system,Blind spot monitor,Central door lock with remote control,Driver drowsiness detection,Driver-side airbag,Electronic stability control,Emergency brake assistant,Emergency system,Fog lights,Head airbag,Immobilizer,Isofix,Lane departure warning system,LED Daytime Running Lights,LED Headlights,Passenger-side airbag,Power steering,Rear airbag,Side airbag,Tire pressure monitoring system,Traction control,Traffic sign recognition      1\n",
      "                                                                                                                                                                                                                                                                                                                                                                                                                                                                                                        ... \n",
      "Power steering                                                                                                                                                                                                                                                                                                                                                                                                                                                                                             6\n",
      "Side airbag                                                                                                                                                                                                                                                                                                                                                                                                                                                                                                1\n",
      "Tire pressure monitoring system                                                                                                                                                                                                                                                                                                                                                                                                                                                                           12\n",
      "Xenon headlights                                                                                                                                                                                                                                                                                                                                                                                                                                                                                           1\n",
      "NaN                                                                                                                                                                                                                                                                                                                                                                                                                                                                                                      982\n",
      "Name: safety_&_security, Length: 4444, dtype: int64\n"
     ]
    }
   ],
   "source": [
    "first_look(df, 'safety_&_security')"
   ]
  },
  {
   "cell_type": "code",
   "execution_count": 77,
   "metadata": {},
   "outputs": [
    {
     "name": "stdout",
     "output_type": "stream",
     "text": [
      "[ description ]\n",
      "------------------------------\n",
      "Data Type        : object\n",
      "Percent_of_Nulls   :  % 4.19\n",
      "Num_of_Nulls   :  667\n",
      "Num_of_Uniques :  12868\n",
      "Duplicates     :  0\n",
      " * 4CONTROL-Schriftzug an der B-Säule, * ABS und Bremsassistent, * Airbag Fahrer- und Bei.seite\"\"Full-Size\"\", * Airbag: 2 Seitenairbags vorne, * Airbag: Anti Submarining Airbags v/h, * Airbag: Windowbags für Sitzreihen 1 + 2, * Antriebsschlupfregelung (ASR), * Armaturenbrett in Dark Brown, * Armaturenbrett in Moon Grey, * Automatische Aktivierung der Warnblink., * Außenspiegel el. anklapp/einstell/beheiz, * Außenspiegel in Klavierlack-Schwarz, * Bremsleuchte dritte, * Chromeinfassungen an den Fenstern, * Dach: Panorama-Glas-Schiebedach, * Drehzahlmesser, * Dynamische Allradlenkung ''4 CONTROL'', * ESP mit Extended Grip. u.Berganfahrhilfe, * Easy Park-Assistent Teilautomatisches Einparken, * Easy-Life-Schubfach mit 11,5 l Fassungsv, * Einparkhilfe vorn und hinten, * Elektrische Heckklappe mit Fußsensor, * Fahrwerk: Adaptives Fahrwerk, * Felgen: LM-Felgen 19\"\" Initiale Paris, * Fensterheber elektrisch (4), * Getriebe: 6 Gang-Doppelkupplungsgetriebe, * Head-up-Display, * Heckklappe mit \"\"Espce\"\"-Schriftzug, * Heckscheibenheizung, * Heckscheibenwischer, * ISOFIX/i-Size-Kindersitzbefestigung, * Innenrückspiegel automatisch abblendend, * Keycard Handsfree:, * Klimaautomatik 3-Zonen, * Kühlergrill mit Chromdekor und INITIALE-, * LED-Tagfahrlicht, * Lackierung: Metallic, * Licht- und Regensensor, * Make-Up Spiegel vorne, * Mittelkonsole in Dekor Silver Wood, * Multi-Sense: Individuelle Einstellung, * Multimediasystem im Fond - Zwei 7-Zoll-Displays integriert in die Kopfstützen der 1. Sitzreihe - Inklusive zwei Bluetooth-Kopfhörern und Fernbedienung - DVD-Laufwerk sowie USB-, SD- und AV IN-Eingang, * Nappalederlenkrad, längs- und höhenverst, * Nappalederpolsterung Initiale Paris, * Navigationssystem mit Kartenmaterial für, * Paket: CRUISING - Adaptiver Tempopilot ACC (bis 150km/h) - Head-up-Display, * Paket: SAFETY PLUS, * Paket: VISIO PLUS, * Paket: WINTER - Beheizbares Lenkrad - Beheizbare Windschutzscheibe - Beheizbare Sitze in der 2. Sitzreihe, * Panorama-Windschutzscheibe, * Parkbremse elektronisch, * Radiozubehör: Bose-Soundsystem,12 Lautsp, * Radiozubehör: Digitalempfang (DAB), * Reifen: Reifen-Reparatur-Kit, * Reifendruckkontrollsystem, * Relax-Kopfstützen in der 1. und 2. Sitzr, * Renault R-LINK 2, * Russpartikelfilter (FAP), * Rückfahrkamera, * Schalthebelknauf in Leder, * Seitenscheiben h. u. Heckscheibe dun.get, * Servolenkung, geschwindigkeitsabhängig, * Sicherheitstrennetz im Kofferraum, * Sitze: 2 Einzelsitze in der 3. Sitzreihe, * Sitze: 3 Einzelsitze hinten, * Sitze: Beheizbare Vordersitze, * Sitze: Modulares One-Touch-Folding, * Sonnenjalousien für Seitenfenster hinten, * Steckdose 12-Volt, 1.,2.,3. Reihe, * Tempopilot, * Toter-Winkel-Warner [Spurwechselassistent, Totwinkel-Assistent], * Voll-LED-Scheinwerfer LED PURE VISION, * Vordersitze el. einstellbar (10-fach), * Wegfahrsperre, * Zentralverriegelung, * Zwei USB-Ladebuchsen und AUX-Anschluss, , , , , , Unverbindliches Angebot für Gewerbekunden, inkl. Bereitstellungskosten. Änderungen, Irrtümer und Zwischenverkauf vorbehalten., , Ihre Dresdener Auto AG: Wir halten Sie mobil!,      1\n",
      " * 4CONTROL-Schriftzug an der B-Säule, * ABS und Bremsassistent, * Airbag Fahrer- und Bei.seite\"\"Full-Size\"\", * Airbag: 2 Seitenairbags vorne, * Airbag: Anti Submarining Airbags v/h, * Airbag: Windowbags für Sitzreihen 1 + 2, * Antriebsschlupfregelung (ASR), * Armaturenbrett in Dark Brown, * Automatische Aktivierung der Warnblink., * Außenspiegel el. anklapp/einstell/beheiz, * Außenspiegel in Klavierlack-Schwarz, * Bremsleuchte dritte, * Chromeinfassungen an den Fenstern, * Dach: Panorama-Glas-Schiebedach, * Drehzahlmesser, * Dynamische Allradlenkung ''4 CONTROL'', * ESP mit Extended Grip. u.Berganfahrhilfe, * Easy Park-Assistent Teilautomatisches Einparken, * Easy-Life-Schubfach mit 11,5 l Fassungsv, * Einparkhilfe vorn und hinten, * Elektrische Heckklappe mit Fußsensor, * Fahrwerk: Adaptives Fahrwerk, * Felgen: LM-Felgen 19\"\" Initiale Paris, * Fensterheber elektrisch (4), * Getriebe: 6 Gang-Doppelkupplungsgetriebe, * Head-up-Display, * Heckklappe mit \"\"Espce\"\"-Schriftzug, * Heckscheibenheizung, * Heckscheibenwischer, * ISOFIX/i-Size-Kindersitzbefestigung, * Innenrückspiegel automatisch abblendend, * Keycard Handsfree:, * Klimaautomatik 3-Zonen, * Kühlergrill mit Chromdekor und INITIALE-, * LED-Tagfahrlicht, * Lackierung: Standard, * Licht- und Regensensor, * Make-Up Spiegel vorne, * Mittelkonsole in Dekor Silver Wood, * Multi-Sense: Individuelle Einstellung, * Nappalederlenkrad, längs- und höhenverst, * Nappalederpolsterung Initiale Paris, * Navigationssystem mit Kartenmaterial für, * Paket: CRUISING - Adaptiver Tempopilot ACC (bis 150km/h) - Head-up-Display, * Paket: SAFETY PLUS, * Paket: VISIO PLUS, * Paket: WINTER - Beheizbares Lenkrad - Beheizbare Windschutzscheibe - Beheizbare Sitze in der 2. Sitzreihe, * Panorama-Windschutzscheibe, * Parkbremse elektronisch, * Radiozubehör: Bose-Soundsystem,12 Lautsp, * Radiozubehör: Digitalempfang (DAB), * Reifen: Reifen-Reparatur-Kit, * Reifendruckkontrollsystem, * Relax-Kopfstützen in der 1. und 2. Sitzr, * Renault R-LINK 2, * Russpartikelfilter (FAP), * Rückfahrkamera, * Schalthebelknauf in Leder, * Seitenscheiben h. u. Heckscheibe dun.get, * Servolenkung, geschwindigkeitsabhängig, * Sitze: 2 Einzelsitze in der 3. Sitzreihe, * Sitze: 3 Einzelsitze hinten, * Sitze: Beheizbare Vordersitze, * Sitze: Modulares One-Touch-Folding, * Sonnenjalousien für Seitenfenster hinten, * Steckdose 12-Volt, 1.,2.,3. Reihe, * Tempopilot, * Toter-Winkel-Warner, * Voll-LED-Scheinwerfer LED PURE VISION, * Vordersitze el. einstellbar (10-fach), * Wegfahrsperre, * Zentralverriegelung, * Zwei USB-Ladebuchsen und AUX-Anschluss, , ,                                                                                                                                                                                                                                                                                                                                                                                                                                                                                                                       1\n",
      " * 4CONTROL-Schriftzug an der B-Säule, * ABS und Bremsassistent, * Airbag Fahrer- und Bei.seite\"\"Full-Size\"\", * Airbag: 2 Seitenairbags vorne, * Airbag: Anti Submarining Airbags v/h, * Airbag: Windowbags für Sitzreihen 1 + 2, * Antriebsschlupfregelung (ASR), * Armaturenbrett in Dark Brown, * Automatische Aktivierung der Warnblink., * Außenspiegel el. anklapp/einstell/beheiz, * Außenspiegel in Klavierlack-Schwarz, * Bremsleuchte dritte, * Chromeinfassungen an den Fenstern, * Dach: Panorama-Glas-Schiebedach, * Drehzahlmesser, * Dynamische Allradlenkung ''4 CONTROL'', * ESP mit Extended Grip. u.Berganfahrhilfe, * Easy Park-Assistent Teilautomatisches Einparken, * Easy-Life-Schubfach mit 11,5 l Fassungsv, * Einparkhilfe vorn und hinten, * Elektrische Heckklappe mit Fußsensor, * Fahrwerk: Adaptives Fahrwerk, * Felgen: LM-Felgen 19\"\" Initiale Paris, * Fensterheber elektrisch (4), * Getriebe: 7 Gang-Doppelkupplungsgetriebe, * Head-up-Display, * Heckklappe mit \"\"Espce\"\"-Schriftzug, * Heckscheibenheizung, * Heckscheibenwischer, * ISOFIX/i-Size-Kindersitzbefestigung, * Innenrückspiegel automatisch abblendend, * Keycard Handsfree:, * Klimaautomatik 3-Zonen, * Kühlergrill mit Chromdekor und INITIALE-, * LED-Tagfahrlicht, * Lackierung: Metallic, * Licht- und Regensensor, * Make-Up Spiegel vorne, * Mittelkonsole in Dekor Initiale Paris, * Mittelkonsole in Dekor Silver Wood, * Multi-Sense: Individuelle Einstellung, * Nappalederlenkrad, längs- und höhenverst, * Nappalederpolsterung Initiale Paris, * Navigationssystem mit Kartenmaterial für, * Paket: CRUISING - Adaptiver Tempopilot ACC (bis 150km/h) - Head-up-Display, * Paket: SAFETY PLUS, * Paket: VISIO PLUS, * Paket: WINTER - Beheizbares Lenkrad - Beheizbare Windschutzscheibe - Beheizbare Sitze in der 2. Sitzreihe, * Panorama-Windschutzscheibe, * Parkbremse elektronisch, * Radiozubehör: Bose-Soundsystem,12 Lautsp, * Radiozubehör: Digitalempfang (DAB), * Reifen: Reifen-Reparatur-Kit, * Reifendruckkontrollsystem, * Relax-Kopfstützen in der 1. und 2. Sitzr, * Renault R-LINK 2, * Russpartikelfilter (GPF), * Rückfahrkamera, * Schalthebelknauf in Leder, * Seitenscheiben h. u. Heckscheibe dun.get, * Servolenkung, geschwindigkeitsabhängig, * Sitze: 3 Einzelsitze hinten, * Sitze: Beheizbare Vordersitze, * Sitze: Modulares One-Touch-Folding, * Sonnenjalousien für Seitenfenster hinten, * Steckdose 12-Volt, 1.,2.,3. Reihe, * Tempopilot, * Toter-Winkel-Warner [Spurwechselassistent, Totwinkel-Assistent], * Voll-LED-Scheinwerfer LED PURE VISION, * Vordersitze el. einstellbar (10-fach), * Wegfahrsperre, * Zentralverriegelung, * Zwei USB-Ladebuchsen und AUX-Anschluss, , , , , Unverbindliches Angebot für Gewerbetreibende und für Mitglieder der Polizeisozialwerk Sachsen/Thüringen GmbH., , ,43990€ für Privat , , ,Noch kein Mitglied? Sprechen Sie uns an, wir beraten Sie gern., ,                                                                                                                                                                                                                                                               1\n",
      " * 4CONTROL-Schriftzug an der B-Säule, * ABS und Bremsassistent, * Airbag Fahrer- und Bei.seite\"\"Full-Size\"\", * Airbag: 2 Seitenairbags vorne, * Airbag: Anti Submarining Airbags v/h, * Airbag: Windowbags für Sitzreihen 1 + 2, * Antriebsschlupfregelung (ASR), * Armaturenbrett in Dark Brown, * Automatische Aktivierung der Warnblink., * Außenspiegel el. anklapp/einstell/beheiz, * Außenspiegel in Klavierlack-Schwarz, * Bremsleuchte dritte, * Chromeinfassungen an den Fenstern, * Dach: Panorama-Glas-Schiebedach, * Drehzahlmesser, * Dynamische Allradlenkung ''4 CONTROL'', * ESP mit Extended Grip. u.Berganfahrhilfe, * Easy-Life-Schubfach mit 11,5 l Fassungsv, * Einparkhilfe vorn und hinten, * Elektrische Heckklappe mit Fußsensor, * Fahrwerk: Adaptives Fahrwerk, * Felgen: LM-Felgen 19\"\" Initiale Paris, * Fensterheber elektrisch (4), * Getriebe: 6 Gang-Doppelkupplungsgetriebe, * Head-up-Display, * Heckklappe mit \"\"Espce\"\"-Schriftzug, * Heckscheibenheizung, * Heckscheibenwischer, * ISOFIX/i-Size-Kindersitzbefestigung, * Innenrückspiegel automatisch abblendend, * Keycard Handsfree:, * Klimaautomatik 3-Zonen, * Kühlergrill mit Chromdekor und INITIALE-, * LED-Tagfahrlicht, * Lackierung: Metallic, * Licht- und Regensensor, * Make-Up Spiegel vorne, * Mittelkonsole in Dekor Silver Wood, * Multi-Sense: Individuelle Einstellung, * Nappalederlenkrad, längs- und höhenverst, * Nappalederpolsterung Initiale Paris, * Navigationssystem mit Kartenmaterial für, * Paket: CRUISING - Adaptiver Tempopilot ACC (bis 150km/h) - Head-up-Display, * Paket: ELYSÉE - DVD-System mit zwei Bildschirmen in den Kopfstützen der 1. Sitzreihe - Metallic-Lackierung - Panorama-Glas-Schiebedach - Zwei Einzelsitze in der 3. Sitzreihe - Notrad, * Paket: SAFETY PLUS, * Paket: VISIO PLUS, * Paket: WINTER - Beheizbares Lenkrad - Beheizbare Windschutzscheibe - Beheizbare Sitze in der 2. Sitzreihe, * Panorama-Windschutzscheibe, * Parkbremse elektronisch, * Radiozubehör: Bose-Soundsystem,12 Lautsp, * Radiozubehör: Digitalempfang (DAB), * Reifen: Notrad, * Reifen: Reifen-Reparatur-Kit, * Reifendruckkontrollsystem, * Relax-Kopfstützen in der 1. und 2. Sitzr, * Renault R-LINK 2, * Russpartikelfilter (FAP), * Rückfahrkamera, * Schalthebelknauf in Leder, * Seitenscheiben h. u. Heckscheibe dun.get, * Servolenkung, geschwindigkeitsabhängig, * Sitze: 2 Einzelsitze in der 3. Sitzreihe, * Sitze: 3 Einzelsitze hinten, * Sitze: Beheizbare Vordersitze, * Sitze: Modulares One-Touch-Folding, * Sonnenjalousien für Seitenfenster hinten, * Steckdose 12-Volt, 1.,2.,3. Reihe, , , , , , ,Gerne erstellen wir Ihnen ein individuelles Finanzierungsangebot., , , ,Probefahrt jederzeit nach Vereinbarung möglich., , , ,Inklusive 2 Jahre Herstellergarantie ab Zulassungsdatum., , , ,Gerne nehmen wir Ihr aktuelles Fahrzeug als Anzahlung., , , ,Das Fahrzeug ist werkstattgeprüft und wird mit Auslieferungsinspektion übergeben.,                                                                                                                                                                                                                   1\n",
      " * 4CONTROL-Schriftzug an der B-Säule, * ABS und Bremsassistent, * Airbag Fahrer- und Bei.seite\"\"Full-Size\"\", * Airbag: 2 Seitenairbags vorne, * Airbag: Anti Submarining Airbags v/h, * Airbag: Windowbags für Sitzreihen 1 + 2, * Antriebsschlupfregelung (ASR), * Armaturenbrett in Dark Brown, * Automatische Aktivierung der Warnblink., * Außenspiegel el. anklapp/einstell/beheiz, * Außenspiegel in Klavierlack-Schwarz, * Bremsleuchte dritte, * Chromeinfassungen an den Fenstern, * Drehzahlmesser, * Dynamische Allradlenkung ''4 CONTROL'', * ESP mit Extended Grip. u.Berganfahrhilfe, * Easy Park-Assistent Teilautomatisches Einparken, * Easy-Life-Schubfach mit 11,5 l Fassungsv, * Einparkhilfe vorn und hinten, * Elektrische Heckklappe mit Fußsensor, * Fahrwerk: Adaptives Fahrwerk, * Felgen: LM-Felgen 19\"\" Initiale Paris, * Fensterheber elektrisch (4), * Getriebe: 7 Gang-Doppelkupplungsgetriebe, * Head-up-Display, * Heckklappe mit \"\"Espce\"\"-Schriftzug, * Heckscheibenheizung, * Heckscheibenwischer, * ISOFIX/i-Size-Kindersitzbefestigung, * Innenrückspiegel automatisch abblendend, * Keycard Handsfree:, * Klimaautomatik 3-Zonen, * Kühlergrill mit Chromdekor und INITIALE-, * LED-Tagfahrlicht, * Lackierung: Metallic-Sonderlackierung, * Licht- und Regensensor, * Make-Up Spiegel vorne, * Mittelkonsole in Dekor Silver Wood, * Multi-Sense: Individuelle Einstellung, * Nappalederlenkrad, längs- und höhenverst, * Nappalederpolsterung Initiale Paris, * Navigationssystem mit Kartenmaterial für, * Paket: CRUISING - Adaptiver Tempopilot ACC (bis 150km/h) - Head-up-Display, * Paket: SAFETY PLUS, * Paket: VISIO PLUS, * Paket: WINTER - Beheizbares Lenkrad - Beheizbare Windschutzscheibe - Beheizbare Sitze in der 2. Sitzreihe, * Panorama-Windschutzscheibe, * Parkbremse elektronisch, * Radiozubehör: Bose-Soundsystem,12 Lautsp, * Radiozubehör: Digitalempfang (DAB), * Reifen: Reifen-Reparatur-Kit, * Reifendruckkontrollsystem, * Relax-Kopfstützen in der 1. und 2. Sitzr, * Renault R-LINK 2, * Russpartikelfilter (GPF), * Rückfahrkamera, * Schalthebelknauf in Leder, * Seitenscheiben h. u. Heckscheibe dun.get, * Servolenkung, geschwindigkeitsabhängig, * Sitze: 2 Einzelsitze in der 3. Sitzreihe, * Sitze: 3 Einzelsitze hinten, * Sitze: Beheizbare Vordersitze, * Sitze: Modulares One-Touch-Folding, * Sonnenjalousien für Seitenfenster hinten, * Steckdose 12-Volt, 1.,2.,3. Reihe, * Tempopilot, * Toter-Winkel-Warner, * Voll-LED-Scheinwerfer LED PURE VISION, * Vordersitze el. einstellbar (10-fach), * Wegfahrsperre, * Zentralverriegelung, , , , ,Inzahlungnahme, Probefahrt + Finanzierung (auch ohne Anzahlung) möglich!, , So erreichen Sie unser Verkaufsteam telefonisch:, , Montag - Freitag: 8.30 Uhr - 18.30 Uhr / Samstag: 9 Uhr - 14 Uhr, , Irrtümer und Zwischenverkauf vorbehalten., , ,Das Fahrzeug wird noch gefahren, der KM-Stand kann ggf. von der Inseratsangabe abweichen.,                                                                                                                                                                                                                                   1\n",
      "                                                                                                                                                                                                                                                                                                                                                                                                                                                                                                                                                                                                                                                                                                                                                                                                                                                                                                                                                                                                                                                                                                                                                                                                                                                                                                                                                                                                                                                                                                                                                                                                                                                                                                                                                                                                                                                                                                                                                                                                                                                                                                                                                                                                                                                                                                                                                                                                                                                                                                                                                                                                                                                                                                                                                                                                                                                                                                                                                                                                                                                                                                                                                                                                                        ... \n",
      "√ ESTENSIONE DI GARANZIA FINO A 36 MESI ,√ FINANZIAMENTO PERSONALIZZATO ,√ ANTICIPO E MAXI RATA 0,√ VEICOLO SOTTOPOSTO A PIU DI 100 TEST,√ VEICOLO IGENIZZATO CON PRODOTTI ORGANICI,√ VEICOLO SOTTOPOSTO A DETAILING,Valutiamo la permuta del vostro usato dopo visione e prova presso la nostra sede,Per informazioni 0365/32924 - WhatsApp 342/0980075,La dotazione tecnica e gli accessori indicati nel presente annuncio potrebbero non coincidere con l'effettivo equipaggiamento del veicolo per la non uniformità e compatibilità dei dati trasmessi sui portali web.Punto Automobili declina ogni responsabilità per eventuali involontarie incongruenze, che non rappresentano in alcun modo un impegno contrattuale.                                                                                                                                                                                                                                                                                                                                                                                                                                                                                                                                                                                                                                                                                                                                                                                                                                                                                                                                                                                                                                                                                                                                                                                                                                                                                                                                                                                                                                                                                                                                                                                                                                                                                                                                                                                                                                                                                                                                                                                                                                                                                                                                                                                                                                                                                                                                                                                                                                                                                             1\n",
      "●INKLUSIVE Auslieferungsinspektion,●Fahrzeug befindet sich in der Herstellergarantie,●Ein Satz Winterreifen mit Alufelgen ,•Black-Pearl-Schwarz,•Sicherheitstrennnetz,•Panorama,•Winter-packet (INITIALE PARIS),•BOSE Surround-Sound-System mit 12 Lautsprechern ,•Rückfahrkamera,•Fahrer-u. Beifahrersitz elektr. einstellbar,•Massagefunktion, Memory-funktion,•Dynamische Allradlenkung 4CONTROL,•Spurhalte-warner, Notbremsassistent,•MULTI-SENSE mit Ambientebeleuchtung,•Einparkhilfe vorne, hinten sowie an den Seiten,•Voll-LED-scheinwerfer LED Pure Vision                                                                                                                                                                                                                                                                                                                                                                                                                                                                                                                                                                                                                                                                                                                                                                                                                                                                                                                                                                                                                                                                                                                                                                                                                                                                                                                                                                                                                                                                                                                                                                                                                                                                                                                                                                                                                                                                                                                                                                                                                                                                                                                                                                                                                                                                                                                                                                                                                                                                                                                                                                                                                                                       1\n",
      "﻿OCCASIONE: OPEL ASTRA 1.6 CDTI 110CV 5P DYNAMIC,VETTURA IN OTTIME CONDIZIONI GENERALI,FATTURABILE, IVA ESPOSTA,POSSIBILITA' DI FINANZIAMENTO ANTICIPO ZERO,ACCESSORI:,Climatizzatore automatico,Radio Touchscreen con presa Usb e Aux,Volante multifunzione,Cruise control,Computer di bordo,Bracciolo,4 Vetri elettrici,Specchietti retrovisori elettrici,Cerchi in lega,Fendinebbia,Crome line,PER VISIONARE LA VETTURA PRESSO LA NOSTRA SEDE,EFFERRE AUTOMOBILI,VIA NAZIONALE 36, 24068 SERIATE (BG),TEL 035296810 3493702651 335220726,MAIL info@efferreautomobili.it,La dotazione tecnica e gli accessori indicati nella,presente scheda potrebbero non coincidere con l’effettivo equipaggiamento del,veicolo, a causa della non uniformità dei dati pubblicati dai diversi portali.,Ci scusiamo per l’inconveniente e vi invitiamo a verificare le caratteristiche,dello specifico veicolo. Efferre Srl declina ogni responsabilità per eventuali,involontarie incongruenze, che non rappresentano in alcun modo un impegno,contrattuale.                                                                                                                                                                                                                                                                                                                                                                                                                                                                                                                                                                                                                                                                                                                                                                                                                                                                                                                                                                                                                                                                                                                                                                                                                                                                                                                                                                                                                                                                                                                                                                                                                                                                                                                                                                                                                                                                                                                                                                                                                                                                                                                                                                          1\n",
      "🇬🇧 Equipement:,PETROL - Manual,• LED daylight,• Air condition,• Electric mirrors,• ISOFIX,• Hands-free phone,• USB,• Cruise control,• Speed limiter,• Digital speedometer,Price is negotiable.,🇪🇸 Equipacion:,GASOLINA - Manual,• Luz diurna LED,• Aire acondicionado,• Retrovisores eléctricos,• ISOFIX,• Teléfono manos libres,• USB,• Control de velocidad crucero,• Limitador de velocidad,• Velocímetro digital,El precio es negociable.                                                                                                                                                                                                                                                                                                                                                                                                                                                                                                                                                                                                                                                                                                                                                                                                                                                                                                                                                                                                                                                                                                                                                                                                                                                                                                                                                                                                                                                                                                                                                                                                                                                                                                                                                                                                                                                                                                                                                                                                                                                                                                                                                                                                                                                                                                                                                                                                                                                                                                                                                                                                                                                                                                                                                                              1\n",
      "NaN                                                                                                                                                                                                                                                                                                                                                                                                                                                                                                                                                                                                                                                                                                                                                                                                                                                                                                                                                                                                                                                                                                                                                                                                                                                                                                                                                                                                                                                                                                                                                                                                                                                                                                                                                                                                                                                                                                                                                                                                                                                                                                                                                                                                                                                                                                                                                                                                                                                                                                                                                                                                                                                                                                                                                                                                                                                                                                                                                                                                                                                                                                                                                                                                                      667\n",
      "Name: description, Length: 12869, dtype: int64\n"
     ]
    }
   ],
   "source": [
    "first_look(df, 'description')"
   ]
  },
  {
   "cell_type": "code",
   "execution_count": 78,
   "metadata": {},
   "outputs": [
    {
     "name": "stdout",
     "output_type": "stream",
     "text": [
      "[ emission_label ]\n",
      "------------------------------\n",
      "Data Type        : float64\n",
      "Percent_of_Nulls   :  % 75.22\n",
      "Num_of_Nulls   :  11974\n",
      "Num_of_Uniques :  5\n",
      "Duplicates     :  0\n",
      "1.000      381\n",
      "2.000        1\n",
      "3.000        2\n",
      "4.000     3553\n",
      "5.000        8\n",
      "NaN      11974\n",
      "Name: emission_label, dtype: int64\n"
     ]
    }
   ],
   "source": [
    "first_look(df, 'emission_label')"
   ]
  },
  {
   "cell_type": "code",
   "execution_count": 79,
   "metadata": {},
   "outputs": [
    {
     "name": "stdout",
     "output_type": "stream",
     "text": [
      "[ gears ]\n",
      "------------------------------\n",
      "Data Type        : float64\n",
      "Percent_of_Nulls   :  % 29.6\n",
      "Num_of_Nulls   :  4712\n",
      "Num_of_Uniques :  9\n",
      "Duplicates     :  0\n",
      "1.000       2\n",
      "2.000       1\n",
      "3.000       2\n",
      "4.000       2\n",
      "5.000    3240\n",
      "6.000    5822\n",
      "7.000    1908\n",
      "8.000     224\n",
      "9.000       6\n",
      "NaN      4712\n",
      "Name: gears, dtype: int64\n"
     ]
    }
   ],
   "source": [
    "first_look(df, 'gears')"
   ]
  },
  {
   "cell_type": "code",
   "execution_count": 80,
   "metadata": {},
   "outputs": [
    {
     "name": "stdout",
     "output_type": "stream",
     "text": [
      "[ country_version ]\n",
      "------------------------------\n",
      "Data Type        : object\n",
      "Percent_of_Nulls   :  % 52.35\n",
      "Num_of_Nulls   :  8333\n",
      "Num_of_Uniques :  23\n",
      "Duplicates     :  0\n",
      "Austria            208\n",
      "Belgium            314\n",
      "Bulgaria             2\n",
      "Croatia              4\n",
      "Czech Republic      52\n",
      "Denmark             33\n",
      "Egypt                1\n",
      "European Union     507\n",
      "France              38\n",
      "Germany           4502\n",
      "Hungary             28\n",
      "Italy             1038\n",
      "Japan                8\n",
      "Luxembourg           1\n",
      "Netherlands        464\n",
      "Poland              49\n",
      "Romania              2\n",
      "Serbia               1\n",
      "Slovakia             4\n",
      "Slovenia             1\n",
      "Spain              325\n",
      "Sweden               3\n",
      "Switzerland          1\n",
      "NaN               8333\n",
      "Name: country_version, dtype: int64\n"
     ]
    }
   ],
   "source": [
    "first_look(df, 'country_version')"
   ]
  },
  {
   "cell_type": "code",
   "execution_count": 81,
   "metadata": {},
   "outputs": [
    {
     "name": "stdout",
     "output_type": "stream",
     "text": [
      "[ electricity_consumption ]\n",
      "------------------------------\n",
      "Data Type        : object\n",
      "Percent_of_Nulls   :  % 99.14\n",
      "Num_of_Nulls   :  15782\n",
      "Num_of_Uniques :  1\n",
      "Duplicates     :  0\n",
      "0 kWh/100 km (comb)      137\n",
      "NaN                    15782\n",
      "Name: electricity_consumption, dtype: int64\n"
     ]
    }
   ],
   "source": [
    "first_look(df, 'electricity_consumption')"
   ]
  },
  {
   "cell_type": "code",
   "execution_count": 82,
   "metadata": {},
   "outputs": [
    {
     "name": "stdout",
     "output_type": "stream",
     "text": [
      "[ last_service_date ]\n",
      "------------------------------\n",
      "Data Type        : object\n",
      "Percent_of_Nulls   :  % 96.44\n",
      "Num_of_Nulls   :  15353\n",
      "Num_of_Uniques :  37\n",
      "Duplicates     :  0\n",
      "01/2017        3\n",
      "01/2018       20\n",
      "01/2019       51\n",
      "02/2017        3\n",
      "02/2018        5\n",
      "02/2019       55\n",
      "03/2016        1\n",
      "03/2018        9\n",
      "03/2019       47\n",
      "04/2016        2\n",
      "04/2017        1\n",
      "04/2018       16\n",
      "04/2019       48\n",
      "05/2016        1\n",
      "05/2017        3\n",
      "05/2018       21\n",
      "05/2019       61\n",
      "06/2016        2\n",
      "06/2017        7\n",
      "06/2018       21\n",
      "06/2019       49\n",
      "07/2017        2\n",
      "07/2018       21\n",
      "07/2019        1\n",
      "08/2018       13\n",
      "08/2019        1\n",
      "09/2017        1\n",
      "09/2018       17\n",
      "09/2019        1\n",
      "10/2017        3\n",
      "10/2018       24\n",
      "10/2019        1\n",
      "11/2017        2\n",
      "11/2018       17\n",
      "11/2019        1\n",
      "12/2017        3\n",
      "12/2018       32\n",
      "NaN        15353\n",
      "Name: last_service_date, dtype: int64\n"
     ]
    }
   ],
   "source": [
    "first_look(df, 'last_service_date')"
   ]
  },
  {
   "cell_type": "code",
   "execution_count": 83,
   "metadata": {},
   "outputs": [
    {
     "name": "stdout",
     "output_type": "stream",
     "text": [
      "[ other_fuel_types ]\n",
      "------------------------------\n",
      "Data Type        : float64\n",
      "Percent_of_Nulls   :  % 100.0\n",
      "Num_of_Nulls   :  15919\n",
      "Num_of_Uniques :  0\n",
      "Duplicates     :  0\n",
      "NaN    15919\n",
      "Name: other_fuel_types, dtype: int64\n"
     ]
    }
   ],
   "source": [
    "first_look(df, 'other_fuel_types')"
   ]
  },
  {
   "cell_type": "code",
   "execution_count": 84,
   "metadata": {},
   "outputs": [
    {
     "name": "stdout",
     "output_type": "stream",
     "text": [
      "[ availability ]\n",
      "------------------------------\n",
      "Data Type        : float64\n",
      "Percent_of_Nulls   :  % 96.01\n",
      "Num_of_Nulls   :  15284\n",
      "Num_of_Uniques :  15\n",
      "Duplicates     :  0\n",
      "1.000         51\n",
      "2.000         16\n",
      "3.000         35\n",
      "4.000          2\n",
      "5.000         35\n",
      "6.000          1\n",
      "7.000         20\n",
      "14.000        24\n",
      "21.000         8\n",
      "42.000        10\n",
      "60.000        13\n",
      "90.000       196\n",
      "120.000      182\n",
      "150.000       18\n",
      "180.000       24\n",
      "NaN        15284\n",
      "Name: availability, dtype: int64\n"
     ]
    }
   ],
   "source": [
    "first_look(df, 'availability')"
   ]
  },
  {
   "cell_type": "code",
   "execution_count": 85,
   "metadata": {},
   "outputs": [
    {
     "name": "stdout",
     "output_type": "stream",
     "text": [
      "[ last_timing_belt_service_date ]\n",
      "------------------------------\n",
      "Data Type        : object\n",
      "Percent_of_Nulls   :  % 99.9\n",
      "Num_of_Nulls   :  15903\n",
      "Num_of_Uniques :  15\n",
      "Duplicates     :  0\n",
      "01/1900        1\n",
      "01/1970        1\n",
      "01/2018        1\n",
      "01/2019        1\n",
      "02/2018        1\n",
      "02/2019        1\n",
      "04/2016        2\n",
      "04/2019        1\n",
      "05/2018        1\n",
      "05/2019        1\n",
      "06/2017        1\n",
      "06/2019        1\n",
      "07/2018        1\n",
      "09/2018        1\n",
      "12/1900        1\n",
      "NaN        15903\n",
      "Name: last_timing_belt_service_date, dtype: int64\n"
     ]
    }
   ],
   "source": [
    "first_look(df, 'last_timing_belt_service_date')"
   ]
  },
  {
   "cell_type": "code",
   "execution_count": 86,
   "metadata": {},
   "outputs": [
    {
     "name": "stdout",
     "output_type": "stream",
     "text": [
      "[ available_from ]\n",
      "------------------------------\n",
      "Data Type        : object\n",
      "Percent_of_Nulls   :  % 98.29\n",
      "Num_of_Nulls   :  15647\n",
      "Num_of_Uniques :  46\n",
      "Duplicates     :  0\n",
      "01/07/19       11\n",
      "01/08/19        3\n",
      "01/09/19        1\n",
      "02/07/19        1\n",
      "03/08/19        1\n",
      "03/12/19        1\n",
      "04/07/19        2\n",
      "05/07/19        2\n",
      "05/08/19        2\n",
      "05/12/19        1\n",
      "06/12/19        1\n",
      "08/07/19        4\n",
      "10/07/19        1\n",
      "10/09/19        6\n",
      "10/10/19        1\n",
      "10/11/19        5\n",
      "10/12/19        1\n",
      "11/08/19        1\n",
      "14/09/19        1\n",
      "15/07/19        3\n",
      "15/08/19       24\n",
      "16/07/19        2\n",
      "16/08/19        1\n",
      "16/09/19       14\n",
      "17/08/19        1\n",
      "18/07/19        1\n",
      "18/08/19        1\n",
      "19/07/19        1\n",
      "19/08/19        7\n",
      "20/07/19        2\n",
      "24/07/19        1\n",
      "24/08/19        2\n",
      "24/09/19        1\n",
      "25/10/19        3\n",
      "26/06/19        5\n",
      "27/06/19        5\n",
      "27/07/19        1\n",
      "28/06/19       10\n",
      "29/06/19       12\n",
      "29/07/19        1\n",
      "29/09/19        1\n",
      "30/06/19        2\n",
      "30/07/19       25\n",
      "30/09/19        1\n",
      "31/08/19       98\n",
      "31/10/19        1\n",
      "NaN         15647\n",
      "Name: available_from, dtype: int64\n"
     ]
    }
   ],
   "source": [
    "first_look(df, 'available_from')"
   ]
  },
  {
   "cell_type": "markdown",
   "metadata": {},
   "source": [
    "## CLEARING DUPLICATES"
   ]
  },
  {
   "cell_type": "code",
   "execution_count": 87,
   "metadata": {},
   "outputs": [
    {
     "data": {
      "text/plain": [
       "False    15919\n",
       "dtype: int64"
      ]
     },
     "execution_count": 87,
     "metadata": {},
     "output_type": "execute_result"
    }
   ],
   "source": [
    "df.duplicated().value_counts()\n",
    "# df.drop_duplicates(keep = 'first', inplace = True)"
   ]
  },
  {
   "cell_type": "markdown",
   "metadata": {},
   "source": [
    "## CLEARING EMPTY COLUMNS"
   ]
  },
  {
   "cell_type": "code",
   "execution_count": 88,
   "metadata": {},
   "outputs": [
    {
     "data": {
      "text/plain": [
       "Index(['url', 'make_model', 'short_description', 'body_type', 'price', 'vat',\n",
       "       'km', 'registration', 'prev_owner', 'kW', 'hp', 'type',\n",
       "       'previous_owners', 'next_inspection', 'inspection_new', 'warranty',\n",
       "       'full_service', 'non_smoking_vehicle', 'null', 'offer_number',\n",
       "       'first_registration', 'body_color', 'paint_type', 'body_color_original',\n",
       "       'upholstery', 'body', 'nr_of_doors', 'nr_of_seats', 'model_code',\n",
       "       'gearing_type', 'displacement', 'cylinders', 'weight', 'drive_chain',\n",
       "       'fuel', 'consumption', 'co_2_emission', 'emission_class',\n",
       "       'comfort_&_convenience', 'entertainment_&_media', 'extras',\n",
       "       'safety_&_security', 'description', 'emission_label', 'gears',\n",
       "       'country_version', 'electricity_consumption', 'last_service_date',\n",
       "       'other_fuel_types', 'availability', 'last_timing_belt_service_date',\n",
       "       'available_from', 'age'],\n",
       "      dtype='object')"
      ]
     },
     "execution_count": 88,
     "metadata": {},
     "output_type": "execute_result"
    }
   ],
   "source": [
    "df.columns"
   ]
  },
  {
   "cell_type": "code",
   "execution_count": 89,
   "metadata": {},
   "outputs": [],
   "source": [
    "to_drop = ['url', 'short_description', 'kW', 'next_inspection','full_service', 'null', 'model_code', 'electricity_consumption', 'other_fuel_types', 'last_timing_belt_service_date', 'available_from']\n",
    "df.drop(to_drop, inplace = True, axis = 1)"
   ]
  },
  {
   "cell_type": "code",
   "execution_count": 90,
   "metadata": {},
   "outputs": [
    {
     "data": {
      "text/plain": [
       "(15919, 42)"
      ]
     },
     "execution_count": 90,
     "metadata": {},
     "output_type": "execute_result"
    }
   ],
   "source": [
    "df.shape # was 55"
   ]
  },
  {
   "cell_type": "code",
   "execution_count": 91,
   "metadata": {},
   "outputs": [],
   "source": [
    "df.to_csv('scoutPART2-TypesandDuplicates.csv', index=False)"
   ]
  },
  {
   "cell_type": "markdown",
   "metadata": {},
   "source": []
  }
 ],
 "metadata": {
  "kernelspec": {
   "display_name": "Python 3.9.13 64-bit",
   "language": "python",
   "name": "python3"
  },
  "language_info": {
   "codemirror_mode": {
    "name": "ipython",
    "version": 3
   },
   "file_extension": ".py",
   "mimetype": "text/x-python",
   "name": "python",
   "nbconvert_exporter": "python",
   "pygments_lexer": "ipython3",
   "version": "3.9.13"
  },
  "orig_nbformat": 4,
  "vscode": {
   "interpreter": {
    "hash": "b0fa6594d8f4cbf19f97940f81e996739fb7646882a419484c72d19e05852a7e"
   }
  }
 },
 "nbformat": 4,
 "nbformat_minor": 2
}
